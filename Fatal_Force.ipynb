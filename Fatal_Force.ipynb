{
  "cells": [
    {
      "cell_type": "markdown",
      "metadata": {
        "id": "0KrR-Qd_wXf-"
      },
      "source": [
        "# Introduction"
      ]
    },
    {
      "cell_type": "markdown",
      "metadata": {
        "id": "I6e2m4XsuRoL"
      },
      "source": [
        "Since Jan. 1, 2015, [The Washington Post](https://www.washingtonpost.com/) has been compiling a database of every fatal shooting in the US by a police officer in the line of duty. \n",
        "\n",
        "<center><img src=https://i.imgur.com/sX3K62b.png></center>\n",
        "\n",
        "While there are many challenges regarding data collection and reporting, The Washington Post has been tracking more than a dozen details about each killing. This includes the race, age and gender of the deceased, whether the person was armed, and whether the victim was experiencing a mental-health crisis. The Washington Post has gathered this supplemental information from law enforcement websites, local new reports, social media, and by monitoring independent databases such as \"Killed by police\" and \"Fatal Encounters\". The Post has also conducted additional reporting in many cases.\n",
        "\n",
        "There are 4 additional datasets: US census data on poverty rate, high school graduation rate, median household income, and racial demographics. [Source of census data](https://factfinder.census.gov/faces/nav/jsf/pages/community_facts.xhtml)."
      ]
    },
    {
      "cell_type": "markdown",
      "metadata": {
        "id": "JwGJl3mnw2Af"
      },
      "source": [
        "### Upgrade Plotly\n",
        "\n",
        "Run the cell below if you are working with Google Colab"
      ]
    },
    {
      "cell_type": "code",
      "execution_count": null,
      "metadata": {
        "colab": {
          "base_uri": "https://localhost:8080/"
        },
        "id": "KvA9PBoRwvQG",
        "outputId": "ca6ee2a1-8da5-4f2d-f2b2-ea019cd92cae"
      },
      "outputs": [
        {
          "name": "stdout",
          "output_type": "stream",
          "text": [
            "Collecting plotly\n",
            "\u001b[?25l  Downloading https://files.pythonhosted.org/packages/a6/66/af86e9d9bf1a3e4f2dabebeabd02a32e8ddf671a5d072b3af2b011efea99/plotly-4.12.0-py2.py3-none-any.whl (13.1MB)\n",
            "\u001b[K     |████████████████████████████████| 13.1MB 310kB/s \n",
            "\u001b[?25hRequirement already satisfied, skipping upgrade: six in /usr/local/lib/python3.6/dist-packages (from plotly) (1.15.0)\n",
            "Requirement already satisfied, skipping upgrade: retrying>=1.3.3 in /usr/local/lib/python3.6/dist-packages (from plotly) (1.3.3)\n",
            "Installing collected packages: plotly\n",
            "  Found existing installation: plotly 4.4.1\n",
            "    Uninstalling plotly-4.4.1:\n",
            "      Successfully uninstalled plotly-4.4.1\n",
            "Successfully installed plotly-4.12.0\n"
          ]
        }
      ],
      "source": [
        "%pip install --upgrade plotly"
      ]
    },
    {
      "cell_type": "markdown",
      "metadata": {
        "id": "jqXsMLNJxELp"
      },
      "source": [
        "## Import Statements"
      ]
    },
    {
      "cell_type": "code",
      "execution_count": 274,
      "metadata": {
        "id": "TPhEXC2FxGSr"
      },
      "outputs": [],
      "source": [
        "import numpy as np\n",
        "import pandas as pd\n",
        "import plotly.express as px\n",
        "import plotly.graph_objects as go\n",
        "import matplotlib.pyplot as plt\n",
        "import seaborn as sns\n",
        "from plotly.subplots import make_subplots\n",
        "\n",
        "# This might be helpful:\n",
        "from collections import Counter"
      ]
    },
    {
      "cell_type": "markdown",
      "metadata": {
        "id": "SwKGmmaLxS2s"
      },
      "source": [
        "## Notebook Presentation"
      ]
    },
    {
      "cell_type": "code",
      "execution_count": 2,
      "metadata": {
        "id": "ayQQqhKtxBxj"
      },
      "outputs": [],
      "source": [
        "pd.options.display.float_format = '{:,.2f}'.format"
      ]
    },
    {
      "cell_type": "markdown",
      "metadata": {
        "id": "nKxJMOiMyAUF"
      },
      "source": [
        "## Load the Data"
      ]
    },
    {
      "cell_type": "code",
      "execution_count": 533,
      "metadata": {
        "_cell_guid": "abb0685f-f844-43f8-84c0-4cd54361c7bf",
        "_uuid": "9c06ed7c41db79ae9d940f2d52aeff23621b3037",
        "id": "8KmGeg6ouRoP"
      },
      "outputs": [],
      "source": [
        "df_hh_income = pd.read_csv('./data/Median_Household_Income_2015.csv', encoding=\"windows-1252\")\n",
        "df_pct_poverty = pd.read_csv('./data/Pct_People_Below_Poverty_Level.csv', encoding=\"windows-1252\")\n",
        "df_pct_completed_hs = pd.read_csv('./data/Pct_Over_25_Completed_High_School.csv', encoding=\"windows-1252\")\n",
        "df_share_race_city = pd.read_csv('./data/Share_of_Race_By_City.csv', encoding=\"windows-1252\")\n",
        "df_fatalities = pd.read_csv('./data/Deaths_by_Police_US.csv', encoding=\"windows-1252\")"
      ]
    },
    {
      "cell_type": "markdown",
      "metadata": {
        "id": "6RuA5SvUyEaB"
      },
      "source": [
        "# Preliminary Data Exploration\n",
        "\n",
        "* What is the shape of the DataFrames? \n",
        "* How many rows and columns do they have?\n",
        "* What are the column names?\n",
        "* Are there any NaN values or duplicates?"
      ]
    },
    {
      "cell_type": "code",
      "execution_count": 108,
      "metadata": {
        "id": "3U9RcS1WyrRJ"
      },
      "outputs": [],
      "source": [
        "# print(df_hh_income.head())\n",
        "# print(df_hh_income.info())\n",
        "# print(df_hh_income.describe())\n",
        "# print(df_hh_income.isna().any())"
      ]
    },
    {
      "cell_type": "code",
      "execution_count": 107,
      "metadata": {},
      "outputs": [],
      "source": [
        "# print(df_pct_poverty.head())\n",
        "# print(df_pct_poverty.info())\n",
        "# print(df_pct_poverty.describe())\n",
        "# print(df_pct_poverty.isna().any())"
      ]
    },
    {
      "cell_type": "code",
      "execution_count": 106,
      "metadata": {},
      "outputs": [],
      "source": [
        "# print(df_pct_completed_hs.head())\n",
        "# print(df_pct_completed_hs.info())\n",
        "# print(df_pct_completed_hs.describe())\n",
        "# print(df_pct_completed_hs.isna().any())"
      ]
    },
    {
      "cell_type": "code",
      "execution_count": 312,
      "metadata": {},
      "outputs": [
        {
          "name": "stdout",
          "output_type": "stream",
          "text": [
            "  Geographic area             City share_white share_black  \\\n",
            "0              AL       Abanda CDP        67.2        30.2   \n",
            "1              AL   Abbeville city        54.4        41.4   \n",
            "2              AL  Adamsville city        52.3        44.9   \n",
            "3              AL     Addison town        99.1         0.1   \n",
            "4              AL       Akron town        13.2        86.5   \n",
            "\n",
            "  share_native_american share_asian share_hispanic  \n",
            "0                     0           0            1.6  \n",
            "1                   0.1           1            3.1  \n",
            "2                   0.5         0.3            2.3  \n",
            "3                     0         0.1            0.4  \n",
            "4                     0           0            0.3  \n",
            "<class 'pandas.core.frame.DataFrame'>\n",
            "RangeIndex: 29268 entries, 0 to 29267\n",
            "Data columns (total 7 columns):\n",
            " #   Column                 Non-Null Count  Dtype \n",
            "---  ------                 --------------  ----- \n",
            " 0   Geographic area        29268 non-null  object\n",
            " 1   City                   29268 non-null  object\n",
            " 2   share_white            29268 non-null  object\n",
            " 3   share_black            29268 non-null  object\n",
            " 4   share_native_american  29268 non-null  object\n",
            " 5   share_asian            29268 non-null  object\n",
            " 6   share_hispanic         29268 non-null  object\n",
            "dtypes: object(7)\n",
            "memory usage: 1.6+ MB\n",
            "None\n",
            "       Geographic area           City share_white share_black  \\\n",
            "count            29268          29268       29268       29268   \n",
            "unique              51          24219         997         926   \n",
            "top                 PA  Franklin city         100           0   \n",
            "freq              1764             16        1051        6587   \n",
            "\n",
            "       share_native_american share_asian share_hispanic  \n",
            "count                  29268       29268          29268  \n",
            "unique                   628         409            956  \n",
            "top                        0           0              0  \n",
            "freq                    6930        8537           2489  \n",
            "Geographic area          False\n",
            "City                     False\n",
            "share_white              False\n",
            "share_black              False\n",
            "share_native_american    False\n",
            "share_asian              False\n",
            "share_hispanic           False\n",
            "dtype: bool\n"
          ]
        }
      ],
      "source": [
        "print(df_share_race_city.head())\n",
        "print(df_share_race_city.info())\n",
        "print(df_share_race_city.describe())\n",
        "print(df_share_race_city.isna().any())"
      ]
    },
    {
      "cell_type": "code",
      "execution_count": 313,
      "metadata": {},
      "outputs": [],
      "source": [
        "# print(df_fatalities.head())\n",
        "# print(df_fatalities.info())\n",
        "# print(df_fatalities.describe())\n",
        "# print(df_fatalities.isna().any())"
      ]
    },
    {
      "cell_type": "markdown",
      "metadata": {
        "id": "p72TfMvayr2C"
      },
      "source": [
        "## Data Cleaning - Check for Missing Values and Duplicates\n",
        "\n",
        "Consider how to deal with the NaN values. Perhaps substituting 0 is appropriate. "
      ]
    },
    {
      "cell_type": "code",
      "execution_count": 534,
      "metadata": {
        "id": "550aSczryx01"
      },
      "outputs": [
        {
          "name": "stderr",
          "output_type": "stream",
          "text": [
            "C:\\Users\\joshu\\AppData\\Local\\Temp\\ipykernel_12340\\3906596597.py:10: FutureWarning:\n",
            "\n",
            "The default value of regex will change from True to False in a future version. In addition, single character regular expressions will *not* be treated as literal strings when regex=True.\n",
            "\n",
            "C:\\Users\\joshu\\AppData\\Local\\Temp\\ipykernel_12340\\3906596597.py:16: FutureWarning:\n",
            "\n",
            "The default value of regex will change from True to False in a future version. In addition, single character regular expressions will *not* be treated as literal strings when regex=True.\n",
            "\n",
            "C:\\Users\\joshu\\AppData\\Local\\Temp\\ipykernel_12340\\3906596597.py:22: FutureWarning:\n",
            "\n",
            "The default value of regex will change from True to False in a future version. In addition, single character regular expressions will *not* be treated as literal strings when regex=True.\n",
            "\n",
            "C:\\Users\\joshu\\AppData\\Local\\Temp\\ipykernel_12340\\3906596597.py:31: SettingWithCopyWarning:\n",
            "\n",
            "\n",
            "A value is trying to be set on a copy of a slice from a DataFrame\n",
            "\n",
            "See the caveats in the documentation: https://pandas.pydata.org/pandas-docs/stable/user_guide/indexing.html#returning-a-view-versus-a-copy\n",
            "\n",
            "C:\\Users\\joshu\\AppData\\Local\\Temp\\ipykernel_12340\\3906596597.py:32: SettingWithCopyWarning:\n",
            "\n",
            "\n",
            "A value is trying to be set on a copy of a slice from a DataFrame\n",
            "\n",
            "See the caveats in the documentation: https://pandas.pydata.org/pandas-docs/stable/user_guide/indexing.html#returning-a-view-versus-a-copy\n",
            "\n",
            "C:\\Users\\joshu\\AppData\\Local\\Temp\\ipykernel_12340\\3906596597.py:30: FutureWarning:\n",
            "\n",
            "The default value of regex will change from True to False in a future version. In addition, single character regular expressions will *not* be treated as literal strings when regex=True.\n",
            "\n",
            "C:\\Users\\joshu\\AppData\\Local\\Temp\\ipykernel_12340\\3906596597.py:37: SettingWithCopyWarning:\n",
            "\n",
            "\n",
            "A value is trying to be set on a copy of a slice from a DataFrame\n",
            "\n",
            "See the caveats in the documentation: https://pandas.pydata.org/pandas-docs/stable/user_guide/indexing.html#returning-a-view-versus-a-copy\n",
            "\n",
            "C:\\Users\\joshu\\AppData\\Local\\Temp\\ipykernel_12340\\3906596597.py:38: SettingWithCopyWarning:\n",
            "\n",
            "\n",
            "A value is trying to be set on a copy of a slice from a DataFrame\n",
            "\n",
            "See the caveats in the documentation: https://pandas.pydata.org/pandas-docs/stable/user_guide/indexing.html#returning-a-view-versus-a-copy\n",
            "\n",
            "C:\\Users\\joshu\\AppData\\Local\\Temp\\ipykernel_12340\\3906596597.py:40: SettingWithCopyWarning:\n",
            "\n",
            "\n",
            "A value is trying to be set on a copy of a slice from a DataFrame\n",
            "\n",
            "See the caveats in the documentation: https://pandas.pydata.org/pandas-docs/stable/user_guide/indexing.html#returning-a-view-versus-a-copy\n",
            "\n",
            "C:\\Users\\joshu\\AppData\\Local\\Temp\\ipykernel_12340\\3906596597.py:41: SettingWithCopyWarning:\n",
            "\n",
            "\n",
            "A value is trying to be set on a copy of a slice from a DataFrame\n",
            "\n",
            "See the caveats in the documentation: https://pandas.pydata.org/pandas-docs/stable/user_guide/indexing.html#returning-a-view-versus-a-copy\n",
            "\n",
            "C:\\Users\\joshu\\AppData\\Local\\Temp\\ipykernel_12340\\3906596597.py:42: SettingWithCopyWarning:\n",
            "\n",
            "\n",
            "A value is trying to be set on a copy of a slice from a DataFrame\n",
            "\n",
            "See the caveats in the documentation: https://pandas.pydata.org/pandas-docs/stable/user_guide/indexing.html#returning-a-view-versus-a-copy\n",
            "\n",
            "C:\\Users\\joshu\\AppData\\Local\\Temp\\ipykernel_12340\\3906596597.py:43: SettingWithCopyWarning:\n",
            "\n",
            "\n",
            "A value is trying to be set on a copy of a slice from a DataFrame\n",
            "\n",
            "See the caveats in the documentation: https://pandas.pydata.org/pandas-docs/stable/user_guide/indexing.html#returning-a-view-versus-a-copy\n",
            "\n",
            "C:\\Users\\joshu\\AppData\\Local\\Temp\\ipykernel_12340\\3906596597.py:44: SettingWithCopyWarning:\n",
            "\n",
            "\n",
            "A value is trying to be set on a copy of a slice from a DataFrame\n",
            "\n",
            "See the caveats in the documentation: https://pandas.pydata.org/pandas-docs/stable/user_guide/indexing.html#returning-a-view-versus-a-copy\n",
            "\n",
            "C:\\Users\\joshu\\AppData\\Local\\Temp\\ipykernel_12340\\3906596597.py:45: SettingWithCopyWarning:\n",
            "\n",
            "\n",
            "A value is trying to be set on a copy of a slice from a DataFrame\n",
            "\n",
            "See the caveats in the documentation: https://pandas.pydata.org/pandas-docs/stable/user_guide/indexing.html#returning-a-view-versus-a-copy\n",
            "\n",
            "C:\\Users\\joshu\\AppData\\Local\\Temp\\ipykernel_12340\\3906596597.py:46: SettingWithCopyWarning:\n",
            "\n",
            "\n",
            "A value is trying to be set on a copy of a slice from a DataFrame\n",
            "\n",
            "See the caveats in the documentation: https://pandas.pydata.org/pandas-docs/stable/user_guide/indexing.html#returning-a-view-versus-a-copy\n",
            "\n",
            "C:\\Users\\joshu\\AppData\\Local\\Temp\\ipykernel_12340\\3906596597.py:47: SettingWithCopyWarning:\n",
            "\n",
            "\n",
            "A value is trying to be set on a copy of a slice from a DataFrame\n",
            "\n",
            "See the caveats in the documentation: https://pandas.pydata.org/pandas-docs/stable/user_guide/indexing.html#returning-a-view-versus-a-copy\n",
            "\n",
            "C:\\Users\\joshu\\AppData\\Local\\Temp\\ipykernel_12340\\3906596597.py:49: SettingWithCopyWarning:\n",
            "\n",
            "\n",
            "A value is trying to be set on a copy of a slice from a DataFrame\n",
            "\n",
            "See the caveats in the documentation: https://pandas.pydata.org/pandas-docs/stable/user_guide/indexing.html#returning-a-view-versus-a-copy\n",
            "\n",
            "C:\\Users\\joshu\\AppData\\Local\\Temp\\ipykernel_12340\\3906596597.py:50: SettingWithCopyWarning:\n",
            "\n",
            "\n",
            "A value is trying to be set on a copy of a slice from a DataFrame\n",
            "\n",
            "See the caveats in the documentation: https://pandas.pydata.org/pandas-docs/stable/user_guide/indexing.html#returning-a-view-versus-a-copy\n",
            "\n"
          ]
        }
      ],
      "source": [
        "# Replace NA values with 0, clean numbers and convert to numeric type\n",
        "\n",
        "# df_hh_income  \n",
        "df_hh_income = df_hh_income.fillna(0)\n",
        "chars_to_replace = [',', '-', '+']\n",
        "\n",
        "df_hh_income['Median Income'][df_hh_income['Median Income'] == '(X)'] = 0\n",
        "df_hh_income['Median Income'][df_hh_income['Median Income'] == '-'] = 0\n",
        "for char in chars_to_replace:\n",
        "    df_hh_income['Median Income'] = df_hh_income['Median Income'].astype(str).str.replace(char, '')\n",
        "\n",
        "df_hh_income['Median Income'] = pd.to_numeric(df_hh_income['Median Income'])\n",
        "\n",
        "# df_pct_poverty\n",
        "for char in chars_to_replace:\n",
        "    df_pct_poverty.poverty_rate = df_pct_poverty.poverty_rate.astype(str).str.replace(char, '')\n",
        "df_pct_poverty.poverty_rate[df_pct_poverty.poverty_rate == 'nan'] = 0\n",
        "df_pct_poverty.poverty_rate = pd.to_numeric(df_pct_poverty.poverty_rate)\n",
        "\n",
        "# df_pct_completed_hs\n",
        "for char in chars_to_replace:\n",
        "    df_pct_completed_hs.percent_completed_hs = df_pct_completed_hs.percent_completed_hs.astype(str).str.replace(char, '')\n",
        "df_pct_completed_hs.percent_completed_hs[df_pct_completed_hs.percent_completed_hs == 'nan'] = 0\n",
        "df_pct_completed_hs.percent_completed_hs = pd.to_numeric(df_pct_completed_hs.percent_completed_hs)\n",
        "\n",
        "# df_share_race_city\n",
        "shares = ['share_white', 'share_black', 'share_native_american', 'share_asian', 'share_hispanic']\n",
        "for char in chars_to_replace:\n",
        "    for share in shares:\n",
        "        df_share_race_city[share] = df_share_race_city[share].astype(str).str.replace(char, '')\n",
        "        df_share_race_city[share][df_share_race_city[share] == 'nan'] = 0\n",
        "        df_share_race_city[share][df_share_race_city[share] == '(X)'] = 0\n",
        "        df_share_race_city[share] = pd.to_numeric(df_share_race_city[share])\n",
        "\n",
        "# df_fatalities\n",
        "df_fatalities = df_fatalities.fillna('Unknown')\n",
        "df_fatalities.armed[df_fatalities.armed == 0] = 'unarmed'\n",
        "df_fatalities.armed[df_fatalities.armed == '0'] = 'unarmed'\n",
        "\n",
        "df_fatalities.race[df_fatalities.race == '0'] = 'Unknown'\n",
        "df_fatalities.race[df_fatalities.race == 0] = 'Unknown'\n",
        "df_fatalities.race[df_fatalities.race == 'O'] = 'Unknown'\n",
        "df_fatalities.race[df_fatalities.race == 'W'] = 'White'\n",
        "df_fatalities.race[df_fatalities.race == 'B'] = 'Black'\n",
        "df_fatalities.race[df_fatalities.race == 'A'] = 'Asian'\n",
        "df_fatalities.race[df_fatalities.race == 'H'] = 'Hispanic'\n",
        "df_fatalities.race[df_fatalities.race == 'N'] = 'Native American'\n",
        "\n",
        "df_fatalities.gender[df_fatalities.gender == 'M'] = 'Male'\n",
        "df_fatalities.gender[df_fatalities.gender == 'F'] = 'Female'\n",
        "\n",
        "\n"
      ]
    },
    {
      "cell_type": "markdown",
      "metadata": {
        "_uuid": "52b308c936f5835c5cd186497fe3f96e96372483",
        "id": "n3DrcXVQuRoZ"
      },
      "source": [
        "# Chart the Poverty Rate in each US State\n",
        "\n",
        "Create a bar chart that ranks the poverty rate from highest to lowest by US state. Which state has the highest poverty rate? Which state has the lowest poverty rate?  Bar Plot"
      ]
    },
    {
      "cell_type": "code",
      "execution_count": 167,
      "metadata": {
        "id": "mGxEzMDqzqmn"
      },
      "outputs": [
        {
          "data": {
            "application/vnd.plotly.v1+json": {
              "config": {
                "plotlyServerURL": "https://plot.ly"
              },
              "data": [
                {
                  "hovertemplate": "<br>State=%{x}<br>Povery Rate=%{y}%<extra></extra>",
                  "type": "bar",
                  "x": [
                    "AK",
                    "AL",
                    "AR",
                    "AZ",
                    "CA",
                    "CO",
                    "CT",
                    "DC",
                    "DE",
                    "FL",
                    "GA",
                    "HI",
                    "IA",
                    "ID",
                    "IL",
                    "IN",
                    "KS",
                    "KY",
                    "LA",
                    "MA",
                    "MD",
                    "ME",
                    "MI",
                    "MN",
                    "MO",
                    "MS",
                    "MT",
                    "NC",
                    "ND",
                    "NE",
                    "NH",
                    "NJ",
                    "NM",
                    "NV",
                    "NY",
                    "OH",
                    "OK",
                    "OR",
                    "PA",
                    "RI",
                    "SC",
                    "SD",
                    "TN",
                    "TX",
                    "UT",
                    "VA",
                    "VT",
                    "WA",
                    "WI",
                    "WV",
                    "WY"
                  ],
                  "y": [
                    18.68,
                    20.61,
                    22.96,
                    25.27,
                    16.89,
                    13.19,
                    9.14,
                    18,
                    12.56,
                    17.51,
                    23.66,
                    13.4,
                    12.23,
                    18.08,
                    13.85,
                    15.5,
                    14.72,
                    20.08,
                    22.29,
                    9.55,
                    10.27,
                    16.89,
                    17.9,
                    13.75,
                    19.93,
                    26.88,
                    16.42,
                    19.72,
                    12.13,
                    12.92,
                    12.66,
                    8.16,
                    22.51,
                    12.37,
                    11.64,
                    14.83,
                    20.55,
                    16.44,
                    12.49,
                    10.37,
                    22.11,
                    15.75,
                    19.89,
                    19.5,
                    11.72,
                    14.59,
                    13.79,
                    14.83,
                    12.86,
                    21.08,
                    9.06
                  ]
                }
              ],
              "layout": {
                "legend": {
                  "title": {
                    "text": "Poverty Rate in each US State"
                  }
                },
                "template": {
                  "data": {
                    "bar": [
                      {
                        "error_x": {
                          "color": "#2a3f5f"
                        },
                        "error_y": {
                          "color": "#2a3f5f"
                        },
                        "marker": {
                          "line": {
                            "color": "#E5ECF6",
                            "width": 0.5
                          },
                          "pattern": {
                            "fillmode": "overlay",
                            "size": 10,
                            "solidity": 0.2
                          }
                        },
                        "type": "bar"
                      }
                    ],
                    "barpolar": [
                      {
                        "marker": {
                          "line": {
                            "color": "#E5ECF6",
                            "width": 0.5
                          },
                          "pattern": {
                            "fillmode": "overlay",
                            "size": 10,
                            "solidity": 0.2
                          }
                        },
                        "type": "barpolar"
                      }
                    ],
                    "carpet": [
                      {
                        "aaxis": {
                          "endlinecolor": "#2a3f5f",
                          "gridcolor": "white",
                          "linecolor": "white",
                          "minorgridcolor": "white",
                          "startlinecolor": "#2a3f5f"
                        },
                        "baxis": {
                          "endlinecolor": "#2a3f5f",
                          "gridcolor": "white",
                          "linecolor": "white",
                          "minorgridcolor": "white",
                          "startlinecolor": "#2a3f5f"
                        },
                        "type": "carpet"
                      }
                    ],
                    "choropleth": [
                      {
                        "colorbar": {
                          "outlinewidth": 0,
                          "ticks": ""
                        },
                        "type": "choropleth"
                      }
                    ],
                    "contour": [
                      {
                        "colorbar": {
                          "outlinewidth": 0,
                          "ticks": ""
                        },
                        "colorscale": [
                          [
                            0,
                            "#0d0887"
                          ],
                          [
                            0.1111111111111111,
                            "#46039f"
                          ],
                          [
                            0.2222222222222222,
                            "#7201a8"
                          ],
                          [
                            0.3333333333333333,
                            "#9c179e"
                          ],
                          [
                            0.4444444444444444,
                            "#bd3786"
                          ],
                          [
                            0.5555555555555556,
                            "#d8576b"
                          ],
                          [
                            0.6666666666666666,
                            "#ed7953"
                          ],
                          [
                            0.7777777777777778,
                            "#fb9f3a"
                          ],
                          [
                            0.8888888888888888,
                            "#fdca26"
                          ],
                          [
                            1,
                            "#f0f921"
                          ]
                        ],
                        "type": "contour"
                      }
                    ],
                    "contourcarpet": [
                      {
                        "colorbar": {
                          "outlinewidth": 0,
                          "ticks": ""
                        },
                        "type": "contourcarpet"
                      }
                    ],
                    "heatmap": [
                      {
                        "colorbar": {
                          "outlinewidth": 0,
                          "ticks": ""
                        },
                        "colorscale": [
                          [
                            0,
                            "#0d0887"
                          ],
                          [
                            0.1111111111111111,
                            "#46039f"
                          ],
                          [
                            0.2222222222222222,
                            "#7201a8"
                          ],
                          [
                            0.3333333333333333,
                            "#9c179e"
                          ],
                          [
                            0.4444444444444444,
                            "#bd3786"
                          ],
                          [
                            0.5555555555555556,
                            "#d8576b"
                          ],
                          [
                            0.6666666666666666,
                            "#ed7953"
                          ],
                          [
                            0.7777777777777778,
                            "#fb9f3a"
                          ],
                          [
                            0.8888888888888888,
                            "#fdca26"
                          ],
                          [
                            1,
                            "#f0f921"
                          ]
                        ],
                        "type": "heatmap"
                      }
                    ],
                    "heatmapgl": [
                      {
                        "colorbar": {
                          "outlinewidth": 0,
                          "ticks": ""
                        },
                        "colorscale": [
                          [
                            0,
                            "#0d0887"
                          ],
                          [
                            0.1111111111111111,
                            "#46039f"
                          ],
                          [
                            0.2222222222222222,
                            "#7201a8"
                          ],
                          [
                            0.3333333333333333,
                            "#9c179e"
                          ],
                          [
                            0.4444444444444444,
                            "#bd3786"
                          ],
                          [
                            0.5555555555555556,
                            "#d8576b"
                          ],
                          [
                            0.6666666666666666,
                            "#ed7953"
                          ],
                          [
                            0.7777777777777778,
                            "#fb9f3a"
                          ],
                          [
                            0.8888888888888888,
                            "#fdca26"
                          ],
                          [
                            1,
                            "#f0f921"
                          ]
                        ],
                        "type": "heatmapgl"
                      }
                    ],
                    "histogram": [
                      {
                        "marker": {
                          "pattern": {
                            "fillmode": "overlay",
                            "size": 10,
                            "solidity": 0.2
                          }
                        },
                        "type": "histogram"
                      }
                    ],
                    "histogram2d": [
                      {
                        "colorbar": {
                          "outlinewidth": 0,
                          "ticks": ""
                        },
                        "colorscale": [
                          [
                            0,
                            "#0d0887"
                          ],
                          [
                            0.1111111111111111,
                            "#46039f"
                          ],
                          [
                            0.2222222222222222,
                            "#7201a8"
                          ],
                          [
                            0.3333333333333333,
                            "#9c179e"
                          ],
                          [
                            0.4444444444444444,
                            "#bd3786"
                          ],
                          [
                            0.5555555555555556,
                            "#d8576b"
                          ],
                          [
                            0.6666666666666666,
                            "#ed7953"
                          ],
                          [
                            0.7777777777777778,
                            "#fb9f3a"
                          ],
                          [
                            0.8888888888888888,
                            "#fdca26"
                          ],
                          [
                            1,
                            "#f0f921"
                          ]
                        ],
                        "type": "histogram2d"
                      }
                    ],
                    "histogram2dcontour": [
                      {
                        "colorbar": {
                          "outlinewidth": 0,
                          "ticks": ""
                        },
                        "colorscale": [
                          [
                            0,
                            "#0d0887"
                          ],
                          [
                            0.1111111111111111,
                            "#46039f"
                          ],
                          [
                            0.2222222222222222,
                            "#7201a8"
                          ],
                          [
                            0.3333333333333333,
                            "#9c179e"
                          ],
                          [
                            0.4444444444444444,
                            "#bd3786"
                          ],
                          [
                            0.5555555555555556,
                            "#d8576b"
                          ],
                          [
                            0.6666666666666666,
                            "#ed7953"
                          ],
                          [
                            0.7777777777777778,
                            "#fb9f3a"
                          ],
                          [
                            0.8888888888888888,
                            "#fdca26"
                          ],
                          [
                            1,
                            "#f0f921"
                          ]
                        ],
                        "type": "histogram2dcontour"
                      }
                    ],
                    "mesh3d": [
                      {
                        "colorbar": {
                          "outlinewidth": 0,
                          "ticks": ""
                        },
                        "type": "mesh3d"
                      }
                    ],
                    "parcoords": [
                      {
                        "line": {
                          "colorbar": {
                            "outlinewidth": 0,
                            "ticks": ""
                          }
                        },
                        "type": "parcoords"
                      }
                    ],
                    "pie": [
                      {
                        "automargin": true,
                        "type": "pie"
                      }
                    ],
                    "scatter": [
                      {
                        "fillpattern": {
                          "fillmode": "overlay",
                          "size": 10,
                          "solidity": 0.2
                        },
                        "type": "scatter"
                      }
                    ],
                    "scatter3d": [
                      {
                        "line": {
                          "colorbar": {
                            "outlinewidth": 0,
                            "ticks": ""
                          }
                        },
                        "marker": {
                          "colorbar": {
                            "outlinewidth": 0,
                            "ticks": ""
                          }
                        },
                        "type": "scatter3d"
                      }
                    ],
                    "scattercarpet": [
                      {
                        "marker": {
                          "colorbar": {
                            "outlinewidth": 0,
                            "ticks": ""
                          }
                        },
                        "type": "scattercarpet"
                      }
                    ],
                    "scattergeo": [
                      {
                        "marker": {
                          "colorbar": {
                            "outlinewidth": 0,
                            "ticks": ""
                          }
                        },
                        "type": "scattergeo"
                      }
                    ],
                    "scattergl": [
                      {
                        "marker": {
                          "colorbar": {
                            "outlinewidth": 0,
                            "ticks": ""
                          }
                        },
                        "type": "scattergl"
                      }
                    ],
                    "scattermapbox": [
                      {
                        "marker": {
                          "colorbar": {
                            "outlinewidth": 0,
                            "ticks": ""
                          }
                        },
                        "type": "scattermapbox"
                      }
                    ],
                    "scatterpolar": [
                      {
                        "marker": {
                          "colorbar": {
                            "outlinewidth": 0,
                            "ticks": ""
                          }
                        },
                        "type": "scatterpolar"
                      }
                    ],
                    "scatterpolargl": [
                      {
                        "marker": {
                          "colorbar": {
                            "outlinewidth": 0,
                            "ticks": ""
                          }
                        },
                        "type": "scatterpolargl"
                      }
                    ],
                    "scatterternary": [
                      {
                        "marker": {
                          "colorbar": {
                            "outlinewidth": 0,
                            "ticks": ""
                          }
                        },
                        "type": "scatterternary"
                      }
                    ],
                    "surface": [
                      {
                        "colorbar": {
                          "outlinewidth": 0,
                          "ticks": ""
                        },
                        "colorscale": [
                          [
                            0,
                            "#0d0887"
                          ],
                          [
                            0.1111111111111111,
                            "#46039f"
                          ],
                          [
                            0.2222222222222222,
                            "#7201a8"
                          ],
                          [
                            0.3333333333333333,
                            "#9c179e"
                          ],
                          [
                            0.4444444444444444,
                            "#bd3786"
                          ],
                          [
                            0.5555555555555556,
                            "#d8576b"
                          ],
                          [
                            0.6666666666666666,
                            "#ed7953"
                          ],
                          [
                            0.7777777777777778,
                            "#fb9f3a"
                          ],
                          [
                            0.8888888888888888,
                            "#fdca26"
                          ],
                          [
                            1,
                            "#f0f921"
                          ]
                        ],
                        "type": "surface"
                      }
                    ],
                    "table": [
                      {
                        "cells": {
                          "fill": {
                            "color": "#EBF0F8"
                          },
                          "line": {
                            "color": "white"
                          }
                        },
                        "header": {
                          "fill": {
                            "color": "#C8D4E3"
                          },
                          "line": {
                            "color": "white"
                          }
                        },
                        "type": "table"
                      }
                    ]
                  },
                  "layout": {
                    "annotationdefaults": {
                      "arrowcolor": "#2a3f5f",
                      "arrowhead": 0,
                      "arrowwidth": 1
                    },
                    "autotypenumbers": "strict",
                    "coloraxis": {
                      "colorbar": {
                        "outlinewidth": 0,
                        "ticks": ""
                      }
                    },
                    "colorscale": {
                      "diverging": [
                        [
                          0,
                          "#8e0152"
                        ],
                        [
                          0.1,
                          "#c51b7d"
                        ],
                        [
                          0.2,
                          "#de77ae"
                        ],
                        [
                          0.3,
                          "#f1b6da"
                        ],
                        [
                          0.4,
                          "#fde0ef"
                        ],
                        [
                          0.5,
                          "#f7f7f7"
                        ],
                        [
                          0.6,
                          "#e6f5d0"
                        ],
                        [
                          0.7,
                          "#b8e186"
                        ],
                        [
                          0.8,
                          "#7fbc41"
                        ],
                        [
                          0.9,
                          "#4d9221"
                        ],
                        [
                          1,
                          "#276419"
                        ]
                      ],
                      "sequential": [
                        [
                          0,
                          "#0d0887"
                        ],
                        [
                          0.1111111111111111,
                          "#46039f"
                        ],
                        [
                          0.2222222222222222,
                          "#7201a8"
                        ],
                        [
                          0.3333333333333333,
                          "#9c179e"
                        ],
                        [
                          0.4444444444444444,
                          "#bd3786"
                        ],
                        [
                          0.5555555555555556,
                          "#d8576b"
                        ],
                        [
                          0.6666666666666666,
                          "#ed7953"
                        ],
                        [
                          0.7777777777777778,
                          "#fb9f3a"
                        ],
                        [
                          0.8888888888888888,
                          "#fdca26"
                        ],
                        [
                          1,
                          "#f0f921"
                        ]
                      ],
                      "sequentialminus": [
                        [
                          0,
                          "#0d0887"
                        ],
                        [
                          0.1111111111111111,
                          "#46039f"
                        ],
                        [
                          0.2222222222222222,
                          "#7201a8"
                        ],
                        [
                          0.3333333333333333,
                          "#9c179e"
                        ],
                        [
                          0.4444444444444444,
                          "#bd3786"
                        ],
                        [
                          0.5555555555555556,
                          "#d8576b"
                        ],
                        [
                          0.6666666666666666,
                          "#ed7953"
                        ],
                        [
                          0.7777777777777778,
                          "#fb9f3a"
                        ],
                        [
                          0.8888888888888888,
                          "#fdca26"
                        ],
                        [
                          1,
                          "#f0f921"
                        ]
                      ]
                    },
                    "colorway": [
                      "#636efa",
                      "#EF553B",
                      "#00cc96",
                      "#ab63fa",
                      "#FFA15A",
                      "#19d3f3",
                      "#FF6692",
                      "#B6E880",
                      "#FF97FF",
                      "#FECB52"
                    ],
                    "font": {
                      "color": "#2a3f5f"
                    },
                    "geo": {
                      "bgcolor": "white",
                      "lakecolor": "white",
                      "landcolor": "#E5ECF6",
                      "showlakes": true,
                      "showland": true,
                      "subunitcolor": "white"
                    },
                    "hoverlabel": {
                      "align": "left"
                    },
                    "hovermode": "closest",
                    "mapbox": {
                      "style": "light"
                    },
                    "paper_bgcolor": "white",
                    "plot_bgcolor": "#E5ECF6",
                    "polar": {
                      "angularaxis": {
                        "gridcolor": "white",
                        "linecolor": "white",
                        "ticks": ""
                      },
                      "bgcolor": "#E5ECF6",
                      "radialaxis": {
                        "gridcolor": "white",
                        "linecolor": "white",
                        "ticks": ""
                      }
                    },
                    "scene": {
                      "xaxis": {
                        "backgroundcolor": "#E5ECF6",
                        "gridcolor": "white",
                        "gridwidth": 2,
                        "linecolor": "white",
                        "showbackground": true,
                        "ticks": "",
                        "zerolinecolor": "white"
                      },
                      "yaxis": {
                        "backgroundcolor": "#E5ECF6",
                        "gridcolor": "white",
                        "gridwidth": 2,
                        "linecolor": "white",
                        "showbackground": true,
                        "ticks": "",
                        "zerolinecolor": "white"
                      },
                      "zaxis": {
                        "backgroundcolor": "#E5ECF6",
                        "gridcolor": "white",
                        "gridwidth": 2,
                        "linecolor": "white",
                        "showbackground": true,
                        "ticks": "",
                        "zerolinecolor": "white"
                      }
                    },
                    "shapedefaults": {
                      "line": {
                        "color": "#2a3f5f"
                      }
                    },
                    "ternary": {
                      "aaxis": {
                        "gridcolor": "white",
                        "linecolor": "white",
                        "ticks": ""
                      },
                      "baxis": {
                        "gridcolor": "white",
                        "linecolor": "white",
                        "ticks": ""
                      },
                      "bgcolor": "#E5ECF6",
                      "caxis": {
                        "gridcolor": "white",
                        "linecolor": "white",
                        "ticks": ""
                      }
                    },
                    "title": {
                      "x": 0.05
                    },
                    "xaxis": {
                      "automargin": true,
                      "gridcolor": "white",
                      "linecolor": "white",
                      "ticks": "",
                      "title": {
                        "standoff": 15
                      },
                      "zerolinecolor": "white",
                      "zerolinewidth": 2
                    },
                    "yaxis": {
                      "automargin": true,
                      "gridcolor": "white",
                      "linecolor": "white",
                      "ticks": "",
                      "title": {
                        "standoff": 15
                      },
                      "zerolinecolor": "white",
                      "zerolinewidth": 2
                    }
                  }
                },
                "xaxis": {
                  "title": {
                    "text": "State"
                  }
                },
                "yaxis": {
                  "range": [
                    0,
                    100
                  ],
                  "title": {
                    "text": "Poverty Rate %"
                  }
                }
              }
            }
          },
          "metadata": {},
          "output_type": "display_data"
        }
      ],
      "source": [
        "poverty_rate = df_pct_poverty.groupby(['Geographic Area'], as_index=False).agg(Mean_Poverty_Rate=('poverty_rate', 'mean')).round(2)\n",
        "# poverty_rate = poverty_rate.sort_values('Mean_Poverty_Rate', ascending=True)\n",
        "\n",
        "fig = go.Figure()\n",
        "fig.add_trace(go.Bar(x=poverty_rate['Geographic Area'], \n",
        "                     y=poverty_rate.Mean_Poverty_Rate,\n",
        "                     hovertemplate=\"<br>State=%{x}<br>Povery Rate=%{y}%<extra></extra>\"))\n",
        "fig.update_layout(legend_title_text = \"Poverty Rate in each US State\")\n",
        "fig.update_xaxes(title_text=\"State\")\n",
        "fig.update_yaxes(title_text=\"Poverty Rate %\", range=[0, 100]\n",
        ")\n",
        "fig.show()"
      ]
    },
    {
      "cell_type": "code",
      "execution_count": null,
      "metadata": {
        "id": "B3AM6oJQ1D_P"
      },
      "outputs": [],
      "source": []
    },
    {
      "cell_type": "markdown",
      "metadata": {
        "id": "GhUibVz5z4sn"
      },
      "source": [
        "# Chart the High School Graduation Rate by US State\n",
        "\n",
        "Show the High School Graduation Rate in ascending order of US States. Which state has the lowest high school graduation rate? Which state has the highest?"
      ]
    },
    {
      "cell_type": "code",
      "execution_count": 214,
      "metadata": {
        "id": "laD6W9eG0JFR"
      },
      "outputs": [],
      "source": [
        "avg_grad_rate = df_pct_completed_hs.groupby('Geographic Area', as_index=False).agg(Avg_HS_Rate = ('percent_completed_hs', 'mean')).reset_index().round(2)\n",
        "# avg_grad_rate = avg_grad_rate.sort_values('Avg_HS_Rate', ascending=True)"
      ]
    },
    {
      "cell_type": "code",
      "execution_count": 169,
      "metadata": {},
      "outputs": [
        {
          "data": {
            "application/vnd.plotly.v1+json": {
              "config": {
                "plotlyServerURL": "https://plot.ly"
              },
              "data": [
                {
                  "hovertemplate": "<br>State=%{x}<br>HS Grad Rate=%{y}%<extra></extra>",
                  "type": "bar",
                  "x": [
                    "AK",
                    "AL",
                    "AR",
                    "AZ",
                    "CA",
                    "CO",
                    "CT",
                    "DC",
                    "DE",
                    "FL",
                    "GA",
                    "HI",
                    "IA",
                    "ID",
                    "IL",
                    "IN",
                    "KS",
                    "KY",
                    "LA",
                    "MA",
                    "MD",
                    "ME",
                    "MI",
                    "MN",
                    "MO",
                    "MS",
                    "MT",
                    "NC",
                    "ND",
                    "NE",
                    "NH",
                    "NJ",
                    "NM",
                    "NV",
                    "NY",
                    "OH",
                    "OK",
                    "OR",
                    "PA",
                    "RI",
                    "SC",
                    "SD",
                    "TN",
                    "TX",
                    "UT",
                    "VA",
                    "VT",
                    "WA",
                    "WI",
                    "WV",
                    "WY"
                  ],
                  "y": [
                    80.1,
                    80.16,
                    79.95,
                    79.22,
                    80.82,
                    88.93,
                    91.59,
                    89.3,
                    88.52,
                    85.46,
                    78.63,
                    91.67,
                    89.67,
                    84.42,
                    88.29,
                    86.32,
                    87.97,
                    82.22,
                    79.12,
                    92.03,
                    88.08,
                    91.43,
                    89.21,
                    89.47,
                    82.79,
                    78.47,
                    89.99,
                    83.14,
                    87.6,
                    89.52,
                    90.71,
                    90.52,
                    78.97,
                    87.05,
                    90.54,
                    88.2,
                    82.46,
                    87.6,
                    88.97,
                    88.82,
                    80.65,
                    86.18,
                    81.63,
                    74.09,
                    89.64,
                    84.88,
                    89.98,
                    87.07,
                    90.26,
                    82.14,
                    83.97
                  ]
                }
              ],
              "layout": {
                "legend": {
                  "title": {
                    "text": "Poverty Rate in each US State"
                  }
                },
                "template": {
                  "data": {
                    "bar": [
                      {
                        "error_x": {
                          "color": "#2a3f5f"
                        },
                        "error_y": {
                          "color": "#2a3f5f"
                        },
                        "marker": {
                          "line": {
                            "color": "#E5ECF6",
                            "width": 0.5
                          },
                          "pattern": {
                            "fillmode": "overlay",
                            "size": 10,
                            "solidity": 0.2
                          }
                        },
                        "type": "bar"
                      }
                    ],
                    "barpolar": [
                      {
                        "marker": {
                          "line": {
                            "color": "#E5ECF6",
                            "width": 0.5
                          },
                          "pattern": {
                            "fillmode": "overlay",
                            "size": 10,
                            "solidity": 0.2
                          }
                        },
                        "type": "barpolar"
                      }
                    ],
                    "carpet": [
                      {
                        "aaxis": {
                          "endlinecolor": "#2a3f5f",
                          "gridcolor": "white",
                          "linecolor": "white",
                          "minorgridcolor": "white",
                          "startlinecolor": "#2a3f5f"
                        },
                        "baxis": {
                          "endlinecolor": "#2a3f5f",
                          "gridcolor": "white",
                          "linecolor": "white",
                          "minorgridcolor": "white",
                          "startlinecolor": "#2a3f5f"
                        },
                        "type": "carpet"
                      }
                    ],
                    "choropleth": [
                      {
                        "colorbar": {
                          "outlinewidth": 0,
                          "ticks": ""
                        },
                        "type": "choropleth"
                      }
                    ],
                    "contour": [
                      {
                        "colorbar": {
                          "outlinewidth": 0,
                          "ticks": ""
                        },
                        "colorscale": [
                          [
                            0,
                            "#0d0887"
                          ],
                          [
                            0.1111111111111111,
                            "#46039f"
                          ],
                          [
                            0.2222222222222222,
                            "#7201a8"
                          ],
                          [
                            0.3333333333333333,
                            "#9c179e"
                          ],
                          [
                            0.4444444444444444,
                            "#bd3786"
                          ],
                          [
                            0.5555555555555556,
                            "#d8576b"
                          ],
                          [
                            0.6666666666666666,
                            "#ed7953"
                          ],
                          [
                            0.7777777777777778,
                            "#fb9f3a"
                          ],
                          [
                            0.8888888888888888,
                            "#fdca26"
                          ],
                          [
                            1,
                            "#f0f921"
                          ]
                        ],
                        "type": "contour"
                      }
                    ],
                    "contourcarpet": [
                      {
                        "colorbar": {
                          "outlinewidth": 0,
                          "ticks": ""
                        },
                        "type": "contourcarpet"
                      }
                    ],
                    "heatmap": [
                      {
                        "colorbar": {
                          "outlinewidth": 0,
                          "ticks": ""
                        },
                        "colorscale": [
                          [
                            0,
                            "#0d0887"
                          ],
                          [
                            0.1111111111111111,
                            "#46039f"
                          ],
                          [
                            0.2222222222222222,
                            "#7201a8"
                          ],
                          [
                            0.3333333333333333,
                            "#9c179e"
                          ],
                          [
                            0.4444444444444444,
                            "#bd3786"
                          ],
                          [
                            0.5555555555555556,
                            "#d8576b"
                          ],
                          [
                            0.6666666666666666,
                            "#ed7953"
                          ],
                          [
                            0.7777777777777778,
                            "#fb9f3a"
                          ],
                          [
                            0.8888888888888888,
                            "#fdca26"
                          ],
                          [
                            1,
                            "#f0f921"
                          ]
                        ],
                        "type": "heatmap"
                      }
                    ],
                    "heatmapgl": [
                      {
                        "colorbar": {
                          "outlinewidth": 0,
                          "ticks": ""
                        },
                        "colorscale": [
                          [
                            0,
                            "#0d0887"
                          ],
                          [
                            0.1111111111111111,
                            "#46039f"
                          ],
                          [
                            0.2222222222222222,
                            "#7201a8"
                          ],
                          [
                            0.3333333333333333,
                            "#9c179e"
                          ],
                          [
                            0.4444444444444444,
                            "#bd3786"
                          ],
                          [
                            0.5555555555555556,
                            "#d8576b"
                          ],
                          [
                            0.6666666666666666,
                            "#ed7953"
                          ],
                          [
                            0.7777777777777778,
                            "#fb9f3a"
                          ],
                          [
                            0.8888888888888888,
                            "#fdca26"
                          ],
                          [
                            1,
                            "#f0f921"
                          ]
                        ],
                        "type": "heatmapgl"
                      }
                    ],
                    "histogram": [
                      {
                        "marker": {
                          "pattern": {
                            "fillmode": "overlay",
                            "size": 10,
                            "solidity": 0.2
                          }
                        },
                        "type": "histogram"
                      }
                    ],
                    "histogram2d": [
                      {
                        "colorbar": {
                          "outlinewidth": 0,
                          "ticks": ""
                        },
                        "colorscale": [
                          [
                            0,
                            "#0d0887"
                          ],
                          [
                            0.1111111111111111,
                            "#46039f"
                          ],
                          [
                            0.2222222222222222,
                            "#7201a8"
                          ],
                          [
                            0.3333333333333333,
                            "#9c179e"
                          ],
                          [
                            0.4444444444444444,
                            "#bd3786"
                          ],
                          [
                            0.5555555555555556,
                            "#d8576b"
                          ],
                          [
                            0.6666666666666666,
                            "#ed7953"
                          ],
                          [
                            0.7777777777777778,
                            "#fb9f3a"
                          ],
                          [
                            0.8888888888888888,
                            "#fdca26"
                          ],
                          [
                            1,
                            "#f0f921"
                          ]
                        ],
                        "type": "histogram2d"
                      }
                    ],
                    "histogram2dcontour": [
                      {
                        "colorbar": {
                          "outlinewidth": 0,
                          "ticks": ""
                        },
                        "colorscale": [
                          [
                            0,
                            "#0d0887"
                          ],
                          [
                            0.1111111111111111,
                            "#46039f"
                          ],
                          [
                            0.2222222222222222,
                            "#7201a8"
                          ],
                          [
                            0.3333333333333333,
                            "#9c179e"
                          ],
                          [
                            0.4444444444444444,
                            "#bd3786"
                          ],
                          [
                            0.5555555555555556,
                            "#d8576b"
                          ],
                          [
                            0.6666666666666666,
                            "#ed7953"
                          ],
                          [
                            0.7777777777777778,
                            "#fb9f3a"
                          ],
                          [
                            0.8888888888888888,
                            "#fdca26"
                          ],
                          [
                            1,
                            "#f0f921"
                          ]
                        ],
                        "type": "histogram2dcontour"
                      }
                    ],
                    "mesh3d": [
                      {
                        "colorbar": {
                          "outlinewidth": 0,
                          "ticks": ""
                        },
                        "type": "mesh3d"
                      }
                    ],
                    "parcoords": [
                      {
                        "line": {
                          "colorbar": {
                            "outlinewidth": 0,
                            "ticks": ""
                          }
                        },
                        "type": "parcoords"
                      }
                    ],
                    "pie": [
                      {
                        "automargin": true,
                        "type": "pie"
                      }
                    ],
                    "scatter": [
                      {
                        "fillpattern": {
                          "fillmode": "overlay",
                          "size": 10,
                          "solidity": 0.2
                        },
                        "type": "scatter"
                      }
                    ],
                    "scatter3d": [
                      {
                        "line": {
                          "colorbar": {
                            "outlinewidth": 0,
                            "ticks": ""
                          }
                        },
                        "marker": {
                          "colorbar": {
                            "outlinewidth": 0,
                            "ticks": ""
                          }
                        },
                        "type": "scatter3d"
                      }
                    ],
                    "scattercarpet": [
                      {
                        "marker": {
                          "colorbar": {
                            "outlinewidth": 0,
                            "ticks": ""
                          }
                        },
                        "type": "scattercarpet"
                      }
                    ],
                    "scattergeo": [
                      {
                        "marker": {
                          "colorbar": {
                            "outlinewidth": 0,
                            "ticks": ""
                          }
                        },
                        "type": "scattergeo"
                      }
                    ],
                    "scattergl": [
                      {
                        "marker": {
                          "colorbar": {
                            "outlinewidth": 0,
                            "ticks": ""
                          }
                        },
                        "type": "scattergl"
                      }
                    ],
                    "scattermapbox": [
                      {
                        "marker": {
                          "colorbar": {
                            "outlinewidth": 0,
                            "ticks": ""
                          }
                        },
                        "type": "scattermapbox"
                      }
                    ],
                    "scatterpolar": [
                      {
                        "marker": {
                          "colorbar": {
                            "outlinewidth": 0,
                            "ticks": ""
                          }
                        },
                        "type": "scatterpolar"
                      }
                    ],
                    "scatterpolargl": [
                      {
                        "marker": {
                          "colorbar": {
                            "outlinewidth": 0,
                            "ticks": ""
                          }
                        },
                        "type": "scatterpolargl"
                      }
                    ],
                    "scatterternary": [
                      {
                        "marker": {
                          "colorbar": {
                            "outlinewidth": 0,
                            "ticks": ""
                          }
                        },
                        "type": "scatterternary"
                      }
                    ],
                    "surface": [
                      {
                        "colorbar": {
                          "outlinewidth": 0,
                          "ticks": ""
                        },
                        "colorscale": [
                          [
                            0,
                            "#0d0887"
                          ],
                          [
                            0.1111111111111111,
                            "#46039f"
                          ],
                          [
                            0.2222222222222222,
                            "#7201a8"
                          ],
                          [
                            0.3333333333333333,
                            "#9c179e"
                          ],
                          [
                            0.4444444444444444,
                            "#bd3786"
                          ],
                          [
                            0.5555555555555556,
                            "#d8576b"
                          ],
                          [
                            0.6666666666666666,
                            "#ed7953"
                          ],
                          [
                            0.7777777777777778,
                            "#fb9f3a"
                          ],
                          [
                            0.8888888888888888,
                            "#fdca26"
                          ],
                          [
                            1,
                            "#f0f921"
                          ]
                        ],
                        "type": "surface"
                      }
                    ],
                    "table": [
                      {
                        "cells": {
                          "fill": {
                            "color": "#EBF0F8"
                          },
                          "line": {
                            "color": "white"
                          }
                        },
                        "header": {
                          "fill": {
                            "color": "#C8D4E3"
                          },
                          "line": {
                            "color": "white"
                          }
                        },
                        "type": "table"
                      }
                    ]
                  },
                  "layout": {
                    "annotationdefaults": {
                      "arrowcolor": "#2a3f5f",
                      "arrowhead": 0,
                      "arrowwidth": 1
                    },
                    "autotypenumbers": "strict",
                    "coloraxis": {
                      "colorbar": {
                        "outlinewidth": 0,
                        "ticks": ""
                      }
                    },
                    "colorscale": {
                      "diverging": [
                        [
                          0,
                          "#8e0152"
                        ],
                        [
                          0.1,
                          "#c51b7d"
                        ],
                        [
                          0.2,
                          "#de77ae"
                        ],
                        [
                          0.3,
                          "#f1b6da"
                        ],
                        [
                          0.4,
                          "#fde0ef"
                        ],
                        [
                          0.5,
                          "#f7f7f7"
                        ],
                        [
                          0.6,
                          "#e6f5d0"
                        ],
                        [
                          0.7,
                          "#b8e186"
                        ],
                        [
                          0.8,
                          "#7fbc41"
                        ],
                        [
                          0.9,
                          "#4d9221"
                        ],
                        [
                          1,
                          "#276419"
                        ]
                      ],
                      "sequential": [
                        [
                          0,
                          "#0d0887"
                        ],
                        [
                          0.1111111111111111,
                          "#46039f"
                        ],
                        [
                          0.2222222222222222,
                          "#7201a8"
                        ],
                        [
                          0.3333333333333333,
                          "#9c179e"
                        ],
                        [
                          0.4444444444444444,
                          "#bd3786"
                        ],
                        [
                          0.5555555555555556,
                          "#d8576b"
                        ],
                        [
                          0.6666666666666666,
                          "#ed7953"
                        ],
                        [
                          0.7777777777777778,
                          "#fb9f3a"
                        ],
                        [
                          0.8888888888888888,
                          "#fdca26"
                        ],
                        [
                          1,
                          "#f0f921"
                        ]
                      ],
                      "sequentialminus": [
                        [
                          0,
                          "#0d0887"
                        ],
                        [
                          0.1111111111111111,
                          "#46039f"
                        ],
                        [
                          0.2222222222222222,
                          "#7201a8"
                        ],
                        [
                          0.3333333333333333,
                          "#9c179e"
                        ],
                        [
                          0.4444444444444444,
                          "#bd3786"
                        ],
                        [
                          0.5555555555555556,
                          "#d8576b"
                        ],
                        [
                          0.6666666666666666,
                          "#ed7953"
                        ],
                        [
                          0.7777777777777778,
                          "#fb9f3a"
                        ],
                        [
                          0.8888888888888888,
                          "#fdca26"
                        ],
                        [
                          1,
                          "#f0f921"
                        ]
                      ]
                    },
                    "colorway": [
                      "#636efa",
                      "#EF553B",
                      "#00cc96",
                      "#ab63fa",
                      "#FFA15A",
                      "#19d3f3",
                      "#FF6692",
                      "#B6E880",
                      "#FF97FF",
                      "#FECB52"
                    ],
                    "font": {
                      "color": "#2a3f5f"
                    },
                    "geo": {
                      "bgcolor": "white",
                      "lakecolor": "white",
                      "landcolor": "#E5ECF6",
                      "showlakes": true,
                      "showland": true,
                      "subunitcolor": "white"
                    },
                    "hoverlabel": {
                      "align": "left"
                    },
                    "hovermode": "closest",
                    "mapbox": {
                      "style": "light"
                    },
                    "paper_bgcolor": "white",
                    "plot_bgcolor": "#E5ECF6",
                    "polar": {
                      "angularaxis": {
                        "gridcolor": "white",
                        "linecolor": "white",
                        "ticks": ""
                      },
                      "bgcolor": "#E5ECF6",
                      "radialaxis": {
                        "gridcolor": "white",
                        "linecolor": "white",
                        "ticks": ""
                      }
                    },
                    "scene": {
                      "xaxis": {
                        "backgroundcolor": "#E5ECF6",
                        "gridcolor": "white",
                        "gridwidth": 2,
                        "linecolor": "white",
                        "showbackground": true,
                        "ticks": "",
                        "zerolinecolor": "white"
                      },
                      "yaxis": {
                        "backgroundcolor": "#E5ECF6",
                        "gridcolor": "white",
                        "gridwidth": 2,
                        "linecolor": "white",
                        "showbackground": true,
                        "ticks": "",
                        "zerolinecolor": "white"
                      },
                      "zaxis": {
                        "backgroundcolor": "#E5ECF6",
                        "gridcolor": "white",
                        "gridwidth": 2,
                        "linecolor": "white",
                        "showbackground": true,
                        "ticks": "",
                        "zerolinecolor": "white"
                      }
                    },
                    "shapedefaults": {
                      "line": {
                        "color": "#2a3f5f"
                      }
                    },
                    "ternary": {
                      "aaxis": {
                        "gridcolor": "white",
                        "linecolor": "white",
                        "ticks": ""
                      },
                      "baxis": {
                        "gridcolor": "white",
                        "linecolor": "white",
                        "ticks": ""
                      },
                      "bgcolor": "#E5ECF6",
                      "caxis": {
                        "gridcolor": "white",
                        "linecolor": "white",
                        "ticks": ""
                      }
                    },
                    "title": {
                      "x": 0.05
                    },
                    "xaxis": {
                      "automargin": true,
                      "gridcolor": "white",
                      "linecolor": "white",
                      "ticks": "",
                      "title": {
                        "standoff": 15
                      },
                      "zerolinecolor": "white",
                      "zerolinewidth": 2
                    },
                    "yaxis": {
                      "automargin": true,
                      "gridcolor": "white",
                      "linecolor": "white",
                      "ticks": "",
                      "title": {
                        "standoff": 15
                      },
                      "zerolinecolor": "white",
                      "zerolinewidth": 2
                    }
                  }
                },
                "xaxis": {
                  "title": {
                    "text": "State"
                  }
                },
                "yaxis": {
                  "range": [
                    0,
                    100
                  ],
                  "title": {
                    "text": "High School Graduation Rate %"
                  }
                }
              }
            }
          },
          "metadata": {},
          "output_type": "display_data"
        }
      ],
      "source": [
        "fig = go.Figure()\n",
        "fig.add_trace(go.Bar(x=avg_grad_rate['Geographic Area'], \n",
        "                     y=avg_grad_rate.Avg_HS_Rate,\n",
        "                     hovertemplate=\"<br>State=%{x}<br>HS Grad Rate=%{y}%<extra></extra>\"))\n",
        "fig.update_layout(legend_title_text = \"Poverty Rate in each US State\")\n",
        "fig.update_xaxes(title_text=\"State\")\n",
        "fig.update_yaxes(title_text=\"High School Graduation Rate %\", range=[0, 100]\n",
        ")\n",
        "fig.show()"
      ]
    },
    {
      "cell_type": "markdown",
      "metadata": {
        "id": "ENGTEmPQ0Rvt"
      },
      "source": [
        "# Visualise the Relationship between Poverty Rates and High School Graduation Rates\n",
        "\n",
        "#### Create a line chart with two y-axes to show if the rations of poverty and high school graduation move together.  "
      ]
    },
    {
      "cell_type": "code",
      "execution_count": 221,
      "metadata": {
        "id": "MkNk5U8v0JPB"
      },
      "outputs": [],
      "source": [
        "poverty_grad = poverty_rate\n",
        "poverty_grad['Grad_Rate'] = avg_grad_rate['Avg_HS_Rate']"
      ]
    },
    {
      "cell_type": "code",
      "execution_count": 218,
      "metadata": {
        "id": "urRMqQG_0Nmo"
      },
      "outputs": [
        {
          "data": {
            "application/vnd.plotly.v1+json": {
              "config": {
                "plotlyServerURL": "https://plot.ly"
              },
              "data": [
                {
                  "hovertemplate": "<br>State=%{x}<br>Povery Rate=%{y}%<extra></extra>",
                  "line": {
                    "color": "orangered",
                    "width": 2
                  },
                  "name": "Poverty Rate",
                  "type": "scatter",
                  "x": [
                    "AK",
                    "AL",
                    "AR",
                    "AZ",
                    "CA",
                    "CO",
                    "CT",
                    "DC",
                    "DE",
                    "FL",
                    "GA",
                    "HI",
                    "IA",
                    "ID",
                    "IL",
                    "IN",
                    "KS",
                    "KY",
                    "LA",
                    "MA",
                    "MD",
                    "ME",
                    "MI",
                    "MN",
                    "MO",
                    "MS",
                    "MT",
                    "NC",
                    "ND",
                    "NE",
                    "NH",
                    "NJ",
                    "NM",
                    "NV",
                    "NY",
                    "OH",
                    "OK",
                    "OR",
                    "PA",
                    "RI",
                    "SC",
                    "SD",
                    "TN",
                    "TX",
                    "UT",
                    "VA",
                    "VT",
                    "WA",
                    "WI",
                    "WV",
                    "WY"
                  ],
                  "y": [
                    18.68,
                    20.61,
                    22.96,
                    25.27,
                    16.89,
                    13.19,
                    9.14,
                    18,
                    12.56,
                    17.51,
                    23.66,
                    13.4,
                    12.23,
                    18.08,
                    13.85,
                    15.5,
                    14.72,
                    20.08,
                    22.29,
                    9.55,
                    10.27,
                    16.89,
                    17.9,
                    13.75,
                    19.93,
                    26.88,
                    16.42,
                    19.72,
                    12.13,
                    12.92,
                    12.66,
                    8.16,
                    22.51,
                    12.37,
                    11.64,
                    14.83,
                    20.55,
                    16.44,
                    12.49,
                    10.37,
                    22.11,
                    15.75,
                    19.89,
                    19.5,
                    11.72,
                    14.59,
                    13.79,
                    14.83,
                    12.86,
                    21.08,
                    9.06
                  ]
                },
                {
                  "hovertemplate": "<br>State=%{x}<br>HS Grad Rate=%{y}%<extra></extra>",
                  "line": {
                    "color": "seagreen",
                    "dash": "dot",
                    "width": 2
                  },
                  "name": "HS Graduation Rate",
                  "type": "scatter",
                  "x": [
                    "AK",
                    "AL",
                    "AR",
                    "AZ",
                    "CA",
                    "CO",
                    "CT",
                    "DC",
                    "DE",
                    "FL",
                    "GA",
                    "HI",
                    "IA",
                    "ID",
                    "IL",
                    "IN",
                    "KS",
                    "KY",
                    "LA",
                    "MA",
                    "MD",
                    "ME",
                    "MI",
                    "MN",
                    "MO",
                    "MS",
                    "MT",
                    "NC",
                    "ND",
                    "NE",
                    "NH",
                    "NJ",
                    "NM",
                    "NV",
                    "NY",
                    "OH",
                    "OK",
                    "OR",
                    "PA",
                    "RI",
                    "SC",
                    "SD",
                    "TN",
                    "TX",
                    "UT",
                    "VA",
                    "VT",
                    "WA",
                    "WI",
                    "WV",
                    "WY"
                  ],
                  "y": [
                    80.1,
                    80.16,
                    79.95,
                    79.22,
                    80.82,
                    88.93,
                    91.59,
                    89.3,
                    88.52,
                    85.46,
                    78.63,
                    91.67,
                    89.67,
                    84.42,
                    88.29,
                    86.32,
                    87.97,
                    82.22,
                    79.12,
                    92.03,
                    88.08,
                    91.43,
                    89.21,
                    89.47,
                    82.79,
                    78.47,
                    89.99,
                    83.14,
                    87.6,
                    89.52,
                    90.71,
                    90.52,
                    78.97,
                    87.05,
                    90.54,
                    88.2,
                    82.46,
                    87.6,
                    88.97,
                    88.82,
                    80.65,
                    86.18,
                    81.63,
                    74.09,
                    89.64,
                    84.88,
                    89.98,
                    87.07,
                    90.26,
                    82.14,
                    83.97
                  ]
                }
              ],
              "layout": {
                "legend": {
                  "title": {
                    "text": "Poverty Rate in each US State"
                  }
                },
                "template": {
                  "data": {
                    "bar": [
                      {
                        "error_x": {
                          "color": "#2a3f5f"
                        },
                        "error_y": {
                          "color": "#2a3f5f"
                        },
                        "marker": {
                          "line": {
                            "color": "#E5ECF6",
                            "width": 0.5
                          },
                          "pattern": {
                            "fillmode": "overlay",
                            "size": 10,
                            "solidity": 0.2
                          }
                        },
                        "type": "bar"
                      }
                    ],
                    "barpolar": [
                      {
                        "marker": {
                          "line": {
                            "color": "#E5ECF6",
                            "width": 0.5
                          },
                          "pattern": {
                            "fillmode": "overlay",
                            "size": 10,
                            "solidity": 0.2
                          }
                        },
                        "type": "barpolar"
                      }
                    ],
                    "carpet": [
                      {
                        "aaxis": {
                          "endlinecolor": "#2a3f5f",
                          "gridcolor": "white",
                          "linecolor": "white",
                          "minorgridcolor": "white",
                          "startlinecolor": "#2a3f5f"
                        },
                        "baxis": {
                          "endlinecolor": "#2a3f5f",
                          "gridcolor": "white",
                          "linecolor": "white",
                          "minorgridcolor": "white",
                          "startlinecolor": "#2a3f5f"
                        },
                        "type": "carpet"
                      }
                    ],
                    "choropleth": [
                      {
                        "colorbar": {
                          "outlinewidth": 0,
                          "ticks": ""
                        },
                        "type": "choropleth"
                      }
                    ],
                    "contour": [
                      {
                        "colorbar": {
                          "outlinewidth": 0,
                          "ticks": ""
                        },
                        "colorscale": [
                          [
                            0,
                            "#0d0887"
                          ],
                          [
                            0.1111111111111111,
                            "#46039f"
                          ],
                          [
                            0.2222222222222222,
                            "#7201a8"
                          ],
                          [
                            0.3333333333333333,
                            "#9c179e"
                          ],
                          [
                            0.4444444444444444,
                            "#bd3786"
                          ],
                          [
                            0.5555555555555556,
                            "#d8576b"
                          ],
                          [
                            0.6666666666666666,
                            "#ed7953"
                          ],
                          [
                            0.7777777777777778,
                            "#fb9f3a"
                          ],
                          [
                            0.8888888888888888,
                            "#fdca26"
                          ],
                          [
                            1,
                            "#f0f921"
                          ]
                        ],
                        "type": "contour"
                      }
                    ],
                    "contourcarpet": [
                      {
                        "colorbar": {
                          "outlinewidth": 0,
                          "ticks": ""
                        },
                        "type": "contourcarpet"
                      }
                    ],
                    "heatmap": [
                      {
                        "colorbar": {
                          "outlinewidth": 0,
                          "ticks": ""
                        },
                        "colorscale": [
                          [
                            0,
                            "#0d0887"
                          ],
                          [
                            0.1111111111111111,
                            "#46039f"
                          ],
                          [
                            0.2222222222222222,
                            "#7201a8"
                          ],
                          [
                            0.3333333333333333,
                            "#9c179e"
                          ],
                          [
                            0.4444444444444444,
                            "#bd3786"
                          ],
                          [
                            0.5555555555555556,
                            "#d8576b"
                          ],
                          [
                            0.6666666666666666,
                            "#ed7953"
                          ],
                          [
                            0.7777777777777778,
                            "#fb9f3a"
                          ],
                          [
                            0.8888888888888888,
                            "#fdca26"
                          ],
                          [
                            1,
                            "#f0f921"
                          ]
                        ],
                        "type": "heatmap"
                      }
                    ],
                    "heatmapgl": [
                      {
                        "colorbar": {
                          "outlinewidth": 0,
                          "ticks": ""
                        },
                        "colorscale": [
                          [
                            0,
                            "#0d0887"
                          ],
                          [
                            0.1111111111111111,
                            "#46039f"
                          ],
                          [
                            0.2222222222222222,
                            "#7201a8"
                          ],
                          [
                            0.3333333333333333,
                            "#9c179e"
                          ],
                          [
                            0.4444444444444444,
                            "#bd3786"
                          ],
                          [
                            0.5555555555555556,
                            "#d8576b"
                          ],
                          [
                            0.6666666666666666,
                            "#ed7953"
                          ],
                          [
                            0.7777777777777778,
                            "#fb9f3a"
                          ],
                          [
                            0.8888888888888888,
                            "#fdca26"
                          ],
                          [
                            1,
                            "#f0f921"
                          ]
                        ],
                        "type": "heatmapgl"
                      }
                    ],
                    "histogram": [
                      {
                        "marker": {
                          "pattern": {
                            "fillmode": "overlay",
                            "size": 10,
                            "solidity": 0.2
                          }
                        },
                        "type": "histogram"
                      }
                    ],
                    "histogram2d": [
                      {
                        "colorbar": {
                          "outlinewidth": 0,
                          "ticks": ""
                        },
                        "colorscale": [
                          [
                            0,
                            "#0d0887"
                          ],
                          [
                            0.1111111111111111,
                            "#46039f"
                          ],
                          [
                            0.2222222222222222,
                            "#7201a8"
                          ],
                          [
                            0.3333333333333333,
                            "#9c179e"
                          ],
                          [
                            0.4444444444444444,
                            "#bd3786"
                          ],
                          [
                            0.5555555555555556,
                            "#d8576b"
                          ],
                          [
                            0.6666666666666666,
                            "#ed7953"
                          ],
                          [
                            0.7777777777777778,
                            "#fb9f3a"
                          ],
                          [
                            0.8888888888888888,
                            "#fdca26"
                          ],
                          [
                            1,
                            "#f0f921"
                          ]
                        ],
                        "type": "histogram2d"
                      }
                    ],
                    "histogram2dcontour": [
                      {
                        "colorbar": {
                          "outlinewidth": 0,
                          "ticks": ""
                        },
                        "colorscale": [
                          [
                            0,
                            "#0d0887"
                          ],
                          [
                            0.1111111111111111,
                            "#46039f"
                          ],
                          [
                            0.2222222222222222,
                            "#7201a8"
                          ],
                          [
                            0.3333333333333333,
                            "#9c179e"
                          ],
                          [
                            0.4444444444444444,
                            "#bd3786"
                          ],
                          [
                            0.5555555555555556,
                            "#d8576b"
                          ],
                          [
                            0.6666666666666666,
                            "#ed7953"
                          ],
                          [
                            0.7777777777777778,
                            "#fb9f3a"
                          ],
                          [
                            0.8888888888888888,
                            "#fdca26"
                          ],
                          [
                            1,
                            "#f0f921"
                          ]
                        ],
                        "type": "histogram2dcontour"
                      }
                    ],
                    "mesh3d": [
                      {
                        "colorbar": {
                          "outlinewidth": 0,
                          "ticks": ""
                        },
                        "type": "mesh3d"
                      }
                    ],
                    "parcoords": [
                      {
                        "line": {
                          "colorbar": {
                            "outlinewidth": 0,
                            "ticks": ""
                          }
                        },
                        "type": "parcoords"
                      }
                    ],
                    "pie": [
                      {
                        "automargin": true,
                        "type": "pie"
                      }
                    ],
                    "scatter": [
                      {
                        "fillpattern": {
                          "fillmode": "overlay",
                          "size": 10,
                          "solidity": 0.2
                        },
                        "type": "scatter"
                      }
                    ],
                    "scatter3d": [
                      {
                        "line": {
                          "colorbar": {
                            "outlinewidth": 0,
                            "ticks": ""
                          }
                        },
                        "marker": {
                          "colorbar": {
                            "outlinewidth": 0,
                            "ticks": ""
                          }
                        },
                        "type": "scatter3d"
                      }
                    ],
                    "scattercarpet": [
                      {
                        "marker": {
                          "colorbar": {
                            "outlinewidth": 0,
                            "ticks": ""
                          }
                        },
                        "type": "scattercarpet"
                      }
                    ],
                    "scattergeo": [
                      {
                        "marker": {
                          "colorbar": {
                            "outlinewidth": 0,
                            "ticks": ""
                          }
                        },
                        "type": "scattergeo"
                      }
                    ],
                    "scattergl": [
                      {
                        "marker": {
                          "colorbar": {
                            "outlinewidth": 0,
                            "ticks": ""
                          }
                        },
                        "type": "scattergl"
                      }
                    ],
                    "scattermapbox": [
                      {
                        "marker": {
                          "colorbar": {
                            "outlinewidth": 0,
                            "ticks": ""
                          }
                        },
                        "type": "scattermapbox"
                      }
                    ],
                    "scatterpolar": [
                      {
                        "marker": {
                          "colorbar": {
                            "outlinewidth": 0,
                            "ticks": ""
                          }
                        },
                        "type": "scatterpolar"
                      }
                    ],
                    "scatterpolargl": [
                      {
                        "marker": {
                          "colorbar": {
                            "outlinewidth": 0,
                            "ticks": ""
                          }
                        },
                        "type": "scatterpolargl"
                      }
                    ],
                    "scatterternary": [
                      {
                        "marker": {
                          "colorbar": {
                            "outlinewidth": 0,
                            "ticks": ""
                          }
                        },
                        "type": "scatterternary"
                      }
                    ],
                    "surface": [
                      {
                        "colorbar": {
                          "outlinewidth": 0,
                          "ticks": ""
                        },
                        "colorscale": [
                          [
                            0,
                            "#0d0887"
                          ],
                          [
                            0.1111111111111111,
                            "#46039f"
                          ],
                          [
                            0.2222222222222222,
                            "#7201a8"
                          ],
                          [
                            0.3333333333333333,
                            "#9c179e"
                          ],
                          [
                            0.4444444444444444,
                            "#bd3786"
                          ],
                          [
                            0.5555555555555556,
                            "#d8576b"
                          ],
                          [
                            0.6666666666666666,
                            "#ed7953"
                          ],
                          [
                            0.7777777777777778,
                            "#fb9f3a"
                          ],
                          [
                            0.8888888888888888,
                            "#fdca26"
                          ],
                          [
                            1,
                            "#f0f921"
                          ]
                        ],
                        "type": "surface"
                      }
                    ],
                    "table": [
                      {
                        "cells": {
                          "fill": {
                            "color": "#EBF0F8"
                          },
                          "line": {
                            "color": "white"
                          }
                        },
                        "header": {
                          "fill": {
                            "color": "#C8D4E3"
                          },
                          "line": {
                            "color": "white"
                          }
                        },
                        "type": "table"
                      }
                    ]
                  },
                  "layout": {
                    "annotationdefaults": {
                      "arrowcolor": "#2a3f5f",
                      "arrowhead": 0,
                      "arrowwidth": 1
                    },
                    "autotypenumbers": "strict",
                    "coloraxis": {
                      "colorbar": {
                        "outlinewidth": 0,
                        "ticks": ""
                      }
                    },
                    "colorscale": {
                      "diverging": [
                        [
                          0,
                          "#8e0152"
                        ],
                        [
                          0.1,
                          "#c51b7d"
                        ],
                        [
                          0.2,
                          "#de77ae"
                        ],
                        [
                          0.3,
                          "#f1b6da"
                        ],
                        [
                          0.4,
                          "#fde0ef"
                        ],
                        [
                          0.5,
                          "#f7f7f7"
                        ],
                        [
                          0.6,
                          "#e6f5d0"
                        ],
                        [
                          0.7,
                          "#b8e186"
                        ],
                        [
                          0.8,
                          "#7fbc41"
                        ],
                        [
                          0.9,
                          "#4d9221"
                        ],
                        [
                          1,
                          "#276419"
                        ]
                      ],
                      "sequential": [
                        [
                          0,
                          "#0d0887"
                        ],
                        [
                          0.1111111111111111,
                          "#46039f"
                        ],
                        [
                          0.2222222222222222,
                          "#7201a8"
                        ],
                        [
                          0.3333333333333333,
                          "#9c179e"
                        ],
                        [
                          0.4444444444444444,
                          "#bd3786"
                        ],
                        [
                          0.5555555555555556,
                          "#d8576b"
                        ],
                        [
                          0.6666666666666666,
                          "#ed7953"
                        ],
                        [
                          0.7777777777777778,
                          "#fb9f3a"
                        ],
                        [
                          0.8888888888888888,
                          "#fdca26"
                        ],
                        [
                          1,
                          "#f0f921"
                        ]
                      ],
                      "sequentialminus": [
                        [
                          0,
                          "#0d0887"
                        ],
                        [
                          0.1111111111111111,
                          "#46039f"
                        ],
                        [
                          0.2222222222222222,
                          "#7201a8"
                        ],
                        [
                          0.3333333333333333,
                          "#9c179e"
                        ],
                        [
                          0.4444444444444444,
                          "#bd3786"
                        ],
                        [
                          0.5555555555555556,
                          "#d8576b"
                        ],
                        [
                          0.6666666666666666,
                          "#ed7953"
                        ],
                        [
                          0.7777777777777778,
                          "#fb9f3a"
                        ],
                        [
                          0.8888888888888888,
                          "#fdca26"
                        ],
                        [
                          1,
                          "#f0f921"
                        ]
                      ]
                    },
                    "colorway": [
                      "#636efa",
                      "#EF553B",
                      "#00cc96",
                      "#ab63fa",
                      "#FFA15A",
                      "#19d3f3",
                      "#FF6692",
                      "#B6E880",
                      "#FF97FF",
                      "#FECB52"
                    ],
                    "font": {
                      "color": "#2a3f5f"
                    },
                    "geo": {
                      "bgcolor": "white",
                      "lakecolor": "white",
                      "landcolor": "#E5ECF6",
                      "showlakes": true,
                      "showland": true,
                      "subunitcolor": "white"
                    },
                    "hoverlabel": {
                      "align": "left"
                    },
                    "hovermode": "closest",
                    "mapbox": {
                      "style": "light"
                    },
                    "paper_bgcolor": "white",
                    "plot_bgcolor": "#E5ECF6",
                    "polar": {
                      "angularaxis": {
                        "gridcolor": "white",
                        "linecolor": "white",
                        "ticks": ""
                      },
                      "bgcolor": "#E5ECF6",
                      "radialaxis": {
                        "gridcolor": "white",
                        "linecolor": "white",
                        "ticks": ""
                      }
                    },
                    "scene": {
                      "xaxis": {
                        "backgroundcolor": "#E5ECF6",
                        "gridcolor": "white",
                        "gridwidth": 2,
                        "linecolor": "white",
                        "showbackground": true,
                        "ticks": "",
                        "zerolinecolor": "white"
                      },
                      "yaxis": {
                        "backgroundcolor": "#E5ECF6",
                        "gridcolor": "white",
                        "gridwidth": 2,
                        "linecolor": "white",
                        "showbackground": true,
                        "ticks": "",
                        "zerolinecolor": "white"
                      },
                      "zaxis": {
                        "backgroundcolor": "#E5ECF6",
                        "gridcolor": "white",
                        "gridwidth": 2,
                        "linecolor": "white",
                        "showbackground": true,
                        "ticks": "",
                        "zerolinecolor": "white"
                      }
                    },
                    "shapedefaults": {
                      "line": {
                        "color": "#2a3f5f"
                      }
                    },
                    "ternary": {
                      "aaxis": {
                        "gridcolor": "white",
                        "linecolor": "white",
                        "ticks": ""
                      },
                      "baxis": {
                        "gridcolor": "white",
                        "linecolor": "white",
                        "ticks": ""
                      },
                      "bgcolor": "#E5ECF6",
                      "caxis": {
                        "gridcolor": "white",
                        "linecolor": "white",
                        "ticks": ""
                      }
                    },
                    "title": {
                      "x": 0.05
                    },
                    "xaxis": {
                      "automargin": true,
                      "gridcolor": "white",
                      "linecolor": "white",
                      "ticks": "",
                      "title": {
                        "standoff": 15
                      },
                      "zerolinecolor": "white",
                      "zerolinewidth": 2
                    },
                    "yaxis": {
                      "automargin": true,
                      "gridcolor": "white",
                      "linecolor": "white",
                      "ticks": "",
                      "title": {
                        "standoff": 15
                      },
                      "zerolinecolor": "white",
                      "zerolinewidth": 2
                    }
                  }
                },
                "xaxis": {
                  "title": {
                    "text": "State"
                  }
                },
                "yaxis": {
                  "range": [
                    0,
                    100
                  ],
                  "title": {
                    "text": "% Rate"
                  }
                }
              }
            }
          },
          "metadata": {},
          "output_type": "display_data"
        }
      ],
      "source": [
        "fig = go.Figure()\n",
        "fig.add_trace(go.Scatter(x=poverty_grad['Geographic Area'], \n",
        "                     y=poverty_grad.Mean_Poverty_Rate,\n",
        "                     hovertemplate=\"<br>State=%{x}<br>Povery Rate=%{y}%<extra></extra>\",\n",
        "                     name='Poverty Rate',\n",
        "                     line=dict(color='orangered', width=2)))\n",
        "fig.add_trace(go.Scatter(x=poverty_grad['Geographic Area'], \n",
        "                     y=poverty_grad.Grad_Rate,\n",
        "                     hovertemplate=\"<br>State=%{x}<br>HS Grad Rate=%{y}%<extra></extra>\",\n",
        "                     name='HS Graduation Rate',\n",
        "                     line=dict(color='seagreen', width=2, dash='dot')))\n",
        "fig.update_layout(legend_title_text = \"Poverty Rate in each US State\")\n",
        "fig.update_xaxes(title_text=\"State\")\n",
        "fig.update_yaxes(title_text=\"% Rate\", range=[0, 100])\n",
        "\n",
        "fig.show()"
      ]
    },
    {
      "cell_type": "markdown",
      "metadata": {
        "id": "Zavx_8PL1Jy9"
      },
      "source": [
        "#### Now use a Seaborn .jointplot() with a Kernel Density Estimate (KDE) and/or scatter plot to visualise the same relationship"
      ]
    },
    {
      "cell_type": "code",
      "execution_count": 231,
      "metadata": {
        "id": "u77CHfdX0pjW"
      },
      "outputs": [
        {
          "data": {
            "text/plain": [
              "<seaborn.axisgrid.JointGrid at 0x24a930aceb0>"
            ]
          },
          "execution_count": 231,
          "metadata": {},
          "output_type": "execute_result"
        },
        {
          "data": {
            "image/png": "[encoded data removed]",
            "text/plain": [
              "<Figure size 600x600 with 3 Axes>"
            ]
          },
          "metadata": {},
          "output_type": "display_data"
        }
      ],
      "source": [
        "pov_grad_plot = sns.jointplot(data=poverty_grad,\n",
        "    x='grad_rate',\n",
        "    y='Mean_Poverty_Rate',\n",
        "    color='crimson',\n",
        "    kind='kde',\n",
        ")\n",
        "pov_grad_plot.set_axis_labels('% Highschool Grad Rate',\n",
        "       '% Poverty Rate')"
      ]
    },
    {
      "cell_type": "code",
      "execution_count": 228,
      "metadata": {
        "id": "CYy89o-u1zu0"
      },
      "outputs": [
        {
          "data": {
            "text/plain": [
              "<seaborn.axisgrid.FacetGrid at 0x24a8e7651e0>"
            ]
          },
          "execution_count": 228,
          "metadata": {},
          "output_type": "execute_result"
        },
        {
          "data": {
            "image/png": "[encoded data removed]",
            "text/plain": [
              "<Figure size 500x500 with 1 Axes>"
            ]
          },
          "metadata": {},
          "output_type": "display_data"
        }
      ],
      "source": [
        "pov_grad_plot = sns.lmplot(data=poverty_grad,\n",
        "    x='grad_rate',\n",
        "    y='Mean_Poverty_Rate',\n",
        ")\n",
        "pov_grad_plot.set_axis_labels('% Highschool Grad Rate',\n",
        "       '% Poverty Rate')"
      ]
    },
    {
      "cell_type": "markdown",
      "metadata": {
        "id": "PXNFQmHl10Fx"
      },
      "source": [
        "#### Seaborn's `.lmplot()` or `.regplot()` to show a linear regression between the poverty ratio and the high school graduation ratio. "
      ]
    },
    {
      "cell_type": "markdown",
      "metadata": {
        "id": "QJTbZZKg0p6i"
      },
      "source": [
        "# Create a Bar Chart with Subsections Showing the Racial Makeup of Each US State\n",
        "\n",
        "Visualise the share of the white, black, hispanic, asian and native american population in each US State using a bar chart with sub sections. "
      ]
    },
    {
      "cell_type": "code",
      "execution_count": 701,
      "metadata": {
        "id": "YQbXb6Ex09D9"
      },
      "outputs": [
        {
          "name": "stderr",
          "output_type": "stream",
          "text": [
            "C:\\Users\\joshu\\AppData\\Local\\Temp\\ipykernel_12340\\1477631529.py:2: FutureWarning:\n",
            "\n",
            "The default value of numeric_only in DataFrameGroupBy.mean is deprecated. In a future version, numeric_only will default to False. Either specify numeric_only or select only columns which should be valid for the function.\n",
            "\n"
          ]
        },
        {
          "data": {
            "text/html": [
              "<div>\n",
              "<style scoped>\n",
              "    .dataframe tbody tr th:only-of-type {\n",
              "        vertical-align: middle;\n",
              "    }\n",
              "\n",
              "    .dataframe tbody tr th {\n",
              "        vertical-align: top;\n",
              "    }\n",
              "\n",
              "    .dataframe thead th {\n",
              "        text-align: right;\n",
              "    }\n",
              "</style>\n",
              "<table border=\"1\" class=\"dataframe\">\n",
              "  <thead>\n",
              "    <tr style=\"text-align: right;\">\n",
              "      <th></th>\n",
              "      <th>Geographic area</th>\n",
              "      <th>share_white</th>\n",
              "      <th>share_black</th>\n",
              "      <th>share_native_american</th>\n",
              "      <th>share_asian</th>\n",
              "      <th>share_hispanic</th>\n",
              "    </tr>\n",
              "  </thead>\n",
              "  <tbody>\n",
              "    <tr>\n",
              "      <th>0</th>\n",
              "      <td>AK</td>\n",
              "      <td>45.26</td>\n",
              "      <td>0.56</td>\n",
              "      <td>45.48</td>\n",
              "      <td>1.38</td>\n",
              "      <td>2.13</td>\n",
              "    </tr>\n",
              "    <tr>\n",
              "      <th>1</th>\n",
              "      <td>AL</td>\n",
              "      <td>72.51</td>\n",
              "      <td>23.32</td>\n",
              "      <td>0.66</td>\n",
              "      <td>0.48</td>\n",
              "      <td>2.98</td>\n",
              "    </tr>\n",
              "    <tr>\n",
              "      <th>2</th>\n",
              "      <td>AR</td>\n",
              "      <td>78.45</td>\n",
              "      <td>16.30</td>\n",
              "      <td>0.76</td>\n",
              "      <td>0.48</td>\n",
              "      <td>4.27</td>\n",
              "    </tr>\n",
              "    <tr>\n",
              "      <th>3</th>\n",
              "      <td>AZ</td>\n",
              "      <td>59.93</td>\n",
              "      <td>0.95</td>\n",
              "      <td>28.59</td>\n",
              "      <td>0.73</td>\n",
              "      <td>20.14</td>\n",
              "    </tr>\n",
              "    <tr>\n",
              "      <th>4</th>\n",
              "      <td>CA</td>\n",
              "      <td>71.54</td>\n",
              "      <td>2.68</td>\n",
              "      <td>1.72</td>\n",
              "      <td>5.54</td>\n",
              "      <td>29.51</td>\n",
              "    </tr>\n",
              "    <tr>\n",
              "      <th>5</th>\n",
              "      <td>CO</td>\n",
              "      <td>87.77</td>\n",
              "      <td>0.92</td>\n",
              "      <td>1.62</td>\n",
              "      <td>1.15</td>\n",
              "      <td>17.90</td>\n",
              "    </tr>\n",
              "    <tr>\n",
              "      <th>6</th>\n",
              "      <td>CT</td>\n",
              "      <td>86.11</td>\n",
              "      <td>4.99</td>\n",
              "      <td>0.66</td>\n",
              "      <td>2.99</td>\n",
              "      <td>7.98</td>\n",
              "    </tr>\n",
              "    <tr>\n",
              "      <th>7</th>\n",
              "      <td>DC</td>\n",
              "      <td>38.50</td>\n",
              "      <td>50.70</td>\n",
              "      <td>0.30</td>\n",
              "      <td>3.50</td>\n",
              "      <td>9.10</td>\n",
              "    </tr>\n",
              "    <tr>\n",
              "      <th>8</th>\n",
              "      <td>DE</td>\n",
              "      <td>76.25</td>\n",
              "      <td>15.39</td>\n",
              "      <td>0.52</td>\n",
              "      <td>2.00</td>\n",
              "      <td>7.42</td>\n",
              "    </tr>\n",
              "    <tr>\n",
              "      <th>9</th>\n",
              "      <td>FL</td>\n",
              "      <td>78.67</td>\n",
              "      <td>13.37</td>\n",
              "      <td>0.46</td>\n",
              "      <td>1.62</td>\n",
              "      <td>16.53</td>\n",
              "    </tr>\n",
              "    <tr>\n",
              "      <th>10</th>\n",
              "      <td>GA</td>\n",
              "      <td>62.59</td>\n",
              "      <td>30.63</td>\n",
              "      <td>0.30</td>\n",
              "      <td>1.49</td>\n",
              "      <td>6.42</td>\n",
              "    </tr>\n",
              "    <tr>\n",
              "      <th>11</th>\n",
              "      <td>HI</td>\n",
              "      <td>33.37</td>\n",
              "      <td>1.07</td>\n",
              "      <td>0.39</td>\n",
              "      <td>25.65</td>\n",
              "      <td>10.36</td>\n",
              "    </tr>\n",
              "    <tr>\n",
              "      <th>12</th>\n",
              "      <td>IA</td>\n",
              "      <td>96.71</td>\n",
              "      <td>0.56</td>\n",
              "      <td>0.27</td>\n",
              "      <td>0.40</td>\n",
              "      <td>2.82</td>\n",
              "    </tr>\n",
              "    <tr>\n",
              "      <th>13</th>\n",
              "      <td>ID</td>\n",
              "      <td>88.82</td>\n",
              "      <td>0.30</td>\n",
              "      <td>2.52</td>\n",
              "      <td>0.49</td>\n",
              "      <td>10.70</td>\n",
              "    </tr>\n",
              "    <tr>\n",
              "      <th>14</th>\n",
              "      <td>IL</td>\n",
              "      <td>90.36</td>\n",
              "      <td>4.70</td>\n",
              "      <td>0.26</td>\n",
              "      <td>1.34</td>\n",
              "      <td>5.17</td>\n",
              "    </tr>\n",
              "    <tr>\n",
              "      <th>15</th>\n",
              "      <td>IN</td>\n",
              "      <td>94.82</td>\n",
              "      <td>1.69</td>\n",
              "      <td>0.28</td>\n",
              "      <td>0.59</td>\n",
              "      <td>3.32</td>\n",
              "    </tr>\n",
              "    <tr>\n",
              "      <th>16</th>\n",
              "      <td>KS</td>\n",
              "      <td>92.96</td>\n",
              "      <td>0.96</td>\n",
              "      <td>1.87</td>\n",
              "      <td>0.43</td>\n",
              "      <td>5.07</td>\n",
              "    </tr>\n",
              "    <tr>\n",
              "      <th>17</th>\n",
              "      <td>KY</td>\n",
              "      <td>92.23</td>\n",
              "      <td>4.42</td>\n",
              "      <td>0.21</td>\n",
              "      <td>0.71</td>\n",
              "      <td>2.23</td>\n",
              "    </tr>\n",
              "    <tr>\n",
              "      <th>18</th>\n",
              "      <td>LA</td>\n",
              "      <td>64.81</td>\n",
              "      <td>30.78</td>\n",
              "      <td>0.96</td>\n",
              "      <td>0.79</td>\n",
              "      <td>2.98</td>\n",
              "    </tr>\n",
              "    <tr>\n",
              "      <th>19</th>\n",
              "      <td>MA</td>\n",
              "      <td>89.30</td>\n",
              "      <td>2.79</td>\n",
              "      <td>0.27</td>\n",
              "      <td>2.84</td>\n",
              "      <td>4.93</td>\n",
              "    </tr>\n",
              "    <tr>\n",
              "      <th>20</th>\n",
              "      <td>MD</td>\n",
              "      <td>72.12</td>\n",
              "      <td>19.46</td>\n",
              "      <td>0.34</td>\n",
              "      <td>2.98</td>\n",
              "      <td>5.93</td>\n",
              "    </tr>\n",
              "    <tr>\n",
              "      <th>21</th>\n",
              "      <td>ME</td>\n",
              "      <td>95.69</td>\n",
              "      <td>0.82</td>\n",
              "      <td>0.55</td>\n",
              "      <td>1.03</td>\n",
              "      <td>1.31</td>\n",
              "    </tr>\n",
              "    <tr>\n",
              "      <th>22</th>\n",
              "      <td>MI</td>\n",
              "      <td>90.67</td>\n",
              "      <td>4.12</td>\n",
              "      <td>1.08</td>\n",
              "      <td>0.95</td>\n",
              "      <td>3.54</td>\n",
              "    </tr>\n",
              "    <tr>\n",
              "      <th>23</th>\n",
              "      <td>MN</td>\n",
              "      <td>91.80</td>\n",
              "      <td>1.00</td>\n",
              "      <td>3.36</td>\n",
              "      <td>1.03</td>\n",
              "      <td>3.15</td>\n",
              "    </tr>\n",
              "    <tr>\n",
              "      <th>24</th>\n",
              "      <td>MO</td>\n",
              "      <td>90.18</td>\n",
              "      <td>5.86</td>\n",
              "      <td>0.54</td>\n",
              "      <td>0.55</td>\n",
              "      <td>2.36</td>\n",
              "    </tr>\n",
              "    <tr>\n",
              "      <th>25</th>\n",
              "      <td>MS</td>\n",
              "      <td>53.80</td>\n",
              "      <td>41.83</td>\n",
              "      <td>1.61</td>\n",
              "      <td>0.55</td>\n",
              "      <td>2.32</td>\n",
              "    </tr>\n",
              "    <tr>\n",
              "      <th>26</th>\n",
              "      <td>MT</td>\n",
              "      <td>84.48</td>\n",
              "      <td>0.23</td>\n",
              "      <td>11.87</td>\n",
              "      <td>0.32</td>\n",
              "      <td>2.19</td>\n",
              "    </tr>\n",
              "    <tr>\n",
              "      <th>27</th>\n",
              "      <td>NC</td>\n",
              "      <td>71.52</td>\n",
              "      <td>20.40</td>\n",
              "      <td>1.79</td>\n",
              "      <td>0.93</td>\n",
              "      <td>6.41</td>\n",
              "    </tr>\n",
              "    <tr>\n",
              "      <th>28</th>\n",
              "      <td>ND</td>\n",
              "      <td>92.29</td>\n",
              "      <td>0.36</td>\n",
              "      <td>5.33</td>\n",
              "      <td>0.29</td>\n",
              "      <td>1.82</td>\n",
              "    </tr>\n",
              "    <tr>\n",
              "      <th>29</th>\n",
              "      <td>NE</td>\n",
              "      <td>94.72</td>\n",
              "      <td>0.42</td>\n",
              "      <td>1.56</td>\n",
              "      <td>0.29</td>\n",
              "      <td>4.07</td>\n",
              "    </tr>\n",
              "    <tr>\n",
              "      <th>30</th>\n",
              "      <td>NH</td>\n",
              "      <td>95.68</td>\n",
              "      <td>0.72</td>\n",
              "      <td>0.29</td>\n",
              "      <td>1.34</td>\n",
              "      <td>1.74</td>\n",
              "    </tr>\n",
              "    <tr>\n",
              "      <th>31</th>\n",
              "      <td>NJ</td>\n",
              "      <td>80.89</td>\n",
              "      <td>6.98</td>\n",
              "      <td>0.26</td>\n",
              "      <td>5.94</td>\n",
              "      <td>11.12</td>\n",
              "    </tr>\n",
              "    <tr>\n",
              "      <th>32</th>\n",
              "      <td>NM</td>\n",
              "      <td>65.42</td>\n",
              "      <td>0.67</td>\n",
              "      <td>15.34</td>\n",
              "      <td>0.49</td>\n",
              "      <td>45.43</td>\n",
              "    </tr>\n",
              "    <tr>\n",
              "      <th>33</th>\n",
              "      <td>NV</td>\n",
              "      <td>82.33</td>\n",
              "      <td>1.57</td>\n",
              "      <td>5.58</td>\n",
              "      <td>2.01</td>\n",
              "      <td>13.17</td>\n",
              "    </tr>\n",
              "    <tr>\n",
              "      <th>34</th>\n",
              "      <td>NY</td>\n",
              "      <td>88.88</td>\n",
              "      <td>4.01</td>\n",
              "      <td>0.36</td>\n",
              "      <td>2.72</td>\n",
              "      <td>6.63</td>\n",
              "    </tr>\n",
              "    <tr>\n",
              "      <th>35</th>\n",
              "      <td>OH</td>\n",
              "      <td>92.80</td>\n",
              "      <td>3.96</td>\n",
              "      <td>0.22</td>\n",
              "      <td>0.75</td>\n",
              "      <td>2.13</td>\n",
              "    </tr>\n",
              "    <tr>\n",
              "      <th>36</th>\n",
              "      <td>OK</td>\n",
              "      <td>72.93</td>\n",
              "      <td>3.38</td>\n",
              "      <td>14.38</td>\n",
              "      <td>0.43</td>\n",
              "      <td>5.70</td>\n",
              "    </tr>\n",
              "    <tr>\n",
              "      <th>37</th>\n",
              "      <td>OR</td>\n",
              "      <td>87.39</td>\n",
              "      <td>0.53</td>\n",
              "      <td>2.58</td>\n",
              "      <td>1.38</td>\n",
              "      <td>9.75</td>\n",
              "    </tr>\n",
              "    <tr>\n",
              "      <th>38</th>\n",
              "      <td>PA</td>\n",
              "      <td>93.25</td>\n",
              "      <td>3.27</td>\n",
              "      <td>0.16</td>\n",
              "      <td>0.99</td>\n",
              "      <td>2.73</td>\n",
              "    </tr>\n",
              "    <tr>\n",
              "      <th>39</th>\n",
              "      <td>RI</td>\n",
              "      <td>89.23</td>\n",
              "      <td>2.99</td>\n",
              "      <td>0.67</td>\n",
              "      <td>1.69</td>\n",
              "      <td>6.67</td>\n",
              "    </tr>\n",
              "    <tr>\n",
              "      <th>40</th>\n",
              "      <td>SC</td>\n",
              "      <td>61.98</td>\n",
              "      <td>32.83</td>\n",
              "      <td>0.46</td>\n",
              "      <td>0.74</td>\n",
              "      <td>4.48</td>\n",
              "    </tr>\n",
              "    <tr>\n",
              "      <th>41</th>\n",
              "      <td>SD</td>\n",
              "      <td>84.82</td>\n",
              "      <td>0.29</td>\n",
              "      <td>12.03</td>\n",
              "      <td>0.32</td>\n",
              "      <td>2.04</td>\n",
              "    </tr>\n",
              "    <tr>\n",
              "      <th>42</th>\n",
              "      <td>TN</td>\n",
              "      <td>88.95</td>\n",
              "      <td>7.30</td>\n",
              "      <td>0.32</td>\n",
              "      <td>0.64</td>\n",
              "      <td>2.86</td>\n",
              "    </tr>\n",
              "    <tr>\n",
              "      <th>43</th>\n",
              "      <td>TX</td>\n",
              "      <td>82.40</td>\n",
              "      <td>5.87</td>\n",
              "      <td>0.66</td>\n",
              "      <td>1.01</td>\n",
              "      <td>39.27</td>\n",
              "    </tr>\n",
              "    <tr>\n",
              "      <th>44</th>\n",
              "      <td>UT</td>\n",
              "      <td>89.44</td>\n",
              "      <td>0.38</td>\n",
              "      <td>3.87</td>\n",
              "      <td>0.77</td>\n",
              "      <td>7.66</td>\n",
              "    </tr>\n",
              "    <tr>\n",
              "      <th>45</th>\n",
              "      <td>VA</td>\n",
              "      <td>74.60</td>\n",
              "      <td>16.51</td>\n",
              "      <td>0.34</td>\n",
              "      <td>3.67</td>\n",
              "      <td>6.15</td>\n",
              "    </tr>\n",
              "    <tr>\n",
              "      <th>46</th>\n",
              "      <td>VT</td>\n",
              "      <td>95.87</td>\n",
              "      <td>0.77</td>\n",
              "      <td>0.37</td>\n",
              "      <td>0.91</td>\n",
              "      <td>1.38</td>\n",
              "    </tr>\n",
              "    <tr>\n",
              "      <th>47</th>\n",
              "      <td>WA</td>\n",
              "      <td>82.38</td>\n",
              "      <td>1.43</td>\n",
              "      <td>3.75</td>\n",
              "      <td>3.07</td>\n",
              "      <td>10.61</td>\n",
              "    </tr>\n",
              "    <tr>\n",
              "      <th>48</th>\n",
              "      <td>WI</td>\n",
              "      <td>92.96</td>\n",
              "      <td>0.94</td>\n",
              "      <td>2.62</td>\n",
              "      <td>0.79</td>\n",
              "      <td>3.32</td>\n",
              "    </tr>\n",
              "    <tr>\n",
              "      <th>49</th>\n",
              "      <td>WV</td>\n",
              "      <td>95.04</td>\n",
              "      <td>2.92</td>\n",
              "      <td>0.20</td>\n",
              "      <td>0.34</td>\n",
              "      <td>0.90</td>\n",
              "    </tr>\n",
              "    <tr>\n",
              "      <th>50</th>\n",
              "      <td>WY</td>\n",
              "      <td>91.92</td>\n",
              "      <td>0.40</td>\n",
              "      <td>3.08</td>\n",
              "      <td>0.39</td>\n",
              "      <td>5.99</td>\n",
              "    </tr>\n",
              "  </tbody>\n",
              "</table>\n",
              "</div>"
            ],
            "text/plain": [
              "   Geographic area  share_white  share_black  share_native_american  \\\n",
              "0               AK        45.26         0.56                  45.48   \n",
              "1               AL        72.51        23.32                   0.66   \n",
              "2               AR        78.45        16.30                   0.76   \n",
              "3               AZ        59.93         0.95                  28.59   \n",
              "4               CA        71.54         2.68                   1.72   \n",
              "5               CO        87.77         0.92                   1.62   \n",
              "6               CT        86.11         4.99                   0.66   \n",
              "7               DC        38.50        50.70                   0.30   \n",
              "8               DE        76.25        15.39                   0.52   \n",
              "9               FL        78.67        13.37                   0.46   \n",
              "10              GA        62.59        30.63                   0.30   \n",
              "11              HI        33.37         1.07                   0.39   \n",
              "12              IA        96.71         0.56                   0.27   \n",
              "13              ID        88.82         0.30                   2.52   \n",
              "14              IL        90.36         4.70                   0.26   \n",
              "15              IN        94.82         1.69                   0.28   \n",
              "16              KS        92.96         0.96                   1.87   \n",
              "17              KY        92.23         4.42                   0.21   \n",
              "18              LA        64.81        30.78                   0.96   \n",
              "19              MA        89.30         2.79                   0.27   \n",
              "20              MD        72.12        19.46                   0.34   \n",
              "21              ME        95.69         0.82                   0.55   \n",
              "22              MI        90.67         4.12                   1.08   \n",
              "23              MN        91.80         1.00                   3.36   \n",
              "24              MO        90.18         5.86                   0.54   \n",
              "25              MS        53.80        41.83                   1.61   \n",
              "26              MT        84.48         0.23                  11.87   \n",
              "27              NC        71.52        20.40                   1.79   \n",
              "28              ND        92.29         0.36                   5.33   \n",
              "29              NE        94.72         0.42                   1.56   \n",
              "30              NH        95.68         0.72                   0.29   \n",
              "31              NJ        80.89         6.98                   0.26   \n",
              "32              NM        65.42         0.67                  15.34   \n",
              "33              NV        82.33         1.57                   5.58   \n",
              "34              NY        88.88         4.01                   0.36   \n",
              "35              OH        92.80         3.96                   0.22   \n",
              "36              OK        72.93         3.38                  14.38   \n",
              "37              OR        87.39         0.53                   2.58   \n",
              "38              PA        93.25         3.27                   0.16   \n",
              "39              RI        89.23         2.99                   0.67   \n",
              "40              SC        61.98        32.83                   0.46   \n",
              "41              SD        84.82         0.29                  12.03   \n",
              "42              TN        88.95         7.30                   0.32   \n",
              "43              TX        82.40         5.87                   0.66   \n",
              "44              UT        89.44         0.38                   3.87   \n",
              "45              VA        74.60        16.51                   0.34   \n",
              "46              VT        95.87         0.77                   0.37   \n",
              "47              WA        82.38         1.43                   3.75   \n",
              "48              WI        92.96         0.94                   2.62   \n",
              "49              WV        95.04         2.92                   0.20   \n",
              "50              WY        91.92         0.40                   3.08   \n",
              "\n",
              "    share_asian  share_hispanic  \n",
              "0          1.38            2.13  \n",
              "1          0.48            2.98  \n",
              "2          0.48            4.27  \n",
              "3          0.73           20.14  \n",
              "4          5.54           29.51  \n",
              "5          1.15           17.90  \n",
              "6          2.99            7.98  \n",
              "7          3.50            9.10  \n",
              "8          2.00            7.42  \n",
              "9          1.62           16.53  \n",
              "10         1.49            6.42  \n",
              "11        25.65           10.36  \n",
              "12         0.40            2.82  \n",
              "13         0.49           10.70  \n",
              "14         1.34            5.17  \n",
              "15         0.59            3.32  \n",
              "16         0.43            5.07  \n",
              "17         0.71            2.23  \n",
              "18         0.79            2.98  \n",
              "19         2.84            4.93  \n",
              "20         2.98            5.93  \n",
              "21         1.03            1.31  \n",
              "22         0.95            3.54  \n",
              "23         1.03            3.15  \n",
              "24         0.55            2.36  \n",
              "25         0.55            2.32  \n",
              "26         0.32            2.19  \n",
              "27         0.93            6.41  \n",
              "28         0.29            1.82  \n",
              "29         0.29            4.07  \n",
              "30         1.34            1.74  \n",
              "31         5.94           11.12  \n",
              "32         0.49           45.43  \n",
              "33         2.01           13.17  \n",
              "34         2.72            6.63  \n",
              "35         0.75            2.13  \n",
              "36         0.43            5.70  \n",
              "37         1.38            9.75  \n",
              "38         0.99            2.73  \n",
              "39         1.69            6.67  \n",
              "40         0.74            4.48  \n",
              "41         0.32            2.04  \n",
              "42         0.64            2.86  \n",
              "43         1.01           39.27  \n",
              "44         0.77            7.66  \n",
              "45         3.67            6.15  \n",
              "46         0.91            1.38  \n",
              "47         3.07           10.61  \n",
              "48         0.79            3.32  \n",
              "49         0.34            0.90  \n",
              "50         0.39            5.99  "
            ]
          },
          "execution_count": 701,
          "metadata": {},
          "output_type": "execute_result"
        }
      ],
      "source": [
        "shares = ['share_white', 'share_black', 'share_native_american', 'share_asian', 'share_hispanic']\n",
        "race_shares = df_share_race_city.groupby('Geographic area', as_index=False).mean()\n",
        "race_shares"
      ]
    },
    {
      "cell_type": "code",
      "execution_count": 302,
      "metadata": {
        "id": "LqrimlLo09Na"
      },
      "outputs": [
        {
          "data": {
            "application/vnd.plotly.v1+json": {
              "config": {
                "plotlyServerURL": "https://plot.ly"
              },
              "data": [
                {
                  "hovertemplate": "<br>State=%{x}<br>Population %=%{y}%<extra></extra>",
                  "name": "share_white",
                  "type": "bar",
                  "x": [
                    "AK",
                    "AL",
                    "AR",
                    "AZ",
                    "CA",
                    "CO",
                    "CT",
                    "DC",
                    "DE",
                    "FL",
                    "GA",
                    "HI",
                    "IA",
                    "ID",
                    "IL",
                    "IN",
                    "KS",
                    "KY",
                    "LA",
                    "MA",
                    "MD",
                    "ME",
                    "MI",
                    "MN",
                    "MO",
                    "MS",
                    "MT",
                    "NC",
                    "ND",
                    "NE",
                    "NH",
                    "NJ",
                    "NM",
                    "NV",
                    "NY",
                    "OH",
                    "OK",
                    "OR",
                    "PA",
                    "RI",
                    "SC",
                    "SD",
                    "TN",
                    "TX",
                    "UT",
                    "VA",
                    "VT",
                    "WA",
                    "WI",
                    "WV",
                    "WY"
                  ],
                  "xaxis": "x",
                  "y": [
                    45.264225352112675,
                    72.50726643598615,
                    78.44953789279113,
                    59.929046563192905,
                    71.5359816152331,
                    87.76834061135372,
                    86.1055944055944,
                    38.5,
                    76.24605263157895,
                    78.6725,
                    62.591533546325884,
                    33.36953642384106,
                    96.70584737363725,
                    88.81762114537445,
                    90.35705925384053,
                    94.82390029325514,
                    92.96259314456036,
                    92.22685714285714,
                    64.81458773784355,
                    89.30450819672132,
                    72.11640926640928,
                    95.68625954198473,
                    90.67153179190751,
                    91.80022075055187,
                    90.18100775193798,
                    53.8,
                    84.47589041095891,
                    71.51650879566982,
                    92.29376558603492,
                    94.71758620689654,
                    95.68124999999999,
                    80.88954128440368,
                    65.41851015801355,
                    82.3263565891473,
                    88.87830109335576,
                    92.80406976744186,
                    72.92578444747612,
                    87.39310344827585,
                    93.25323129251701,
                    89.22647058823529,
                    61.97569620253165,
                    84.81769230769231,
                    88.94708624708625,
                    82.40336757990869,
                    89.44325153374233,
                    74.59712351945855,
                    95.86638655462185,
                    82.37595541401274,
                    92.96054333764553,
                    95.0354114713217,
                    91.91871921182266
                  ],
                  "yaxis": "y"
                },
                {
                  "hovertemplate": "<br>State=%{x}<br>Population %=%{y}%<extra></extra>",
                  "name": "share_black",
                  "type": "bar",
                  "x": [
                    "AK",
                    "AL",
                    "AR",
                    "AZ",
                    "CA",
                    "CO",
                    "CT",
                    "DC",
                    "DE",
                    "FL",
                    "GA",
                    "HI",
                    "IA",
                    "ID",
                    "IL",
                    "IN",
                    "KS",
                    "KY",
                    "LA",
                    "MA",
                    "MD",
                    "ME",
                    "MI",
                    "MN",
                    "MO",
                    "MS",
                    "MT",
                    "NC",
                    "ND",
                    "NE",
                    "NH",
                    "NJ",
                    "NM",
                    "NV",
                    "NY",
                    "OH",
                    "OK",
                    "OR",
                    "PA",
                    "RI",
                    "SC",
                    "SD",
                    "TN",
                    "TX",
                    "UT",
                    "VA",
                    "VT",
                    "WA",
                    "WI",
                    "WV",
                    "WY"
                  ],
                  "xaxis": "x2",
                  "y": [
                    0.5625352112676056,
                    23.322318339100345,
                    16.29685767097967,
                    0.9545454545454546,
                    2.679645436638214,
                    0.9176855895196507,
                    4.992307692307692,
                    50.7,
                    15.393421052631581,
                    13.370869565217392,
                    30.63354632587859,
                    1.0708609271523177,
                    0.5635282457879088,
                    0.29515418502202645,
                    4.70431602048281,
                    1.6882697947214078,
                    0.9605067064083458,
                    4.421142857142857,
                    30.775475687103594,
                    2.790573770491803,
                    19.463899613899613,
                    0.8198473282442749,
                    4.124277456647399,
                    1.0007726269315673,
                    5.862306201550388,
                    41.83397790055248,
                    0.22657534246575342,
                    20.40230040595399,
                    0.357356608478803,
                    0.42051724137931035,
                    0.7156250000000001,
                    6.975045871559633,
                    0.6670428893905191,
                    1.5674418604651161,
                    4.007737594617326,
                    3.959966777408638,
                    3.376261937244202,
                    0.5281167108753315,
                    3.270238095238095,
                    2.988235294117647,
                    32.834430379746834,
                    0.29,
                    7.302797202797203,
                    5.866324200913241,
                    0.38496932515337423,
                    16.51082910321489,
                    0.7705882352941177,
                    1.426592356687898,
                    0.9372574385510997,
                    2.915211970074813,
                    0.3975369458128079
                  ],
                  "yaxis": "y2"
                },
                {
                  "hovertemplate": "<br>State=%{x}<br>Population %=%{y}%<extra></extra>",
                  "name": "share_native_american",
                  "type": "bar",
                  "x": [
                    "AK",
                    "AL",
                    "AR",
                    "AZ",
                    "CA",
                    "CO",
                    "CT",
                    "DC",
                    "DE",
                    "FL",
                    "GA",
                    "HI",
                    "IA",
                    "ID",
                    "IL",
                    "IN",
                    "KS",
                    "KY",
                    "LA",
                    "MA",
                    "MD",
                    "ME",
                    "MI",
                    "MN",
                    "MO",
                    "MS",
                    "MT",
                    "NC",
                    "ND",
                    "NE",
                    "NH",
                    "NJ",
                    "NM",
                    "NV",
                    "NY",
                    "OH",
                    "OK",
                    "OR",
                    "PA",
                    "RI",
                    "SC",
                    "SD",
                    "TN",
                    "TX",
                    "UT",
                    "VA",
                    "VT",
                    "WA",
                    "WI",
                    "WV",
                    "WY"
                  ],
                  "xaxis": "x3",
                  "y": [
                    45.477183098591546,
                    0.6593425605536333,
                    0.7598890942698706,
                    28.58980044345898,
                    1.715167432698621,
                    1.624890829694323,
                    0.6566433566433567,
                    0.3,
                    0.5236842105263158,
                    0.45543478260869563,
                    0.3003194888178914,
                    0.3880794701986755,
                    0.2713577799801784,
                    2.524669603524229,
                    0.26181419166057057,
                    0.27580645161290324,
                    1.8731743666169898,
                    0.21009523809523808,
                    0.9572938689217759,
                    0.26516393442622954,
                    0.34092664092664093,
                    0.5450381679389313,
                    1.0770231213872832,
                    3.363134657836645,
                    0.5427325581395349,
                    1.6146408839779005,
                    11.870958904109589,
                    1.7880920162381597,
                    5.329925187032419,
                    1.5598275862068964,
                    0.28750000000000003,
                    0.25706422018348624,
                    15.340406320541762,
                    5.576744186046511,
                    0.3613120269133726,
                    0.2150332225913621,
                    14.382128240109141,
                    2.5816976127320954,
                    0.16156462585034015,
                    0.6705882352941177,
                    0.4627848101265823,
                    12.026666666666666,
                    0.31655011655011656,
                    0.6573630136986301,
                    3.8702453987730063,
                    0.34230118443316415,
                    0.3697478991596639,
                    3.7503184713375792,
                    2.6203104786545923,
                    0.20024937655860348,
                    3.079802955665025
                  ],
                  "yaxis": "y3"
                },
                {
                  "hovertemplate": "<br>State=%{x}<br>Population %=%{y}%<extra></extra>",
                  "name": "share_asian",
                  "type": "bar",
                  "x": [
                    "AK",
                    "AL",
                    "AR",
                    "AZ",
                    "CA",
                    "CO",
                    "CT",
                    "DC",
                    "DE",
                    "FL",
                    "GA",
                    "HI",
                    "IA",
                    "ID",
                    "IL",
                    "IN",
                    "KS",
                    "KY",
                    "LA",
                    "MA",
                    "MD",
                    "ME",
                    "MI",
                    "MN",
                    "MO",
                    "MS",
                    "MT",
                    "NC",
                    "ND",
                    "NE",
                    "NH",
                    "NJ",
                    "NM",
                    "NV",
                    "NY",
                    "OH",
                    "OK",
                    "OR",
                    "PA",
                    "RI",
                    "SC",
                    "SD",
                    "TN",
                    "TX",
                    "UT",
                    "VA",
                    "VT",
                    "WA",
                    "WI",
                    "WV",
                    "WY"
                  ],
                  "xaxis": "x4",
                  "y": [
                    1.3766197183098592,
                    0.47975778546712805,
                    0.4770794824399261,
                    0.7266075388026607,
                    5.542613263296126,
                    1.1548034934497815,
                    2.9895104895104896,
                    3.5,
                    2,
                    1.6167391304347827,
                    1.4915335463258788,
                    25.65496688741722,
                    0.400792864222002,
                    0.48766519823788546,
                    1.337454279444038,
                    0.5868035190615836,
                    0.42637853949329363,
                    0.711047619047619,
                    0.7864693446088795,
                    2.8418032786885243,
                    2.9801158301158304,
                    1.03206106870229,
                    0.9541907514450867,
                    1.0257174392935982,
                    0.5482558139534883,
                    0.5461325966850828,
                    0.3189041095890411,
                    0.9262516914749662,
                    0.29351620947630924,
                    0.291896551724138,
                    1.3427083333333334,
                    5.944770642201835,
                    0.49390519187358917,
                    2.0069767441860464,
                    2.719343986543314,
                    0.7514950166112957,
                    0.4264665757162347,
                    1.3787798408488063,
                    0.9890022675736961,
                    1.688235294117647,
                    0.74,
                    0.31794871794871793,
                    0.6372960372960372,
                    1.0124429223744291,
                    0.7708588957055215,
                    3.669035532994924,
                    0.9100840336134454,
                    3.0745222929936307,
                    0.7908150064683053,
                    0.3411471321695761,
                    0.38768472906403945
                  ],
                  "yaxis": "y4"
                },
                {
                  "hovertemplate": "<br>State=%{x}<br>Population %=%{y}%<extra></extra>",
                  "name": "share_hispanic",
                  "type": "bar",
                  "x": [
                    "AK",
                    "AL",
                    "AR",
                    "AZ",
                    "CA",
                    "CO",
                    "CT",
                    "DC",
                    "DE",
                    "FL",
                    "GA",
                    "HI",
                    "IA",
                    "ID",
                    "IL",
                    "IN",
                    "KS",
                    "KY",
                    "LA",
                    "MA",
                    "MD",
                    "ME",
                    "MI",
                    "MN",
                    "MO",
                    "MS",
                    "MT",
                    "NC",
                    "ND",
                    "NE",
                    "NH",
                    "NJ",
                    "NM",
                    "NV",
                    "NY",
                    "OH",
                    "OK",
                    "OR",
                    "PA",
                    "RI",
                    "SC",
                    "SD",
                    "TN",
                    "TX",
                    "UT",
                    "VA",
                    "VT",
                    "WA",
                    "WI",
                    "WV",
                    "WY"
                  ],
                  "xaxis": "x5",
                  "y": [
                    2.130985915492958,
                    2.9801038062283736,
                    4.273012939001848,
                    20.144567627494457,
                    29.513591595535125,
                    17.89868995633188,
                    7.975524475524476,
                    9.1,
                    7.417105263157896,
                    16.52913043478261,
                    6.415175718849841,
                    10.358278145695364,
                    2.8190287413280477,
                    10.695154185022027,
                    5.170519385515728,
                    3.3181818181818183,
                    5.071684053651267,
                    2.2255238095238097,
                    2.9765327695560257,
                    4.925819672131148,
                    5.931467181467181,
                    1.3129770992366412,
                    3.5354046242774566,
                    3.1538631346578367,
                    2.3579457364341088,
                    2.3218232044198897,
                    2.192054794520548,
                    6.412855209742896,
                    1.8229426433915212,
                    4.070172413793103,
                    1.7447916666666667,
                    11.122935779816514,
                    45.434537246049665,
                    13.173643410852714,
                    6.629184188393609,
                    2.1303986710963456,
                    5.696452933151432,
                    9.750928381962865,
                    2.7325396825396826,
                    6.667647058823529,
                    4.475443037974683,
                    2.036923076923077,
                    2.8561771561771563,
                    39.275,
                    7.663190184049079,
                    6.152961082910322,
                    1.3798319327731092,
                    10.60843949044586,
                    3.3232858990944374,
                    0.9042394014962594,
                    5.988177339901477
                  ],
                  "yaxis": "y5"
                }
              ],
              "layout": {
                "barmode": "stack",
                "legend": {
                  "title": {
                    "text": "Races"
                  }
                },
                "template": {
                  "data": {
                    "bar": [
                      {
                        "error_x": {
                          "color": "#2a3f5f"
                        },
                        "error_y": {
                          "color": "#2a3f5f"
                        },
                        "marker": {
                          "line": {
                            "color": "#E5ECF6",
                            "width": 0.5
                          },
                          "pattern": {
                            "fillmode": "overlay",
                            "size": 10,
                            "solidity": 0.2
                          }
                        },
                        "type": "bar"
                      }
                    ],
                    "barpolar": [
                      {
                        "marker": {
                          "line": {
                            "color": "#E5ECF6",
                            "width": 0.5
                          },
                          "pattern": {
                            "fillmode": "overlay",
                            "size": 10,
                            "solidity": 0.2
                          }
                        },
                        "type": "barpolar"
                      }
                    ],
                    "carpet": [
                      {
                        "aaxis": {
                          "endlinecolor": "#2a3f5f",
                          "gridcolor": "white",
                          "linecolor": "white",
                          "minorgridcolor": "white",
                          "startlinecolor": "#2a3f5f"
                        },
                        "baxis": {
                          "endlinecolor": "#2a3f5f",
                          "gridcolor": "white",
                          "linecolor": "white",
                          "minorgridcolor": "white",
                          "startlinecolor": "#2a3f5f"
                        },
                        "type": "carpet"
                      }
                    ],
                    "choropleth": [
                      {
                        "colorbar": {
                          "outlinewidth": 0,
                          "ticks": ""
                        },
                        "type": "choropleth"
                      }
                    ],
                    "contour": [
                      {
                        "colorbar": {
                          "outlinewidth": 0,
                          "ticks": ""
                        },
                        "colorscale": [
                          [
                            0,
                            "#0d0887"
                          ],
                          [
                            0.1111111111111111,
                            "#46039f"
                          ],
                          [
                            0.2222222222222222,
                            "#7201a8"
                          ],
                          [
                            0.3333333333333333,
                            "#9c179e"
                          ],
                          [
                            0.4444444444444444,
                            "#bd3786"
                          ],
                          [
                            0.5555555555555556,
                            "#d8576b"
                          ],
                          [
                            0.6666666666666666,
                            "#ed7953"
                          ],
                          [
                            0.7777777777777778,
                            "#fb9f3a"
                          ],
                          [
                            0.8888888888888888,
                            "#fdca26"
                          ],
                          [
                            1,
                            "#f0f921"
                          ]
                        ],
                        "type": "contour"
                      }
                    ],
                    "contourcarpet": [
                      {
                        "colorbar": {
                          "outlinewidth": 0,
                          "ticks": ""
                        },
                        "type": "contourcarpet"
                      }
                    ],
                    "heatmap": [
                      {
                        "colorbar": {
                          "outlinewidth": 0,
                          "ticks": ""
                        },
                        "colorscale": [
                          [
                            0,
                            "#0d0887"
                          ],
                          [
                            0.1111111111111111,
                            "#46039f"
                          ],
                          [
                            0.2222222222222222,
                            "#7201a8"
                          ],
                          [
                            0.3333333333333333,
                            "#9c179e"
                          ],
                          [
                            0.4444444444444444,
                            "#bd3786"
                          ],
                          [
                            0.5555555555555556,
                            "#d8576b"
                          ],
                          [
                            0.6666666666666666,
                            "#ed7953"
                          ],
                          [
                            0.7777777777777778,
                            "#fb9f3a"
                          ],
                          [
                            0.8888888888888888,
                            "#fdca26"
                          ],
                          [
                            1,
                            "#f0f921"
                          ]
                        ],
                        "type": "heatmap"
                      }
                    ],
                    "heatmapgl": [
                      {
                        "colorbar": {
                          "outlinewidth": 0,
                          "ticks": ""
                        },
                        "colorscale": [
                          [
                            0,
                            "#0d0887"
                          ],
                          [
                            0.1111111111111111,
                            "#46039f"
                          ],
                          [
                            0.2222222222222222,
                            "#7201a8"
                          ],
                          [
                            0.3333333333333333,
                            "#9c179e"
                          ],
                          [
                            0.4444444444444444,
                            "#bd3786"
                          ],
                          [
                            0.5555555555555556,
                            "#d8576b"
                          ],
                          [
                            0.6666666666666666,
                            "#ed7953"
                          ],
                          [
                            0.7777777777777778,
                            "#fb9f3a"
                          ],
                          [
                            0.8888888888888888,
                            "#fdca26"
                          ],
                          [
                            1,
                            "#f0f921"
                          ]
                        ],
                        "type": "heatmapgl"
                      }
                    ],
                    "histogram": [
                      {
                        "marker": {
                          "pattern": {
                            "fillmode": "overlay",
                            "size": 10,
                            "solidity": 0.2
                          }
                        },
                        "type": "histogram"
                      }
                    ],
                    "histogram2d": [
                      {
                        "colorbar": {
                          "outlinewidth": 0,
                          "ticks": ""
                        },
                        "colorscale": [
                          [
                            0,
                            "#0d0887"
                          ],
                          [
                            0.1111111111111111,
                            "#46039f"
                          ],
                          [
                            0.2222222222222222,
                            "#7201a8"
                          ],
                          [
                            0.3333333333333333,
                            "#9c179e"
                          ],
                          [
                            0.4444444444444444,
                            "#bd3786"
                          ],
                          [
                            0.5555555555555556,
                            "#d8576b"
                          ],
                          [
                            0.6666666666666666,
                            "#ed7953"
                          ],
                          [
                            0.7777777777777778,
                            "#fb9f3a"
                          ],
                          [
                            0.8888888888888888,
                            "#fdca26"
                          ],
                          [
                            1,
                            "#f0f921"
                          ]
                        ],
                        "type": "histogram2d"
                      }
                    ],
                    "histogram2dcontour": [
                      {
                        "colorbar": {
                          "outlinewidth": 0,
                          "ticks": ""
                        },
                        "colorscale": [
                          [
                            0,
                            "#0d0887"
                          ],
                          [
                            0.1111111111111111,
                            "#46039f"
                          ],
                          [
                            0.2222222222222222,
                            "#7201a8"
                          ],
                          [
                            0.3333333333333333,
                            "#9c179e"
                          ],
                          [
                            0.4444444444444444,
                            "#bd3786"
                          ],
                          [
                            0.5555555555555556,
                            "#d8576b"
                          ],
                          [
                            0.6666666666666666,
                            "#ed7953"
                          ],
                          [
                            0.7777777777777778,
                            "#fb9f3a"
                          ],
                          [
                            0.8888888888888888,
                            "#fdca26"
                          ],
                          [
                            1,
                            "#f0f921"
                          ]
                        ],
                        "type": "histogram2dcontour"
                      }
                    ],
                    "mesh3d": [
                      {
                        "colorbar": {
                          "outlinewidth": 0,
                          "ticks": ""
                        },
                        "type": "mesh3d"
                      }
                    ],
                    "parcoords": [
                      {
                        "line": {
                          "colorbar": {
                            "outlinewidth": 0,
                            "ticks": ""
                          }
                        },
                        "type": "parcoords"
                      }
                    ],
                    "pie": [
                      {
                        "automargin": true,
                        "type": "pie"
                      }
                    ],
                    "scatter": [
                      {
                        "fillpattern": {
                          "fillmode": "overlay",
                          "size": 10,
                          "solidity": 0.2
                        },
                        "type": "scatter"
                      }
                    ],
                    "scatter3d": [
                      {
                        "line": {
                          "colorbar": {
                            "outlinewidth": 0,
                            "ticks": ""
                          }
                        },
                        "marker": {
                          "colorbar": {
                            "outlinewidth": 0,
                            "ticks": ""
                          }
                        },
                        "type": "scatter3d"
                      }
                    ],
                    "scattercarpet": [
                      {
                        "marker": {
                          "colorbar": {
                            "outlinewidth": 0,
                            "ticks": ""
                          }
                        },
                        "type": "scattercarpet"
                      }
                    ],
                    "scattergeo": [
                      {
                        "marker": {
                          "colorbar": {
                            "outlinewidth": 0,
                            "ticks": ""
                          }
                        },
                        "type": "scattergeo"
                      }
                    ],
                    "scattergl": [
                      {
                        "marker": {
                          "colorbar": {
                            "outlinewidth": 0,
                            "ticks": ""
                          }
                        },
                        "type": "scattergl"
                      }
                    ],
                    "scattermapbox": [
                      {
                        "marker": {
                          "colorbar": {
                            "outlinewidth": 0,
                            "ticks": ""
                          }
                        },
                        "type": "scattermapbox"
                      }
                    ],
                    "scatterpolar": [
                      {
                        "marker": {
                          "colorbar": {
                            "outlinewidth": 0,
                            "ticks": ""
                          }
                        },
                        "type": "scatterpolar"
                      }
                    ],
                    "scatterpolargl": [
                      {
                        "marker": {
                          "colorbar": {
                            "outlinewidth": 0,
                            "ticks": ""
                          }
                        },
                        "type": "scatterpolargl"
                      }
                    ],
                    "scatterternary": [
                      {
                        "marker": {
                          "colorbar": {
                            "outlinewidth": 0,
                            "ticks": ""
                          }
                        },
                        "type": "scatterternary"
                      }
                    ],
                    "surface": [
                      {
                        "colorbar": {
                          "outlinewidth": 0,
                          "ticks": ""
                        },
                        "colorscale": [
                          [
                            0,
                            "#0d0887"
                          ],
                          [
                            0.1111111111111111,
                            "#46039f"
                          ],
                          [
                            0.2222222222222222,
                            "#7201a8"
                          ],
                          [
                            0.3333333333333333,
                            "#9c179e"
                          ],
                          [
                            0.4444444444444444,
                            "#bd3786"
                          ],
                          [
                            0.5555555555555556,
                            "#d8576b"
                          ],
                          [
                            0.6666666666666666,
                            "#ed7953"
                          ],
                          [
                            0.7777777777777778,
                            "#fb9f3a"
                          ],
                          [
                            0.8888888888888888,
                            "#fdca26"
                          ],
                          [
                            1,
                            "#f0f921"
                          ]
                        ],
                        "type": "surface"
                      }
                    ],
                    "table": [
                      {
                        "cells": {
                          "fill": {
                            "color": "#EBF0F8"
                          },
                          "line": {
                            "color": "white"
                          }
                        },
                        "header": {
                          "fill": {
                            "color": "#C8D4E3"
                          },
                          "line": {
                            "color": "white"
                          }
                        },
                        "type": "table"
                      }
                    ]
                  },
                  "layout": {
                    "annotationdefaults": {
                      "arrowcolor": "#2a3f5f",
                      "arrowhead": 0,
                      "arrowwidth": 1
                    },
                    "autotypenumbers": "strict",
                    "coloraxis": {
                      "colorbar": {
                        "outlinewidth": 0,
                        "ticks": ""
                      }
                    },
                    "colorscale": {
                      "diverging": [
                        [
                          0,
                          "#8e0152"
                        ],
                        [
                          0.1,
                          "#c51b7d"
                        ],
                        [
                          0.2,
                          "#de77ae"
                        ],
                        [
                          0.3,
                          "#f1b6da"
                        ],
                        [
                          0.4,
                          "#fde0ef"
                        ],
                        [
                          0.5,
                          "#f7f7f7"
                        ],
                        [
                          0.6,
                          "#e6f5d0"
                        ],
                        [
                          0.7,
                          "#b8e186"
                        ],
                        [
                          0.8,
                          "#7fbc41"
                        ],
                        [
                          0.9,
                          "#4d9221"
                        ],
                        [
                          1,
                          "#276419"
                        ]
                      ],
                      "sequential": [
                        [
                          0,
                          "#0d0887"
                        ],
                        [
                          0.1111111111111111,
                          "#46039f"
                        ],
                        [
                          0.2222222222222222,
                          "#7201a8"
                        ],
                        [
                          0.3333333333333333,
                          "#9c179e"
                        ],
                        [
                          0.4444444444444444,
                          "#bd3786"
                        ],
                        [
                          0.5555555555555556,
                          "#d8576b"
                        ],
                        [
                          0.6666666666666666,
                          "#ed7953"
                        ],
                        [
                          0.7777777777777778,
                          "#fb9f3a"
                        ],
                        [
                          0.8888888888888888,
                          "#fdca26"
                        ],
                        [
                          1,
                          "#f0f921"
                        ]
                      ],
                      "sequentialminus": [
                        [
                          0,
                          "#0d0887"
                        ],
                        [
                          0.1111111111111111,
                          "#46039f"
                        ],
                        [
                          0.2222222222222222,
                          "#7201a8"
                        ],
                        [
                          0.3333333333333333,
                          "#9c179e"
                        ],
                        [
                          0.4444444444444444,
                          "#bd3786"
                        ],
                        [
                          0.5555555555555556,
                          "#d8576b"
                        ],
                        [
                          0.6666666666666666,
                          "#ed7953"
                        ],
                        [
                          0.7777777777777778,
                          "#fb9f3a"
                        ],
                        [
                          0.8888888888888888,
                          "#fdca26"
                        ],
                        [
                          1,
                          "#f0f921"
                        ]
                      ]
                    },
                    "colorway": [
                      "#636efa",
                      "#EF553B",
                      "#00cc96",
                      "#ab63fa",
                      "#FFA15A",
                      "#19d3f3",
                      "#FF6692",
                      "#B6E880",
                      "#FF97FF",
                      "#FECB52"
                    ],
                    "font": {
                      "color": "#2a3f5f"
                    },
                    "geo": {
                      "bgcolor": "white",
                      "lakecolor": "white",
                      "landcolor": "#E5ECF6",
                      "showlakes": true,
                      "showland": true,
                      "subunitcolor": "white"
                    },
                    "hoverlabel": {
                      "align": "left"
                    },
                    "hovermode": "closest",
                    "mapbox": {
                      "style": "light"
                    },
                    "paper_bgcolor": "white",
                    "plot_bgcolor": "#E5ECF6",
                    "polar": {
                      "angularaxis": {
                        "gridcolor": "white",
                        "linecolor": "white",
                        "ticks": ""
                      },
                      "bgcolor": "#E5ECF6",
                      "radialaxis": {
                        "gridcolor": "white",
                        "linecolor": "white",
                        "ticks": ""
                      }
                    },
                    "scene": {
                      "xaxis": {
                        "backgroundcolor": "#E5ECF6",
                        "gridcolor": "white",
                        "gridwidth": 2,
                        "linecolor": "white",
                        "showbackground": true,
                        "ticks": "",
                        "zerolinecolor": "white"
                      },
                      "yaxis": {
                        "backgroundcolor": "#E5ECF6",
                        "gridcolor": "white",
                        "gridwidth": 2,
                        "linecolor": "white",
                        "showbackground": true,
                        "ticks": "",
                        "zerolinecolor": "white"
                      },
                      "zaxis": {
                        "backgroundcolor": "#E5ECF6",
                        "gridcolor": "white",
                        "gridwidth": 2,
                        "linecolor": "white",
                        "showbackground": true,
                        "ticks": "",
                        "zerolinecolor": "white"
                      }
                    },
                    "shapedefaults": {
                      "line": {
                        "color": "#2a3f5f"
                      }
                    },
                    "ternary": {
                      "aaxis": {
                        "gridcolor": "white",
                        "linecolor": "white",
                        "ticks": ""
                      },
                      "baxis": {
                        "gridcolor": "white",
                        "linecolor": "white",
                        "ticks": ""
                      },
                      "bgcolor": "#E5ECF6",
                      "caxis": {
                        "gridcolor": "white",
                        "linecolor": "white",
                        "ticks": ""
                      }
                    },
                    "title": {
                      "x": 0.05
                    },
                    "xaxis": {
                      "automargin": true,
                      "gridcolor": "white",
                      "linecolor": "white",
                      "ticks": "",
                      "title": {
                        "standoff": 15
                      },
                      "zerolinecolor": "white",
                      "zerolinewidth": 2
                    },
                    "yaxis": {
                      "automargin": true,
                      "gridcolor": "white",
                      "linecolor": "white",
                      "ticks": "",
                      "title": {
                        "standoff": 15
                      },
                      "zerolinecolor": "white",
                      "zerolinewidth": 2
                    }
                  }
                },
                "title": {
                  "text": "Racial Distribution of each US State"
                },
                "xaxis": {
                  "anchor": "y",
                  "domain": [
                    0,
                    0.16799999999999998
                  ],
                  "title": {
                    "text": "State"
                  }
                },
                "xaxis2": {
                  "anchor": "y2",
                  "domain": [
                    0.208,
                    0.376
                  ],
                  "title": {
                    "text": "State"
                  }
                },
                "xaxis3": {
                  "anchor": "y3",
                  "domain": [
                    0.416,
                    0.584
                  ],
                  "title": {
                    "text": "State"
                  }
                },
                "xaxis4": {
                  "anchor": "y4",
                  "domain": [
                    0.624,
                    0.792
                  ],
                  "title": {
                    "text": "State"
                  }
                },
                "xaxis5": {
                  "anchor": "y5",
                  "domain": [
                    0.832,
                    1
                  ],
                  "title": {
                    "text": "State"
                  }
                },
                "yaxis": {
                  "anchor": "x",
                  "domain": [
                    0,
                    1
                  ],
                  "range": [
                    0,
                    100
                  ],
                  "title": {
                    "text": "% Population of Each Race"
                  }
                },
                "yaxis2": {
                  "anchor": "x2",
                  "domain": [
                    0,
                    1
                  ],
                  "range": [
                    0,
                    100
                  ],
                  "title": {
                    "text": "% Population of Each Race"
                  }
                },
                "yaxis3": {
                  "anchor": "x3",
                  "domain": [
                    0,
                    1
                  ],
                  "range": [
                    0,
                    100
                  ],
                  "title": {
                    "text": "% Population of Each Race"
                  }
                },
                "yaxis4": {
                  "anchor": "x4",
                  "domain": [
                    0,
                    1
                  ],
                  "range": [
                    0,
                    100
                  ],
                  "title": {
                    "text": "% Population of Each Race"
                  }
                },
                "yaxis5": {
                  "anchor": "x5",
                  "domain": [
                    0,
                    1
                  ],
                  "range": [
                    0,
                    100
                  ],
                  "title": {
                    "text": "% Population of Each Race"
                  }
                }
              }
            }
          },
          "metadata": {},
          "output_type": "display_data"
        }
      ],
      "source": [
        "fig = make_subplots(rows=1,\n",
        "                    cols=len(shares), \n",
        "                    shared_xaxes=True,)\n",
        "for pos in range(0, len(shares)):\n",
        "    fig.add_trace(go.Bar(x=race_shares['Geographic area'], \n",
        "                        y=race_shares[shares[pos]],\n",
        "                        hovertemplate=\"<br>State=%{x}<br>Population %=%{y}%<extra></extra>\",\n",
        "                        name=shares[pos]),\n",
        "                        row=1,\n",
        "                        col=pos+1)\n",
        "fig.update_layout(legend_title_text = \"Races\", title='Racial Distribution of each US State', barmode='stack')\n",
        "fig.update_xaxes(title_text=\"State\")\n",
        "fig.update_yaxes(title_text='% Population of Each Race', range=[0, 100])\n",
        "fig.show()"
      ]
    },
    {
      "cell_type": "markdown",
      "metadata": {
        "_uuid": "77493cfd86a031612be8fb8d60f27713e74e6d80",
        "id": "K7xvQXkjuRo7"
      },
      "source": [
        "# Create Donut Chart by of People Killed by Race\n",
        "\n",
        "Hint: Use `.value_counts()`"
      ]
    },
    {
      "cell_type": "code",
      "execution_count": 324,
      "metadata": {
        "id": "1nOafPdy1u9Z"
      },
      "outputs": [
        {
          "data": {
            "text/html": [
              "<div>\n",
              "<style scoped>\n",
              "    .dataframe tbody tr th:only-of-type {\n",
              "        vertical-align: middle;\n",
              "    }\n",
              "\n",
              "    .dataframe tbody tr th {\n",
              "        vertical-align: top;\n",
              "    }\n",
              "\n",
              "    .dataframe thead th {\n",
              "        text-align: right;\n",
              "    }\n",
              "</style>\n",
              "<table border=\"1\" class=\"dataframe\">\n",
              "  <thead>\n",
              "    <tr style=\"text-align: right;\">\n",
              "      <th></th>\n",
              "      <th>race</th>\n",
              "      <th>Deaths</th>\n",
              "    </tr>\n",
              "  </thead>\n",
              "  <tbody>\n",
              "    <tr>\n",
              "      <th>0</th>\n",
              "      <td>Asian</td>\n",
              "      <td>39</td>\n",
              "    </tr>\n",
              "    <tr>\n",
              "      <th>1</th>\n",
              "      <td>Black</td>\n",
              "      <td>618</td>\n",
              "    </tr>\n",
              "    <tr>\n",
              "      <th>2</th>\n",
              "      <td>Hispanic</td>\n",
              "      <td>423</td>\n",
              "    </tr>\n",
              "    <tr>\n",
              "      <th>3</th>\n",
              "      <td>Native American</td>\n",
              "      <td>31</td>\n",
              "    </tr>\n",
              "    <tr>\n",
              "      <th>4</th>\n",
              "      <td>Unknown</td>\n",
              "      <td>223</td>\n",
              "    </tr>\n",
              "    <tr>\n",
              "      <th>5</th>\n",
              "      <td>White</td>\n",
              "      <td>1201</td>\n",
              "    </tr>\n",
              "  </tbody>\n",
              "</table>\n",
              "</div>"
            ],
            "text/plain": [
              "              race  Deaths\n",
              "0            Asian      39\n",
              "1            Black     618\n",
              "2         Hispanic     423\n",
              "3  Native American      31\n",
              "4          Unknown     223\n",
              "5            White    1201"
            ]
          },
          "execution_count": 324,
          "metadata": {},
          "output_type": "execute_result"
        }
      ],
      "source": [
        "deaths = df_fatalities.groupby('race', as_index=False).agg(Deaths=('race', 'count'))\n",
        "deaths"
      ]
    },
    {
      "cell_type": "code",
      "execution_count": 344,
      "metadata": {
        "id": "YN3hzJTe1vHJ"
      },
      "outputs": [
        {
          "data": {
            "application/vnd.plotly.v1+json": {
              "config": {
                "plotlyServerURL": "https://plot.ly"
              },
              "data": [
                {
                  "customdata": [
                    [
                      "Asian"
                    ],
                    [
                      "Black"
                    ],
                    [
                      "Hispanic"
                    ],
                    [
                      "Native American"
                    ],
                    [
                      "Unknown"
                    ],
                    [
                      "White"
                    ]
                  ],
                  "domain": {
                    "x": [
                      0,
                      1
                    ],
                    "y": [
                      0,
                      1
                    ]
                  },
                  "hole": 0.3,
                  "hovertemplate": "Race=%{customdata[0]}<br>Deaths=%{value}<extra></extra>",
                  "labels": [
                    "Asian",
                    "Black",
                    "Hispanic",
                    "Native American",
                    "Unknown",
                    "White"
                  ],
                  "legendgroup": "",
                  "marker": {
                    "colors": [
                      "#636efa",
                      "#EF553B",
                      "#00cc96",
                      "#ab63fa",
                      "#FFA15A",
                      "#19d3f3"
                    ]
                  },
                  "name": "",
                  "showlegend": true,
                  "type": "pie",
                  "values": [
                    39,
                    618,
                    423,
                    31,
                    223,
                    1201
                  ]
                }
              ],
              "layout": {
                "legend": {
                  "title": {
                    "text": "Race"
                  },
                  "tracegroupgap": 0
                },
                "margin": {
                  "b": 20,
                  "l": 0,
                  "r": 1340,
                  "t": 40
                },
                "template": {
                  "data": {
                    "bar": [
                      {
                        "error_x": {
                          "color": "#2a3f5f"
                        },
                        "error_y": {
                          "color": "#2a3f5f"
                        },
                        "marker": {
                          "line": {
                            "color": "#E5ECF6",
                            "width": 0.5
                          },
                          "pattern": {
                            "fillmode": "overlay",
                            "size": 10,
                            "solidity": 0.2
                          }
                        },
                        "type": "bar"
                      }
                    ],
                    "barpolar": [
                      {
                        "marker": {
                          "line": {
                            "color": "#E5ECF6",
                            "width": 0.5
                          },
                          "pattern": {
                            "fillmode": "overlay",
                            "size": 10,
                            "solidity": 0.2
                          }
                        },
                        "type": "barpolar"
                      }
                    ],
                    "carpet": [
                      {
                        "aaxis": {
                          "endlinecolor": "#2a3f5f",
                          "gridcolor": "white",
                          "linecolor": "white",
                          "minorgridcolor": "white",
                          "startlinecolor": "#2a3f5f"
                        },
                        "baxis": {
                          "endlinecolor": "#2a3f5f",
                          "gridcolor": "white",
                          "linecolor": "white",
                          "minorgridcolor": "white",
                          "startlinecolor": "#2a3f5f"
                        },
                        "type": "carpet"
                      }
                    ],
                    "choropleth": [
                      {
                        "colorbar": {
                          "outlinewidth": 0,
                          "ticks": ""
                        },
                        "type": "choropleth"
                      }
                    ],
                    "contour": [
                      {
                        "colorbar": {
                          "outlinewidth": 0,
                          "ticks": ""
                        },
                        "colorscale": [
                          [
                            0,
                            "#0d0887"
                          ],
                          [
                            0.1111111111111111,
                            "#46039f"
                          ],
                          [
                            0.2222222222222222,
                            "#7201a8"
                          ],
                          [
                            0.3333333333333333,
                            "#9c179e"
                          ],
                          [
                            0.4444444444444444,
                            "#bd3786"
                          ],
                          [
                            0.5555555555555556,
                            "#d8576b"
                          ],
                          [
                            0.6666666666666666,
                            "#ed7953"
                          ],
                          [
                            0.7777777777777778,
                            "#fb9f3a"
                          ],
                          [
                            0.8888888888888888,
                            "#fdca26"
                          ],
                          [
                            1,
                            "#f0f921"
                          ]
                        ],
                        "type": "contour"
                      }
                    ],
                    "contourcarpet": [
                      {
                        "colorbar": {
                          "outlinewidth": 0,
                          "ticks": ""
                        },
                        "type": "contourcarpet"
                      }
                    ],
                    "heatmap": [
                      {
                        "colorbar": {
                          "outlinewidth": 0,
                          "ticks": ""
                        },
                        "colorscale": [
                          [
                            0,
                            "#0d0887"
                          ],
                          [
                            0.1111111111111111,
                            "#46039f"
                          ],
                          [
                            0.2222222222222222,
                            "#7201a8"
                          ],
                          [
                            0.3333333333333333,
                            "#9c179e"
                          ],
                          [
                            0.4444444444444444,
                            "#bd3786"
                          ],
                          [
                            0.5555555555555556,
                            "#d8576b"
                          ],
                          [
                            0.6666666666666666,
                            "#ed7953"
                          ],
                          [
                            0.7777777777777778,
                            "#fb9f3a"
                          ],
                          [
                            0.8888888888888888,
                            "#fdca26"
                          ],
                          [
                            1,
                            "#f0f921"
                          ]
                        ],
                        "type": "heatmap"
                      }
                    ],
                    "heatmapgl": [
                      {
                        "colorbar": {
                          "outlinewidth": 0,
                          "ticks": ""
                        },
                        "colorscale": [
                          [
                            0,
                            "#0d0887"
                          ],
                          [
                            0.1111111111111111,
                            "#46039f"
                          ],
                          [
                            0.2222222222222222,
                            "#7201a8"
                          ],
                          [
                            0.3333333333333333,
                            "#9c179e"
                          ],
                          [
                            0.4444444444444444,
                            "#bd3786"
                          ],
                          [
                            0.5555555555555556,
                            "#d8576b"
                          ],
                          [
                            0.6666666666666666,
                            "#ed7953"
                          ],
                          [
                            0.7777777777777778,
                            "#fb9f3a"
                          ],
                          [
                            0.8888888888888888,
                            "#fdca26"
                          ],
                          [
                            1,
                            "#f0f921"
                          ]
                        ],
                        "type": "heatmapgl"
                      }
                    ],
                    "histogram": [
                      {
                        "marker": {
                          "pattern": {
                            "fillmode": "overlay",
                            "size": 10,
                            "solidity": 0.2
                          }
                        },
                        "type": "histogram"
                      }
                    ],
                    "histogram2d": [
                      {
                        "colorbar": {
                          "outlinewidth": 0,
                          "ticks": ""
                        },
                        "colorscale": [
                          [
                            0,
                            "#0d0887"
                          ],
                          [
                            0.1111111111111111,
                            "#46039f"
                          ],
                          [
                            0.2222222222222222,
                            "#7201a8"
                          ],
                          [
                            0.3333333333333333,
                            "#9c179e"
                          ],
                          [
                            0.4444444444444444,
                            "#bd3786"
                          ],
                          [
                            0.5555555555555556,
                            "#d8576b"
                          ],
                          [
                            0.6666666666666666,
                            "#ed7953"
                          ],
                          [
                            0.7777777777777778,
                            "#fb9f3a"
                          ],
                          [
                            0.8888888888888888,
                            "#fdca26"
                          ],
                          [
                            1,
                            "#f0f921"
                          ]
                        ],
                        "type": "histogram2d"
                      }
                    ],
                    "histogram2dcontour": [
                      {
                        "colorbar": {
                          "outlinewidth": 0,
                          "ticks": ""
                        },
                        "colorscale": [
                          [
                            0,
                            "#0d0887"
                          ],
                          [
                            0.1111111111111111,
                            "#46039f"
                          ],
                          [
                            0.2222222222222222,
                            "#7201a8"
                          ],
                          [
                            0.3333333333333333,
                            "#9c179e"
                          ],
                          [
                            0.4444444444444444,
                            "#bd3786"
                          ],
                          [
                            0.5555555555555556,
                            "#d8576b"
                          ],
                          [
                            0.6666666666666666,
                            "#ed7953"
                          ],
                          [
                            0.7777777777777778,
                            "#fb9f3a"
                          ],
                          [
                            0.8888888888888888,
                            "#fdca26"
                          ],
                          [
                            1,
                            "#f0f921"
                          ]
                        ],
                        "type": "histogram2dcontour"
                      }
                    ],
                    "mesh3d": [
                      {
                        "colorbar": {
                          "outlinewidth": 0,
                          "ticks": ""
                        },
                        "type": "mesh3d"
                      }
                    ],
                    "parcoords": [
                      {
                        "line": {
                          "colorbar": {
                            "outlinewidth": 0,
                            "ticks": ""
                          }
                        },
                        "type": "parcoords"
                      }
                    ],
                    "pie": [
                      {
                        "automargin": true,
                        "type": "pie"
                      }
                    ],
                    "scatter": [
                      {
                        "fillpattern": {
                          "fillmode": "overlay",
                          "size": 10,
                          "solidity": 0.2
                        },
                        "type": "scatter"
                      }
                    ],
                    "scatter3d": [
                      {
                        "line": {
                          "colorbar": {
                            "outlinewidth": 0,
                            "ticks": ""
                          }
                        },
                        "marker": {
                          "colorbar": {
                            "outlinewidth": 0,
                            "ticks": ""
                          }
                        },
                        "type": "scatter3d"
                      }
                    ],
                    "scattercarpet": [
                      {
                        "marker": {
                          "colorbar": {
                            "outlinewidth": 0,
                            "ticks": ""
                          }
                        },
                        "type": "scattercarpet"
                      }
                    ],
                    "scattergeo": [
                      {
                        "marker": {
                          "colorbar": {
                            "outlinewidth": 0,
                            "ticks": ""
                          }
                        },
                        "type": "scattergeo"
                      }
                    ],
                    "scattergl": [
                      {
                        "marker": {
                          "colorbar": {
                            "outlinewidth": 0,
                            "ticks": ""
                          }
                        },
                        "type": "scattergl"
                      }
                    ],
                    "scattermapbox": [
                      {
                        "marker": {
                          "colorbar": {
                            "outlinewidth": 0,
                            "ticks": ""
                          }
                        },
                        "type": "scattermapbox"
                      }
                    ],
                    "scatterpolar": [
                      {
                        "marker": {
                          "colorbar": {
                            "outlinewidth": 0,
                            "ticks": ""
                          }
                        },
                        "type": "scatterpolar"
                      }
                    ],
                    "scatterpolargl": [
                      {
                        "marker": {
                          "colorbar": {
                            "outlinewidth": 0,
                            "ticks": ""
                          }
                        },
                        "type": "scatterpolargl"
                      }
                    ],
                    "scatterternary": [
                      {
                        "marker": {
                          "colorbar": {
                            "outlinewidth": 0,
                            "ticks": ""
                          }
                        },
                        "type": "scatterternary"
                      }
                    ],
                    "surface": [
                      {
                        "colorbar": {
                          "outlinewidth": 0,
                          "ticks": ""
                        },
                        "colorscale": [
                          [
                            0,
                            "#0d0887"
                          ],
                          [
                            0.1111111111111111,
                            "#46039f"
                          ],
                          [
                            0.2222222222222222,
                            "#7201a8"
                          ],
                          [
                            0.3333333333333333,
                            "#9c179e"
                          ],
                          [
                            0.4444444444444444,
                            "#bd3786"
                          ],
                          [
                            0.5555555555555556,
                            "#d8576b"
                          ],
                          [
                            0.6666666666666666,
                            "#ed7953"
                          ],
                          [
                            0.7777777777777778,
                            "#fb9f3a"
                          ],
                          [
                            0.8888888888888888,
                            "#fdca26"
                          ],
                          [
                            1,
                            "#f0f921"
                          ]
                        ],
                        "type": "surface"
                      }
                    ],
                    "table": [
                      {
                        "cells": {
                          "fill": {
                            "color": "#EBF0F8"
                          },
                          "line": {
                            "color": "white"
                          }
                        },
                        "header": {
                          "fill": {
                            "color": "#C8D4E3"
                          },
                          "line": {
                            "color": "white"
                          }
                        },
                        "type": "table"
                      }
                    ]
                  },
                  "layout": {
                    "annotationdefaults": {
                      "arrowcolor": "#2a3f5f",
                      "arrowhead": 0,
                      "arrowwidth": 1
                    },
                    "autotypenumbers": "strict",
                    "coloraxis": {
                      "colorbar": {
                        "outlinewidth": 0,
                        "ticks": ""
                      }
                    },
                    "colorscale": {
                      "diverging": [
                        [
                          0,
                          "#8e0152"
                        ],
                        [
                          0.1,
                          "#c51b7d"
                        ],
                        [
                          0.2,
                          "#de77ae"
                        ],
                        [
                          0.3,
                          "#f1b6da"
                        ],
                        [
                          0.4,
                          "#fde0ef"
                        ],
                        [
                          0.5,
                          "#f7f7f7"
                        ],
                        [
                          0.6,
                          "#e6f5d0"
                        ],
                        [
                          0.7,
                          "#b8e186"
                        ],
                        [
                          0.8,
                          "#7fbc41"
                        ],
                        [
                          0.9,
                          "#4d9221"
                        ],
                        [
                          1,
                          "#276419"
                        ]
                      ],
                      "sequential": [
                        [
                          0,
                          "#0d0887"
                        ],
                        [
                          0.1111111111111111,
                          "#46039f"
                        ],
                        [
                          0.2222222222222222,
                          "#7201a8"
                        ],
                        [
                          0.3333333333333333,
                          "#9c179e"
                        ],
                        [
                          0.4444444444444444,
                          "#bd3786"
                        ],
                        [
                          0.5555555555555556,
                          "#d8576b"
                        ],
                        [
                          0.6666666666666666,
                          "#ed7953"
                        ],
                        [
                          0.7777777777777778,
                          "#fb9f3a"
                        ],
                        [
                          0.8888888888888888,
                          "#fdca26"
                        ],
                        [
                          1,
                          "#f0f921"
                        ]
                      ],
                      "sequentialminus": [
                        [
                          0,
                          "#0d0887"
                        ],
                        [
                          0.1111111111111111,
                          "#46039f"
                        ],
                        [
                          0.2222222222222222,
                          "#7201a8"
                        ],
                        [
                          0.3333333333333333,
                          "#9c179e"
                        ],
                        [
                          0.4444444444444444,
                          "#bd3786"
                        ],
                        [
                          0.5555555555555556,
                          "#d8576b"
                        ],
                        [
                          0.6666666666666666,
                          "#ed7953"
                        ],
                        [
                          0.7777777777777778,
                          "#fb9f3a"
                        ],
                        [
                          0.8888888888888888,
                          "#fdca26"
                        ],
                        [
                          1,
                          "#f0f921"
                        ]
                      ]
                    },
                    "colorway": [
                      "#636efa",
                      "#EF553B",
                      "#00cc96",
                      "#ab63fa",
                      "#FFA15A",
                      "#19d3f3",
                      "#FF6692",
                      "#B6E880",
                      "#FF97FF",
                      "#FECB52"
                    ],
                    "font": {
                      "color": "#2a3f5f"
                    },
                    "geo": {
                      "bgcolor": "white",
                      "lakecolor": "white",
                      "landcolor": "#E5ECF6",
                      "showlakes": true,
                      "showland": true,
                      "subunitcolor": "white"
                    },
                    "hoverlabel": {
                      "align": "left"
                    },
                    "hovermode": "closest",
                    "mapbox": {
                      "style": "light"
                    },
                    "paper_bgcolor": "white",
                    "plot_bgcolor": "#E5ECF6",
                    "polar": {
                      "angularaxis": {
                        "gridcolor": "white",
                        "linecolor": "white",
                        "ticks": ""
                      },
                      "bgcolor": "#E5ECF6",
                      "radialaxis": {
                        "gridcolor": "white",
                        "linecolor": "white",
                        "ticks": ""
                      }
                    },
                    "scene": {
                      "xaxis": {
                        "backgroundcolor": "#E5ECF6",
                        "gridcolor": "white",
                        "gridwidth": 2,
                        "linecolor": "white",
                        "showbackground": true,
                        "ticks": "",
                        "zerolinecolor": "white"
                      },
                      "yaxis": {
                        "backgroundcolor": "#E5ECF6",
                        "gridcolor": "white",
                        "gridwidth": 2,
                        "linecolor": "white",
                        "showbackground": true,
                        "ticks": "",
                        "zerolinecolor": "white"
                      },
                      "zaxis": {
                        "backgroundcolor": "#E5ECF6",
                        "gridcolor": "white",
                        "gridwidth": 2,
                        "linecolor": "white",
                        "showbackground": true,
                        "ticks": "",
                        "zerolinecolor": "white"
                      }
                    },
                    "shapedefaults": {
                      "line": {
                        "color": "#2a3f5f"
                      }
                    },
                    "ternary": {
                      "aaxis": {
                        "gridcolor": "white",
                        "linecolor": "white",
                        "ticks": ""
                      },
                      "baxis": {
                        "gridcolor": "white",
                        "linecolor": "white",
                        "ticks": ""
                      },
                      "bgcolor": "#E5ECF6",
                      "caxis": {
                        "gridcolor": "white",
                        "linecolor": "white",
                        "ticks": ""
                      }
                    },
                    "title": {
                      "x": 0.05
                    },
                    "xaxis": {
                      "automargin": true,
                      "gridcolor": "white",
                      "linecolor": "white",
                      "ticks": "",
                      "title": {
                        "standoff": 15
                      },
                      "zerolinecolor": "white",
                      "zerolinewidth": 2
                    },
                    "yaxis": {
                      "automargin": true,
                      "gridcolor": "white",
                      "linecolor": "white",
                      "ticks": "",
                      "title": {
                        "standoff": 15
                      },
                      "zerolinecolor": "white",
                      "zerolinewidth": 2
                    }
                  }
                },
                "title": {
                  "text": "% of Police Deaths per Race"
                }
              }
            }
          },
          "metadata": {},
          "output_type": "display_data"
        }
      ],
      "source": [
        "death_pie = px.pie(deaths,\n",
        "    values='Deaths',\n",
        "    names='race',\n",
        "    color='race',\n",
        "    hole=0.3,\n",
        "    title='% of Police Deaths per Race',\n",
        "    labels={'race': 'Race'})\n",
        "\n",
        "death_pie.update_layout(margin=dict(l=00, r=1340, t=40, b=20),\n",
        "                        legend_title_text='Race')\n",
        "death_pie.show()"
      ]
    },
    {
      "cell_type": "markdown",
      "metadata": {
        "id": "kr-8Rezn3Bep"
      },
      "source": [
        "# Create a Chart Comparing the Total Number of Deaths of Men and Women\n",
        "\n",
        "Use `df_fatalities` to illustrate how many more men are killed compared to women. "
      ]
    },
    {
      "cell_type": "code",
      "execution_count": 349,
      "metadata": {
        "id": "joH1L4303BsJ"
      },
      "outputs": [
        {
          "data": {
            "text/html": [
              "<div>\n",
              "<style scoped>\n",
              "    .dataframe tbody tr th:only-of-type {\n",
              "        vertical-align: middle;\n",
              "    }\n",
              "\n",
              "    .dataframe tbody tr th {\n",
              "        vertical-align: top;\n",
              "    }\n",
              "\n",
              "    .dataframe thead th {\n",
              "        text-align: right;\n",
              "    }\n",
              "</style>\n",
              "<table border=\"1\" class=\"dataframe\">\n",
              "  <thead>\n",
              "    <tr style=\"text-align: right;\">\n",
              "      <th></th>\n",
              "      <th>gender</th>\n",
              "      <th>Deaths</th>\n",
              "    </tr>\n",
              "  </thead>\n",
              "  <tbody>\n",
              "    <tr>\n",
              "      <th>0</th>\n",
              "      <td>Female</td>\n",
              "      <td>107</td>\n",
              "    </tr>\n",
              "    <tr>\n",
              "      <th>1</th>\n",
              "      <td>Male</td>\n",
              "      <td>2428</td>\n",
              "    </tr>\n",
              "  </tbody>\n",
              "</table>\n",
              "</div>"
            ],
            "text/plain": [
              "   gender  Deaths\n",
              "0  Female     107\n",
              "1    Male    2428"
            ]
          },
          "execution_count": 349,
          "metadata": {},
          "output_type": "execute_result"
        }
      ],
      "source": [
        "gender_deaths = df_fatalities.groupby('gender', as_index=False).agg(Deaths=('gender', 'count'))\n",
        "gender_deaths"
      ]
    },
    {
      "cell_type": "code",
      "execution_count": 368,
      "metadata": {
        "id": "X4MrMkVa3MTk"
      },
      "outputs": [
        {
          "data": {
            "application/vnd.plotly.v1+json": {
              "config": {
                "plotlyServerURL": "https://plot.ly"
              },
              "data": [
                {
                  "hovertemplate": "<br>Gender=%{x}<br>Deaths=%{y}<extra></extra>",
                  "marker": {
                    "color": [
                      "steelblue",
                      "firebrick"
                    ]
                  },
                  "type": "bar",
                  "x": [
                    "Female",
                    "Male"
                  ],
                  "y": [
                    107,
                    2428
                  ]
                }
              ],
              "layout": {
                "template": {
                  "data": {
                    "bar": [
                      {
                        "error_x": {
                          "color": "#2a3f5f"
                        },
                        "error_y": {
                          "color": "#2a3f5f"
                        },
                        "marker": {
                          "line": {
                            "color": "#E5ECF6",
                            "width": 0.5
                          },
                          "pattern": {
                            "fillmode": "overlay",
                            "size": 10,
                            "solidity": 0.2
                          }
                        },
                        "type": "bar"
                      }
                    ],
                    "barpolar": [
                      {
                        "marker": {
                          "line": {
                            "color": "#E5ECF6",
                            "width": 0.5
                          },
                          "pattern": {
                            "fillmode": "overlay",
                            "size": 10,
                            "solidity": 0.2
                          }
                        },
                        "type": "barpolar"
                      }
                    ],
                    "carpet": [
                      {
                        "aaxis": {
                          "endlinecolor": "#2a3f5f",
                          "gridcolor": "white",
                          "linecolor": "white",
                          "minorgridcolor": "white",
                          "startlinecolor": "#2a3f5f"
                        },
                        "baxis": {
                          "endlinecolor": "#2a3f5f",
                          "gridcolor": "white",
                          "linecolor": "white",
                          "minorgridcolor": "white",
                          "startlinecolor": "#2a3f5f"
                        },
                        "type": "carpet"
                      }
                    ],
                    "choropleth": [
                      {
                        "colorbar": {
                          "outlinewidth": 0,
                          "ticks": ""
                        },
                        "type": "choropleth"
                      }
                    ],
                    "contour": [
                      {
                        "colorbar": {
                          "outlinewidth": 0,
                          "ticks": ""
                        },
                        "colorscale": [
                          [
                            0,
                            "#0d0887"
                          ],
                          [
                            0.1111111111111111,
                            "#46039f"
                          ],
                          [
                            0.2222222222222222,
                            "#7201a8"
                          ],
                          [
                            0.3333333333333333,
                            "#9c179e"
                          ],
                          [
                            0.4444444444444444,
                            "#bd3786"
                          ],
                          [
                            0.5555555555555556,
                            "#d8576b"
                          ],
                          [
                            0.6666666666666666,
                            "#ed7953"
                          ],
                          [
                            0.7777777777777778,
                            "#fb9f3a"
                          ],
                          [
                            0.8888888888888888,
                            "#fdca26"
                          ],
                          [
                            1,
                            "#f0f921"
                          ]
                        ],
                        "type": "contour"
                      }
                    ],
                    "contourcarpet": [
                      {
                        "colorbar": {
                          "outlinewidth": 0,
                          "ticks": ""
                        },
                        "type": "contourcarpet"
                      }
                    ],
                    "heatmap": [
                      {
                        "colorbar": {
                          "outlinewidth": 0,
                          "ticks": ""
                        },
                        "colorscale": [
                          [
                            0,
                            "#0d0887"
                          ],
                          [
                            0.1111111111111111,
                            "#46039f"
                          ],
                          [
                            0.2222222222222222,
                            "#7201a8"
                          ],
                          [
                            0.3333333333333333,
                            "#9c179e"
                          ],
                          [
                            0.4444444444444444,
                            "#bd3786"
                          ],
                          [
                            0.5555555555555556,
                            "#d8576b"
                          ],
                          [
                            0.6666666666666666,
                            "#ed7953"
                          ],
                          [
                            0.7777777777777778,
                            "#fb9f3a"
                          ],
                          [
                            0.8888888888888888,
                            "#fdca26"
                          ],
                          [
                            1,
                            "#f0f921"
                          ]
                        ],
                        "type": "heatmap"
                      }
                    ],
                    "heatmapgl": [
                      {
                        "colorbar": {
                          "outlinewidth": 0,
                          "ticks": ""
                        },
                        "colorscale": [
                          [
                            0,
                            "#0d0887"
                          ],
                          [
                            0.1111111111111111,
                            "#46039f"
                          ],
                          [
                            0.2222222222222222,
                            "#7201a8"
                          ],
                          [
                            0.3333333333333333,
                            "#9c179e"
                          ],
                          [
                            0.4444444444444444,
                            "#bd3786"
                          ],
                          [
                            0.5555555555555556,
                            "#d8576b"
                          ],
                          [
                            0.6666666666666666,
                            "#ed7953"
                          ],
                          [
                            0.7777777777777778,
                            "#fb9f3a"
                          ],
                          [
                            0.8888888888888888,
                            "#fdca26"
                          ],
                          [
                            1,
                            "#f0f921"
                          ]
                        ],
                        "type": "heatmapgl"
                      }
                    ],
                    "histogram": [
                      {
                        "marker": {
                          "pattern": {
                            "fillmode": "overlay",
                            "size": 10,
                            "solidity": 0.2
                          }
                        },
                        "type": "histogram"
                      }
                    ],
                    "histogram2d": [
                      {
                        "colorbar": {
                          "outlinewidth": 0,
                          "ticks": ""
                        },
                        "colorscale": [
                          [
                            0,
                            "#0d0887"
                          ],
                          [
                            0.1111111111111111,
                            "#46039f"
                          ],
                          [
                            0.2222222222222222,
                            "#7201a8"
                          ],
                          [
                            0.3333333333333333,
                            "#9c179e"
                          ],
                          [
                            0.4444444444444444,
                            "#bd3786"
                          ],
                          [
                            0.5555555555555556,
                            "#d8576b"
                          ],
                          [
                            0.6666666666666666,
                            "#ed7953"
                          ],
                          [
                            0.7777777777777778,
                            "#fb9f3a"
                          ],
                          [
                            0.8888888888888888,
                            "#fdca26"
                          ],
                          [
                            1,
                            "#f0f921"
                          ]
                        ],
                        "type": "histogram2d"
                      }
                    ],
                    "histogram2dcontour": [
                      {
                        "colorbar": {
                          "outlinewidth": 0,
                          "ticks": ""
                        },
                        "colorscale": [
                          [
                            0,
                            "#0d0887"
                          ],
                          [
                            0.1111111111111111,
                            "#46039f"
                          ],
                          [
                            0.2222222222222222,
                            "#7201a8"
                          ],
                          [
                            0.3333333333333333,
                            "#9c179e"
                          ],
                          [
                            0.4444444444444444,
                            "#bd3786"
                          ],
                          [
                            0.5555555555555556,
                            "#d8576b"
                          ],
                          [
                            0.6666666666666666,
                            "#ed7953"
                          ],
                          [
                            0.7777777777777778,
                            "#fb9f3a"
                          ],
                          [
                            0.8888888888888888,
                            "#fdca26"
                          ],
                          [
                            1,
                            "#f0f921"
                          ]
                        ],
                        "type": "histogram2dcontour"
                      }
                    ],
                    "mesh3d": [
                      {
                        "colorbar": {
                          "outlinewidth": 0,
                          "ticks": ""
                        },
                        "type": "mesh3d"
                      }
                    ],
                    "parcoords": [
                      {
                        "line": {
                          "colorbar": {
                            "outlinewidth": 0,
                            "ticks": ""
                          }
                        },
                        "type": "parcoords"
                      }
                    ],
                    "pie": [
                      {
                        "automargin": true,
                        "type": "pie"
                      }
                    ],
                    "scatter": [
                      {
                        "fillpattern": {
                          "fillmode": "overlay",
                          "size": 10,
                          "solidity": 0.2
                        },
                        "type": "scatter"
                      }
                    ],
                    "scatter3d": [
                      {
                        "line": {
                          "colorbar": {
                            "outlinewidth": 0,
                            "ticks": ""
                          }
                        },
                        "marker": {
                          "colorbar": {
                            "outlinewidth": 0,
                            "ticks": ""
                          }
                        },
                        "type": "scatter3d"
                      }
                    ],
                    "scattercarpet": [
                      {
                        "marker": {
                          "colorbar": {
                            "outlinewidth": 0,
                            "ticks": ""
                          }
                        },
                        "type": "scattercarpet"
                      }
                    ],
                    "scattergeo": [
                      {
                        "marker": {
                          "colorbar": {
                            "outlinewidth": 0,
                            "ticks": ""
                          }
                        },
                        "type": "scattergeo"
                      }
                    ],
                    "scattergl": [
                      {
                        "marker": {
                          "colorbar": {
                            "outlinewidth": 0,
                            "ticks": ""
                          }
                        },
                        "type": "scattergl"
                      }
                    ],
                    "scattermapbox": [
                      {
                        "marker": {
                          "colorbar": {
                            "outlinewidth": 0,
                            "ticks": ""
                          }
                        },
                        "type": "scattermapbox"
                      }
                    ],
                    "scatterpolar": [
                      {
                        "marker": {
                          "colorbar": {
                            "outlinewidth": 0,
                            "ticks": ""
                          }
                        },
                        "type": "scatterpolar"
                      }
                    ],
                    "scatterpolargl": [
                      {
                        "marker": {
                          "colorbar": {
                            "outlinewidth": 0,
                            "ticks": ""
                          }
                        },
                        "type": "scatterpolargl"
                      }
                    ],
                    "scatterternary": [
                      {
                        "marker": {
                          "colorbar": {
                            "outlinewidth": 0,
                            "ticks": ""
                          }
                        },
                        "type": "scatterternary"
                      }
                    ],
                    "surface": [
                      {
                        "colorbar": {
                          "outlinewidth": 0,
                          "ticks": ""
                        },
                        "colorscale": [
                          [
                            0,
                            "#0d0887"
                          ],
                          [
                            0.1111111111111111,
                            "#46039f"
                          ],
                          [
                            0.2222222222222222,
                            "#7201a8"
                          ],
                          [
                            0.3333333333333333,
                            "#9c179e"
                          ],
                          [
                            0.4444444444444444,
                            "#bd3786"
                          ],
                          [
                            0.5555555555555556,
                            "#d8576b"
                          ],
                          [
                            0.6666666666666666,
                            "#ed7953"
                          ],
                          [
                            0.7777777777777778,
                            "#fb9f3a"
                          ],
                          [
                            0.8888888888888888,
                            "#fdca26"
                          ],
                          [
                            1,
                            "#f0f921"
                          ]
                        ],
                        "type": "surface"
                      }
                    ],
                    "table": [
                      {
                        "cells": {
                          "fill": {
                            "color": "#EBF0F8"
                          },
                          "line": {
                            "color": "white"
                          }
                        },
                        "header": {
                          "fill": {
                            "color": "#C8D4E3"
                          },
                          "line": {
                            "color": "white"
                          }
                        },
                        "type": "table"
                      }
                    ]
                  },
                  "layout": {
                    "annotationdefaults": {
                      "arrowcolor": "#2a3f5f",
                      "arrowhead": 0,
                      "arrowwidth": 1
                    },
                    "autotypenumbers": "strict",
                    "coloraxis": {
                      "colorbar": {
                        "outlinewidth": 0,
                        "ticks": ""
                      }
                    },
                    "colorscale": {
                      "diverging": [
                        [
                          0,
                          "#8e0152"
                        ],
                        [
                          0.1,
                          "#c51b7d"
                        ],
                        [
                          0.2,
                          "#de77ae"
                        ],
                        [
                          0.3,
                          "#f1b6da"
                        ],
                        [
                          0.4,
                          "#fde0ef"
                        ],
                        [
                          0.5,
                          "#f7f7f7"
                        ],
                        [
                          0.6,
                          "#e6f5d0"
                        ],
                        [
                          0.7,
                          "#b8e186"
                        ],
                        [
                          0.8,
                          "#7fbc41"
                        ],
                        [
                          0.9,
                          "#4d9221"
                        ],
                        [
                          1,
                          "#276419"
                        ]
                      ],
                      "sequential": [
                        [
                          0,
                          "#0d0887"
                        ],
                        [
                          0.1111111111111111,
                          "#46039f"
                        ],
                        [
                          0.2222222222222222,
                          "#7201a8"
                        ],
                        [
                          0.3333333333333333,
                          "#9c179e"
                        ],
                        [
                          0.4444444444444444,
                          "#bd3786"
                        ],
                        [
                          0.5555555555555556,
                          "#d8576b"
                        ],
                        [
                          0.6666666666666666,
                          "#ed7953"
                        ],
                        [
                          0.7777777777777778,
                          "#fb9f3a"
                        ],
                        [
                          0.8888888888888888,
                          "#fdca26"
                        ],
                        [
                          1,
                          "#f0f921"
                        ]
                      ],
                      "sequentialminus": [
                        [
                          0,
                          "#0d0887"
                        ],
                        [
                          0.1111111111111111,
                          "#46039f"
                        ],
                        [
                          0.2222222222222222,
                          "#7201a8"
                        ],
                        [
                          0.3333333333333333,
                          "#9c179e"
                        ],
                        [
                          0.4444444444444444,
                          "#bd3786"
                        ],
                        [
                          0.5555555555555556,
                          "#d8576b"
                        ],
                        [
                          0.6666666666666666,
                          "#ed7953"
                        ],
                        [
                          0.7777777777777778,
                          "#fb9f3a"
                        ],
                        [
                          0.8888888888888888,
                          "#fdca26"
                        ],
                        [
                          1,
                          "#f0f921"
                        ]
                      ]
                    },
                    "colorway": [
                      "#636efa",
                      "#EF553B",
                      "#00cc96",
                      "#ab63fa",
                      "#FFA15A",
                      "#19d3f3",
                      "#FF6692",
                      "#B6E880",
                      "#FF97FF",
                      "#FECB52"
                    ],
                    "font": {
                      "color": "#2a3f5f"
                    },
                    "geo": {
                      "bgcolor": "white",
                      "lakecolor": "white",
                      "landcolor": "#E5ECF6",
                      "showlakes": true,
                      "showland": true,
                      "subunitcolor": "white"
                    },
                    "hoverlabel": {
                      "align": "left"
                    },
                    "hovermode": "closest",
                    "mapbox": {
                      "style": "light"
                    },
                    "paper_bgcolor": "white",
                    "plot_bgcolor": "#E5ECF6",
                    "polar": {
                      "angularaxis": {
                        "gridcolor": "white",
                        "linecolor": "white",
                        "ticks": ""
                      },
                      "bgcolor": "#E5ECF6",
                      "radialaxis": {
                        "gridcolor": "white",
                        "linecolor": "white",
                        "ticks": ""
                      }
                    },
                    "scene": {
                      "xaxis": {
                        "backgroundcolor": "#E5ECF6",
                        "gridcolor": "white",
                        "gridwidth": 2,
                        "linecolor": "white",
                        "showbackground": true,
                        "ticks": "",
                        "zerolinecolor": "white"
                      },
                      "yaxis": {
                        "backgroundcolor": "#E5ECF6",
                        "gridcolor": "white",
                        "gridwidth": 2,
                        "linecolor": "white",
                        "showbackground": true,
                        "ticks": "",
                        "zerolinecolor": "white"
                      },
                      "zaxis": {
                        "backgroundcolor": "#E5ECF6",
                        "gridcolor": "white",
                        "gridwidth": 2,
                        "linecolor": "white",
                        "showbackground": true,
                        "ticks": "",
                        "zerolinecolor": "white"
                      }
                    },
                    "shapedefaults": {
                      "line": {
                        "color": "#2a3f5f"
                      }
                    },
                    "ternary": {
                      "aaxis": {
                        "gridcolor": "white",
                        "linecolor": "white",
                        "ticks": ""
                      },
                      "baxis": {
                        "gridcolor": "white",
                        "linecolor": "white",
                        "ticks": ""
                      },
                      "bgcolor": "#E5ECF6",
                      "caxis": {
                        "gridcolor": "white",
                        "linecolor": "white",
                        "ticks": ""
                      }
                    },
                    "title": {
                      "x": 0.05
                    },
                    "xaxis": {
                      "automargin": true,
                      "gridcolor": "white",
                      "linecolor": "white",
                      "ticks": "",
                      "title": {
                        "standoff": 15
                      },
                      "zerolinecolor": "white",
                      "zerolinewidth": 2
                    },
                    "yaxis": {
                      "automargin": true,
                      "gridcolor": "white",
                      "linecolor": "white",
                      "ticks": "",
                      "title": {
                        "standoff": 15
                      },
                      "zerolinecolor": "white",
                      "zerolinewidth": 2
                    }
                  }
                },
                "title": {
                  "text": "Police Deaths by Gender"
                },
                "width": 500,
                "xaxis": {
                  "title": {
                    "text": "Gender"
                  }
                },
                "yaxis": {
                  "title": {
                    "text": "Number of Police Deaths"
                  }
                }
              }
            }
          },
          "metadata": {},
          "output_type": "display_data"
        }
      ],
      "source": [
        "gender_deaths_bar = go.Figure()\n",
        "gender_deaths_bar.add_trace(go.Bar(x=gender_deaths.gender, \n",
        "                    y=gender_deaths.Deaths,\n",
        "                    hovertemplate=\"<br>Gender=%{x}<br>Deaths=%{y}<extra></extra>\",\n",
        "                    marker_color=['steelblue','firebrick']))\n",
        "gender_deaths_bar.update_layout(title_text = \"Police Deaths by Gender\",\n",
        "                                width=500)\n",
        "gender_deaths_bar.update_xaxes(title_text=\"Gender\")\n",
        "gender_deaths_bar.update_yaxes(title_text=\"Number of Police Deaths\")\n",
        "gender_deaths_bar.show()"
      ]
    },
    {
      "cell_type": "markdown",
      "metadata": {
        "_uuid": "cd1531c8421bfb6967cebf7039056779f9b960a6",
        "id": "ZxbBdvM0uRpQ"
      },
      "source": [
        "# Create a Box Plot Showing the Age and Manner of Death\n",
        "\n",
        "Break out the data by gender using `df_fatalities`. Is there a difference between men and women in the manner of death? "
      ]
    },
    {
      "cell_type": "code",
      "execution_count": 505,
      "metadata": {
        "id": "WdPPZLJY2shA"
      },
      "outputs": [],
      "source": [
        "gender_MoD = df_fatalities\n",
        "gender_MoD.age = gender_MoD.age.round(-1)\n",
        "male_MoD = gender_MoD[gender_MoD.gender == 'Male']\n",
        "female_MoD = gender_MoD[gender_MoD.gender == 'Female']"
      ]
    },
    {
      "cell_type": "code",
      "execution_count": 507,
      "metadata": {
        "id": "tpPq4uFc2sql"
      },
      "outputs": [
        {
          "data": {
            "application/vnd.plotly.v1+json": {
              "config": {
                "plotlyServerURL": "https://plot.ly"
              },
              "data": [
                {
                  "name": "Male",
                  "quartilemethod": "linear",
                  "type": "box",
                  "x": [
                    "shot",
                    "shot",
                    "shot and Tasered",
                    "shot",
                    "shot",
                    "shot",
                    "shot",
                    "shot",
                    "shot",
                    "shot and Tasered",
                    "shot",
                    "shot",
                    "shot",
                    "shot",
                    "shot",
                    "shot",
                    "shot",
                    "shot",
                    "shot",
                    "shot",
                    "shot",
                    "shot",
                    "shot and Tasered",
                    "shot",
                    "shot",
                    "shot",
                    "shot",
                    "shot",
                    "shot",
                    "shot",
                    "shot",
                    "shot",
                    "shot",
                    "shot",
                    "shot",
                    "shot",
                    "shot",
                    "shot and Tasered",
                    "shot",
                    "shot",
                    "shot",
                    "shot",
                    "shot and Tasered",
                    "shot",
                    "shot",
                    "shot",
                    "shot",
                    "shot",
                    "shot",
                    "shot",
                    "shot",
                    "shot",
                    "shot",
                    "shot",
                    "shot",
                    "shot",
                    "shot",
                    "shot",
                    "shot",
                    "shot",
                    "shot",
                    "shot",
                    "shot",
                    "shot",
                    "shot",
                    "shot and Tasered",
                    "shot",
                    "shot",
                    "shot",
                    "shot",
                    "shot",
                    "shot and Tasered",
                    "shot",
                    "shot",
                    "shot",
                    "shot",
                    "shot",
                    "shot",
                    "shot",
                    "shot",
                    "shot",
                    "shot",
                    "shot",
                    "shot",
                    "shot",
                    "shot",
                    "shot",
                    "shot",
                    "shot",
                    "shot",
                    "shot",
                    "shot",
                    "shot",
                    "shot",
                    "shot",
                    "shot and Tasered",
                    "shot",
                    "shot",
                    "shot",
                    "shot",
                    "shot",
                    "shot",
                    "shot",
                    "shot",
                    "shot",
                    "shot",
                    "shot",
                    "shot and Tasered",
                    "shot",
                    "shot",
                    "shot",
                    "shot",
                    "shot",
                    "shot",
                    "shot",
                    "shot",
                    "shot",
                    "shot",
                    "shot",
                    "shot",
                    "shot",
                    "shot",
                    "shot",
                    "shot",
                    "shot and Tasered",
                    "shot and Tasered",
                    "shot",
                    "shot",
                    "shot",
                    "shot",
                    "shot and Tasered",
                    "shot",
                    "shot",
                    "shot and Tasered",
                    "shot",
                    "shot",
                    "shot",
                    "shot",
                    "shot",
                    "shot and Tasered",
                    "shot",
                    "shot",
                    "shot",
                    "shot",
                    "shot and Tasered",
                    "shot",
                    "shot",
                    "shot",
                    "shot",
                    "shot",
                    "shot",
                    "shot",
                    "shot",
                    "shot",
                    "shot",
                    "shot",
                    "shot",
                    "shot",
                    "shot",
                    "shot",
                    "shot",
                    "shot",
                    "shot",
                    "shot",
                    "shot",
                    "shot",
                    "shot",
                    "shot",
                    "shot",
                    "shot",
                    "shot",
                    "shot",
                    "shot",
                    "shot",
                    "shot",
                    "shot",
                    "shot",
                    "shot",
                    "shot",
                    "shot",
                    "shot",
                    "shot",
                    "shot",
                    "shot",
                    "shot",
                    "shot",
                    "shot",
                    "shot",
                    "shot",
                    "shot",
                    "shot",
                    "shot",
                    "shot",
                    "shot",
                    "shot",
                    "shot",
                    "shot",
                    "shot",
                    "shot",
                    "shot",
                    "shot",
                    "shot",
                    "shot",
                    "shot",
                    "shot",
                    "shot",
                    "shot and Tasered",
                    "shot and Tasered",
                    "shot",
                    "shot",
                    "shot",
                    "shot",
                    "shot",
                    "shot",
                    "shot",
                    "shot and Tasered",
                    "shot",
                    "shot",
                    "shot",
                    "shot",
                    "shot",
                    "shot",
                    "shot",
                    "shot",
                    "shot",
                    "shot",
                    "shot",
                    "shot",
                    "shot",
                    "shot",
                    "shot",
                    "shot",
                    "shot and Tasered",
                    "shot",
                    "shot",
                    "shot",
                    "shot",
                    "shot and Tasered",
                    "shot",
                    "shot",
                    "shot",
                    "shot",
                    "shot",
                    "shot",
                    "shot",
                    "shot",
                    "shot",
                    "shot",
                    "shot",
                    "shot",
                    "shot and Tasered",
                    "shot",
                    "shot",
                    "shot",
                    "shot",
                    "shot",
                    "shot",
                    "shot",
                    "shot",
                    "shot",
                    "shot",
                    "shot",
                    "shot",
                    "shot",
                    "shot",
                    "shot",
                    "shot",
                    "shot",
                    "shot",
                    "shot",
                    "shot",
                    "shot",
                    "shot",
                    "shot",
                    "shot",
                    "shot",
                    "shot",
                    "shot",
                    "shot",
                    "shot",
                    "shot",
                    "shot",
                    "shot",
                    "shot",
                    "shot",
                    "shot",
                    "shot",
                    "shot",
                    "shot",
                    "shot",
                    "shot",
                    "shot",
                    "shot",
                    "shot",
                    "shot",
                    "shot",
                    "shot",
                    "shot",
                    "shot",
                    "shot",
                    "shot",
                    "shot",
                    "shot",
                    "shot",
                    "shot",
                    "shot",
                    "shot",
                    "shot",
                    "shot",
                    "shot",
                    "shot and Tasered",
                    "shot",
                    "shot",
                    "shot",
                    "shot",
                    "shot",
                    "shot",
                    "shot",
                    "shot",
                    "shot",
                    "shot",
                    "shot",
                    "shot",
                    "shot",
                    "shot",
                    "shot",
                    "shot",
                    "shot",
                    "shot",
                    "shot",
                    "shot",
                    "shot",
                    "shot",
                    "shot",
                    "shot and Tasered",
                    "shot",
                    "shot",
                    "shot",
                    "shot",
                    "shot",
                    "shot",
                    "shot",
                    "shot",
                    "shot",
                    "shot",
                    "shot",
                    "shot",
                    "shot",
                    "shot and Tasered",
                    "shot",
                    "shot",
                    "shot",
                    "shot",
                    "shot",
                    "shot",
                    "shot",
                    "shot",
                    "shot",
                    "shot",
                    "shot",
                    "shot",
                    "shot",
                    "shot",
                    "shot",
                    "shot",
                    "shot",
                    "shot",
                    "shot and Tasered",
                    "shot and Tasered",
                    "shot",
                    "shot",
                    "shot",
                    "shot and Tasered",
                    "shot",
                    "shot",
                    "shot",
                    "shot",
                    "shot",
                    "shot",
                    "shot",
                    "shot",
                    "shot",
                    "shot",
                    "shot",
                    "shot and Tasered",
                    "shot",
                    "shot",
                    "shot",
                    "shot",
                    "shot and Tasered",
                    "shot",
                    "shot",
                    "shot",
                    "shot",
                    "shot",
                    "shot",
                    "shot",
                    "shot",
                    "shot",
                    "shot",
                    "shot",
                    "shot",
                    "shot",
                    "shot",
                    "shot",
                    "shot",
                    "shot",
                    "shot",
                    "shot",
                    "shot",
                    "shot",
                    "shot",
                    "shot",
                    "shot",
                    "shot",
                    "shot",
                    "shot",
                    "shot",
                    "shot",
                    "shot",
                    "shot",
                    "shot",
                    "shot",
                    "shot",
                    "shot",
                    "shot",
                    "shot",
                    "shot",
                    "shot",
                    "shot",
                    "shot",
                    "shot",
                    "shot",
                    "shot",
                    "shot",
                    "shot",
                    "shot",
                    "shot",
                    "shot",
                    "shot",
                    "shot",
                    "shot",
                    "shot",
                    "shot",
                    "shot",
                    "shot",
                    "shot",
                    "shot",
                    "shot and Tasered",
                    "shot",
                    "shot",
                    "shot",
                    "shot",
                    "shot",
                    "shot",
                    "shot",
                    "shot",
                    "shot",
                    "shot and Tasered",
                    "shot",
                    "shot",
                    "shot",
                    "shot and Tasered",
                    "shot and Tasered",
                    "shot",
                    "shot",
                    "shot",
                    "shot",
                    "shot",
                    "shot",
                    "shot",
                    "shot",
                    "shot",
                    "shot",
                    "shot",
                    "shot",
                    "shot",
                    "shot",
                    "shot",
                    "shot and Tasered",
                    "shot",
                    "shot",
                    "shot",
                    "shot",
                    "shot",
                    "shot",
                    "shot and Tasered",
                    "shot",
                    "shot",
                    "shot",
                    "shot",
                    "shot",
                    "shot",
                    "shot and Tasered",
                    "shot",
                    "shot",
                    "shot and Tasered",
                    "shot and Tasered",
                    "shot",
                    "shot",
                    "shot",
                    "shot",
                    "shot",
                    "shot",
                    "shot",
                    "shot and Tasered",
                    "shot",
                    "shot",
                    "shot",
                    "shot",
                    "shot",
                    "shot",
                    "shot",
                    "shot",
                    "shot",
                    "shot",
                    "shot",
                    "shot",
                    "shot",
                    "shot and Tasered",
                    "shot",
                    "shot",
                    "shot and Tasered",
                    "shot",
                    "shot",
                    "shot",
                    "shot and Tasered",
                    "shot",
                    "shot",
                    "shot",
                    "shot",
                    "shot",
                    "shot",
                    "shot",
                    "shot",
                    "shot and Tasered",
                    "shot",
                    "shot",
                    "shot",
                    "shot",
                    "shot",
                    "shot",
                    "shot and Tasered",
                    "shot",
                    "shot",
                    "shot",
                    "shot",
                    "shot",
                    "shot",
                    "shot",
                    "shot",
                    "shot",
                    "shot",
                    "shot",
                    "shot",
                    "shot",
                    "shot",
                    "shot",
                    "shot",
                    "shot",
                    "shot",
                    "shot",
                    "shot",
                    "shot",
                    "shot",
                    "shot",
                    "shot",
                    "shot",
                    "shot",
                    "shot",
                    "shot",
                    "shot",
                    "shot",
                    "shot",
                    "shot",
                    "shot",
                    "shot",
                    "shot",
                    "shot and Tasered",
                    "shot",
                    "shot",
                    "shot",
                    "shot",
                    "shot",
                    "shot",
                    "shot",
                    "shot",
                    "shot and Tasered",
                    "shot and Tasered",
                    "shot",
                    "shot",
                    "shot",
                    "shot",
                    "shot",
                    "shot",
                    "shot",
                    "shot",
                    "shot",
                    "shot",
                    "shot",
                    "shot",
                    "shot and Tasered",
                    "shot",
                    "shot",
                    "shot",
                    "shot",
                    "shot",
                    "shot and Tasered",
                    "shot",
                    "shot",
                    "shot",
                    "shot",
                    "shot",
                    "shot",
                    "shot",
                    "shot",
                    "shot",
                    "shot",
                    "shot",
                    "shot",
                    "shot",
                    "shot",
                    "shot",
                    "shot",
                    "shot and Tasered",
                    "shot",
                    "shot",
                    "shot",
                    "shot",
                    "shot",
                    "shot",
                    "shot",
                    "shot",
                    "shot",
                    "shot",
                    "shot",
                    "shot",
                    "shot",
                    "shot",
                    "shot",
                    "shot",
                    "shot",
                    "shot",
                    "shot",
                    "shot and Tasered",
                    "shot",
                    "shot",
                    "shot",
                    "shot",
                    "shot",
                    "shot",
                    "shot",
                    "shot",
                    "shot",
                    "shot",
                    "shot",
                    "shot",
                    "shot",
                    "shot",
                    "shot",
                    "shot",
                    "shot",
                    "shot",
                    "shot",
                    "shot",
                    "shot",
                    "shot",
                    "shot",
                    "shot",
                    "shot",
                    "shot",
                    "shot",
                    "shot",
                    "shot",
                    "shot",
                    "shot",
                    "shot",
                    "shot",
                    "shot",
                    "shot",
                    "shot",
                    "shot",
                    "shot",
                    "shot",
                    "shot",
                    "shot",
                    "shot",
                    "shot",
                    "shot",
                    "shot",
                    "shot and Tasered",
                    "shot",
                    "shot",
                    "shot",
                    "shot",
                    "shot",
                    "shot",
                    "shot",
                    "shot",
                    "shot",
                    "shot",
                    "shot",
                    "shot",
                    "shot",
                    "shot",
                    "shot",
                    "shot and Tasered",
                    "shot",
                    "shot",
                    "shot",
                    "shot",
                    "shot",
                    "shot and Tasered",
                    "shot",
                    "shot",
                    "shot",
                    "shot",
                    "shot",
                    "shot and Tasered",
                    "shot",
                    "shot",
                    "shot",
                    "shot",
                    "shot",
                    "shot",
                    "shot",
                    "shot",
                    "shot",
                    "shot",
                    "shot",
                    "shot",
                    "shot",
                    "shot",
                    "shot",
                    "shot and Tasered",
                    "shot",
                    "shot",
                    "shot",
                    "shot",
                    "shot",
                    "shot",
                    "shot",
                    "shot",
                    "shot",
                    "shot",
                    "shot",
                    "shot",
                    "shot",
                    "shot",
                    "shot",
                    "shot",
                    "shot",
                    "shot",
                    "shot",
                    "shot",
                    "shot and Tasered",
                    "shot",
                    "shot",
                    "shot",
                    "shot",
                    "shot",
                    "shot",
                    "shot",
                    "shot",
                    "shot",
                    "shot",
                    "shot",
                    "shot",
                    "shot",
                    "shot",
                    "shot",
                    "shot",
                    "shot",
                    "shot",
                    "shot",
                    "shot",
                    "shot",
                    "shot",
                    "shot",
                    "shot",
                    "shot",
                    "shot",
                    "shot",
                    "shot",
                    "shot",
                    "shot",
                    "shot",
                    "shot",
                    "shot",
                    "shot",
                    "shot and Tasered",
                    "shot",
                    "shot",
                    "shot",
                    "shot",
                    "shot",
                    "shot",
                    "shot",
                    "shot",
                    "shot",
                    "shot",
                    "shot",
                    "shot",
                    "shot",
                    "shot",
                    "shot",
                    "shot",
                    "shot",
                    "shot",
                    "shot",
                    "shot",
                    "shot",
                    "shot and Tasered",
                    "shot",
                    "shot",
                    "shot",
                    "shot",
                    "shot",
                    "shot",
                    "shot",
                    "shot",
                    "shot",
                    "shot",
                    "shot",
                    "shot",
                    "shot",
                    "shot",
                    "shot and Tasered",
                    "shot",
                    "shot",
                    "shot",
                    "shot",
                    "shot",
                    "shot",
                    "shot",
                    "shot",
                    "shot",
                    "shot",
                    "shot",
                    "shot",
                    "shot",
                    "shot",
                    "shot",
                    "shot",
                    "shot",
                    "shot",
                    "shot",
                    "shot",
                    "shot",
                    "shot and Tasered",
                    "shot",
                    "shot",
                    "shot and Tasered",
                    "shot",
                    "shot",
                    "shot",
                    "shot",
                    "shot",
                    "shot",
                    "shot",
                    "shot",
                    "shot",
                    "shot",
                    "shot",
                    "shot",
                    "shot",
                    "shot",
                    "shot",
                    "shot",
                    "shot",
                    "shot",
                    "shot",
                    "shot",
                    "shot",
                    "shot",
                    "shot and Tasered",
                    "shot",
                    "shot",
                    "shot and Tasered",
                    "shot",
                    "shot",
                    "shot",
                    "shot",
                    "shot",
                    "shot",
                    "shot",
                    "shot",
                    "shot",
                    "shot",
                    "shot",
                    "shot",
                    "shot",
                    "shot",
                    "shot",
                    "shot",
                    "shot",
                    "shot",
                    "shot",
                    "shot",
                    "shot",
                    "shot",
                    "shot",
                    "shot",
                    "shot",
                    "shot and Tasered",
                    "shot",
                    "shot",
                    "shot",
                    "shot",
                    "shot",
                    "shot",
                    "shot",
                    "shot",
                    "shot",
                    "shot",
                    "shot",
                    "shot",
                    "shot",
                    "shot",
                    "shot",
                    "shot",
                    "shot",
                    "shot",
                    "shot",
                    "shot",
                    "shot",
                    "shot",
                    "shot",
                    "shot",
                    "shot",
                    "shot",
                    "shot",
                    "shot",
                    "shot",
                    "shot",
                    "shot",
                    "shot",
                    "shot",
                    "shot",
                    "shot",
                    "shot",
                    "shot",
                    "shot",
                    "shot",
                    "shot",
                    "shot",
                    "shot",
                    "shot",
                    "shot",
                    "shot",
                    "shot and Tasered",
                    "shot",
                    "shot",
                    "shot",
                    "shot",
                    "shot",
                    "shot",
                    "shot",
                    "shot",
                    "shot",
                    "shot",
                    "shot and Tasered",
                    "shot",
                    "shot",
                    "shot",
                    "shot",
                    "shot",
                    "shot",
                    "shot",
                    "shot",
                    "shot",
                    "shot",
                    "shot",
                    "shot",
                    "shot",
                    "shot",
                    "shot",
                    "shot",
                    "shot",
                    "shot",
                    "shot",
                    "shot",
                    "shot",
                    "shot",
                    "shot",
                    "shot and Tasered",
                    "shot and Tasered",
                    "shot",
                    "shot",
                    "shot",
                    "shot",
                    "shot",
                    "shot",
                    "shot",
                    "shot",
                    "shot",
                    "shot",
                    "shot",
                    "shot",
                    "shot",
                    "shot",
                    "shot",
                    "shot and Tasered",
                    "shot",
                    "shot",
                    "shot",
                    "shot",
                    "shot",
                    "shot",
                    "shot",
                    "shot",
                    "shot",
                    "shot",
                    "shot",
                    "shot",
                    "shot",
                    "shot",
                    "shot",
                    "shot",
                    "shot",
                    "shot and Tasered",
                    "shot",
                    "shot and Tasered",
                    "shot",
                    "shot",
                    "shot",
                    "shot and Tasered",
                    "shot",
                    "shot",
                    "shot",
                    "shot",
                    "shot",
                    "shot",
                    "shot",
                    "shot",
                    "shot",
                    "shot",
                    "shot",
                    "shot",
                    "shot",
                    "shot",
                    "shot",
                    "shot",
                    "shot",
                    "shot",
                    "shot",
                    "shot",
                    "shot",
                    "shot",
                    "shot",
                    "shot",
                    "shot",
                    "shot",
                    "shot",
                    "shot",
                    "shot",
                    "shot",
                    "shot",
                    "shot",
                    "shot and Tasered",
                    "shot",
                    "shot",
                    "shot",
                    "shot",
                    "shot",
                    "shot",
                    "shot",
                    "shot",
                    "shot",
                    "shot",
                    "shot",
                    "shot and Tasered",
                    "shot",
                    "shot",
                    "shot",
                    "shot",
                    "shot",
                    "shot",
                    "shot",
                    "shot",
                    "shot",
                    "shot",
                    "shot",
                    "shot",
                    "shot",
                    "shot",
                    "shot",
                    "shot",
                    "shot",
                    "shot and Tasered",
                    "shot",
                    "shot",
                    "shot",
                    "shot",
                    "shot",
                    "shot",
                    "shot",
                    "shot",
                    "shot",
                    "shot",
                    "shot",
                    "shot",
                    "shot",
                    "shot",
                    "shot",
                    "shot",
                    "shot",
                    "shot",
                    "shot",
                    "shot",
                    "shot and Tasered",
                    "shot",
                    "shot",
                    "shot",
                    "shot",
                    "shot",
                    "shot",
                    "shot",
                    "shot",
                    "shot",
                    "shot",
                    "shot",
                    "shot",
                    "shot",
                    "shot",
                    "shot",
                    "shot",
                    "shot",
                    "shot",
                    "shot",
                    "shot",
                    "shot",
                    "shot",
                    "shot",
                    "shot and Tasered",
                    "shot and Tasered",
                    "shot",
                    "shot",
                    "shot",
                    "shot",
                    "shot",
                    "shot",
                    "shot",
                    "shot",
                    "shot",
                    "shot",
                    "shot",
                    "shot",
                    "shot",
                    "shot",
                    "shot",
                    "shot",
                    "shot",
                    "shot",
                    "shot",
                    "shot",
                    "shot",
                    "shot",
                    "shot",
                    "shot",
                    "shot",
                    "shot",
                    "shot",
                    "shot and Tasered",
                    "shot",
                    "shot",
                    "shot",
                    "shot",
                    "shot",
                    "shot",
                    "shot",
                    "shot",
                    "shot",
                    "shot",
                    "shot",
                    "shot",
                    "shot",
                    "shot",
                    "shot",
                    "shot",
                    "shot",
                    "shot",
                    "shot",
                    "shot",
                    "shot",
                    "shot and Tasered",
                    "shot",
                    "shot",
                    "shot",
                    "shot",
                    "shot",
                    "shot",
                    "shot",
                    "shot",
                    "shot",
                    "shot",
                    "shot",
                    "shot",
                    "shot",
                    "shot",
                    "shot",
                    "shot",
                    "shot",
                    "shot",
                    "shot and Tasered",
                    "shot",
                    "shot",
                    "shot",
                    "shot",
                    "shot",
                    "shot",
                    "shot",
                    "shot",
                    "shot",
                    "shot",
                    "shot",
                    "shot",
                    "shot",
                    "shot",
                    "shot",
                    "shot",
                    "shot",
                    "shot and Tasered",
                    "shot",
                    "shot",
                    "shot",
                    "shot",
                    "shot",
                    "shot",
                    "shot",
                    "shot",
                    "shot",
                    "shot",
                    "shot",
                    "shot",
                    "shot",
                    "shot",
                    "shot",
                    "shot",
                    "shot",
                    "shot",
                    "shot",
                    "shot",
                    "shot",
                    "shot",
                    "shot and Tasered",
                    "shot",
                    "shot",
                    "shot",
                    "shot",
                    "shot",
                    "shot",
                    "shot",
                    "shot",
                    "shot and Tasered",
                    "shot",
                    "shot",
                    "shot",
                    "shot",
                    "shot",
                    "shot",
                    "shot",
                    "shot",
                    "shot",
                    "shot",
                    "shot",
                    "shot",
                    "shot",
                    "shot",
                    "shot",
                    "shot",
                    "shot",
                    "shot",
                    "shot",
                    "shot and Tasered",
                    "shot",
                    "shot",
                    "shot",
                    "shot",
                    "shot",
                    "shot",
                    "shot",
                    "shot",
                    "shot",
                    "shot",
                    "shot",
                    "shot",
                    "shot",
                    "shot",
                    "shot",
                    "shot",
                    "shot and Tasered",
                    "shot",
                    "shot",
                    "shot",
                    "shot",
                    "shot",
                    "shot",
                    "shot",
                    "shot",
                    "shot",
                    "shot",
                    "shot",
                    "shot",
                    "shot",
                    "shot",
                    "shot",
                    "shot",
                    "shot",
                    "shot",
                    "shot",
                    "shot",
                    "shot",
                    "shot",
                    "shot",
                    "shot",
                    "shot",
                    "shot",
                    "shot",
                    "shot",
                    "shot",
                    "shot",
                    "shot",
                    "shot",
                    "shot",
                    "shot",
                    "shot",
                    "shot",
                    "shot and Tasered",
                    "shot",
                    "shot",
                    "shot",
                    "shot",
                    "shot",
                    "shot",
                    "shot",
                    "shot",
                    "shot",
                    "shot",
                    "shot",
                    "shot",
                    "shot",
                    "shot",
                    "shot",
                    "shot",
                    "shot",
                    "shot",
                    "shot",
                    "shot",
                    "shot",
                    "shot",
                    "shot",
                    "shot",
                    "shot",
                    "shot",
                    "shot",
                    "shot",
                    "shot",
                    "shot",
                    "shot",
                    "shot",
                    "shot",
                    "shot",
                    "shot",
                    "shot",
                    "shot",
                    "shot",
                    "shot",
                    "shot",
                    "shot",
                    "shot",
                    "shot",
                    "shot",
                    "shot",
                    "shot",
                    "shot",
                    "shot",
                    "shot",
                    "shot",
                    "shot",
                    "shot",
                    "shot",
                    "shot",
                    "shot",
                    "shot and Tasered",
                    "shot",
                    "shot",
                    "shot",
                    "shot",
                    "shot",
                    "shot",
                    "shot",
                    "shot",
                    "shot",
                    "shot",
                    "shot",
                    "shot",
                    "shot",
                    "shot",
                    "shot",
                    "shot",
                    "shot",
                    "shot",
                    "shot and Tasered",
                    "shot",
                    "shot",
                    "shot",
                    "shot",
                    "shot",
                    "shot",
                    "shot",
                    "shot",
                    "shot",
                    "shot",
                    "shot",
                    "shot",
                    "shot",
                    "shot",
                    "shot",
                    "shot",
                    "shot",
                    "shot",
                    "shot",
                    "shot",
                    "shot and Tasered",
                    "shot",
                    "shot",
                    "shot",
                    "shot",
                    "shot",
                    "shot",
                    "shot",
                    "shot",
                    "shot",
                    "shot",
                    "shot and Tasered",
                    "shot",
                    "shot",
                    "shot",
                    "shot",
                    "shot",
                    "shot",
                    "shot",
                    "shot",
                    "shot",
                    "shot",
                    "shot",
                    "shot",
                    "shot",
                    "shot",
                    "shot",
                    "shot",
                    "shot",
                    "shot",
                    "shot",
                    "shot",
                    "shot",
                    "shot and Tasered",
                    "shot",
                    "shot",
                    "shot and Tasered",
                    "shot",
                    "shot",
                    "shot",
                    "shot",
                    "shot",
                    "shot",
                    "shot",
                    "shot",
                    "shot",
                    "shot",
                    "shot",
                    "shot",
                    "shot",
                    "shot",
                    "shot",
                    "shot",
                    "shot",
                    "shot",
                    "shot",
                    "shot",
                    "shot",
                    "shot",
                    "shot",
                    "shot",
                    "shot",
                    "shot",
                    "shot",
                    "shot",
                    "shot",
                    "shot",
                    "shot",
                    "shot",
                    "shot",
                    "shot",
                    "shot",
                    "shot",
                    "shot",
                    "shot",
                    "shot",
                    "shot",
                    "shot",
                    "shot",
                    "shot",
                    "shot",
                    "shot",
                    "shot",
                    "shot",
                    "shot",
                    "shot",
                    "shot",
                    "shot",
                    "shot",
                    "shot",
                    "shot",
                    "shot",
                    "shot",
                    "shot",
                    "shot",
                    "shot",
                    "shot",
                    "shot",
                    "shot and Tasered",
                    "shot",
                    "shot",
                    "shot",
                    "shot",
                    "shot",
                    "shot",
                    "shot",
                    "shot",
                    "shot",
                    "shot",
                    "shot",
                    "shot",
                    "shot",
                    "shot",
                    "shot",
                    "shot",
                    "shot",
                    "shot",
                    "shot",
                    "shot",
                    "shot",
                    "shot",
                    "shot",
                    "shot",
                    "shot",
                    "shot",
                    "shot",
                    "shot",
                    "shot",
                    "shot",
                    "shot",
                    "shot",
                    "shot",
                    "shot and Tasered",
                    "shot",
                    "shot",
                    "shot",
                    "shot",
                    "shot and Tasered",
                    "shot",
                    "shot",
                    "shot",
                    "shot and Tasered",
                    "shot and Tasered",
                    "shot and Tasered",
                    "shot",
                    "shot",
                    "shot and Tasered",
                    "shot",
                    "shot",
                    "shot",
                    "shot",
                    "shot",
                    "shot and Tasered",
                    "shot",
                    "shot",
                    "shot",
                    "shot",
                    "shot",
                    "shot",
                    "shot",
                    "shot",
                    "shot",
                    "shot",
                    "shot",
                    "shot",
                    "shot",
                    "shot",
                    "shot",
                    "shot",
                    "shot",
                    "shot",
                    "shot",
                    "shot",
                    "shot",
                    "shot",
                    "shot",
                    "shot",
                    "shot",
                    "shot",
                    "shot",
                    "shot",
                    "shot",
                    "shot",
                    "shot",
                    "shot",
                    "shot",
                    "shot and Tasered",
                    "shot",
                    "shot",
                    "shot and Tasered",
                    "shot",
                    "shot",
                    "shot",
                    "shot",
                    "shot",
                    "shot",
                    "shot",
                    "shot",
                    "shot",
                    "shot",
                    "shot",
                    "shot",
                    "shot",
                    "shot",
                    "shot",
                    "shot",
                    "shot",
                    "shot",
                    "shot",
                    "shot",
                    "shot",
                    "shot",
                    "shot",
                    "shot",
                    "shot",
                    "shot",
                    "shot",
                    "shot",
                    "shot",
                    "shot",
                    "shot",
                    "shot",
                    "shot",
                    "shot",
                    "shot",
                    "shot",
                    "shot",
                    "shot",
                    "shot",
                    "shot",
                    "shot",
                    "shot",
                    "shot",
                    "shot",
                    "shot",
                    "shot",
                    "shot",
                    "shot",
                    "shot",
                    "shot",
                    "shot",
                    "shot",
                    "shot",
                    "shot",
                    "shot",
                    "shot",
                    "shot",
                    "shot",
                    "shot",
                    "shot",
                    "shot",
                    "shot",
                    "shot",
                    "shot",
                    "shot",
                    "shot",
                    "shot",
                    "shot and Tasered",
                    "shot",
                    "shot",
                    "shot",
                    "shot",
                    "shot",
                    "shot and Tasered",
                    "shot",
                    "shot",
                    "shot and Tasered",
                    "shot",
                    "shot",
                    "shot",
                    "shot",
                    "shot",
                    "shot",
                    "shot",
                    "shot and Tasered",
                    "shot",
                    "shot",
                    "shot",
                    "shot",
                    "shot",
                    "shot",
                    "shot",
                    "shot",
                    "shot",
                    "shot and Tasered",
                    "shot",
                    "shot",
                    "shot",
                    "shot",
                    "shot",
                    "shot",
                    "shot",
                    "shot",
                    "shot",
                    "shot",
                    "shot",
                    "shot",
                    "shot",
                    "shot",
                    "shot",
                    "shot",
                    "shot",
                    "shot",
                    "shot",
                    "shot",
                    "shot",
                    "shot",
                    "shot",
                    "shot and Tasered",
                    "shot",
                    "shot and Tasered",
                    "shot",
                    "shot",
                    "shot",
                    "shot",
                    "shot and Tasered",
                    "shot",
                    "shot",
                    "shot",
                    "shot",
                    "shot",
                    "shot",
                    "shot and Tasered",
                    "shot",
                    "shot",
                    "shot",
                    "shot",
                    "shot",
                    "shot and Tasered",
                    "shot",
                    "shot",
                    "shot",
                    "shot",
                    "shot",
                    "shot",
                    "shot",
                    "shot and Tasered",
                    "shot and Tasered",
                    "shot",
                    "shot and Tasered",
                    "shot",
                    "shot",
                    "shot and Tasered",
                    "shot",
                    "shot",
                    "shot",
                    "shot",
                    "shot",
                    "shot",
                    "shot",
                    "shot",
                    "shot",
                    "shot",
                    "shot",
                    "shot",
                    "shot",
                    "shot",
                    "shot",
                    "shot",
                    "shot",
                    "shot",
                    "shot and Tasered",
                    "shot",
                    "shot",
                    "shot",
                    "shot",
                    "shot",
                    "shot",
                    "shot",
                    "shot",
                    "shot",
                    "shot",
                    "shot",
                    "shot",
                    "shot",
                    "shot",
                    "shot",
                    "shot",
                    "shot",
                    "shot",
                    "shot",
                    "shot",
                    "shot",
                    "shot",
                    "shot",
                    "shot and Tasered",
                    "shot and Tasered",
                    "shot",
                    "shot",
                    "shot",
                    "shot",
                    "shot",
                    "shot",
                    "shot",
                    "shot",
                    "shot",
                    "shot",
                    "shot and Tasered",
                    "shot",
                    "shot",
                    "shot",
                    "shot",
                    "shot",
                    "shot",
                    "shot",
                    "shot and Tasered",
                    "shot and Tasered",
                    "shot",
                    "shot",
                    "shot",
                    "shot",
                    "shot",
                    "shot",
                    "shot",
                    "shot",
                    "shot",
                    "shot",
                    "shot",
                    "shot",
                    "shot",
                    "shot",
                    "shot",
                    "shot",
                    "shot",
                    "shot",
                    "shot",
                    "shot",
                    "shot and Tasered",
                    "shot",
                    "shot",
                    "shot",
                    "shot",
                    "shot",
                    "shot",
                    "shot",
                    "shot",
                    "shot",
                    "shot",
                    "shot",
                    "shot",
                    "shot",
                    "shot",
                    "shot",
                    "shot",
                    "shot and Tasered",
                    "shot and Tasered",
                    "shot",
                    "shot",
                    "shot",
                    "shot",
                    "shot and Tasered",
                    "shot",
                    "shot",
                    "shot",
                    "shot",
                    "shot and Tasered",
                    "shot",
                    "shot",
                    "shot",
                    "shot",
                    "shot",
                    "shot",
                    "shot",
                    "shot",
                    "shot",
                    "shot",
                    "shot",
                    "shot",
                    "shot",
                    "shot",
                    "shot",
                    "shot",
                    "shot",
                    "shot",
                    "shot and Tasered",
                    "shot",
                    "shot",
                    "shot",
                    "shot",
                    "shot",
                    "shot",
                    "shot",
                    "shot",
                    "shot and Tasered",
                    "shot",
                    "shot",
                    "shot and Tasered",
                    "shot",
                    "shot",
                    "shot and Tasered",
                    "shot",
                    "shot",
                    "shot and Tasered",
                    "shot",
                    "shot",
                    "shot",
                    "shot",
                    "shot and Tasered",
                    "shot",
                    "shot",
                    "shot",
                    "shot",
                    "shot and Tasered",
                    "shot",
                    "shot",
                    "shot",
                    "shot",
                    "shot",
                    "shot",
                    "shot",
                    "shot and Tasered",
                    "shot",
                    "shot",
                    "shot",
                    "shot",
                    "shot",
                    "shot",
                    "shot and Tasered",
                    "shot",
                    "shot",
                    "shot",
                    "shot",
                    "shot",
                    "shot",
                    "shot",
                    "shot",
                    "shot",
                    "shot",
                    "shot",
                    "shot",
                    "shot",
                    "shot",
                    "shot",
                    "shot",
                    "shot",
                    "shot and Tasered",
                    "shot and Tasered",
                    "shot and Tasered",
                    "shot",
                    "shot",
                    "shot",
                    "shot",
                    "shot",
                    "shot",
                    "shot",
                    "shot",
                    "shot",
                    "shot",
                    "shot",
                    "shot",
                    "shot",
                    "shot",
                    "shot",
                    "shot",
                    "shot",
                    "shot",
                    "shot",
                    "shot",
                    "shot and Tasered",
                    "shot and Tasered",
                    "shot",
                    "shot",
                    "shot",
                    "shot",
                    "shot",
                    "shot",
                    "shot",
                    "shot and Tasered",
                    "shot and Tasered",
                    "shot",
                    "shot",
                    "shot",
                    "shot",
                    "shot",
                    "shot",
                    "shot",
                    "shot",
                    "shot",
                    "shot",
                    "shot",
                    "shot",
                    "shot",
                    "shot",
                    "shot",
                    "shot",
                    "shot",
                    "shot",
                    "shot",
                    "shot",
                    "shot",
                    "shot",
                    "shot",
                    "shot",
                    "shot",
                    "shot",
                    "shot",
                    "shot",
                    "shot",
                    "shot",
                    "shot",
                    "shot",
                    "shot",
                    "shot",
                    "shot",
                    "shot",
                    "shot",
                    "shot",
                    "shot",
                    "shot and Tasered",
                    "shot",
                    "shot",
                    "shot",
                    "shot",
                    "shot",
                    "shot",
                    "shot",
                    "shot",
                    "shot",
                    "shot",
                    "shot",
                    "shot",
                    "shot",
                    "shot",
                    "shot",
                    "shot",
                    "shot",
                    "shot",
                    "shot",
                    "shot",
                    "shot",
                    "shot",
                    "shot",
                    "shot",
                    "shot",
                    "shot",
                    "shot",
                    "shot",
                    "shot",
                    "shot",
                    "shot",
                    "shot",
                    "shot",
                    "shot",
                    "shot and Tasered",
                    "shot",
                    "shot",
                    "shot and Tasered",
                    "shot",
                    "shot",
                    "shot",
                    "shot and Tasered",
                    "shot",
                    "shot",
                    "shot",
                    "shot",
                    "shot and Tasered",
                    "shot",
                    "shot",
                    "shot",
                    "shot",
                    "shot",
                    "shot",
                    "shot",
                    "shot",
                    "shot",
                    "shot",
                    "shot",
                    "shot",
                    "shot and Tasered",
                    "shot",
                    "shot",
                    "shot",
                    "shot and Tasered",
                    "shot",
                    "shot",
                    "shot",
                    "shot",
                    "shot",
                    "shot",
                    "shot",
                    "shot",
                    "shot",
                    "shot",
                    "shot",
                    "shot",
                    "shot",
                    "shot",
                    "shot",
                    "shot",
                    "shot",
                    "shot",
                    "shot",
                    "shot",
                    "shot",
                    "shot",
                    "shot",
                    "shot",
                    "shot",
                    "shot",
                    "shot",
                    "shot",
                    "shot",
                    "shot",
                    "shot",
                    "shot",
                    "shot",
                    "shot",
                    "shot",
                    "shot and Tasered",
                    "shot",
                    "shot",
                    "shot",
                    "shot",
                    "shot",
                    "shot",
                    "shot",
                    "shot",
                    "shot",
                    "shot",
                    "shot",
                    "shot",
                    "shot",
                    "shot",
                    "shot",
                    "shot",
                    "shot",
                    "shot",
                    "shot",
                    "shot",
                    "shot",
                    "shot",
                    "shot",
                    "shot",
                    "shot",
                    "shot",
                    "shot",
                    "shot",
                    "shot",
                    "shot",
                    "shot",
                    "shot",
                    "shot",
                    "shot and Tasered",
                    "shot",
                    "shot",
                    "shot",
                    "shot",
                    "shot",
                    "shot",
                    "shot",
                    "shot",
                    "shot",
                    "shot",
                    "shot",
                    "shot",
                    "shot",
                    "shot",
                    "shot and Tasered",
                    "shot and Tasered",
                    "shot",
                    "shot",
                    "shot",
                    "shot",
                    "shot",
                    "shot",
                    "shot",
                    "shot",
                    "shot",
                    "shot",
                    "shot",
                    "shot",
                    "shot",
                    "shot",
                    "shot and Tasered",
                    "shot",
                    "shot",
                    "shot",
                    "shot",
                    "shot",
                    "shot",
                    "shot",
                    "shot",
                    "shot",
                    "shot",
                    "shot",
                    "shot",
                    "shot",
                    "shot",
                    "shot",
                    "shot",
                    "shot",
                    "shot",
                    "shot",
                    "shot",
                    "shot and Tasered",
                    "shot",
                    "shot and Tasered",
                    "shot",
                    "shot",
                    "shot",
                    "shot",
                    "shot",
                    "shot",
                    "shot",
                    "shot",
                    "shot",
                    "shot",
                    "shot",
                    "shot",
                    "shot",
                    "shot",
                    "shot",
                    "shot",
                    "shot",
                    "shot",
                    "shot",
                    "shot",
                    "shot",
                    "shot",
                    "shot",
                    "shot",
                    "shot and Tasered",
                    "shot",
                    "shot",
                    "shot",
                    "shot",
                    "shot",
                    "shot",
                    "shot",
                    "shot",
                    "shot",
                    "shot",
                    "shot",
                    "shot",
                    "shot",
                    "shot and Tasered",
                    "shot",
                    "shot",
                    "shot",
                    "shot",
                    "shot",
                    "shot",
                    "shot",
                    "shot",
                    "shot",
                    "shot",
                    "shot",
                    "shot",
                    "shot",
                    "shot",
                    "shot",
                    "shot",
                    "shot",
                    "shot",
                    "shot",
                    "shot",
                    "shot",
                    "shot",
                    "shot",
                    "shot",
                    "shot",
                    "shot",
                    "shot",
                    "shot and Tasered",
                    "shot",
                    "shot",
                    "shot and Tasered",
                    "shot",
                    "shot",
                    "shot",
                    "shot",
                    "shot",
                    "shot",
                    "shot and Tasered",
                    "shot",
                    "shot",
                    "shot",
                    "shot",
                    "shot",
                    "shot",
                    "shot",
                    "shot and Tasered",
                    "shot",
                    "shot",
                    "shot",
                    "shot",
                    "shot",
                    "shot",
                    "shot",
                    "shot",
                    "shot",
                    "shot",
                    "shot",
                    "shot and Tasered",
                    "shot",
                    "shot",
                    "shot",
                    "shot",
                    "shot",
                    "shot",
                    "shot",
                    "shot",
                    "shot",
                    "shot",
                    "shot",
                    "shot",
                    "shot",
                    "shot",
                    "shot",
                    "shot",
                    "shot",
                    "shot",
                    "shot and Tasered",
                    "shot",
                    "shot",
                    "shot",
                    "shot",
                    "shot",
                    "shot",
                    "shot",
                    "shot",
                    "shot",
                    "shot",
                    "shot",
                    "shot",
                    "shot",
                    "shot",
                    "shot",
                    "shot",
                    "shot",
                    "shot",
                    "shot",
                    "shot",
                    "shot",
                    "shot",
                    "shot",
                    "shot",
                    "shot",
                    "shot",
                    "shot",
                    "shot",
                    "shot",
                    "shot",
                    "shot",
                    "shot",
                    "shot",
                    "shot",
                    "shot",
                    "shot",
                    "shot",
                    "shot",
                    "shot",
                    "shot",
                    "shot",
                    "shot",
                    "shot",
                    "shot",
                    "shot",
                    "shot",
                    "shot",
                    "shot",
                    "shot",
                    "shot",
                    "shot",
                    "shot",
                    "shot",
                    "shot",
                    "shot",
                    "shot",
                    "shot",
                    "shot",
                    "shot",
                    "shot",
                    "shot",
                    "shot",
                    "shot",
                    "shot",
                    "shot",
                    "shot",
                    "shot",
                    "shot",
                    "shot",
                    "shot",
                    "shot",
                    "shot",
                    "shot",
                    "shot",
                    "shot",
                    "shot",
                    "shot",
                    "shot",
                    "shot",
                    "shot",
                    "shot",
                    "shot",
                    "shot",
                    "shot",
                    "shot",
                    "shot",
                    "shot",
                    "shot",
                    "shot",
                    "shot",
                    "shot"
                  ],
                  "y": [
                    50,
                    50,
                    20,
                    30,
                    40,
                    20,
                    20,
                    40,
                    50,
                    20,
                    30,
                    40,
                    30,
                    40,
                    30,
                    40,
                    40,
                    50,
                    70,
                    30,
                    40,
                    20,
                    30,
                    30,
                    40,
                    20,
                    30,
                    30,
                    80,
                    70,
                    30,
                    30,
                    40,
                    20,
                    40,
                    30,
                    40,
                    50,
                    20,
                    20,
                    30,
                    30,
                    70,
                    50,
                    40,
                    40,
                    40,
                    20,
                    50,
                    20,
                    60,
                    30,
                    60,
                    40,
                    40,
                    30,
                    30,
                    60,
                    70,
                    20,
                    30,
                    30,
                    30,
                    30,
                    40,
                    40,
                    30,
                    40,
                    30,
                    50,
                    30,
                    50,
                    20,
                    60,
                    40,
                    20,
                    30,
                    40,
                    30,
                    40,
                    30,
                    30,
                    50,
                    40,
                    60,
                    20,
                    30,
                    70,
                    30,
                    30,
                    60,
                    50,
                    40,
                    60,
                    40,
                    40,
                    50,
                    40,
                    20,
                    50,
                    20,
                    20,
                    40,
                    30,
                    40,
                    20,
                    50,
                    20,
                    30,
                    30,
                    60,
                    30,
                    20,
                    30,
                    30,
                    30,
                    50,
                    0,
                    30,
                    40,
                    80,
                    40,
                    50,
                    50,
                    40,
                    40,
                    50,
                    40,
                    40,
                    20,
                    30,
                    30,
                    40,
                    30,
                    40,
                    20,
                    50,
                    30,
                    20,
                    20,
                    30,
                    30,
                    40,
                    50,
                    40,
                    40,
                    20,
                    20,
                    20,
                    30,
                    30,
                    40,
                    40,
                    30,
                    40,
                    50,
                    20,
                    30,
                    40,
                    40,
                    60,
                    50,
                    30,
                    30,
                    30,
                    20,
                    40,
                    60,
                    30,
                    40,
                    30,
                    20,
                    50,
                    50,
                    40,
                    40,
                    60,
                    40,
                    30,
                    40,
                    30,
                    50,
                    30,
                    30,
                    30,
                    50,
                    20,
                    20,
                    50,
                    20,
                    50,
                    60,
                    20,
                    20,
                    40,
                    40,
                    20,
                    30,
                    20,
                    60,
                    30,
                    40,
                    60,
                    40,
                    20,
                    40,
                    40,
                    20,
                    20,
                    40,
                    30,
                    60,
                    20,
                    30,
                    30,
                    60,
                    40,
                    60,
                    40,
                    20,
                    40,
                    40,
                    40,
                    30,
                    30,
                    50,
                    50,
                    40,
                    20,
                    40,
                    40,
                    30,
                    60,
                    40,
                    30,
                    40,
                    20,
                    50,
                    30,
                    30,
                    50,
                    60,
                    20,
                    20,
                    30,
                    30,
                    60,
                    40,
                    40,
                    30,
                    50,
                    20,
                    30,
                    30,
                    30,
                    20,
                    40,
                    70,
                    40,
                    80,
                    30,
                    30,
                    30,
                    30,
                    20,
                    40,
                    40,
                    50,
                    70,
                    50,
                    50,
                    20,
                    30,
                    20,
                    40,
                    40,
                    40,
                    40,
                    20,
                    40,
                    40,
                    60,
                    40,
                    20,
                    50,
                    30,
                    30,
                    40,
                    30,
                    50,
                    20,
                    50,
                    60,
                    20,
                    20,
                    20,
                    60,
                    30,
                    80,
                    40,
                    20,
                    60,
                    20,
                    30,
                    30,
                    30,
                    30,
                    50,
                    50,
                    40,
                    20,
                    50,
                    40,
                    30,
                    30,
                    40,
                    50,
                    40,
                    30,
                    30,
                    50,
                    20,
                    70,
                    40,
                    20,
                    40,
                    60,
                    50,
                    30,
                    50,
                    30,
                    30,
                    30,
                    30,
                    50,
                    40,
                    40,
                    50,
                    40,
                    40,
                    40,
                    30,
                    20,
                    30,
                    50,
                    40,
                    20,
                    30,
                    50,
                    40,
                    30,
                    20,
                    30,
                    40,
                    20,
                    30,
                    40,
                    20,
                    50,
                    40,
                    40,
                    60,
                    50,
                    20,
                    40,
                    20,
                    60,
                    20,
                    30,
                    60,
                    30,
                    40,
                    20,
                    40,
                    40,
                    60,
                    20,
                    40,
                    40,
                    50,
                    20,
                    30,
                    30,
                    50,
                    40,
                    20,
                    30,
                    60,
                    50,
                    30,
                    50,
                    40,
                    40,
                    30,
                    40,
                    60,
                    50,
                    30,
                    70,
                    30,
                    40,
                    20,
                    30,
                    20,
                    40,
                    90,
                    50,
                    30,
                    20,
                    50,
                    40,
                    40,
                    30,
                    20,
                    20,
                    30,
                    30,
                    50,
                    60,
                    40,
                    20,
                    50,
                    20,
                    20,
                    50,
                    60,
                    40,
                    30,
                    20,
                    30,
                    20,
                    50,
                    30,
                    30,
                    40,
                    60,
                    50,
                    30,
                    40,
                    30,
                    50,
                    50,
                    20,
                    30,
                    40,
                    60,
                    20,
                    60,
                    30,
                    50,
                    30,
                    40,
                    40,
                    40,
                    20,
                    40,
                    20,
                    40,
                    20,
                    40,
                    20,
                    40,
                    40,
                    30,
                    30,
                    20,
                    30,
                    60,
                    50,
                    40,
                    40,
                    40,
                    30,
                    60,
                    60,
                    50,
                    70,
                    30,
                    20,
                    40,
                    20,
                    50,
                    20,
                    20,
                    30,
                    40,
                    40,
                    60,
                    20,
                    30,
                    20,
                    20,
                    20,
                    40,
                    20,
                    80,
                    40,
                    20,
                    30,
                    40,
                    30,
                    20,
                    20,
                    30,
                    30,
                    20,
                    50,
                    20,
                    20,
                    20,
                    50,
                    60,
                    40,
                    40,
                    50,
                    50,
                    20,
                    40,
                    20,
                    30,
                    30,
                    30,
                    30,
                    30,
                    50,
                    40,
                    30,
                    60,
                    50,
                    40,
                    60,
                    30,
                    20,
                    60,
                    40,
                    20,
                    40,
                    30,
                    50,
                    50,
                    20,
                    30,
                    50,
                    30,
                    30,
                    50,
                    30,
                    60,
                    50,
                    20,
                    70,
                    40,
                    60,
                    30,
                    20,
                    50,
                    40,
                    20,
                    30,
                    40,
                    40,
                    20,
                    20,
                    20,
                    30,
                    50,
                    20,
                    30,
                    30,
                    20,
                    60,
                    50,
                    20,
                    40,
                    80,
                    20,
                    20,
                    30,
                    50,
                    20,
                    30,
                    30,
                    30,
                    50,
                    40,
                    30,
                    30,
                    50,
                    40,
                    20,
                    30,
                    30,
                    30,
                    50,
                    40,
                    40,
                    20,
                    20,
                    30,
                    40,
                    20,
                    50,
                    20,
                    60,
                    30,
                    40,
                    30,
                    40,
                    30,
                    30,
                    60,
                    40,
                    40,
                    20,
                    50,
                    60,
                    30,
                    30,
                    50,
                    40,
                    20,
                    20,
                    50,
                    30,
                    40,
                    30,
                    50,
                    30,
                    40,
                    30,
                    60,
                    20,
                    20,
                    0,
                    30,
                    20,
                    40,
                    40,
                    30,
                    80,
                    50,
                    40,
                    40,
                    40,
                    50,
                    30,
                    40,
                    20,
                    20,
                    30,
                    40,
                    60,
                    30,
                    40,
                    40,
                    20,
                    20,
                    40,
                    30,
                    60,
                    30,
                    40,
                    30,
                    30,
                    40,
                    30,
                    40,
                    20,
                    40,
                    40,
                    70,
                    30,
                    20,
                    30,
                    20,
                    30,
                    50,
                    40,
                    30,
                    30,
                    50,
                    0,
                    30,
                    50,
                    50,
                    60,
                    20,
                    60,
                    20,
                    30,
                    20,
                    30,
                    30,
                    30,
                    30,
                    60,
                    30,
                    50,
                    40,
                    20,
                    40,
                    30,
                    40,
                    20,
                    30,
                    20,
                    30,
                    40,
                    50,
                    20,
                    40,
                    40,
                    30,
                    60,
                    50,
                    40,
                    30,
                    30,
                    30,
                    30,
                    40,
                    30,
                    30,
                    50,
                    50,
                    30,
                    20,
                    40,
                    50,
                    20,
                    50,
                    30,
                    40,
                    40,
                    40,
                    30,
                    40,
                    20,
                    40,
                    0,
                    30,
                    30,
                    20,
                    60,
                    60,
                    20,
                    20,
                    30,
                    40,
                    30,
                    20,
                    30,
                    40,
                    30,
                    20,
                    30,
                    30,
                    30,
                    50,
                    30,
                    40,
                    40,
                    30,
                    20,
                    40,
                    20,
                    50,
                    40,
                    40,
                    50,
                    0,
                    30,
                    30,
                    30,
                    30,
                    50,
                    50,
                    40,
                    40,
                    20,
                    20,
                    30,
                    60,
                    30,
                    40,
                    0,
                    20,
                    60,
                    30,
                    20,
                    30,
                    30,
                    60,
                    50,
                    20,
                    60,
                    60,
                    10,
                    30,
                    60,
                    20,
                    50,
                    50,
                    20,
                    30,
                    50,
                    60,
                    50,
                    20,
                    20,
                    30,
                    40,
                    40,
                    60,
                    30,
                    40,
                    20,
                    30,
                    20,
                    60,
                    30,
                    40,
                    50,
                    20,
                    20,
                    30,
                    40,
                    30,
                    20,
                    20,
                    30,
                    20,
                    40,
                    30,
                    20,
                    30,
                    60,
                    50,
                    20,
                    40,
                    30,
                    30,
                    30,
                    40,
                    30,
                    20,
                    50,
                    40,
                    30,
                    50,
                    50,
                    40,
                    30,
                    20,
                    20,
                    50,
                    30,
                    60,
                    50,
                    20,
                    50,
                    70,
                    20,
                    30,
                    20,
                    20,
                    30,
                    20,
                    20,
                    40,
                    30,
                    30,
                    30,
                    40,
                    70,
                    50,
                    20,
                    20,
                    50,
                    60,
                    40,
                    40,
                    50,
                    50,
                    40,
                    30,
                    70,
                    50,
                    30,
                    60,
                    50,
                    0,
                    40,
                    20,
                    20,
                    30,
                    40,
                    20,
                    50,
                    0,
                    20,
                    30,
                    30,
                    30,
                    50,
                    60,
                    40,
                    20,
                    40,
                    30,
                    50,
                    0,
                    20,
                    20,
                    30,
                    60,
                    20,
                    30,
                    30,
                    30,
                    30,
                    50,
                    0,
                    20,
                    40,
                    20,
                    30,
                    60,
                    60,
                    30,
                    20,
                    40,
                    40,
                    50,
                    20,
                    20,
                    20,
                    30,
                    40,
                    20,
                    40,
                    40,
                    30,
                    50,
                    30,
                    0,
                    60,
                    40,
                    20,
                    30,
                    40,
                    50,
                    40,
                    30,
                    30,
                    20,
                    30,
                    40,
                    30,
                    50,
                    30,
                    50,
                    40,
                    30,
                    30,
                    30,
                    50,
                    40,
                    60,
                    40,
                    30,
                    50,
                    60,
                    30,
                    60,
                    40,
                    40,
                    30,
                    20,
                    30,
                    30,
                    40,
                    60,
                    20,
                    50,
                    20,
                    40,
                    30,
                    30,
                    30,
                    30,
                    30,
                    40,
                    30,
                    40,
                    60,
                    30,
                    40,
                    30,
                    40,
                    40,
                    40,
                    40,
                    60,
                    50,
                    30,
                    30,
                    30,
                    40,
                    30,
                    30,
                    30,
                    20,
                    30,
                    30,
                    30,
                    40,
                    60,
                    40,
                    40,
                    40,
                    50,
                    20,
                    60,
                    40,
                    20,
                    30,
                    50,
                    30,
                    20,
                    20,
                    40,
                    50,
                    50,
                    40,
                    40,
                    30,
                    50,
                    60,
                    20,
                    20,
                    40,
                    30,
                    30,
                    20,
                    20,
                    20,
                    30,
                    40,
                    70,
                    40,
                    50,
                    60,
                    40,
                    40,
                    30,
                    30,
                    50,
                    20,
                    30,
                    20,
                    20,
                    30,
                    50,
                    30,
                    50,
                    40,
                    50,
                    50,
                    30,
                    40,
                    20,
                    30,
                    40,
                    30,
                    40,
                    30,
                    30,
                    20,
                    40,
                    40,
                    50,
                    30,
                    30,
                    40,
                    40,
                    20,
                    50,
                    40,
                    40,
                    30,
                    20,
                    60,
                    30,
                    30,
                    20,
                    40,
                    60,
                    20,
                    40,
                    20,
                    40,
                    20,
                    40,
                    40,
                    20,
                    40,
                    20,
                    40,
                    40,
                    40,
                    30,
                    70,
                    30,
                    30,
                    20,
                    50,
                    40,
                    40,
                    50,
                    40,
                    40,
                    40,
                    40,
                    30,
                    40,
                    20,
                    20,
                    50,
                    20,
                    20,
                    50,
                    50,
                    20,
                    40,
                    20,
                    40,
                    40,
                    20,
                    30,
                    30,
                    20,
                    30,
                    30,
                    30,
                    40,
                    40,
                    20,
                    30,
                    40,
                    40,
                    50,
                    30,
                    30,
                    50,
                    60,
                    20,
                    20,
                    20,
                    60,
                    50,
                    60,
                    20,
                    80,
                    20,
                    30,
                    20,
                    30,
                    50,
                    30,
                    30,
                    40,
                    20,
                    30,
                    50,
                    20,
                    20,
                    40,
                    40,
                    60,
                    50,
                    30,
                    30,
                    20,
                    30,
                    50,
                    50,
                    30,
                    20,
                    50,
                    30,
                    20,
                    40,
                    30,
                    60,
                    40,
                    30,
                    50,
                    20,
                    70,
                    50,
                    50,
                    40,
                    60,
                    20,
                    40,
                    40,
                    40,
                    40,
                    30,
                    20,
                    40,
                    30,
                    30,
                    20,
                    20,
                    40,
                    40,
                    20,
                    40,
                    50,
                    30,
                    50,
                    40,
                    50,
                    30,
                    50,
                    20,
                    30,
                    30,
                    40,
                    30,
                    20,
                    40,
                    20,
                    40,
                    40,
                    50,
                    50,
                    30,
                    50,
                    20,
                    20,
                    20,
                    30,
                    30,
                    30,
                    30,
                    40,
                    40,
                    30,
                    20,
                    40,
                    50,
                    40,
                    20,
                    50,
                    40,
                    30,
                    60,
                    30,
                    20,
                    30,
                    50,
                    60,
                    50,
                    40,
                    20,
                    40,
                    40,
                    40,
                    0,
                    30,
                    40,
                    30,
                    20,
                    30,
                    30,
                    20,
                    30,
                    60,
                    30,
                    30,
                    40,
                    30,
                    20,
                    0,
                    30,
                    20,
                    40,
                    60,
                    30,
                    40,
                    20,
                    40,
                    50,
                    40,
                    20,
                    30,
                    40,
                    40,
                    20,
                    30,
                    60,
                    40,
                    30,
                    30,
                    40,
                    20,
                    30,
                    30,
                    20,
                    60,
                    30,
                    40,
                    20,
                    30,
                    40,
                    0,
                    20,
                    20,
                    20,
                    60,
                    50,
                    60,
                    20,
                    30,
                    50,
                    40,
                    70,
                    30,
                    40,
                    0,
                    20,
                    50,
                    40,
                    20,
                    30,
                    30,
                    30,
                    40,
                    30,
                    30,
                    20,
                    20,
                    20,
                    20,
                    50,
                    60,
                    40,
                    30,
                    40,
                    50,
                    70,
                    0,
                    30,
                    30,
                    30,
                    50,
                    30,
                    30,
                    30,
                    20,
                    60,
                    30,
                    20,
                    80,
                    40,
                    50,
                    50,
                    50,
                    20,
                    40,
                    40,
                    20,
                    40,
                    30,
                    0,
                    30,
                    20,
                    40,
                    20,
                    30,
                    20,
                    20,
                    20,
                    50,
                    20,
                    20,
                    20,
                    40,
                    40,
                    20,
                    30,
                    20,
                    0,
                    30,
                    40,
                    50,
                    40,
                    30,
                    20,
                    60,
                    40,
                    0,
                    50,
                    30,
                    20,
                    30,
                    30,
                    60,
                    30,
                    30,
                    20,
                    30,
                    60,
                    30,
                    0,
                    40,
                    40,
                    20,
                    20,
                    40,
                    60,
                    30,
                    60,
                    40,
                    50,
                    40,
                    0,
                    20,
                    30,
                    20,
                    20,
                    0,
                    40,
                    30,
                    50,
                    30,
                    60,
                    40,
                    30,
                    60,
                    30,
                    40,
                    40,
                    50,
                    40,
                    40,
                    40,
                    40,
                    20,
                    30,
                    60,
                    30,
                    60,
                    30,
                    30,
                    60,
                    40,
                    40,
                    40,
                    30,
                    60,
                    30,
                    50,
                    40,
                    50,
                    30,
                    50,
                    30,
                    40,
                    30,
                    30,
                    20,
                    50,
                    40,
                    30,
                    20,
                    20,
                    20,
                    20,
                    20,
                    40,
                    50,
                    20,
                    30,
                    30,
                    40,
                    60,
                    30,
                    40,
                    20,
                    30,
                    40,
                    70,
                    20,
                    30,
                    40,
                    30,
                    50,
                    30,
                    50,
                    70,
                    60,
                    30,
                    30,
                    60,
                    20,
                    20,
                    70,
                    60,
                    60,
                    60,
                    30,
                    40,
                    10,
                    40,
                    50,
                    60,
                    30,
                    20,
                    50,
                    40,
                    20,
                    40,
                    50,
                    30,
                    40,
                    20,
                    20,
                    60,
                    40,
                    30,
                    50,
                    30,
                    30,
                    40,
                    30,
                    40,
                    40,
                    40,
                    30,
                    60,
                    50,
                    20,
                    30,
                    30,
                    50,
                    70,
                    40,
                    30,
                    50,
                    40,
                    40,
                    50,
                    60,
                    30,
                    30,
                    40,
                    30,
                    50,
                    80,
                    40,
                    20,
                    60,
                    30,
                    40,
                    20,
                    60,
                    40,
                    20,
                    40,
                    60,
                    20,
                    20,
                    0,
                    40,
                    40,
                    20,
                    40,
                    20,
                    20,
                    40,
                    0,
                    0,
                    40,
                    40,
                    40,
                    20,
                    60,
                    30,
                    70,
                    20,
                    60,
                    40,
                    20,
                    30,
                    40,
                    30,
                    60,
                    60,
                    70,
                    40,
                    30,
                    90,
                    20,
                    20,
                    10,
                    30,
                    30,
                    70,
                    50,
                    40,
                    30,
                    30,
                    40,
                    20,
                    40,
                    60,
                    20,
                    60,
                    30,
                    60,
                    40,
                    20,
                    20,
                    40,
                    40,
                    50,
                    20,
                    40,
                    30,
                    30,
                    20,
                    50,
                    30,
                    50,
                    50,
                    40,
                    30,
                    30,
                    30,
                    50,
                    40,
                    20,
                    30,
                    40,
                    20,
                    20,
                    30,
                    20,
                    20,
                    40,
                    60,
                    50,
                    30,
                    30,
                    50,
                    30,
                    40,
                    60,
                    40,
                    40,
                    0,
                    50,
                    60,
                    20,
                    40,
                    40,
                    40,
                    50,
                    30,
                    20,
                    30,
                    40,
                    30,
                    30,
                    30,
                    20,
                    50,
                    50,
                    40,
                    20,
                    20,
                    30,
                    40,
                    30,
                    50,
                    20,
                    40,
                    30,
                    40,
                    30,
                    40,
                    20,
                    30,
                    30,
                    60,
                    20,
                    40,
                    40,
                    40,
                    20,
                    50,
                    20,
                    40,
                    20,
                    40,
                    30,
                    30,
                    20,
                    40,
                    40,
                    40,
                    30,
                    30,
                    20,
                    40,
                    60,
                    80,
                    60,
                    40,
                    20,
                    60,
                    30,
                    40,
                    50,
                    40,
                    60,
                    60,
                    30,
                    30,
                    40,
                    40,
                    30,
                    20,
                    30,
                    30,
                    20,
                    20,
                    30,
                    40,
                    40,
                    40,
                    50,
                    0,
                    20,
                    0,
                    50,
                    40,
                    30,
                    40,
                    20,
                    20,
                    20,
                    40,
                    50,
                    40,
                    60,
                    40,
                    20,
                    20,
                    50,
                    30,
                    30,
                    20,
                    60,
                    20,
                    20,
                    20,
                    20,
                    30,
                    40,
                    40,
                    30,
                    20,
                    40,
                    40,
                    20,
                    40,
                    40,
                    20,
                    30,
                    20,
                    50,
                    60,
                    30,
                    50,
                    20,
                    20,
                    40,
                    40,
                    60,
                    30,
                    30,
                    20,
                    40,
                    0,
                    80,
                    20,
                    30,
                    40,
                    40,
                    30,
                    30,
                    60,
                    50,
                    50,
                    50,
                    30,
                    40,
                    40,
                    40,
                    20,
                    0,
                    30,
                    0,
                    40,
                    40,
                    40,
                    50,
                    40,
                    30,
                    20,
                    70,
                    30,
                    30,
                    20,
                    30,
                    60,
                    40,
                    50,
                    30,
                    40,
                    20,
                    40,
                    70,
                    50,
                    30,
                    50,
                    0,
                    30,
                    20,
                    50,
                    40,
                    20,
                    0,
                    30,
                    20,
                    20,
                    30,
                    60,
                    0,
                    20,
                    0,
                    50,
                    30,
                    30,
                    30,
                    60,
                    40,
                    40,
                    40,
                    30,
                    50,
                    20,
                    0,
                    30,
                    30,
                    50,
                    30,
                    40,
                    20,
                    40,
                    40,
                    20,
                    20,
                    50,
                    60,
                    20,
                    50,
                    60,
                    40,
                    20,
                    40,
                    20,
                    30,
                    20,
                    40,
                    40,
                    30,
                    50,
                    40,
                    40,
                    40,
                    20,
                    30,
                    20,
                    40,
                    40,
                    40,
                    50,
                    20,
                    30,
                    30,
                    50,
                    30,
                    50,
                    30,
                    30,
                    40,
                    40,
                    30,
                    30,
                    40,
                    20,
                    40,
                    50,
                    20,
                    30,
                    20,
                    50,
                    40,
                    40,
                    40,
                    50,
                    60,
                    60,
                    30,
                    20,
                    50,
                    30,
                    60,
                    20,
                    30,
                    20,
                    30,
                    30,
                    30,
                    30,
                    20,
                    30,
                    40,
                    50,
                    50,
                    30,
                    60,
                    20,
                    30,
                    20,
                    50,
                    40,
                    20,
                    20,
                    50,
                    20,
                    50,
                    40,
                    40,
                    40,
                    0,
                    20,
                    30,
                    20,
                    30,
                    60,
                    30,
                    40,
                    30,
                    20,
                    40,
                    30,
                    40,
                    20,
                    70,
                    60,
                    40,
                    40,
                    30,
                    20,
                    50,
                    50,
                    20,
                    40,
                    20,
                    30,
                    50,
                    30,
                    30,
                    20,
                    30,
                    30,
                    20,
                    0,
                    20,
                    30,
                    20,
                    40,
                    20,
                    20,
                    40,
                    30,
                    30,
                    30,
                    0,
                    30,
                    30,
                    30,
                    50,
                    20,
                    50,
                    40,
                    60,
                    20,
                    30,
                    60,
                    20,
                    50,
                    20,
                    20,
                    30,
                    30,
                    40,
                    30,
                    20,
                    50,
                    30,
                    20,
                    30,
                    30,
                    30,
                    30,
                    50,
                    60,
                    40,
                    20,
                    40,
                    40,
                    30,
                    30,
                    50,
                    40,
                    20,
                    50,
                    60,
                    30,
                    20,
                    40,
                    0,
                    40,
                    70,
                    30,
                    40,
                    20,
                    20,
                    40,
                    40,
                    30,
                    30,
                    30,
                    20,
                    40,
                    30,
                    20,
                    40,
                    50,
                    70,
                    30,
                    0,
                    40,
                    90,
                    0,
                    20,
                    20,
                    30,
                    40,
                    50,
                    30,
                    30,
                    30,
                    20,
                    20,
                    20,
                    60,
                    40,
                    20,
                    40,
                    30,
                    20,
                    30,
                    30,
                    30,
                    60,
                    40,
                    20,
                    20,
                    20,
                    40,
                    40,
                    60,
                    20,
                    40,
                    0,
                    40,
                    30,
                    40,
                    0,
                    40,
                    20,
                    40,
                    20,
                    30,
                    40,
                    50,
                    60,
                    50,
                    40,
                    50,
                    40,
                    30,
                    40,
                    70,
                    30,
                    40,
                    60,
                    30,
                    40,
                    30,
                    50,
                    0,
                    30,
                    50,
                    50,
                    30,
                    60,
                    20,
                    20,
                    40,
                    40,
                    70,
                    50,
                    40,
                    30,
                    20,
                    40,
                    40,
                    30,
                    40,
                    30,
                    30,
                    20,
                    60,
                    40,
                    20,
                    0,
                    30,
                    60,
                    60,
                    20,
                    50,
                    30,
                    30,
                    20,
                    60,
                    20,
                    60,
                    0,
                    20,
                    20,
                    40,
                    40,
                    20,
                    70,
                    20,
                    80,
                    20,
                    40,
                    20,
                    50,
                    20,
                    30,
                    60,
                    50,
                    30,
                    30,
                    50,
                    30,
                    20,
                    20,
                    60,
                    40,
                    30,
                    30,
                    50,
                    50,
                    20,
                    50,
                    20,
                    0,
                    20,
                    20,
                    70,
                    30,
                    20,
                    60,
                    20,
                    30,
                    30,
                    30,
                    30,
                    20,
                    20,
                    0,
                    40,
                    30,
                    40,
                    20,
                    50,
                    0,
                    50,
                    30,
                    40,
                    50,
                    40,
                    40,
                    40,
                    50,
                    30,
                    50,
                    0,
                    30,
                    50,
                    20,
                    20,
                    40,
                    30,
                    50,
                    60,
                    60,
                    30,
                    40,
                    20,
                    40,
                    0,
                    20,
                    60,
                    60,
                    70,
                    20,
                    0,
                    20,
                    60,
                    30,
                    30,
                    30,
                    0,
                    0,
                    20,
                    40,
                    40,
                    20,
                    60,
                    20,
                    20,
                    20,
                    30,
                    50,
                    30,
                    30,
                    20,
                    20,
                    60,
                    40,
                    30,
                    70,
                    40,
                    50,
                    30,
                    40,
                    50,
                    50,
                    20,
                    20,
                    40,
                    80,
                    40,
                    30,
                    50,
                    60,
                    30,
                    40,
                    80,
                    0,
                    50,
                    60,
                    20,
                    40,
                    60,
                    50,
                    40,
                    20,
                    40,
                    40,
                    30,
                    20,
                    70,
                    50,
                    40,
                    40,
                    30,
                    30,
                    40,
                    50,
                    60,
                    20,
                    30,
                    0,
                    0,
                    40,
                    30,
                    50,
                    30,
                    40,
                    20,
                    20,
                    30,
                    40,
                    0,
                    50,
                    20,
                    60,
                    20,
                    50,
                    0,
                    40,
                    40,
                    0,
                    40,
                    40,
                    0,
                    20,
                    40,
                    20,
                    30,
                    20,
                    40,
                    20,
                    0,
                    50,
                    0,
                    0,
                    40,
                    0,
                    30,
                    40,
                    30,
                    40,
                    50,
                    30,
                    50,
                    40,
                    20,
                    50,
                    40,
                    30,
                    30,
                    0,
                    30,
                    20,
                    0,
                    30,
                    30,
                    20,
                    50,
                    30,
                    40,
                    30,
                    30,
                    50,
                    50,
                    0,
                    30,
                    40,
                    0,
                    60,
                    60,
                    40,
                    30,
                    30,
                    20,
                    0,
                    50,
                    40,
                    40,
                    30,
                    70,
                    40,
                    20,
                    20,
                    40,
                    50,
                    30,
                    20,
                    40,
                    50,
                    60,
                    40,
                    30,
                    30,
                    20,
                    30,
                    30,
                    20,
                    40,
                    0,
                    20,
                    50,
                    40,
                    20,
                    30,
                    0,
                    30,
                    30,
                    0,
                    50,
                    30,
                    30
                  ]
                },
                {
                  "name": "Female",
                  "quartilemethod": "linear",
                  "type": "box",
                  "x": [
                    "shot",
                    "shot and Tasered",
                    "shot",
                    "shot",
                    "shot",
                    "shot",
                    "shot",
                    "shot",
                    "shot",
                    "shot",
                    "shot",
                    "shot",
                    "shot",
                    "shot",
                    "shot",
                    "shot",
                    "shot",
                    "shot",
                    "shot and Tasered",
                    "shot",
                    "shot",
                    "shot",
                    "shot",
                    "shot",
                    "shot and Tasered",
                    "shot",
                    "shot",
                    "shot",
                    "shot",
                    "shot",
                    "shot",
                    "shot",
                    "shot",
                    "shot",
                    "shot",
                    "shot",
                    "shot",
                    "shot",
                    "shot",
                    "shot",
                    "shot",
                    "shot",
                    "shot",
                    "shot",
                    "shot",
                    "shot",
                    "shot",
                    "shot",
                    "shot",
                    "shot",
                    "shot",
                    "shot",
                    "shot",
                    "shot",
                    "shot",
                    "shot",
                    "shot",
                    "shot",
                    "shot",
                    "shot",
                    "shot",
                    "shot",
                    "shot",
                    "shot",
                    "shot",
                    "shot",
                    "shot",
                    "shot",
                    "shot",
                    "shot",
                    "shot",
                    "shot",
                    "shot",
                    "shot",
                    "shot",
                    "shot",
                    "shot",
                    "shot",
                    "shot",
                    "shot",
                    "shot",
                    "shot",
                    "shot and Tasered",
                    "shot",
                    "shot",
                    "shot and Tasered",
                    "shot",
                    "shot",
                    "shot",
                    "shot",
                    "shot",
                    "shot",
                    "shot",
                    "shot",
                    "shot",
                    "shot",
                    "shot",
                    "shot",
                    "shot",
                    "shot",
                    "shot",
                    "shot",
                    "shot",
                    "shot",
                    "shot",
                    "shot",
                    "shot"
                  ],
                  "y": [
                    30,
                    20,
                    20,
                    40,
                    40,
                    40,
                    20,
                    30,
                    30,
                    40,
                    40,
                    20,
                    50,
                    50,
                    30,
                    30,
                    50,
                    20,
                    40,
                    30,
                    40,
                    20,
                    40,
                    40,
                    30,
                    30,
                    20,
                    40,
                    60,
                    60,
                    50,
                    50,
                    20,
                    40,
                    40,
                    30,
                    60,
                    50,
                    50,
                    20,
                    60,
                    50,
                    40,
                    10,
                    20,
                    30,
                    30,
                    40,
                    30,
                    40,
                    30,
                    40,
                    40,
                    20,
                    30,
                    50,
                    40,
                    40,
                    20,
                    40,
                    60,
                    20,
                    30,
                    30,
                    0,
                    40,
                    20,
                    40,
                    20,
                    40,
                    50,
                    50,
                    30,
                    70,
                    20,
                    20,
                    40,
                    30,
                    60,
                    40,
                    50,
                    70,
                    40,
                    20,
                    20,
                    60,
                    30,
                    30,
                    50,
                    20,
                    60,
                    20,
                    20,
                    50,
                    50,
                    30,
                    40,
                    0,
                    20,
                    30,
                    30,
                    0,
                    30,
                    50,
                    40,
                    20,
                    60
                  ]
                }
              ],
              "layout": {
                "boxmode": "group",
                "legend": {
                  "title": {
                    "text": "Gender"
                  }
                },
                "template": {
                  "data": {
                    "bar": [
                      {
                        "error_x": {
                          "color": "#2a3f5f"
                        },
                        "error_y": {
                          "color": "#2a3f5f"
                        },
                        "marker": {
                          "line": {
                            "color": "#E5ECF6",
                            "width": 0.5
                          },
                          "pattern": {
                            "fillmode": "overlay",
                            "size": 10,
                            "solidity": 0.2
                          }
                        },
                        "type": "bar"
                      }
                    ],
                    "barpolar": [
                      {
                        "marker": {
                          "line": {
                            "color": "#E5ECF6",
                            "width": 0.5
                          },
                          "pattern": {
                            "fillmode": "overlay",
                            "size": 10,
                            "solidity": 0.2
                          }
                        },
                        "type": "barpolar"
                      }
                    ],
                    "carpet": [
                      {
                        "aaxis": {
                          "endlinecolor": "#2a3f5f",
                          "gridcolor": "white",
                          "linecolor": "white",
                          "minorgridcolor": "white",
                          "startlinecolor": "#2a3f5f"
                        },
                        "baxis": {
                          "endlinecolor": "#2a3f5f",
                          "gridcolor": "white",
                          "linecolor": "white",
                          "minorgridcolor": "white",
                          "startlinecolor": "#2a3f5f"
                        },
                        "type": "carpet"
                      }
                    ],
                    "choropleth": [
                      {
                        "colorbar": {
                          "outlinewidth": 0,
                          "ticks": ""
                        },
                        "type": "choropleth"
                      }
                    ],
                    "contour": [
                      {
                        "colorbar": {
                          "outlinewidth": 0,
                          "ticks": ""
                        },
                        "colorscale": [
                          [
                            0,
                            "#0d0887"
                          ],
                          [
                            0.1111111111111111,
                            "#46039f"
                          ],
                          [
                            0.2222222222222222,
                            "#7201a8"
                          ],
                          [
                            0.3333333333333333,
                            "#9c179e"
                          ],
                          [
                            0.4444444444444444,
                            "#bd3786"
                          ],
                          [
                            0.5555555555555556,
                            "#d8576b"
                          ],
                          [
                            0.6666666666666666,
                            "#ed7953"
                          ],
                          [
                            0.7777777777777778,
                            "#fb9f3a"
                          ],
                          [
                            0.8888888888888888,
                            "#fdca26"
                          ],
                          [
                            1,
                            "#f0f921"
                          ]
                        ],
                        "type": "contour"
                      }
                    ],
                    "contourcarpet": [
                      {
                        "colorbar": {
                          "outlinewidth": 0,
                          "ticks": ""
                        },
                        "type": "contourcarpet"
                      }
                    ],
                    "heatmap": [
                      {
                        "colorbar": {
                          "outlinewidth": 0,
                          "ticks": ""
                        },
                        "colorscale": [
                          [
                            0,
                            "#0d0887"
                          ],
                          [
                            0.1111111111111111,
                            "#46039f"
                          ],
                          [
                            0.2222222222222222,
                            "#7201a8"
                          ],
                          [
                            0.3333333333333333,
                            "#9c179e"
                          ],
                          [
                            0.4444444444444444,
                            "#bd3786"
                          ],
                          [
                            0.5555555555555556,
                            "#d8576b"
                          ],
                          [
                            0.6666666666666666,
                            "#ed7953"
                          ],
                          [
                            0.7777777777777778,
                            "#fb9f3a"
                          ],
                          [
                            0.8888888888888888,
                            "#fdca26"
                          ],
                          [
                            1,
                            "#f0f921"
                          ]
                        ],
                        "type": "heatmap"
                      }
                    ],
                    "heatmapgl": [
                      {
                        "colorbar": {
                          "outlinewidth": 0,
                          "ticks": ""
                        },
                        "colorscale": [
                          [
                            0,
                            "#0d0887"
                          ],
                          [
                            0.1111111111111111,
                            "#46039f"
                          ],
                          [
                            0.2222222222222222,
                            "#7201a8"
                          ],
                          [
                            0.3333333333333333,
                            "#9c179e"
                          ],
                          [
                            0.4444444444444444,
                            "#bd3786"
                          ],
                          [
                            0.5555555555555556,
                            "#d8576b"
                          ],
                          [
                            0.6666666666666666,
                            "#ed7953"
                          ],
                          [
                            0.7777777777777778,
                            "#fb9f3a"
                          ],
                          [
                            0.8888888888888888,
                            "#fdca26"
                          ],
                          [
                            1,
                            "#f0f921"
                          ]
                        ],
                        "type": "heatmapgl"
                      }
                    ],
                    "histogram": [
                      {
                        "marker": {
                          "pattern": {
                            "fillmode": "overlay",
                            "size": 10,
                            "solidity": 0.2
                          }
                        },
                        "type": "histogram"
                      }
                    ],
                    "histogram2d": [
                      {
                        "colorbar": {
                          "outlinewidth": 0,
                          "ticks": ""
                        },
                        "colorscale": [
                          [
                            0,
                            "#0d0887"
                          ],
                          [
                            0.1111111111111111,
                            "#46039f"
                          ],
                          [
                            0.2222222222222222,
                            "#7201a8"
                          ],
                          [
                            0.3333333333333333,
                            "#9c179e"
                          ],
                          [
                            0.4444444444444444,
                            "#bd3786"
                          ],
                          [
                            0.5555555555555556,
                            "#d8576b"
                          ],
                          [
                            0.6666666666666666,
                            "#ed7953"
                          ],
                          [
                            0.7777777777777778,
                            "#fb9f3a"
                          ],
                          [
                            0.8888888888888888,
                            "#fdca26"
                          ],
                          [
                            1,
                            "#f0f921"
                          ]
                        ],
                        "type": "histogram2d"
                      }
                    ],
                    "histogram2dcontour": [
                      {
                        "colorbar": {
                          "outlinewidth": 0,
                          "ticks": ""
                        },
                        "colorscale": [
                          [
                            0,
                            "#0d0887"
                          ],
                          [
                            0.1111111111111111,
                            "#46039f"
                          ],
                          [
                            0.2222222222222222,
                            "#7201a8"
                          ],
                          [
                            0.3333333333333333,
                            "#9c179e"
                          ],
                          [
                            0.4444444444444444,
                            "#bd3786"
                          ],
                          [
                            0.5555555555555556,
                            "#d8576b"
                          ],
                          [
                            0.6666666666666666,
                            "#ed7953"
                          ],
                          [
                            0.7777777777777778,
                            "#fb9f3a"
                          ],
                          [
                            0.8888888888888888,
                            "#fdca26"
                          ],
                          [
                            1,
                            "#f0f921"
                          ]
                        ],
                        "type": "histogram2dcontour"
                      }
                    ],
                    "mesh3d": [
                      {
                        "colorbar": {
                          "outlinewidth": 0,
                          "ticks": ""
                        },
                        "type": "mesh3d"
                      }
                    ],
                    "parcoords": [
                      {
                        "line": {
                          "colorbar": {
                            "outlinewidth": 0,
                            "ticks": ""
                          }
                        },
                        "type": "parcoords"
                      }
                    ],
                    "pie": [
                      {
                        "automargin": true,
                        "type": "pie"
                      }
                    ],
                    "scatter": [
                      {
                        "fillpattern": {
                          "fillmode": "overlay",
                          "size": 10,
                          "solidity": 0.2
                        },
                        "type": "scatter"
                      }
                    ],
                    "scatter3d": [
                      {
                        "line": {
                          "colorbar": {
                            "outlinewidth": 0,
                            "ticks": ""
                          }
                        },
                        "marker": {
                          "colorbar": {
                            "outlinewidth": 0,
                            "ticks": ""
                          }
                        },
                        "type": "scatter3d"
                      }
                    ],
                    "scattercarpet": [
                      {
                        "marker": {
                          "colorbar": {
                            "outlinewidth": 0,
                            "ticks": ""
                          }
                        },
                        "type": "scattercarpet"
                      }
                    ],
                    "scattergeo": [
                      {
                        "marker": {
                          "colorbar": {
                            "outlinewidth": 0,
                            "ticks": ""
                          }
                        },
                        "type": "scattergeo"
                      }
                    ],
                    "scattergl": [
                      {
                        "marker": {
                          "colorbar": {
                            "outlinewidth": 0,
                            "ticks": ""
                          }
                        },
                        "type": "scattergl"
                      }
                    ],
                    "scattermapbox": [
                      {
                        "marker": {
                          "colorbar": {
                            "outlinewidth": 0,
                            "ticks": ""
                          }
                        },
                        "type": "scattermapbox"
                      }
                    ],
                    "scatterpolar": [
                      {
                        "marker": {
                          "colorbar": {
                            "outlinewidth": 0,
                            "ticks": ""
                          }
                        },
                        "type": "scatterpolar"
                      }
                    ],
                    "scatterpolargl": [
                      {
                        "marker": {
                          "colorbar": {
                            "outlinewidth": 0,
                            "ticks": ""
                          }
                        },
                        "type": "scatterpolargl"
                      }
                    ],
                    "scatterternary": [
                      {
                        "marker": {
                          "colorbar": {
                            "outlinewidth": 0,
                            "ticks": ""
                          }
                        },
                        "type": "scatterternary"
                      }
                    ],
                    "surface": [
                      {
                        "colorbar": {
                          "outlinewidth": 0,
                          "ticks": ""
                        },
                        "colorscale": [
                          [
                            0,
                            "#0d0887"
                          ],
                          [
                            0.1111111111111111,
                            "#46039f"
                          ],
                          [
                            0.2222222222222222,
                            "#7201a8"
                          ],
                          [
                            0.3333333333333333,
                            "#9c179e"
                          ],
                          [
                            0.4444444444444444,
                            "#bd3786"
                          ],
                          [
                            0.5555555555555556,
                            "#d8576b"
                          ],
                          [
                            0.6666666666666666,
                            "#ed7953"
                          ],
                          [
                            0.7777777777777778,
                            "#fb9f3a"
                          ],
                          [
                            0.8888888888888888,
                            "#fdca26"
                          ],
                          [
                            1,
                            "#f0f921"
                          ]
                        ],
                        "type": "surface"
                      }
                    ],
                    "table": [
                      {
                        "cells": {
                          "fill": {
                            "color": "#EBF0F8"
                          },
                          "line": {
                            "color": "white"
                          }
                        },
                        "header": {
                          "fill": {
                            "color": "#C8D4E3"
                          },
                          "line": {
                            "color": "white"
                          }
                        },
                        "type": "table"
                      }
                    ]
                  },
                  "layout": {
                    "annotationdefaults": {
                      "arrowcolor": "#2a3f5f",
                      "arrowhead": 0,
                      "arrowwidth": 1
                    },
                    "autotypenumbers": "strict",
                    "coloraxis": {
                      "colorbar": {
                        "outlinewidth": 0,
                        "ticks": ""
                      }
                    },
                    "colorscale": {
                      "diverging": [
                        [
                          0,
                          "#8e0152"
                        ],
                        [
                          0.1,
                          "#c51b7d"
                        ],
                        [
                          0.2,
                          "#de77ae"
                        ],
                        [
                          0.3,
                          "#f1b6da"
                        ],
                        [
                          0.4,
                          "#fde0ef"
                        ],
                        [
                          0.5,
                          "#f7f7f7"
                        ],
                        [
                          0.6,
                          "#e6f5d0"
                        ],
                        [
                          0.7,
                          "#b8e186"
                        ],
                        [
                          0.8,
                          "#7fbc41"
                        ],
                        [
                          0.9,
                          "#4d9221"
                        ],
                        [
                          1,
                          "#276419"
                        ]
                      ],
                      "sequential": [
                        [
                          0,
                          "#0d0887"
                        ],
                        [
                          0.1111111111111111,
                          "#46039f"
                        ],
                        [
                          0.2222222222222222,
                          "#7201a8"
                        ],
                        [
                          0.3333333333333333,
                          "#9c179e"
                        ],
                        [
                          0.4444444444444444,
                          "#bd3786"
                        ],
                        [
                          0.5555555555555556,
                          "#d8576b"
                        ],
                        [
                          0.6666666666666666,
                          "#ed7953"
                        ],
                        [
                          0.7777777777777778,
                          "#fb9f3a"
                        ],
                        [
                          0.8888888888888888,
                          "#fdca26"
                        ],
                        [
                          1,
                          "#f0f921"
                        ]
                      ],
                      "sequentialminus": [
                        [
                          0,
                          "#0d0887"
                        ],
                        [
                          0.1111111111111111,
                          "#46039f"
                        ],
                        [
                          0.2222222222222222,
                          "#7201a8"
                        ],
                        [
                          0.3333333333333333,
                          "#9c179e"
                        ],
                        [
                          0.4444444444444444,
                          "#bd3786"
                        ],
                        [
                          0.5555555555555556,
                          "#d8576b"
                        ],
                        [
                          0.6666666666666666,
                          "#ed7953"
                        ],
                        [
                          0.7777777777777778,
                          "#fb9f3a"
                        ],
                        [
                          0.8888888888888888,
                          "#fdca26"
                        ],
                        [
                          1,
                          "#f0f921"
                        ]
                      ]
                    },
                    "colorway": [
                      "#636efa",
                      "#EF553B",
                      "#00cc96",
                      "#ab63fa",
                      "#FFA15A",
                      "#19d3f3",
                      "#FF6692",
                      "#B6E880",
                      "#FF97FF",
                      "#FECB52"
                    ],
                    "font": {
                      "color": "#2a3f5f"
                    },
                    "geo": {
                      "bgcolor": "white",
                      "lakecolor": "white",
                      "landcolor": "#E5ECF6",
                      "showlakes": true,
                      "showland": true,
                      "subunitcolor": "white"
                    },
                    "hoverlabel": {
                      "align": "left"
                    },
                    "hovermode": "closest",
                    "mapbox": {
                      "style": "light"
                    },
                    "paper_bgcolor": "white",
                    "plot_bgcolor": "#E5ECF6",
                    "polar": {
                      "angularaxis": {
                        "gridcolor": "white",
                        "linecolor": "white",
                        "ticks": ""
                      },
                      "bgcolor": "#E5ECF6",
                      "radialaxis": {
                        "gridcolor": "white",
                        "linecolor": "white",
                        "ticks": ""
                      }
                    },
                    "scene": {
                      "xaxis": {
                        "backgroundcolor": "#E5ECF6",
                        "gridcolor": "white",
                        "gridwidth": 2,
                        "linecolor": "white",
                        "showbackground": true,
                        "ticks": "",
                        "zerolinecolor": "white"
                      },
                      "yaxis": {
                        "backgroundcolor": "#E5ECF6",
                        "gridcolor": "white",
                        "gridwidth": 2,
                        "linecolor": "white",
                        "showbackground": true,
                        "ticks": "",
                        "zerolinecolor": "white"
                      },
                      "zaxis": {
                        "backgroundcolor": "#E5ECF6",
                        "gridcolor": "white",
                        "gridwidth": 2,
                        "linecolor": "white",
                        "showbackground": true,
                        "ticks": "",
                        "zerolinecolor": "white"
                      }
                    },
                    "shapedefaults": {
                      "line": {
                        "color": "#2a3f5f"
                      }
                    },
                    "ternary": {
                      "aaxis": {
                        "gridcolor": "white",
                        "linecolor": "white",
                        "ticks": ""
                      },
                      "baxis": {
                        "gridcolor": "white",
                        "linecolor": "white",
                        "ticks": ""
                      },
                      "bgcolor": "#E5ECF6",
                      "caxis": {
                        "gridcolor": "white",
                        "linecolor": "white",
                        "ticks": ""
                      }
                    },
                    "title": {
                      "x": 0.05
                    },
                    "xaxis": {
                      "automargin": true,
                      "gridcolor": "white",
                      "linecolor": "white",
                      "ticks": "",
                      "title": {
                        "standoff": 15
                      },
                      "zerolinecolor": "white",
                      "zerolinewidth": 2
                    },
                    "yaxis": {
                      "automargin": true,
                      "gridcolor": "white",
                      "linecolor": "white",
                      "ticks": "",
                      "title": {
                        "standoff": 15
                      },
                      "zerolinecolor": "white",
                      "zerolinewidth": 2
                    }
                  }
                },
                "title": {
                  "text": "Manner of Police Deaths by Gender"
                },
                "xaxis": {
                  "title": {
                    "text": "Method of Death"
                  }
                },
                "yaxis": {
                  "title": {
                    "text": "Number of Deaths"
                  }
                }
              }
            }
          },
          "metadata": {},
          "output_type": "display_data"
        }
      ],
      "source": [
        "gender_MoD_box = go.Figure()\n",
        "\n",
        "gender_MoD_box.add_trace(go.Box(x=male_MoD.manner_of_death,\n",
        "                                y=male_MoD.age,\n",
        "                                quartilemethod=\"linear\",\n",
        "                                name='Male'))\n",
        "\n",
        "gender_MoD_box.add_trace(go.Box(x=female_MoD.manner_of_death,\n",
        "                                y=female_MoD.age,\n",
        "                                quartilemethod=\"linear\",\n",
        "                                name='Female'))\n",
        "\n",
        "gender_MoD_box.update_layout(title_text = \"Manner of Police Deaths by Gender\",\n",
        "                             legend_title_text='Gender',\n",
        "                             boxmode='group')\n",
        "gender_MoD_box.update_xaxes(title_text=\"Method of Death\")\n",
        "gender_MoD_box.update_yaxes(title_text=\"Number of Deaths\")\n",
        "gender_MoD_box.show()"
      ]
    },
    {
      "cell_type": "markdown",
      "metadata": {
        "id": "h1pAgkyb3Xb0"
      },
      "source": [
        "# Were People Armed? \n",
        "\n",
        "In what percentage of police killings were people armed? Create chart that show what kind of weapon (if any) the deceased was carrying. How many of the people killed by police were armed with guns versus unarmed? "
      ]
    },
    {
      "cell_type": "code",
      "execution_count": 551,
      "metadata": {
        "id": "0d9B3Pec4TdM"
      },
      "outputs": [
        {
          "data": {
            "application/vnd.plotly.v1+json": {
              "config": {
                "plotlyServerURL": "https://plot.ly"
              },
              "data": [
                {
                  "type": "bar",
                  "x": [
                    "gun",
                    "knife",
                    "vehicle",
                    "unarmed",
                    "undetermined",
                    "toy weapon",
                    "unknown weapon",
                    "machete",
                    "Unknown",
                    "Taser",
                    "ax",
                    "sword",
                    "baseball bat",
                    "hammer",
                    "metal pipe",
                    "box cutter",
                    "hatchet",
                    "crossbow",
                    "blunt object",
                    "screwdriver",
                    "gun and knife",
                    "guns and explosives",
                    "scissors",
                    "rock",
                    "metal stick",
                    "brick",
                    "pipe",
                    "chain saw",
                    "baton",
                    "piece of wood",
                    "hatchet and gun",
                    "beer bottle",
                    "metal object",
                    "metal pole",
                    "shovel",
                    "meat cleaver",
                    "sharp object",
                    "bayonet",
                    "nail gun",
                    "glass shard",
                    "motorcycle",
                    "metal rake",
                    "crowbar",
                    "contractor's level",
                    "lawn mower blade",
                    "machete and gun",
                    "tire iron",
                    "air conditioner",
                    "pole and knife",
                    "baseball bat and bottle",
                    "fireworks",
                    "oar",
                    "spear",
                    "pitchfork",
                    "stapler",
                    "flagpole",
                    "flashlight",
                    "pick-axe",
                    "pole",
                    "cordless drill",
                    "garden tool",
                    "hand torch",
                    "metal hand tool",
                    "carjack",
                    "straight edge razor",
                    "baseball bat and fireplace poker",
                    "bean-bag gun",
                    "chain",
                    "pen"
                  ],
                  "y": [
                    1398,
                    373,
                    177,
                    171,
                    117,
                    104,
                    18,
                    18,
                    9,
                    9,
                    9,
                    8,
                    8,
                    7,
                    7,
                    7,
                    6,
                    6,
                    5,
                    5,
                    5,
                    3,
                    3,
                    3,
                    3,
                    2,
                    2,
                    2,
                    2,
                    2,
                    2,
                    2,
                    2,
                    2,
                    2,
                    2,
                    2,
                    1,
                    1,
                    1,
                    1,
                    1,
                    1,
                    1,
                    1,
                    1,
                    1,
                    1,
                    1,
                    1,
                    1,
                    1,
                    1,
                    1,
                    1,
                    1,
                    1,
                    1,
                    1,
                    1,
                    1,
                    1,
                    1,
                    1,
                    1,
                    1,
                    1,
                    1,
                    1
                  ]
                }
              ],
              "layout": {
                "template": {
                  "data": {
                    "bar": [
                      {
                        "error_x": {
                          "color": "#2a3f5f"
                        },
                        "error_y": {
                          "color": "#2a3f5f"
                        },
                        "marker": {
                          "line": {
                            "color": "#E5ECF6",
                            "width": 0.5
                          },
                          "pattern": {
                            "fillmode": "overlay",
                            "size": 10,
                            "solidity": 0.2
                          }
                        },
                        "type": "bar"
                      }
                    ],
                    "barpolar": [
                      {
                        "marker": {
                          "line": {
                            "color": "#E5ECF6",
                            "width": 0.5
                          },
                          "pattern": {
                            "fillmode": "overlay",
                            "size": 10,
                            "solidity": 0.2
                          }
                        },
                        "type": "barpolar"
                      }
                    ],
                    "carpet": [
                      {
                        "aaxis": {
                          "endlinecolor": "#2a3f5f",
                          "gridcolor": "white",
                          "linecolor": "white",
                          "minorgridcolor": "white",
                          "startlinecolor": "#2a3f5f"
                        },
                        "baxis": {
                          "endlinecolor": "#2a3f5f",
                          "gridcolor": "white",
                          "linecolor": "white",
                          "minorgridcolor": "white",
                          "startlinecolor": "#2a3f5f"
                        },
                        "type": "carpet"
                      }
                    ],
                    "choropleth": [
                      {
                        "colorbar": {
                          "outlinewidth": 0,
                          "ticks": ""
                        },
                        "type": "choropleth"
                      }
                    ],
                    "contour": [
                      {
                        "colorbar": {
                          "outlinewidth": 0,
                          "ticks": ""
                        },
                        "colorscale": [
                          [
                            0,
                            "#0d0887"
                          ],
                          [
                            0.1111111111111111,
                            "#46039f"
                          ],
                          [
                            0.2222222222222222,
                            "#7201a8"
                          ],
                          [
                            0.3333333333333333,
                            "#9c179e"
                          ],
                          [
                            0.4444444444444444,
                            "#bd3786"
                          ],
                          [
                            0.5555555555555556,
                            "#d8576b"
                          ],
                          [
                            0.6666666666666666,
                            "#ed7953"
                          ],
                          [
                            0.7777777777777778,
                            "#fb9f3a"
                          ],
                          [
                            0.8888888888888888,
                            "#fdca26"
                          ],
                          [
                            1,
                            "#f0f921"
                          ]
                        ],
                        "type": "contour"
                      }
                    ],
                    "contourcarpet": [
                      {
                        "colorbar": {
                          "outlinewidth": 0,
                          "ticks": ""
                        },
                        "type": "contourcarpet"
                      }
                    ],
                    "heatmap": [
                      {
                        "colorbar": {
                          "outlinewidth": 0,
                          "ticks": ""
                        },
                        "colorscale": [
                          [
                            0,
                            "#0d0887"
                          ],
                          [
                            0.1111111111111111,
                            "#46039f"
                          ],
                          [
                            0.2222222222222222,
                            "#7201a8"
                          ],
                          [
                            0.3333333333333333,
                            "#9c179e"
                          ],
                          [
                            0.4444444444444444,
                            "#bd3786"
                          ],
                          [
                            0.5555555555555556,
                            "#d8576b"
                          ],
                          [
                            0.6666666666666666,
                            "#ed7953"
                          ],
                          [
                            0.7777777777777778,
                            "#fb9f3a"
                          ],
                          [
                            0.8888888888888888,
                            "#fdca26"
                          ],
                          [
                            1,
                            "#f0f921"
                          ]
                        ],
                        "type": "heatmap"
                      }
                    ],
                    "heatmapgl": [
                      {
                        "colorbar": {
                          "outlinewidth": 0,
                          "ticks": ""
                        },
                        "colorscale": [
                          [
                            0,
                            "#0d0887"
                          ],
                          [
                            0.1111111111111111,
                            "#46039f"
                          ],
                          [
                            0.2222222222222222,
                            "#7201a8"
                          ],
                          [
                            0.3333333333333333,
                            "#9c179e"
                          ],
                          [
                            0.4444444444444444,
                            "#bd3786"
                          ],
                          [
                            0.5555555555555556,
                            "#d8576b"
                          ],
                          [
                            0.6666666666666666,
                            "#ed7953"
                          ],
                          [
                            0.7777777777777778,
                            "#fb9f3a"
                          ],
                          [
                            0.8888888888888888,
                            "#fdca26"
                          ],
                          [
                            1,
                            "#f0f921"
                          ]
                        ],
                        "type": "heatmapgl"
                      }
                    ],
                    "histogram": [
                      {
                        "marker": {
                          "pattern": {
                            "fillmode": "overlay",
                            "size": 10,
                            "solidity": 0.2
                          }
                        },
                        "type": "histogram"
                      }
                    ],
                    "histogram2d": [
                      {
                        "colorbar": {
                          "outlinewidth": 0,
                          "ticks": ""
                        },
                        "colorscale": [
                          [
                            0,
                            "#0d0887"
                          ],
                          [
                            0.1111111111111111,
                            "#46039f"
                          ],
                          [
                            0.2222222222222222,
                            "#7201a8"
                          ],
                          [
                            0.3333333333333333,
                            "#9c179e"
                          ],
                          [
                            0.4444444444444444,
                            "#bd3786"
                          ],
                          [
                            0.5555555555555556,
                            "#d8576b"
                          ],
                          [
                            0.6666666666666666,
                            "#ed7953"
                          ],
                          [
                            0.7777777777777778,
                            "#fb9f3a"
                          ],
                          [
                            0.8888888888888888,
                            "#fdca26"
                          ],
                          [
                            1,
                            "#f0f921"
                          ]
                        ],
                        "type": "histogram2d"
                      }
                    ],
                    "histogram2dcontour": [
                      {
                        "colorbar": {
                          "outlinewidth": 0,
                          "ticks": ""
                        },
                        "colorscale": [
                          [
                            0,
                            "#0d0887"
                          ],
                          [
                            0.1111111111111111,
                            "#46039f"
                          ],
                          [
                            0.2222222222222222,
                            "#7201a8"
                          ],
                          [
                            0.3333333333333333,
                            "#9c179e"
                          ],
                          [
                            0.4444444444444444,
                            "#bd3786"
                          ],
                          [
                            0.5555555555555556,
                            "#d8576b"
                          ],
                          [
                            0.6666666666666666,
                            "#ed7953"
                          ],
                          [
                            0.7777777777777778,
                            "#fb9f3a"
                          ],
                          [
                            0.8888888888888888,
                            "#fdca26"
                          ],
                          [
                            1,
                            "#f0f921"
                          ]
                        ],
                        "type": "histogram2dcontour"
                      }
                    ],
                    "mesh3d": [
                      {
                        "colorbar": {
                          "outlinewidth": 0,
                          "ticks": ""
                        },
                        "type": "mesh3d"
                      }
                    ],
                    "parcoords": [
                      {
                        "line": {
                          "colorbar": {
                            "outlinewidth": 0,
                            "ticks": ""
                          }
                        },
                        "type": "parcoords"
                      }
                    ],
                    "pie": [
                      {
                        "automargin": true,
                        "type": "pie"
                      }
                    ],
                    "scatter": [
                      {
                        "fillpattern": {
                          "fillmode": "overlay",
                          "size": 10,
                          "solidity": 0.2
                        },
                        "type": "scatter"
                      }
                    ],
                    "scatter3d": [
                      {
                        "line": {
                          "colorbar": {
                            "outlinewidth": 0,
                            "ticks": ""
                          }
                        },
                        "marker": {
                          "colorbar": {
                            "outlinewidth": 0,
                            "ticks": ""
                          }
                        },
                        "type": "scatter3d"
                      }
                    ],
                    "scattercarpet": [
                      {
                        "marker": {
                          "colorbar": {
                            "outlinewidth": 0,
                            "ticks": ""
                          }
                        },
                        "type": "scattercarpet"
                      }
                    ],
                    "scattergeo": [
                      {
                        "marker": {
                          "colorbar": {
                            "outlinewidth": 0,
                            "ticks": ""
                          }
                        },
                        "type": "scattergeo"
                      }
                    ],
                    "scattergl": [
                      {
                        "marker": {
                          "colorbar": {
                            "outlinewidth": 0,
                            "ticks": ""
                          }
                        },
                        "type": "scattergl"
                      }
                    ],
                    "scattermapbox": [
                      {
                        "marker": {
                          "colorbar": {
                            "outlinewidth": 0,
                            "ticks": ""
                          }
                        },
                        "type": "scattermapbox"
                      }
                    ],
                    "scatterpolar": [
                      {
                        "marker": {
                          "colorbar": {
                            "outlinewidth": 0,
                            "ticks": ""
                          }
                        },
                        "type": "scatterpolar"
                      }
                    ],
                    "scatterpolargl": [
                      {
                        "marker": {
                          "colorbar": {
                            "outlinewidth": 0,
                            "ticks": ""
                          }
                        },
                        "type": "scatterpolargl"
                      }
                    ],
                    "scatterternary": [
                      {
                        "marker": {
                          "colorbar": {
                            "outlinewidth": 0,
                            "ticks": ""
                          }
                        },
                        "type": "scatterternary"
                      }
                    ],
                    "surface": [
                      {
                        "colorbar": {
                          "outlinewidth": 0,
                          "ticks": ""
                        },
                        "colorscale": [
                          [
                            0,
                            "#0d0887"
                          ],
                          [
                            0.1111111111111111,
                            "#46039f"
                          ],
                          [
                            0.2222222222222222,
                            "#7201a8"
                          ],
                          [
                            0.3333333333333333,
                            "#9c179e"
                          ],
                          [
                            0.4444444444444444,
                            "#bd3786"
                          ],
                          [
                            0.5555555555555556,
                            "#d8576b"
                          ],
                          [
                            0.6666666666666666,
                            "#ed7953"
                          ],
                          [
                            0.7777777777777778,
                            "#fb9f3a"
                          ],
                          [
                            0.8888888888888888,
                            "#fdca26"
                          ],
                          [
                            1,
                            "#f0f921"
                          ]
                        ],
                        "type": "surface"
                      }
                    ],
                    "table": [
                      {
                        "cells": {
                          "fill": {
                            "color": "#EBF0F8"
                          },
                          "line": {
                            "color": "white"
                          }
                        },
                        "header": {
                          "fill": {
                            "color": "#C8D4E3"
                          },
                          "line": {
                            "color": "white"
                          }
                        },
                        "type": "table"
                      }
                    ]
                  },
                  "layout": {
                    "annotationdefaults": {
                      "arrowcolor": "#2a3f5f",
                      "arrowhead": 0,
                      "arrowwidth": 1
                    },
                    "autotypenumbers": "strict",
                    "coloraxis": {
                      "colorbar": {
                        "outlinewidth": 0,
                        "ticks": ""
                      }
                    },
                    "colorscale": {
                      "diverging": [
                        [
                          0,
                          "#8e0152"
                        ],
                        [
                          0.1,
                          "#c51b7d"
                        ],
                        [
                          0.2,
                          "#de77ae"
                        ],
                        [
                          0.3,
                          "#f1b6da"
                        ],
                        [
                          0.4,
                          "#fde0ef"
                        ],
                        [
                          0.5,
                          "#f7f7f7"
                        ],
                        [
                          0.6,
                          "#e6f5d0"
                        ],
                        [
                          0.7,
                          "#b8e186"
                        ],
                        [
                          0.8,
                          "#7fbc41"
                        ],
                        [
                          0.9,
                          "#4d9221"
                        ],
                        [
                          1,
                          "#276419"
                        ]
                      ],
                      "sequential": [
                        [
                          0,
                          "#0d0887"
                        ],
                        [
                          0.1111111111111111,
                          "#46039f"
                        ],
                        [
                          0.2222222222222222,
                          "#7201a8"
                        ],
                        [
                          0.3333333333333333,
                          "#9c179e"
                        ],
                        [
                          0.4444444444444444,
                          "#bd3786"
                        ],
                        [
                          0.5555555555555556,
                          "#d8576b"
                        ],
                        [
                          0.6666666666666666,
                          "#ed7953"
                        ],
                        [
                          0.7777777777777778,
                          "#fb9f3a"
                        ],
                        [
                          0.8888888888888888,
                          "#fdca26"
                        ],
                        [
                          1,
                          "#f0f921"
                        ]
                      ],
                      "sequentialminus": [
                        [
                          0,
                          "#0d0887"
                        ],
                        [
                          0.1111111111111111,
                          "#46039f"
                        ],
                        [
                          0.2222222222222222,
                          "#7201a8"
                        ],
                        [
                          0.3333333333333333,
                          "#9c179e"
                        ],
                        [
                          0.4444444444444444,
                          "#bd3786"
                        ],
                        [
                          0.5555555555555556,
                          "#d8576b"
                        ],
                        [
                          0.6666666666666666,
                          "#ed7953"
                        ],
                        [
                          0.7777777777777778,
                          "#fb9f3a"
                        ],
                        [
                          0.8888888888888888,
                          "#fdca26"
                        ],
                        [
                          1,
                          "#f0f921"
                        ]
                      ]
                    },
                    "colorway": [
                      "#636efa",
                      "#EF553B",
                      "#00cc96",
                      "#ab63fa",
                      "#FFA15A",
                      "#19d3f3",
                      "#FF6692",
                      "#B6E880",
                      "#FF97FF",
                      "#FECB52"
                    ],
                    "font": {
                      "color": "#2a3f5f"
                    },
                    "geo": {
                      "bgcolor": "white",
                      "lakecolor": "white",
                      "landcolor": "#E5ECF6",
                      "showlakes": true,
                      "showland": true,
                      "subunitcolor": "white"
                    },
                    "hoverlabel": {
                      "align": "left"
                    },
                    "hovermode": "closest",
                    "mapbox": {
                      "style": "light"
                    },
                    "paper_bgcolor": "white",
                    "plot_bgcolor": "#E5ECF6",
                    "polar": {
                      "angularaxis": {
                        "gridcolor": "white",
                        "linecolor": "white",
                        "ticks": ""
                      },
                      "bgcolor": "#E5ECF6",
                      "radialaxis": {
                        "gridcolor": "white",
                        "linecolor": "white",
                        "ticks": ""
                      }
                    },
                    "scene": {
                      "xaxis": {
                        "backgroundcolor": "#E5ECF6",
                        "gridcolor": "white",
                        "gridwidth": 2,
                        "linecolor": "white",
                        "showbackground": true,
                        "ticks": "",
                        "zerolinecolor": "white"
                      },
                      "yaxis": {
                        "backgroundcolor": "#E5ECF6",
                        "gridcolor": "white",
                        "gridwidth": 2,
                        "linecolor": "white",
                        "showbackground": true,
                        "ticks": "",
                        "zerolinecolor": "white"
                      },
                      "zaxis": {
                        "backgroundcolor": "#E5ECF6",
                        "gridcolor": "white",
                        "gridwidth": 2,
                        "linecolor": "white",
                        "showbackground": true,
                        "ticks": "",
                        "zerolinecolor": "white"
                      }
                    },
                    "shapedefaults": {
                      "line": {
                        "color": "#2a3f5f"
                      }
                    },
                    "ternary": {
                      "aaxis": {
                        "gridcolor": "white",
                        "linecolor": "white",
                        "ticks": ""
                      },
                      "baxis": {
                        "gridcolor": "white",
                        "linecolor": "white",
                        "ticks": ""
                      },
                      "bgcolor": "#E5ECF6",
                      "caxis": {
                        "gridcolor": "white",
                        "linecolor": "white",
                        "ticks": ""
                      }
                    },
                    "title": {
                      "x": 0.05
                    },
                    "xaxis": {
                      "automargin": true,
                      "gridcolor": "white",
                      "linecolor": "white",
                      "ticks": "",
                      "title": {
                        "standoff": 15
                      },
                      "zerolinecolor": "white",
                      "zerolinewidth": 2
                    },
                    "yaxis": {
                      "automargin": true,
                      "gridcolor": "white",
                      "linecolor": "white",
                      "ticks": "",
                      "title": {
                        "standoff": 15
                      },
                      "zerolinecolor": "white",
                      "zerolinewidth": 2
                    }
                  }
                }
              }
            }
          },
          "metadata": {},
          "output_type": "display_data"
        }
      ],
      "source": [
        "armed_bar = go.Figure()\n",
        "\n",
        "armed_bar.add_trace(go.Bar(x=df_fatalities.armed.value_counts().index, y=df_fatalities.armed.value_counts().values))\n",
        "armed_bar.show()"
      ]
    },
    {
      "cell_type": "markdown",
      "metadata": {
        "id": "IgD2a5-L4W_I"
      },
      "source": [
        "# How Old Were the People Killed?"
      ]
    },
    {
      "cell_type": "markdown",
      "metadata": {
        "id": "BNPrdT-W9lf3"
      },
      "source": [
        "Work out what percentage of people killed were under 25 years old.  "
      ]
    },
    {
      "cell_type": "code",
      "execution_count": 619,
      "metadata": {},
      "outputs": [
        {
          "name": "stderr",
          "output_type": "stream",
          "text": [
            "C:\\Users\\joshu\\AppData\\Local\\Temp\\ipykernel_12340\\1437226905.py:3: SettingWithCopyWarning:\n",
            "\n",
            "\n",
            "A value is trying to be set on a copy of a slice from a DataFrame\n",
            "\n",
            "See the caveats in the documentation: https://pandas.pydata.org/pandas-docs/stable/user_guide/indexing.html#returning-a-view-versus-a-copy\n",
            "\n",
            "C:\\Users\\joshu\\AppData\\Local\\Temp\\ipykernel_12340\\1437226905.py:5: SettingWithCopyWarning:\n",
            "\n",
            "\n",
            "A value is trying to be set on a copy of a slice from a DataFrame\n",
            "\n",
            "See the caveats in the documentation: https://pandas.pydata.org/pandas-docs/stable/user_guide/indexing.html#returning-a-view-versus-a-copy\n",
            "\n"
          ]
        }
      ],
      "source": [
        "age_killed = df_fatalities\n",
        "avg_age = age_killed.age.mean().round(0)\n",
        "age_killed.age[age_killed.age == 'Unknown'] = avg_age\n",
        "age_killed = age_killed.fillna(avg_age)\n",
        "age_killed.age[age_killed.age < 25] = 'Under 25'\n",
        "age_killed.age[age_killed.age != 'Under 25'] = 'Over 25'"
      ]
    },
    {
      "cell_type": "code",
      "execution_count": 621,
      "metadata": {
        "id": "zSyDgzb542O9"
      },
      "outputs": [
        {
          "data": {
            "application/vnd.plotly.v1+json": {
              "config": {
                "plotlyServerURL": "https://plot.ly"
              },
              "data": [
                {
                  "labels": [
                    "Over 25",
                    "Under 25"
                  ],
                  "type": "pie",
                  "values": [
                    2085,
                    450
                  ]
                }
              ],
              "layout": {
                "autosize": false,
                "height": 700,
                "legend": {
                  "title": {
                    "text": "Age"
                  }
                },
                "margin": {
                  "b": 20,
                  "l": 100,
                  "r": 800,
                  "t": 40
                },
                "template": {
                  "data": {
                    "bar": [
                      {
                        "error_x": {
                          "color": "#2a3f5f"
                        },
                        "error_y": {
                          "color": "#2a3f5f"
                        },
                        "marker": {
                          "line": {
                            "color": "#E5ECF6",
                            "width": 0.5
                          },
                          "pattern": {
                            "fillmode": "overlay",
                            "size": 10,
                            "solidity": 0.2
                          }
                        },
                        "type": "bar"
                      }
                    ],
                    "barpolar": [
                      {
                        "marker": {
                          "line": {
                            "color": "#E5ECF6",
                            "width": 0.5
                          },
                          "pattern": {
                            "fillmode": "overlay",
                            "size": 10,
                            "solidity": 0.2
                          }
                        },
                        "type": "barpolar"
                      }
                    ],
                    "carpet": [
                      {
                        "aaxis": {
                          "endlinecolor": "#2a3f5f",
                          "gridcolor": "white",
                          "linecolor": "white",
                          "minorgridcolor": "white",
                          "startlinecolor": "#2a3f5f"
                        },
                        "baxis": {
                          "endlinecolor": "#2a3f5f",
                          "gridcolor": "white",
                          "linecolor": "white",
                          "minorgridcolor": "white",
                          "startlinecolor": "#2a3f5f"
                        },
                        "type": "carpet"
                      }
                    ],
                    "choropleth": [
                      {
                        "colorbar": {
                          "outlinewidth": 0,
                          "ticks": ""
                        },
                        "type": "choropleth"
                      }
                    ],
                    "contour": [
                      {
                        "colorbar": {
                          "outlinewidth": 0,
                          "ticks": ""
                        },
                        "colorscale": [
                          [
                            0,
                            "#0d0887"
                          ],
                          [
                            0.1111111111111111,
                            "#46039f"
                          ],
                          [
                            0.2222222222222222,
                            "#7201a8"
                          ],
                          [
                            0.3333333333333333,
                            "#9c179e"
                          ],
                          [
                            0.4444444444444444,
                            "#bd3786"
                          ],
                          [
                            0.5555555555555556,
                            "#d8576b"
                          ],
                          [
                            0.6666666666666666,
                            "#ed7953"
                          ],
                          [
                            0.7777777777777778,
                            "#fb9f3a"
                          ],
                          [
                            0.8888888888888888,
                            "#fdca26"
                          ],
                          [
                            1,
                            "#f0f921"
                          ]
                        ],
                        "type": "contour"
                      }
                    ],
                    "contourcarpet": [
                      {
                        "colorbar": {
                          "outlinewidth": 0,
                          "ticks": ""
                        },
                        "type": "contourcarpet"
                      }
                    ],
                    "heatmap": [
                      {
                        "colorbar": {
                          "outlinewidth": 0,
                          "ticks": ""
                        },
                        "colorscale": [
                          [
                            0,
                            "#0d0887"
                          ],
                          [
                            0.1111111111111111,
                            "#46039f"
                          ],
                          [
                            0.2222222222222222,
                            "#7201a8"
                          ],
                          [
                            0.3333333333333333,
                            "#9c179e"
                          ],
                          [
                            0.4444444444444444,
                            "#bd3786"
                          ],
                          [
                            0.5555555555555556,
                            "#d8576b"
                          ],
                          [
                            0.6666666666666666,
                            "#ed7953"
                          ],
                          [
                            0.7777777777777778,
                            "#fb9f3a"
                          ],
                          [
                            0.8888888888888888,
                            "#fdca26"
                          ],
                          [
                            1,
                            "#f0f921"
                          ]
                        ],
                        "type": "heatmap"
                      }
                    ],
                    "heatmapgl": [
                      {
                        "colorbar": {
                          "outlinewidth": 0,
                          "ticks": ""
                        },
                        "colorscale": [
                          [
                            0,
                            "#0d0887"
                          ],
                          [
                            0.1111111111111111,
                            "#46039f"
                          ],
                          [
                            0.2222222222222222,
                            "#7201a8"
                          ],
                          [
                            0.3333333333333333,
                            "#9c179e"
                          ],
                          [
                            0.4444444444444444,
                            "#bd3786"
                          ],
                          [
                            0.5555555555555556,
                            "#d8576b"
                          ],
                          [
                            0.6666666666666666,
                            "#ed7953"
                          ],
                          [
                            0.7777777777777778,
                            "#fb9f3a"
                          ],
                          [
                            0.8888888888888888,
                            "#fdca26"
                          ],
                          [
                            1,
                            "#f0f921"
                          ]
                        ],
                        "type": "heatmapgl"
                      }
                    ],
                    "histogram": [
                      {
                        "marker": {
                          "pattern": {
                            "fillmode": "overlay",
                            "size": 10,
                            "solidity": 0.2
                          }
                        },
                        "type": "histogram"
                      }
                    ],
                    "histogram2d": [
                      {
                        "colorbar": {
                          "outlinewidth": 0,
                          "ticks": ""
                        },
                        "colorscale": [
                          [
                            0,
                            "#0d0887"
                          ],
                          [
                            0.1111111111111111,
                            "#46039f"
                          ],
                          [
                            0.2222222222222222,
                            "#7201a8"
                          ],
                          [
                            0.3333333333333333,
                            "#9c179e"
                          ],
                          [
                            0.4444444444444444,
                            "#bd3786"
                          ],
                          [
                            0.5555555555555556,
                            "#d8576b"
                          ],
                          [
                            0.6666666666666666,
                            "#ed7953"
                          ],
                          [
                            0.7777777777777778,
                            "#fb9f3a"
                          ],
                          [
                            0.8888888888888888,
                            "#fdca26"
                          ],
                          [
                            1,
                            "#f0f921"
                          ]
                        ],
                        "type": "histogram2d"
                      }
                    ],
                    "histogram2dcontour": [
                      {
                        "colorbar": {
                          "outlinewidth": 0,
                          "ticks": ""
                        },
                        "colorscale": [
                          [
                            0,
                            "#0d0887"
                          ],
                          [
                            0.1111111111111111,
                            "#46039f"
                          ],
                          [
                            0.2222222222222222,
                            "#7201a8"
                          ],
                          [
                            0.3333333333333333,
                            "#9c179e"
                          ],
                          [
                            0.4444444444444444,
                            "#bd3786"
                          ],
                          [
                            0.5555555555555556,
                            "#d8576b"
                          ],
                          [
                            0.6666666666666666,
                            "#ed7953"
                          ],
                          [
                            0.7777777777777778,
                            "#fb9f3a"
                          ],
                          [
                            0.8888888888888888,
                            "#fdca26"
                          ],
                          [
                            1,
                            "#f0f921"
                          ]
                        ],
                        "type": "histogram2dcontour"
                      }
                    ],
                    "mesh3d": [
                      {
                        "colorbar": {
                          "outlinewidth": 0,
                          "ticks": ""
                        },
                        "type": "mesh3d"
                      }
                    ],
                    "parcoords": [
                      {
                        "line": {
                          "colorbar": {
                            "outlinewidth": 0,
                            "ticks": ""
                          }
                        },
                        "type": "parcoords"
                      }
                    ],
                    "pie": [
                      {
                        "automargin": true,
                        "type": "pie"
                      }
                    ],
                    "scatter": [
                      {
                        "fillpattern": {
                          "fillmode": "overlay",
                          "size": 10,
                          "solidity": 0.2
                        },
                        "type": "scatter"
                      }
                    ],
                    "scatter3d": [
                      {
                        "line": {
                          "colorbar": {
                            "outlinewidth": 0,
                            "ticks": ""
                          }
                        },
                        "marker": {
                          "colorbar": {
                            "outlinewidth": 0,
                            "ticks": ""
                          }
                        },
                        "type": "scatter3d"
                      }
                    ],
                    "scattercarpet": [
                      {
                        "marker": {
                          "colorbar": {
                            "outlinewidth": 0,
                            "ticks": ""
                          }
                        },
                        "type": "scattercarpet"
                      }
                    ],
                    "scattergeo": [
                      {
                        "marker": {
                          "colorbar": {
                            "outlinewidth": 0,
                            "ticks": ""
                          }
                        },
                        "type": "scattergeo"
                      }
                    ],
                    "scattergl": [
                      {
                        "marker": {
                          "colorbar": {
                            "outlinewidth": 0,
                            "ticks": ""
                          }
                        },
                        "type": "scattergl"
                      }
                    ],
                    "scattermapbox": [
                      {
                        "marker": {
                          "colorbar": {
                            "outlinewidth": 0,
                            "ticks": ""
                          }
                        },
                        "type": "scattermapbox"
                      }
                    ],
                    "scatterpolar": [
                      {
                        "marker": {
                          "colorbar": {
                            "outlinewidth": 0,
                            "ticks": ""
                          }
                        },
                        "type": "scatterpolar"
                      }
                    ],
                    "scatterpolargl": [
                      {
                        "marker": {
                          "colorbar": {
                            "outlinewidth": 0,
                            "ticks": ""
                          }
                        },
                        "type": "scatterpolargl"
                      }
                    ],
                    "scatterternary": [
                      {
                        "marker": {
                          "colorbar": {
                            "outlinewidth": 0,
                            "ticks": ""
                          }
                        },
                        "type": "scatterternary"
                      }
                    ],
                    "surface": [
                      {
                        "colorbar": {
                          "outlinewidth": 0,
                          "ticks": ""
                        },
                        "colorscale": [
                          [
                            0,
                            "#0d0887"
                          ],
                          [
                            0.1111111111111111,
                            "#46039f"
                          ],
                          [
                            0.2222222222222222,
                            "#7201a8"
                          ],
                          [
                            0.3333333333333333,
                            "#9c179e"
                          ],
                          [
                            0.4444444444444444,
                            "#bd3786"
                          ],
                          [
                            0.5555555555555556,
                            "#d8576b"
                          ],
                          [
                            0.6666666666666666,
                            "#ed7953"
                          ],
                          [
                            0.7777777777777778,
                            "#fb9f3a"
                          ],
                          [
                            0.8888888888888888,
                            "#fdca26"
                          ],
                          [
                            1,
                            "#f0f921"
                          ]
                        ],
                        "type": "surface"
                      }
                    ],
                    "table": [
                      {
                        "cells": {
                          "fill": {
                            "color": "#EBF0F8"
                          },
                          "line": {
                            "color": "white"
                          }
                        },
                        "header": {
                          "fill": {
                            "color": "#C8D4E3"
                          },
                          "line": {
                            "color": "white"
                          }
                        },
                        "type": "table"
                      }
                    ]
                  },
                  "layout": {
                    "annotationdefaults": {
                      "arrowcolor": "#2a3f5f",
                      "arrowhead": 0,
                      "arrowwidth": 1
                    },
                    "autotypenumbers": "strict",
                    "coloraxis": {
                      "colorbar": {
                        "outlinewidth": 0,
                        "ticks": ""
                      }
                    },
                    "colorscale": {
                      "diverging": [
                        [
                          0,
                          "#8e0152"
                        ],
                        [
                          0.1,
                          "#c51b7d"
                        ],
                        [
                          0.2,
                          "#de77ae"
                        ],
                        [
                          0.3,
                          "#f1b6da"
                        ],
                        [
                          0.4,
                          "#fde0ef"
                        ],
                        [
                          0.5,
                          "#f7f7f7"
                        ],
                        [
                          0.6,
                          "#e6f5d0"
                        ],
                        [
                          0.7,
                          "#b8e186"
                        ],
                        [
                          0.8,
                          "#7fbc41"
                        ],
                        [
                          0.9,
                          "#4d9221"
                        ],
                        [
                          1,
                          "#276419"
                        ]
                      ],
                      "sequential": [
                        [
                          0,
                          "#0d0887"
                        ],
                        [
                          0.1111111111111111,
                          "#46039f"
                        ],
                        [
                          0.2222222222222222,
                          "#7201a8"
                        ],
                        [
                          0.3333333333333333,
                          "#9c179e"
                        ],
                        [
                          0.4444444444444444,
                          "#bd3786"
                        ],
                        [
                          0.5555555555555556,
                          "#d8576b"
                        ],
                        [
                          0.6666666666666666,
                          "#ed7953"
                        ],
                        [
                          0.7777777777777778,
                          "#fb9f3a"
                        ],
                        [
                          0.8888888888888888,
                          "#fdca26"
                        ],
                        [
                          1,
                          "#f0f921"
                        ]
                      ],
                      "sequentialminus": [
                        [
                          0,
                          "#0d0887"
                        ],
                        [
                          0.1111111111111111,
                          "#46039f"
                        ],
                        [
                          0.2222222222222222,
                          "#7201a8"
                        ],
                        [
                          0.3333333333333333,
                          "#9c179e"
                        ],
                        [
                          0.4444444444444444,
                          "#bd3786"
                        ],
                        [
                          0.5555555555555556,
                          "#d8576b"
                        ],
                        [
                          0.6666666666666666,
                          "#ed7953"
                        ],
                        [
                          0.7777777777777778,
                          "#fb9f3a"
                        ],
                        [
                          0.8888888888888888,
                          "#fdca26"
                        ],
                        [
                          1,
                          "#f0f921"
                        ]
                      ]
                    },
                    "colorway": [
                      "#636efa",
                      "#EF553B",
                      "#00cc96",
                      "#ab63fa",
                      "#FFA15A",
                      "#19d3f3",
                      "#FF6692",
                      "#B6E880",
                      "#FF97FF",
                      "#FECB52"
                    ],
                    "font": {
                      "color": "#2a3f5f"
                    },
                    "geo": {
                      "bgcolor": "white",
                      "lakecolor": "white",
                      "landcolor": "#E5ECF6",
                      "showlakes": true,
                      "showland": true,
                      "subunitcolor": "white"
                    },
                    "hoverlabel": {
                      "align": "left"
                    },
                    "hovermode": "closest",
                    "mapbox": {
                      "style": "light"
                    },
                    "paper_bgcolor": "white",
                    "plot_bgcolor": "#E5ECF6",
                    "polar": {
                      "angularaxis": {
                        "gridcolor": "white",
                        "linecolor": "white",
                        "ticks": ""
                      },
                      "bgcolor": "#E5ECF6",
                      "radialaxis": {
                        "gridcolor": "white",
                        "linecolor": "white",
                        "ticks": ""
                      }
                    },
                    "scene": {
                      "xaxis": {
                        "backgroundcolor": "#E5ECF6",
                        "gridcolor": "white",
                        "gridwidth": 2,
                        "linecolor": "white",
                        "showbackground": true,
                        "ticks": "",
                        "zerolinecolor": "white"
                      },
                      "yaxis": {
                        "backgroundcolor": "#E5ECF6",
                        "gridcolor": "white",
                        "gridwidth": 2,
                        "linecolor": "white",
                        "showbackground": true,
                        "ticks": "",
                        "zerolinecolor": "white"
                      },
                      "zaxis": {
                        "backgroundcolor": "#E5ECF6",
                        "gridcolor": "white",
                        "gridwidth": 2,
                        "linecolor": "white",
                        "showbackground": true,
                        "ticks": "",
                        "zerolinecolor": "white"
                      }
                    },
                    "shapedefaults": {
                      "line": {
                        "color": "#2a3f5f"
                      }
                    },
                    "ternary": {
                      "aaxis": {
                        "gridcolor": "white",
                        "linecolor": "white",
                        "ticks": ""
                      },
                      "baxis": {
                        "gridcolor": "white",
                        "linecolor": "white",
                        "ticks": ""
                      },
                      "bgcolor": "#E5ECF6",
                      "caxis": {
                        "gridcolor": "white",
                        "linecolor": "white",
                        "ticks": ""
                      }
                    },
                    "title": {
                      "x": 0.05
                    },
                    "xaxis": {
                      "automargin": true,
                      "gridcolor": "white",
                      "linecolor": "white",
                      "ticks": "",
                      "title": {
                        "standoff": 15
                      },
                      "zerolinecolor": "white",
                      "zerolinewidth": 2
                    },
                    "yaxis": {
                      "automargin": true,
                      "gridcolor": "white",
                      "linecolor": "white",
                      "ticks": "",
                      "title": {
                        "standoff": 15
                      },
                      "zerolinecolor": "white",
                      "zerolinewidth": 2
                    }
                  }
                },
                "title": {
                  "text": "Police Deaths by Age"
                },
                "width": 1500
              }
            }
          },
          "metadata": {},
          "output_type": "display_data"
        }
      ],
      "source": [
        "age_pie = go.Figure()\n",
        "\n",
        "age_pie.add_trace(go.Pie(labels=age_killed.age.value_counts().index, values=age_killed.age.value_counts().values))\n",
        "age_pie.update_layout(\n",
        "    title_text='Police Deaths by Age',\n",
        "    legend_title_text='Age',\n",
        "    autosize=False,\n",
        "    width=1500,\n",
        "    height=700,\n",
        "    margin=dict(l=100, r=800, t=40, b=20)\n",
        ")\n",
        "age_pie.show()"
      ]
    },
    {
      "cell_type": "markdown",
      "metadata": {
        "id": "5XrAD_ey9qBB"
      },
      "source": [
        "Create a histogram and KDE plot that shows the distribution of ages of the people killed by police. "
      ]
    },
    {
      "cell_type": "code",
      "execution_count": null,
      "metadata": {
        "id": "U6B1Qp7l42H8"
      },
      "outputs": [],
      "source": []
    },
    {
      "cell_type": "markdown",
      "metadata": {
        "id": "zcqqPDo79rTx"
      },
      "source": [
        "Create a seperate KDE plot for each race. Is there a difference between the distributions? "
      ]
    },
    {
      "cell_type": "code",
      "execution_count": null,
      "metadata": {
        "id": "ubUnMjok43Zo"
      },
      "outputs": [],
      "source": []
    },
    {
      "cell_type": "markdown",
      "metadata": {
        "id": "JkcHvMUt43uE"
      },
      "source": [
        "# Race of People Killed\n",
        "\n",
        "Create a chart that shows the total number of people killed by race. "
      ]
    },
    {
      "cell_type": "code",
      "execution_count": 657,
      "metadata": {
        "id": "e8wZvBrt5BEb"
      },
      "outputs": [
        {
          "data": {
            "application/vnd.plotly.v1+json": {
              "config": {
                "plotlyServerURL": "https://plot.ly"
              },
              "data": [
                {
                  "labels": [
                    "White",
                    "Black",
                    "Hispanic",
                    "Unknown",
                    "Asian",
                    "Native American"
                  ],
                  "marker": {
                    "line": {
                      "color": "#000000",
                      "width": 1.5
                    }
                  },
                  "textinfo": "label+percent",
                  "type": "pie",
                  "values": [
                    1201,
                    618,
                    423,
                    223,
                    39,
                    31
                  ]
                }
              ],
              "layout": {
                "autosize": false,
                "height": 500,
                "legend": {
                  "title": {
                    "text": "Race"
                  }
                },
                "margin": {
                  "b": 20,
                  "l": 100,
                  "r": 900,
                  "t": 40
                },
                "template": {
                  "data": {
                    "bar": [
                      {
                        "error_x": {
                          "color": "#2a3f5f"
                        },
                        "error_y": {
                          "color": "#2a3f5f"
                        },
                        "marker": {
                          "line": {
                            "color": "#E5ECF6",
                            "width": 0.5
                          },
                          "pattern": {
                            "fillmode": "overlay",
                            "size": 10,
                            "solidity": 0.2
                          }
                        },
                        "type": "bar"
                      }
                    ],
                    "barpolar": [
                      {
                        "marker": {
                          "line": {
                            "color": "#E5ECF6",
                            "width": 0.5
                          },
                          "pattern": {
                            "fillmode": "overlay",
                            "size": 10,
                            "solidity": 0.2
                          }
                        },
                        "type": "barpolar"
                      }
                    ],
                    "carpet": [
                      {
                        "aaxis": {
                          "endlinecolor": "#2a3f5f",
                          "gridcolor": "white",
                          "linecolor": "white",
                          "minorgridcolor": "white",
                          "startlinecolor": "#2a3f5f"
                        },
                        "baxis": {
                          "endlinecolor": "#2a3f5f",
                          "gridcolor": "white",
                          "linecolor": "white",
                          "minorgridcolor": "white",
                          "startlinecolor": "#2a3f5f"
                        },
                        "type": "carpet"
                      }
                    ],
                    "choropleth": [
                      {
                        "colorbar": {
                          "outlinewidth": 0,
                          "ticks": ""
                        },
                        "type": "choropleth"
                      }
                    ],
                    "contour": [
                      {
                        "colorbar": {
                          "outlinewidth": 0,
                          "ticks": ""
                        },
                        "colorscale": [
                          [
                            0,
                            "#0d0887"
                          ],
                          [
                            0.1111111111111111,
                            "#46039f"
                          ],
                          [
                            0.2222222222222222,
                            "#7201a8"
                          ],
                          [
                            0.3333333333333333,
                            "#9c179e"
                          ],
                          [
                            0.4444444444444444,
                            "#bd3786"
                          ],
                          [
                            0.5555555555555556,
                            "#d8576b"
                          ],
                          [
                            0.6666666666666666,
                            "#ed7953"
                          ],
                          [
                            0.7777777777777778,
                            "#fb9f3a"
                          ],
                          [
                            0.8888888888888888,
                            "#fdca26"
                          ],
                          [
                            1,
                            "#f0f921"
                          ]
                        ],
                        "type": "contour"
                      }
                    ],
                    "contourcarpet": [
                      {
                        "colorbar": {
                          "outlinewidth": 0,
                          "ticks": ""
                        },
                        "type": "contourcarpet"
                      }
                    ],
                    "heatmap": [
                      {
                        "colorbar": {
                          "outlinewidth": 0,
                          "ticks": ""
                        },
                        "colorscale": [
                          [
                            0,
                            "#0d0887"
                          ],
                          [
                            0.1111111111111111,
                            "#46039f"
                          ],
                          [
                            0.2222222222222222,
                            "#7201a8"
                          ],
                          [
                            0.3333333333333333,
                            "#9c179e"
                          ],
                          [
                            0.4444444444444444,
                            "#bd3786"
                          ],
                          [
                            0.5555555555555556,
                            "#d8576b"
                          ],
                          [
                            0.6666666666666666,
                            "#ed7953"
                          ],
                          [
                            0.7777777777777778,
                            "#fb9f3a"
                          ],
                          [
                            0.8888888888888888,
                            "#fdca26"
                          ],
                          [
                            1,
                            "#f0f921"
                          ]
                        ],
                        "type": "heatmap"
                      }
                    ],
                    "heatmapgl": [
                      {
                        "colorbar": {
                          "outlinewidth": 0,
                          "ticks": ""
                        },
                        "colorscale": [
                          [
                            0,
                            "#0d0887"
                          ],
                          [
                            0.1111111111111111,
                            "#46039f"
                          ],
                          [
                            0.2222222222222222,
                            "#7201a8"
                          ],
                          [
                            0.3333333333333333,
                            "#9c179e"
                          ],
                          [
                            0.4444444444444444,
                            "#bd3786"
                          ],
                          [
                            0.5555555555555556,
                            "#d8576b"
                          ],
                          [
                            0.6666666666666666,
                            "#ed7953"
                          ],
                          [
                            0.7777777777777778,
                            "#fb9f3a"
                          ],
                          [
                            0.8888888888888888,
                            "#fdca26"
                          ],
                          [
                            1,
                            "#f0f921"
                          ]
                        ],
                        "type": "heatmapgl"
                      }
                    ],
                    "histogram": [
                      {
                        "marker": {
                          "pattern": {
                            "fillmode": "overlay",
                            "size": 10,
                            "solidity": 0.2
                          }
                        },
                        "type": "histogram"
                      }
                    ],
                    "histogram2d": [
                      {
                        "colorbar": {
                          "outlinewidth": 0,
                          "ticks": ""
                        },
                        "colorscale": [
                          [
                            0,
                            "#0d0887"
                          ],
                          [
                            0.1111111111111111,
                            "#46039f"
                          ],
                          [
                            0.2222222222222222,
                            "#7201a8"
                          ],
                          [
                            0.3333333333333333,
                            "#9c179e"
                          ],
                          [
                            0.4444444444444444,
                            "#bd3786"
                          ],
                          [
                            0.5555555555555556,
                            "#d8576b"
                          ],
                          [
                            0.6666666666666666,
                            "#ed7953"
                          ],
                          [
                            0.7777777777777778,
                            "#fb9f3a"
                          ],
                          [
                            0.8888888888888888,
                            "#fdca26"
                          ],
                          [
                            1,
                            "#f0f921"
                          ]
                        ],
                        "type": "histogram2d"
                      }
                    ],
                    "histogram2dcontour": [
                      {
                        "colorbar": {
                          "outlinewidth": 0,
                          "ticks": ""
                        },
                        "colorscale": [
                          [
                            0,
                            "#0d0887"
                          ],
                          [
                            0.1111111111111111,
                            "#46039f"
                          ],
                          [
                            0.2222222222222222,
                            "#7201a8"
                          ],
                          [
                            0.3333333333333333,
                            "#9c179e"
                          ],
                          [
                            0.4444444444444444,
                            "#bd3786"
                          ],
                          [
                            0.5555555555555556,
                            "#d8576b"
                          ],
                          [
                            0.6666666666666666,
                            "#ed7953"
                          ],
                          [
                            0.7777777777777778,
                            "#fb9f3a"
                          ],
                          [
                            0.8888888888888888,
                            "#fdca26"
                          ],
                          [
                            1,
                            "#f0f921"
                          ]
                        ],
                        "type": "histogram2dcontour"
                      }
                    ],
                    "mesh3d": [
                      {
                        "colorbar": {
                          "outlinewidth": 0,
                          "ticks": ""
                        },
                        "type": "mesh3d"
                      }
                    ],
                    "parcoords": [
                      {
                        "line": {
                          "colorbar": {
                            "outlinewidth": 0,
                            "ticks": ""
                          }
                        },
                        "type": "parcoords"
                      }
                    ],
                    "pie": [
                      {
                        "automargin": true,
                        "type": "pie"
                      }
                    ],
                    "scatter": [
                      {
                        "fillpattern": {
                          "fillmode": "overlay",
                          "size": 10,
                          "solidity": 0.2
                        },
                        "type": "scatter"
                      }
                    ],
                    "scatter3d": [
                      {
                        "line": {
                          "colorbar": {
                            "outlinewidth": 0,
                            "ticks": ""
                          }
                        },
                        "marker": {
                          "colorbar": {
                            "outlinewidth": 0,
                            "ticks": ""
                          }
                        },
                        "type": "scatter3d"
                      }
                    ],
                    "scattercarpet": [
                      {
                        "marker": {
                          "colorbar": {
                            "outlinewidth": 0,
                            "ticks": ""
                          }
                        },
                        "type": "scattercarpet"
                      }
                    ],
                    "scattergeo": [
                      {
                        "marker": {
                          "colorbar": {
                            "outlinewidth": 0,
                            "ticks": ""
                          }
                        },
                        "type": "scattergeo"
                      }
                    ],
                    "scattergl": [
                      {
                        "marker": {
                          "colorbar": {
                            "outlinewidth": 0,
                            "ticks": ""
                          }
                        },
                        "type": "scattergl"
                      }
                    ],
                    "scattermapbox": [
                      {
                        "marker": {
                          "colorbar": {
                            "outlinewidth": 0,
                            "ticks": ""
                          }
                        },
                        "type": "scattermapbox"
                      }
                    ],
                    "scatterpolar": [
                      {
                        "marker": {
                          "colorbar": {
                            "outlinewidth": 0,
                            "ticks": ""
                          }
                        },
                        "type": "scatterpolar"
                      }
                    ],
                    "scatterpolargl": [
                      {
                        "marker": {
                          "colorbar": {
                            "outlinewidth": 0,
                            "ticks": ""
                          }
                        },
                        "type": "scatterpolargl"
                      }
                    ],
                    "scatterternary": [
                      {
                        "marker": {
                          "colorbar": {
                            "outlinewidth": 0,
                            "ticks": ""
                          }
                        },
                        "type": "scatterternary"
                      }
                    ],
                    "surface": [
                      {
                        "colorbar": {
                          "outlinewidth": 0,
                          "ticks": ""
                        },
                        "colorscale": [
                          [
                            0,
                            "#0d0887"
                          ],
                          [
                            0.1111111111111111,
                            "#46039f"
                          ],
                          [
                            0.2222222222222222,
                            "#7201a8"
                          ],
                          [
                            0.3333333333333333,
                            "#9c179e"
                          ],
                          [
                            0.4444444444444444,
                            "#bd3786"
                          ],
                          [
                            0.5555555555555556,
                            "#d8576b"
                          ],
                          [
                            0.6666666666666666,
                            "#ed7953"
                          ],
                          [
                            0.7777777777777778,
                            "#fb9f3a"
                          ],
                          [
                            0.8888888888888888,
                            "#fdca26"
                          ],
                          [
                            1,
                            "#f0f921"
                          ]
                        ],
                        "type": "surface"
                      }
                    ],
                    "table": [
                      {
                        "cells": {
                          "fill": {
                            "color": "#EBF0F8"
                          },
                          "line": {
                            "color": "white"
                          }
                        },
                        "header": {
                          "fill": {
                            "color": "#C8D4E3"
                          },
                          "line": {
                            "color": "white"
                          }
                        },
                        "type": "table"
                      }
                    ]
                  },
                  "layout": {
                    "annotationdefaults": {
                      "arrowcolor": "#2a3f5f",
                      "arrowhead": 0,
                      "arrowwidth": 1
                    },
                    "autotypenumbers": "strict",
                    "coloraxis": {
                      "colorbar": {
                        "outlinewidth": 0,
                        "ticks": ""
                      }
                    },
                    "colorscale": {
                      "diverging": [
                        [
                          0,
                          "#8e0152"
                        ],
                        [
                          0.1,
                          "#c51b7d"
                        ],
                        [
                          0.2,
                          "#de77ae"
                        ],
                        [
                          0.3,
                          "#f1b6da"
                        ],
                        [
                          0.4,
                          "#fde0ef"
                        ],
                        [
                          0.5,
                          "#f7f7f7"
                        ],
                        [
                          0.6,
                          "#e6f5d0"
                        ],
                        [
                          0.7,
                          "#b8e186"
                        ],
                        [
                          0.8,
                          "#7fbc41"
                        ],
                        [
                          0.9,
                          "#4d9221"
                        ],
                        [
                          1,
                          "#276419"
                        ]
                      ],
                      "sequential": [
                        [
                          0,
                          "#0d0887"
                        ],
                        [
                          0.1111111111111111,
                          "#46039f"
                        ],
                        [
                          0.2222222222222222,
                          "#7201a8"
                        ],
                        [
                          0.3333333333333333,
                          "#9c179e"
                        ],
                        [
                          0.4444444444444444,
                          "#bd3786"
                        ],
                        [
                          0.5555555555555556,
                          "#d8576b"
                        ],
                        [
                          0.6666666666666666,
                          "#ed7953"
                        ],
                        [
                          0.7777777777777778,
                          "#fb9f3a"
                        ],
                        [
                          0.8888888888888888,
                          "#fdca26"
                        ],
                        [
                          1,
                          "#f0f921"
                        ]
                      ],
                      "sequentialminus": [
                        [
                          0,
                          "#0d0887"
                        ],
                        [
                          0.1111111111111111,
                          "#46039f"
                        ],
                        [
                          0.2222222222222222,
                          "#7201a8"
                        ],
                        [
                          0.3333333333333333,
                          "#9c179e"
                        ],
                        [
                          0.4444444444444444,
                          "#bd3786"
                        ],
                        [
                          0.5555555555555556,
                          "#d8576b"
                        ],
                        [
                          0.6666666666666666,
                          "#ed7953"
                        ],
                        [
                          0.7777777777777778,
                          "#fb9f3a"
                        ],
                        [
                          0.8888888888888888,
                          "#fdca26"
                        ],
                        [
                          1,
                          "#f0f921"
                        ]
                      ]
                    },
                    "colorway": [
                      "#636efa",
                      "#EF553B",
                      "#00cc96",
                      "#ab63fa",
                      "#FFA15A",
                      "#19d3f3",
                      "#FF6692",
                      "#B6E880",
                      "#FF97FF",
                      "#FECB52"
                    ],
                    "font": {
                      "color": "#2a3f5f"
                    },
                    "geo": {
                      "bgcolor": "white",
                      "lakecolor": "white",
                      "landcolor": "#E5ECF6",
                      "showlakes": true,
                      "showland": true,
                      "subunitcolor": "white"
                    },
                    "hoverlabel": {
                      "align": "left"
                    },
                    "hovermode": "closest",
                    "mapbox": {
                      "style": "light"
                    },
                    "paper_bgcolor": "white",
                    "plot_bgcolor": "#E5ECF6",
                    "polar": {
                      "angularaxis": {
                        "gridcolor": "white",
                        "linecolor": "white",
                        "ticks": ""
                      },
                      "bgcolor": "#E5ECF6",
                      "radialaxis": {
                        "gridcolor": "white",
                        "linecolor": "white",
                        "ticks": ""
                      }
                    },
                    "scene": {
                      "xaxis": {
                        "backgroundcolor": "#E5ECF6",
                        "gridcolor": "white",
                        "gridwidth": 2,
                        "linecolor": "white",
                        "showbackground": true,
                        "ticks": "",
                        "zerolinecolor": "white"
                      },
                      "yaxis": {
                        "backgroundcolor": "#E5ECF6",
                        "gridcolor": "white",
                        "gridwidth": 2,
                        "linecolor": "white",
                        "showbackground": true,
                        "ticks": "",
                        "zerolinecolor": "white"
                      },
                      "zaxis": {
                        "backgroundcolor": "#E5ECF6",
                        "gridcolor": "white",
                        "gridwidth": 2,
                        "linecolor": "white",
                        "showbackground": true,
                        "ticks": "",
                        "zerolinecolor": "white"
                      }
                    },
                    "shapedefaults": {
                      "line": {
                        "color": "#2a3f5f"
                      }
                    },
                    "ternary": {
                      "aaxis": {
                        "gridcolor": "white",
                        "linecolor": "white",
                        "ticks": ""
                      },
                      "baxis": {
                        "gridcolor": "white",
                        "linecolor": "white",
                        "ticks": ""
                      },
                      "bgcolor": "#E5ECF6",
                      "caxis": {
                        "gridcolor": "white",
                        "linecolor": "white",
                        "ticks": ""
                      }
                    },
                    "title": {
                      "x": 0.05
                    },
                    "xaxis": {
                      "automargin": true,
                      "gridcolor": "white",
                      "linecolor": "white",
                      "ticks": "",
                      "title": {
                        "standoff": 15
                      },
                      "zerolinecolor": "white",
                      "zerolinewidth": 2
                    },
                    "yaxis": {
                      "automargin": true,
                      "gridcolor": "white",
                      "linecolor": "white",
                      "ticks": "",
                      "title": {
                        "standoff": 15
                      },
                      "zerolinecolor": "white",
                      "zerolinewidth": 2
                    }
                  }
                },
                "title": {
                  "text": "Police Deaths by Race"
                },
                "width": 1500
              }
            }
          },
          "metadata": {},
          "output_type": "display_data"
        }
      ],
      "source": [
        "race_pie = go.Figure()\n",
        "\n",
        "race_pie.add_trace(go.Pie(labels=df_fatalities.race.value_counts().index, values=df_fatalities.race.value_counts().values))\n",
        "race_pie.update_layout(\n",
        "    title_text='Police Deaths by Race',\n",
        "    legend_title_text='Race',\n",
        "    autosize=False,\n",
        "    width=1500,\n",
        "    height=500,\n",
        "    margin=dict(l=100, r=900, t=40, b=20))\n",
        "race_pie.update_traces(marker=dict(line=dict(color='#000000', width=1.5)),\n",
        "                       textinfo='label+percent')\n",
        "race_pie.show()"
      ]
    },
    {
      "cell_type": "markdown",
      "metadata": {
        "id": "SJaNm4rC5nWm"
      },
      "source": [
        "# Mental Illness and Police Killings\n",
        "\n",
        "What percentage of people killed by police have been diagnosed with a mental illness?"
      ]
    },
    {
      "cell_type": "code",
      "execution_count": 658,
      "metadata": {
        "id": "dbuGvCnN5ytC"
      },
      "outputs": [
        {
          "data": {
            "application/vnd.plotly.v1+json": {
              "config": {
                "plotlyServerURL": "https://plot.ly"
              },
              "data": [
                {
                  "labels": [
                    false,
                    true
                  ],
                  "marker": {
                    "line": {
                      "color": "#000000",
                      "width": 1.5
                    }
                  },
                  "textinfo": "label+percent",
                  "type": "pie",
                  "values": [
                    1902,
                    633
                  ]
                }
              ],
              "layout": {
                "autosize": false,
                "height": 500,
                "legend": {
                  "title": {
                    "text": "Mental Illness (T/F)"
                  }
                },
                "margin": {
                  "b": 20,
                  "l": 100,
                  "r": 900,
                  "t": 40
                },
                "template": {
                  "data": {
                    "bar": [
                      {
                        "error_x": {
                          "color": "#2a3f5f"
                        },
                        "error_y": {
                          "color": "#2a3f5f"
                        },
                        "marker": {
                          "line": {
                            "color": "#E5ECF6",
                            "width": 0.5
                          },
                          "pattern": {
                            "fillmode": "overlay",
                            "size": 10,
                            "solidity": 0.2
                          }
                        },
                        "type": "bar"
                      }
                    ],
                    "barpolar": [
                      {
                        "marker": {
                          "line": {
                            "color": "#E5ECF6",
                            "width": 0.5
                          },
                          "pattern": {
                            "fillmode": "overlay",
                            "size": 10,
                            "solidity": 0.2
                          }
                        },
                        "type": "barpolar"
                      }
                    ],
                    "carpet": [
                      {
                        "aaxis": {
                          "endlinecolor": "#2a3f5f",
                          "gridcolor": "white",
                          "linecolor": "white",
                          "minorgridcolor": "white",
                          "startlinecolor": "#2a3f5f"
                        },
                        "baxis": {
                          "endlinecolor": "#2a3f5f",
                          "gridcolor": "white",
                          "linecolor": "white",
                          "minorgridcolor": "white",
                          "startlinecolor": "#2a3f5f"
                        },
                        "type": "carpet"
                      }
                    ],
                    "choropleth": [
                      {
                        "colorbar": {
                          "outlinewidth": 0,
                          "ticks": ""
                        },
                        "type": "choropleth"
                      }
                    ],
                    "contour": [
                      {
                        "colorbar": {
                          "outlinewidth": 0,
                          "ticks": ""
                        },
                        "colorscale": [
                          [
                            0,
                            "#0d0887"
                          ],
                          [
                            0.1111111111111111,
                            "#46039f"
                          ],
                          [
                            0.2222222222222222,
                            "#7201a8"
                          ],
                          [
                            0.3333333333333333,
                            "#9c179e"
                          ],
                          [
                            0.4444444444444444,
                            "#bd3786"
                          ],
                          [
                            0.5555555555555556,
                            "#d8576b"
                          ],
                          [
                            0.6666666666666666,
                            "#ed7953"
                          ],
                          [
                            0.7777777777777778,
                            "#fb9f3a"
                          ],
                          [
                            0.8888888888888888,
                            "#fdca26"
                          ],
                          [
                            1,
                            "#f0f921"
                          ]
                        ],
                        "type": "contour"
                      }
                    ],
                    "contourcarpet": [
                      {
                        "colorbar": {
                          "outlinewidth": 0,
                          "ticks": ""
                        },
                        "type": "contourcarpet"
                      }
                    ],
                    "heatmap": [
                      {
                        "colorbar": {
                          "outlinewidth": 0,
                          "ticks": ""
                        },
                        "colorscale": [
                          [
                            0,
                            "#0d0887"
                          ],
                          [
                            0.1111111111111111,
                            "#46039f"
                          ],
                          [
                            0.2222222222222222,
                            "#7201a8"
                          ],
                          [
                            0.3333333333333333,
                            "#9c179e"
                          ],
                          [
                            0.4444444444444444,
                            "#bd3786"
                          ],
                          [
                            0.5555555555555556,
                            "#d8576b"
                          ],
                          [
                            0.6666666666666666,
                            "#ed7953"
                          ],
                          [
                            0.7777777777777778,
                            "#fb9f3a"
                          ],
                          [
                            0.8888888888888888,
                            "#fdca26"
                          ],
                          [
                            1,
                            "#f0f921"
                          ]
                        ],
                        "type": "heatmap"
                      }
                    ],
                    "heatmapgl": [
                      {
                        "colorbar": {
                          "outlinewidth": 0,
                          "ticks": ""
                        },
                        "colorscale": [
                          [
                            0,
                            "#0d0887"
                          ],
                          [
                            0.1111111111111111,
                            "#46039f"
                          ],
                          [
                            0.2222222222222222,
                            "#7201a8"
                          ],
                          [
                            0.3333333333333333,
                            "#9c179e"
                          ],
                          [
                            0.4444444444444444,
                            "#bd3786"
                          ],
                          [
                            0.5555555555555556,
                            "#d8576b"
                          ],
                          [
                            0.6666666666666666,
                            "#ed7953"
                          ],
                          [
                            0.7777777777777778,
                            "#fb9f3a"
                          ],
                          [
                            0.8888888888888888,
                            "#fdca26"
                          ],
                          [
                            1,
                            "#f0f921"
                          ]
                        ],
                        "type": "heatmapgl"
                      }
                    ],
                    "histogram": [
                      {
                        "marker": {
                          "pattern": {
                            "fillmode": "overlay",
                            "size": 10,
                            "solidity": 0.2
                          }
                        },
                        "type": "histogram"
                      }
                    ],
                    "histogram2d": [
                      {
                        "colorbar": {
                          "outlinewidth": 0,
                          "ticks": ""
                        },
                        "colorscale": [
                          [
                            0,
                            "#0d0887"
                          ],
                          [
                            0.1111111111111111,
                            "#46039f"
                          ],
                          [
                            0.2222222222222222,
                            "#7201a8"
                          ],
                          [
                            0.3333333333333333,
                            "#9c179e"
                          ],
                          [
                            0.4444444444444444,
                            "#bd3786"
                          ],
                          [
                            0.5555555555555556,
                            "#d8576b"
                          ],
                          [
                            0.6666666666666666,
                            "#ed7953"
                          ],
                          [
                            0.7777777777777778,
                            "#fb9f3a"
                          ],
                          [
                            0.8888888888888888,
                            "#fdca26"
                          ],
                          [
                            1,
                            "#f0f921"
                          ]
                        ],
                        "type": "histogram2d"
                      }
                    ],
                    "histogram2dcontour": [
                      {
                        "colorbar": {
                          "outlinewidth": 0,
                          "ticks": ""
                        },
                        "colorscale": [
                          [
                            0,
                            "#0d0887"
                          ],
                          [
                            0.1111111111111111,
                            "#46039f"
                          ],
                          [
                            0.2222222222222222,
                            "#7201a8"
                          ],
                          [
                            0.3333333333333333,
                            "#9c179e"
                          ],
                          [
                            0.4444444444444444,
                            "#bd3786"
                          ],
                          [
                            0.5555555555555556,
                            "#d8576b"
                          ],
                          [
                            0.6666666666666666,
                            "#ed7953"
                          ],
                          [
                            0.7777777777777778,
                            "#fb9f3a"
                          ],
                          [
                            0.8888888888888888,
                            "#fdca26"
                          ],
                          [
                            1,
                            "#f0f921"
                          ]
                        ],
                        "type": "histogram2dcontour"
                      }
                    ],
                    "mesh3d": [
                      {
                        "colorbar": {
                          "outlinewidth": 0,
                          "ticks": ""
                        },
                        "type": "mesh3d"
                      }
                    ],
                    "parcoords": [
                      {
                        "line": {
                          "colorbar": {
                            "outlinewidth": 0,
                            "ticks": ""
                          }
                        },
                        "type": "parcoords"
                      }
                    ],
                    "pie": [
                      {
                        "automargin": true,
                        "type": "pie"
                      }
                    ],
                    "scatter": [
                      {
                        "fillpattern": {
                          "fillmode": "overlay",
                          "size": 10,
                          "solidity": 0.2
                        },
                        "type": "scatter"
                      }
                    ],
                    "scatter3d": [
                      {
                        "line": {
                          "colorbar": {
                            "outlinewidth": 0,
                            "ticks": ""
                          }
                        },
                        "marker": {
                          "colorbar": {
                            "outlinewidth": 0,
                            "ticks": ""
                          }
                        },
                        "type": "scatter3d"
                      }
                    ],
                    "scattercarpet": [
                      {
                        "marker": {
                          "colorbar": {
                            "outlinewidth": 0,
                            "ticks": ""
                          }
                        },
                        "type": "scattercarpet"
                      }
                    ],
                    "scattergeo": [
                      {
                        "marker": {
                          "colorbar": {
                            "outlinewidth": 0,
                            "ticks": ""
                          }
                        },
                        "type": "scattergeo"
                      }
                    ],
                    "scattergl": [
                      {
                        "marker": {
                          "colorbar": {
                            "outlinewidth": 0,
                            "ticks": ""
                          }
                        },
                        "type": "scattergl"
                      }
                    ],
                    "scattermapbox": [
                      {
                        "marker": {
                          "colorbar": {
                            "outlinewidth": 0,
                            "ticks": ""
                          }
                        },
                        "type": "scattermapbox"
                      }
                    ],
                    "scatterpolar": [
                      {
                        "marker": {
                          "colorbar": {
                            "outlinewidth": 0,
                            "ticks": ""
                          }
                        },
                        "type": "scatterpolar"
                      }
                    ],
                    "scatterpolargl": [
                      {
                        "marker": {
                          "colorbar": {
                            "outlinewidth": 0,
                            "ticks": ""
                          }
                        },
                        "type": "scatterpolargl"
                      }
                    ],
                    "scatterternary": [
                      {
                        "marker": {
                          "colorbar": {
                            "outlinewidth": 0,
                            "ticks": ""
                          }
                        },
                        "type": "scatterternary"
                      }
                    ],
                    "surface": [
                      {
                        "colorbar": {
                          "outlinewidth": 0,
                          "ticks": ""
                        },
                        "colorscale": [
                          [
                            0,
                            "#0d0887"
                          ],
                          [
                            0.1111111111111111,
                            "#46039f"
                          ],
                          [
                            0.2222222222222222,
                            "#7201a8"
                          ],
                          [
                            0.3333333333333333,
                            "#9c179e"
                          ],
                          [
                            0.4444444444444444,
                            "#bd3786"
                          ],
                          [
                            0.5555555555555556,
                            "#d8576b"
                          ],
                          [
                            0.6666666666666666,
                            "#ed7953"
                          ],
                          [
                            0.7777777777777778,
                            "#fb9f3a"
                          ],
                          [
                            0.8888888888888888,
                            "#fdca26"
                          ],
                          [
                            1,
                            "#f0f921"
                          ]
                        ],
                        "type": "surface"
                      }
                    ],
                    "table": [
                      {
                        "cells": {
                          "fill": {
                            "color": "#EBF0F8"
                          },
                          "line": {
                            "color": "white"
                          }
                        },
                        "header": {
                          "fill": {
                            "color": "#C8D4E3"
                          },
                          "line": {
                            "color": "white"
                          }
                        },
                        "type": "table"
                      }
                    ]
                  },
                  "layout": {
                    "annotationdefaults": {
                      "arrowcolor": "#2a3f5f",
                      "arrowhead": 0,
                      "arrowwidth": 1
                    },
                    "autotypenumbers": "strict",
                    "coloraxis": {
                      "colorbar": {
                        "outlinewidth": 0,
                        "ticks": ""
                      }
                    },
                    "colorscale": {
                      "diverging": [
                        [
                          0,
                          "#8e0152"
                        ],
                        [
                          0.1,
                          "#c51b7d"
                        ],
                        [
                          0.2,
                          "#de77ae"
                        ],
                        [
                          0.3,
                          "#f1b6da"
                        ],
                        [
                          0.4,
                          "#fde0ef"
                        ],
                        [
                          0.5,
                          "#f7f7f7"
                        ],
                        [
                          0.6,
                          "#e6f5d0"
                        ],
                        [
                          0.7,
                          "#b8e186"
                        ],
                        [
                          0.8,
                          "#7fbc41"
                        ],
                        [
                          0.9,
                          "#4d9221"
                        ],
                        [
                          1,
                          "#276419"
                        ]
                      ],
                      "sequential": [
                        [
                          0,
                          "#0d0887"
                        ],
                        [
                          0.1111111111111111,
                          "#46039f"
                        ],
                        [
                          0.2222222222222222,
                          "#7201a8"
                        ],
                        [
                          0.3333333333333333,
                          "#9c179e"
                        ],
                        [
                          0.4444444444444444,
                          "#bd3786"
                        ],
                        [
                          0.5555555555555556,
                          "#d8576b"
                        ],
                        [
                          0.6666666666666666,
                          "#ed7953"
                        ],
                        [
                          0.7777777777777778,
                          "#fb9f3a"
                        ],
                        [
                          0.8888888888888888,
                          "#fdca26"
                        ],
                        [
                          1,
                          "#f0f921"
                        ]
                      ],
                      "sequentialminus": [
                        [
                          0,
                          "#0d0887"
                        ],
                        [
                          0.1111111111111111,
                          "#46039f"
                        ],
                        [
                          0.2222222222222222,
                          "#7201a8"
                        ],
                        [
                          0.3333333333333333,
                          "#9c179e"
                        ],
                        [
                          0.4444444444444444,
                          "#bd3786"
                        ],
                        [
                          0.5555555555555556,
                          "#d8576b"
                        ],
                        [
                          0.6666666666666666,
                          "#ed7953"
                        ],
                        [
                          0.7777777777777778,
                          "#fb9f3a"
                        ],
                        [
                          0.8888888888888888,
                          "#fdca26"
                        ],
                        [
                          1,
                          "#f0f921"
                        ]
                      ]
                    },
                    "colorway": [
                      "#636efa",
                      "#EF553B",
                      "#00cc96",
                      "#ab63fa",
                      "#FFA15A",
                      "#19d3f3",
                      "#FF6692",
                      "#B6E880",
                      "#FF97FF",
                      "#FECB52"
                    ],
                    "font": {
                      "color": "#2a3f5f"
                    },
                    "geo": {
                      "bgcolor": "white",
                      "lakecolor": "white",
                      "landcolor": "#E5ECF6",
                      "showlakes": true,
                      "showland": true,
                      "subunitcolor": "white"
                    },
                    "hoverlabel": {
                      "align": "left"
                    },
                    "hovermode": "closest",
                    "mapbox": {
                      "style": "light"
                    },
                    "paper_bgcolor": "white",
                    "plot_bgcolor": "#E5ECF6",
                    "polar": {
                      "angularaxis": {
                        "gridcolor": "white",
                        "linecolor": "white",
                        "ticks": ""
                      },
                      "bgcolor": "#E5ECF6",
                      "radialaxis": {
                        "gridcolor": "white",
                        "linecolor": "white",
                        "ticks": ""
                      }
                    },
                    "scene": {
                      "xaxis": {
                        "backgroundcolor": "#E5ECF6",
                        "gridcolor": "white",
                        "gridwidth": 2,
                        "linecolor": "white",
                        "showbackground": true,
                        "ticks": "",
                        "zerolinecolor": "white"
                      },
                      "yaxis": {
                        "backgroundcolor": "#E5ECF6",
                        "gridcolor": "white",
                        "gridwidth": 2,
                        "linecolor": "white",
                        "showbackground": true,
                        "ticks": "",
                        "zerolinecolor": "white"
                      },
                      "zaxis": {
                        "backgroundcolor": "#E5ECF6",
                        "gridcolor": "white",
                        "gridwidth": 2,
                        "linecolor": "white",
                        "showbackground": true,
                        "ticks": "",
                        "zerolinecolor": "white"
                      }
                    },
                    "shapedefaults": {
                      "line": {
                        "color": "#2a3f5f"
                      }
                    },
                    "ternary": {
                      "aaxis": {
                        "gridcolor": "white",
                        "linecolor": "white",
                        "ticks": ""
                      },
                      "baxis": {
                        "gridcolor": "white",
                        "linecolor": "white",
                        "ticks": ""
                      },
                      "bgcolor": "#E5ECF6",
                      "caxis": {
                        "gridcolor": "white",
                        "linecolor": "white",
                        "ticks": ""
                      }
                    },
                    "title": {
                      "x": 0.05
                    },
                    "xaxis": {
                      "automargin": true,
                      "gridcolor": "white",
                      "linecolor": "white",
                      "ticks": "",
                      "title": {
                        "standoff": 15
                      },
                      "zerolinecolor": "white",
                      "zerolinewidth": 2
                    },
                    "yaxis": {
                      "automargin": true,
                      "gridcolor": "white",
                      "linecolor": "white",
                      "ticks": "",
                      "title": {
                        "standoff": 15
                      },
                      "zerolinecolor": "white",
                      "zerolinewidth": 2
                    }
                  }
                },
                "title": {
                  "text": "Mental Illness % of Police Death Victims"
                },
                "width": 1500
              }
            }
          },
          "metadata": {},
          "output_type": "display_data"
        }
      ],
      "source": [
        "mental_pie = go.Figure()\n",
        "\n",
        "mental_pie.add_trace(go.Pie(labels=df_fatalities.signs_of_mental_illness.value_counts().index, values=df_fatalities.signs_of_mental_illness.value_counts().values))\n",
        "mental_pie.update_layout(\n",
        "    title_text='Mental Illness % of Police Death Victims',\n",
        "    legend_title_text='Mental Illness (T/F)',\n",
        "    autosize=False,\n",
        "    width=1500,\n",
        "    height=500,\n",
        "    margin=dict(l=100, r=900, t=40, b=20))\n",
        "mental_pie.update_traces(marker=dict(line=dict(color='#000000', width=1.5)),\n",
        "                       textinfo='label+percent')\n",
        "mental_pie.show()"
      ]
    },
    {
      "cell_type": "markdown",
      "metadata": {
        "id": "R0WSPeKD5Cir"
      },
      "source": [
        "# In Which Cities Do the Most Police Killings Take Place?\n",
        "\n",
        "Create a chart ranking the top 10 cities with the most police killings. Which cities are the most dangerous?  "
      ]
    },
    {
      "cell_type": "code",
      "execution_count": 686,
      "metadata": {
        "id": "NYVwo3qy5UV3"
      },
      "outputs": [],
      "source": [
        "top_10_cities = df_fatalities.groupby('city', as_index=False).agg(city_count=('city', 'count')).sort_values('city_count', ascending=False)[:10]"
      ]
    },
    {
      "cell_type": "code",
      "execution_count": 685,
      "metadata": {
        "id": "T_FU4GFk5Upa"
      },
      "outputs": [
        {
          "data": {
            "application/vnd.plotly.v1+json": {
              "config": {
                "plotlyServerURL": "https://plot.ly"
              },
              "data": [
                {
                  "marker": {
                    "color": "green",
                    "line": {
                      "color": "black",
                      "width": 1.5
                    }
                  },
                  "opacity": 0.6,
                  "type": "bar",
                  "x": [
                    "Los Angeles",
                    "Phoenix",
                    "Houston",
                    "Chicago",
                    "Las Vegas",
                    "San Antonio",
                    "Columbus",
                    "Miami",
                    "Austin",
                    "St. Louis"
                  ],
                  "y": [
                    39,
                    31,
                    27,
                    25,
                    21,
                    20,
                    19,
                    18,
                    18,
                    15
                  ]
                }
              ],
              "layout": {
                "template": {
                  "data": {
                    "bar": [
                      {
                        "error_x": {
                          "color": "#2a3f5f"
                        },
                        "error_y": {
                          "color": "#2a3f5f"
                        },
                        "marker": {
                          "line": {
                            "color": "#E5ECF6",
                            "width": 0.5
                          },
                          "pattern": {
                            "fillmode": "overlay",
                            "size": 10,
                            "solidity": 0.2
                          }
                        },
                        "type": "bar"
                      }
                    ],
                    "barpolar": [
                      {
                        "marker": {
                          "line": {
                            "color": "#E5ECF6",
                            "width": 0.5
                          },
                          "pattern": {
                            "fillmode": "overlay",
                            "size": 10,
                            "solidity": 0.2
                          }
                        },
                        "type": "barpolar"
                      }
                    ],
                    "carpet": [
                      {
                        "aaxis": {
                          "endlinecolor": "#2a3f5f",
                          "gridcolor": "white",
                          "linecolor": "white",
                          "minorgridcolor": "white",
                          "startlinecolor": "#2a3f5f"
                        },
                        "baxis": {
                          "endlinecolor": "#2a3f5f",
                          "gridcolor": "white",
                          "linecolor": "white",
                          "minorgridcolor": "white",
                          "startlinecolor": "#2a3f5f"
                        },
                        "type": "carpet"
                      }
                    ],
                    "choropleth": [
                      {
                        "colorbar": {
                          "outlinewidth": 0,
                          "ticks": ""
                        },
                        "type": "choropleth"
                      }
                    ],
                    "contour": [
                      {
                        "colorbar": {
                          "outlinewidth": 0,
                          "ticks": ""
                        },
                        "colorscale": [
                          [
                            0,
                            "#0d0887"
                          ],
                          [
                            0.1111111111111111,
                            "#46039f"
                          ],
                          [
                            0.2222222222222222,
                            "#7201a8"
                          ],
                          [
                            0.3333333333333333,
                            "#9c179e"
                          ],
                          [
                            0.4444444444444444,
                            "#bd3786"
                          ],
                          [
                            0.5555555555555556,
                            "#d8576b"
                          ],
                          [
                            0.6666666666666666,
                            "#ed7953"
                          ],
                          [
                            0.7777777777777778,
                            "#fb9f3a"
                          ],
                          [
                            0.8888888888888888,
                            "#fdca26"
                          ],
                          [
                            1,
                            "#f0f921"
                          ]
                        ],
                        "type": "contour"
                      }
                    ],
                    "contourcarpet": [
                      {
                        "colorbar": {
                          "outlinewidth": 0,
                          "ticks": ""
                        },
                        "type": "contourcarpet"
                      }
                    ],
                    "heatmap": [
                      {
                        "colorbar": {
                          "outlinewidth": 0,
                          "ticks": ""
                        },
                        "colorscale": [
                          [
                            0,
                            "#0d0887"
                          ],
                          [
                            0.1111111111111111,
                            "#46039f"
                          ],
                          [
                            0.2222222222222222,
                            "#7201a8"
                          ],
                          [
                            0.3333333333333333,
                            "#9c179e"
                          ],
                          [
                            0.4444444444444444,
                            "#bd3786"
                          ],
                          [
                            0.5555555555555556,
                            "#d8576b"
                          ],
                          [
                            0.6666666666666666,
                            "#ed7953"
                          ],
                          [
                            0.7777777777777778,
                            "#fb9f3a"
                          ],
                          [
                            0.8888888888888888,
                            "#fdca26"
                          ],
                          [
                            1,
                            "#f0f921"
                          ]
                        ],
                        "type": "heatmap"
                      }
                    ],
                    "heatmapgl": [
                      {
                        "colorbar": {
                          "outlinewidth": 0,
                          "ticks": ""
                        },
                        "colorscale": [
                          [
                            0,
                            "#0d0887"
                          ],
                          [
                            0.1111111111111111,
                            "#46039f"
                          ],
                          [
                            0.2222222222222222,
                            "#7201a8"
                          ],
                          [
                            0.3333333333333333,
                            "#9c179e"
                          ],
                          [
                            0.4444444444444444,
                            "#bd3786"
                          ],
                          [
                            0.5555555555555556,
                            "#d8576b"
                          ],
                          [
                            0.6666666666666666,
                            "#ed7953"
                          ],
                          [
                            0.7777777777777778,
                            "#fb9f3a"
                          ],
                          [
                            0.8888888888888888,
                            "#fdca26"
                          ],
                          [
                            1,
                            "#f0f921"
                          ]
                        ],
                        "type": "heatmapgl"
                      }
                    ],
                    "histogram": [
                      {
                        "marker": {
                          "pattern": {
                            "fillmode": "overlay",
                            "size": 10,
                            "solidity": 0.2
                          }
                        },
                        "type": "histogram"
                      }
                    ],
                    "histogram2d": [
                      {
                        "colorbar": {
                          "outlinewidth": 0,
                          "ticks": ""
                        },
                        "colorscale": [
                          [
                            0,
                            "#0d0887"
                          ],
                          [
                            0.1111111111111111,
                            "#46039f"
                          ],
                          [
                            0.2222222222222222,
                            "#7201a8"
                          ],
                          [
                            0.3333333333333333,
                            "#9c179e"
                          ],
                          [
                            0.4444444444444444,
                            "#bd3786"
                          ],
                          [
                            0.5555555555555556,
                            "#d8576b"
                          ],
                          [
                            0.6666666666666666,
                            "#ed7953"
                          ],
                          [
                            0.7777777777777778,
                            "#fb9f3a"
                          ],
                          [
                            0.8888888888888888,
                            "#fdca26"
                          ],
                          [
                            1,
                            "#f0f921"
                          ]
                        ],
                        "type": "histogram2d"
                      }
                    ],
                    "histogram2dcontour": [
                      {
                        "colorbar": {
                          "outlinewidth": 0,
                          "ticks": ""
                        },
                        "colorscale": [
                          [
                            0,
                            "#0d0887"
                          ],
                          [
                            0.1111111111111111,
                            "#46039f"
                          ],
                          [
                            0.2222222222222222,
                            "#7201a8"
                          ],
                          [
                            0.3333333333333333,
                            "#9c179e"
                          ],
                          [
                            0.4444444444444444,
                            "#bd3786"
                          ],
                          [
                            0.5555555555555556,
                            "#d8576b"
                          ],
                          [
                            0.6666666666666666,
                            "#ed7953"
                          ],
                          [
                            0.7777777777777778,
                            "#fb9f3a"
                          ],
                          [
                            0.8888888888888888,
                            "#fdca26"
                          ],
                          [
                            1,
                            "#f0f921"
                          ]
                        ],
                        "type": "histogram2dcontour"
                      }
                    ],
                    "mesh3d": [
                      {
                        "colorbar": {
                          "outlinewidth": 0,
                          "ticks": ""
                        },
                        "type": "mesh3d"
                      }
                    ],
                    "parcoords": [
                      {
                        "line": {
                          "colorbar": {
                            "outlinewidth": 0,
                            "ticks": ""
                          }
                        },
                        "type": "parcoords"
                      }
                    ],
                    "pie": [
                      {
                        "automargin": true,
                        "type": "pie"
                      }
                    ],
                    "scatter": [
                      {
                        "fillpattern": {
                          "fillmode": "overlay",
                          "size": 10,
                          "solidity": 0.2
                        },
                        "type": "scatter"
                      }
                    ],
                    "scatter3d": [
                      {
                        "line": {
                          "colorbar": {
                            "outlinewidth": 0,
                            "ticks": ""
                          }
                        },
                        "marker": {
                          "colorbar": {
                            "outlinewidth": 0,
                            "ticks": ""
                          }
                        },
                        "type": "scatter3d"
                      }
                    ],
                    "scattercarpet": [
                      {
                        "marker": {
                          "colorbar": {
                            "outlinewidth": 0,
                            "ticks": ""
                          }
                        },
                        "type": "scattercarpet"
                      }
                    ],
                    "scattergeo": [
                      {
                        "marker": {
                          "colorbar": {
                            "outlinewidth": 0,
                            "ticks": ""
                          }
                        },
                        "type": "scattergeo"
                      }
                    ],
                    "scattergl": [
                      {
                        "marker": {
                          "colorbar": {
                            "outlinewidth": 0,
                            "ticks": ""
                          }
                        },
                        "type": "scattergl"
                      }
                    ],
                    "scattermapbox": [
                      {
                        "marker": {
                          "colorbar": {
                            "outlinewidth": 0,
                            "ticks": ""
                          }
                        },
                        "type": "scattermapbox"
                      }
                    ],
                    "scatterpolar": [
                      {
                        "marker": {
                          "colorbar": {
                            "outlinewidth": 0,
                            "ticks": ""
                          }
                        },
                        "type": "scatterpolar"
                      }
                    ],
                    "scatterpolargl": [
                      {
                        "marker": {
                          "colorbar": {
                            "outlinewidth": 0,
                            "ticks": ""
                          }
                        },
                        "type": "scatterpolargl"
                      }
                    ],
                    "scatterternary": [
                      {
                        "marker": {
                          "colorbar": {
                            "outlinewidth": 0,
                            "ticks": ""
                          }
                        },
                        "type": "scatterternary"
                      }
                    ],
                    "surface": [
                      {
                        "colorbar": {
                          "outlinewidth": 0,
                          "ticks": ""
                        },
                        "colorscale": [
                          [
                            0,
                            "#0d0887"
                          ],
                          [
                            0.1111111111111111,
                            "#46039f"
                          ],
                          [
                            0.2222222222222222,
                            "#7201a8"
                          ],
                          [
                            0.3333333333333333,
                            "#9c179e"
                          ],
                          [
                            0.4444444444444444,
                            "#bd3786"
                          ],
                          [
                            0.5555555555555556,
                            "#d8576b"
                          ],
                          [
                            0.6666666666666666,
                            "#ed7953"
                          ],
                          [
                            0.7777777777777778,
                            "#fb9f3a"
                          ],
                          [
                            0.8888888888888888,
                            "#fdca26"
                          ],
                          [
                            1,
                            "#f0f921"
                          ]
                        ],
                        "type": "surface"
                      }
                    ],
                    "table": [
                      {
                        "cells": {
                          "fill": {
                            "color": "#EBF0F8"
                          },
                          "line": {
                            "color": "white"
                          }
                        },
                        "header": {
                          "fill": {
                            "color": "#C8D4E3"
                          },
                          "line": {
                            "color": "white"
                          }
                        },
                        "type": "table"
                      }
                    ]
                  },
                  "layout": {
                    "annotationdefaults": {
                      "arrowcolor": "#2a3f5f",
                      "arrowhead": 0,
                      "arrowwidth": 1
                    },
                    "autotypenumbers": "strict",
                    "coloraxis": {
                      "colorbar": {
                        "outlinewidth": 0,
                        "ticks": ""
                      }
                    },
                    "colorscale": {
                      "diverging": [
                        [
                          0,
                          "#8e0152"
                        ],
                        [
                          0.1,
                          "#c51b7d"
                        ],
                        [
                          0.2,
                          "#de77ae"
                        ],
                        [
                          0.3,
                          "#f1b6da"
                        ],
                        [
                          0.4,
                          "#fde0ef"
                        ],
                        [
                          0.5,
                          "#f7f7f7"
                        ],
                        [
                          0.6,
                          "#e6f5d0"
                        ],
                        [
                          0.7,
                          "#b8e186"
                        ],
                        [
                          0.8,
                          "#7fbc41"
                        ],
                        [
                          0.9,
                          "#4d9221"
                        ],
                        [
                          1,
                          "#276419"
                        ]
                      ],
                      "sequential": [
                        [
                          0,
                          "#0d0887"
                        ],
                        [
                          0.1111111111111111,
                          "#46039f"
                        ],
                        [
                          0.2222222222222222,
                          "#7201a8"
                        ],
                        [
                          0.3333333333333333,
                          "#9c179e"
                        ],
                        [
                          0.4444444444444444,
                          "#bd3786"
                        ],
                        [
                          0.5555555555555556,
                          "#d8576b"
                        ],
                        [
                          0.6666666666666666,
                          "#ed7953"
                        ],
                        [
                          0.7777777777777778,
                          "#fb9f3a"
                        ],
                        [
                          0.8888888888888888,
                          "#fdca26"
                        ],
                        [
                          1,
                          "#f0f921"
                        ]
                      ],
                      "sequentialminus": [
                        [
                          0,
                          "#0d0887"
                        ],
                        [
                          0.1111111111111111,
                          "#46039f"
                        ],
                        [
                          0.2222222222222222,
                          "#7201a8"
                        ],
                        [
                          0.3333333333333333,
                          "#9c179e"
                        ],
                        [
                          0.4444444444444444,
                          "#bd3786"
                        ],
                        [
                          0.5555555555555556,
                          "#d8576b"
                        ],
                        [
                          0.6666666666666666,
                          "#ed7953"
                        ],
                        [
                          0.7777777777777778,
                          "#fb9f3a"
                        ],
                        [
                          0.8888888888888888,
                          "#fdca26"
                        ],
                        [
                          1,
                          "#f0f921"
                        ]
                      ]
                    },
                    "colorway": [
                      "#636efa",
                      "#EF553B",
                      "#00cc96",
                      "#ab63fa",
                      "#FFA15A",
                      "#19d3f3",
                      "#FF6692",
                      "#B6E880",
                      "#FF97FF",
                      "#FECB52"
                    ],
                    "font": {
                      "color": "#2a3f5f"
                    },
                    "geo": {
                      "bgcolor": "white",
                      "lakecolor": "white",
                      "landcolor": "#E5ECF6",
                      "showlakes": true,
                      "showland": true,
                      "subunitcolor": "white"
                    },
                    "hoverlabel": {
                      "align": "left"
                    },
                    "hovermode": "closest",
                    "mapbox": {
                      "style": "light"
                    },
                    "paper_bgcolor": "white",
                    "plot_bgcolor": "#E5ECF6",
                    "polar": {
                      "angularaxis": {
                        "gridcolor": "white",
                        "linecolor": "white",
                        "ticks": ""
                      },
                      "bgcolor": "#E5ECF6",
                      "radialaxis": {
                        "gridcolor": "white",
                        "linecolor": "white",
                        "ticks": ""
                      }
                    },
                    "scene": {
                      "xaxis": {
                        "backgroundcolor": "#E5ECF6",
                        "gridcolor": "white",
                        "gridwidth": 2,
                        "linecolor": "white",
                        "showbackground": true,
                        "ticks": "",
                        "zerolinecolor": "white"
                      },
                      "yaxis": {
                        "backgroundcolor": "#E5ECF6",
                        "gridcolor": "white",
                        "gridwidth": 2,
                        "linecolor": "white",
                        "showbackground": true,
                        "ticks": "",
                        "zerolinecolor": "white"
                      },
                      "zaxis": {
                        "backgroundcolor": "#E5ECF6",
                        "gridcolor": "white",
                        "gridwidth": 2,
                        "linecolor": "white",
                        "showbackground": true,
                        "ticks": "",
                        "zerolinecolor": "white"
                      }
                    },
                    "shapedefaults": {
                      "line": {
                        "color": "#2a3f5f"
                      }
                    },
                    "ternary": {
                      "aaxis": {
                        "gridcolor": "white",
                        "linecolor": "white",
                        "ticks": ""
                      },
                      "baxis": {
                        "gridcolor": "white",
                        "linecolor": "white",
                        "ticks": ""
                      },
                      "bgcolor": "#E5ECF6",
                      "caxis": {
                        "gridcolor": "white",
                        "linecolor": "white",
                        "ticks": ""
                      }
                    },
                    "title": {
                      "x": 0.05
                    },
                    "xaxis": {
                      "automargin": true,
                      "gridcolor": "white",
                      "linecolor": "white",
                      "ticks": "",
                      "title": {
                        "standoff": 15
                      },
                      "zerolinecolor": "white",
                      "zerolinewidth": 2
                    },
                    "yaxis": {
                      "automargin": true,
                      "gridcolor": "white",
                      "linecolor": "white",
                      "ticks": "",
                      "title": {
                        "standoff": 15
                      },
                      "zerolinecolor": "white",
                      "zerolinewidth": 2
                    }
                  }
                }
              }
            }
          },
          "metadata": {},
          "output_type": "display_data"
        }
      ],
      "source": [
        "top_10_bar = go.Figure()\n",
        "\n",
        "top_10_bar.add_trace(go.Bar(x=top_10_cities.city,\n",
        "                             y=top_10_cities.city_count))\n",
        "top_10_bar.update_traces(marker_color='green', marker_line_color='black', marker_line_width=1.5, opacity=0.6)\n",
        "top_10_bar.show()"
      ]
    },
    {
      "cell_type": "markdown",
      "metadata": {
        "id": "AqcOW6ca8JMD"
      },
      "source": [
        "# Rate of Death by Race\n",
        "\n",
        "Find the share of each race in the top 10 cities. Contrast this with the top 10 cities of police killings to work out the rate at which people are killed by race for each city. "
      ]
    },
    {
      "cell_type": "code",
      "execution_count": 700,
      "metadata": {
        "id": "FkjAUlKy8I2g"
      },
      "outputs": [
        {
          "data": {
            "text/html": [
              "<div>\n",
              "<style scoped>\n",
              "    .dataframe tbody tr th:only-of-type {\n",
              "        vertical-align: middle;\n",
              "    }\n",
              "\n",
              "    .dataframe tbody tr th {\n",
              "        vertical-align: top;\n",
              "    }\n",
              "\n",
              "    .dataframe thead th {\n",
              "        text-align: right;\n",
              "    }\n",
              "</style>\n",
              "<table border=\"1\" class=\"dataframe\">\n",
              "  <thead>\n",
              "    <tr style=\"text-align: right;\">\n",
              "      <th></th>\n",
              "      <th>city</th>\n",
              "      <th>race</th>\n",
              "      <th>count</th>\n",
              "    </tr>\n",
              "  </thead>\n",
              "  <tbody>\n",
              "    <tr>\n",
              "      <th>0</th>\n",
              "      <td>Austin</td>\n",
              "      <td>Black</td>\n",
              "      <td>3</td>\n",
              "    </tr>\n",
              "    <tr>\n",
              "      <th>1</th>\n",
              "      <td>Austin</td>\n",
              "      <td>Hispanic</td>\n",
              "      <td>2</td>\n",
              "    </tr>\n",
              "    <tr>\n",
              "      <th>2</th>\n",
              "      <td>Austin</td>\n",
              "      <td>White</td>\n",
              "      <td>13</td>\n",
              "    </tr>\n",
              "    <tr>\n",
              "      <th>3</th>\n",
              "      <td>Chicago</td>\n",
              "      <td>Black</td>\n",
              "      <td>21</td>\n",
              "    </tr>\n",
              "    <tr>\n",
              "      <th>4</th>\n",
              "      <td>Chicago</td>\n",
              "      <td>Hispanic</td>\n",
              "      <td>1</td>\n",
              "    </tr>\n",
              "    <tr>\n",
              "      <th>5</th>\n",
              "      <td>Chicago</td>\n",
              "      <td>Unknown</td>\n",
              "      <td>1</td>\n",
              "    </tr>\n",
              "    <tr>\n",
              "      <th>6</th>\n",
              "      <td>Chicago</td>\n",
              "      <td>White</td>\n",
              "      <td>2</td>\n",
              "    </tr>\n",
              "    <tr>\n",
              "      <th>7</th>\n",
              "      <td>Columbus</td>\n",
              "      <td>Black</td>\n",
              "      <td>11</td>\n",
              "    </tr>\n",
              "    <tr>\n",
              "      <th>8</th>\n",
              "      <td>Columbus</td>\n",
              "      <td>Unknown</td>\n",
              "      <td>2</td>\n",
              "    </tr>\n",
              "    <tr>\n",
              "      <th>9</th>\n",
              "      <td>Columbus</td>\n",
              "      <td>White</td>\n",
              "      <td>6</td>\n",
              "    </tr>\n",
              "    <tr>\n",
              "      <th>10</th>\n",
              "      <td>Houston</td>\n",
              "      <td>Asian</td>\n",
              "      <td>1</td>\n",
              "    </tr>\n",
              "    <tr>\n",
              "      <th>11</th>\n",
              "      <td>Houston</td>\n",
              "      <td>Black</td>\n",
              "      <td>15</td>\n",
              "    </tr>\n",
              "    <tr>\n",
              "      <th>12</th>\n",
              "      <td>Houston</td>\n",
              "      <td>Hispanic</td>\n",
              "      <td>6</td>\n",
              "    </tr>\n",
              "    <tr>\n",
              "      <th>13</th>\n",
              "      <td>Houston</td>\n",
              "      <td>Native American</td>\n",
              "      <td>1</td>\n",
              "    </tr>\n",
              "    <tr>\n",
              "      <th>14</th>\n",
              "      <td>Houston</td>\n",
              "      <td>Unknown</td>\n",
              "      <td>1</td>\n",
              "    </tr>\n",
              "    <tr>\n",
              "      <th>15</th>\n",
              "      <td>Houston</td>\n",
              "      <td>White</td>\n",
              "      <td>3</td>\n",
              "    </tr>\n",
              "    <tr>\n",
              "      <th>16</th>\n",
              "      <td>Las Vegas</td>\n",
              "      <td>Black</td>\n",
              "      <td>3</td>\n",
              "    </tr>\n",
              "    <tr>\n",
              "      <th>17</th>\n",
              "      <td>Las Vegas</td>\n",
              "      <td>Hispanic</td>\n",
              "      <td>5</td>\n",
              "    </tr>\n",
              "    <tr>\n",
              "      <th>18</th>\n",
              "      <td>Las Vegas</td>\n",
              "      <td>Unknown</td>\n",
              "      <td>4</td>\n",
              "    </tr>\n",
              "    <tr>\n",
              "      <th>19</th>\n",
              "      <td>Las Vegas</td>\n",
              "      <td>White</td>\n",
              "      <td>9</td>\n",
              "    </tr>\n",
              "    <tr>\n",
              "      <th>20</th>\n",
              "      <td>Los Angeles</td>\n",
              "      <td>Asian</td>\n",
              "      <td>1</td>\n",
              "    </tr>\n",
              "    <tr>\n",
              "      <th>21</th>\n",
              "      <td>Los Angeles</td>\n",
              "      <td>Black</td>\n",
              "      <td>10</td>\n",
              "    </tr>\n",
              "    <tr>\n",
              "      <th>22</th>\n",
              "      <td>Los Angeles</td>\n",
              "      <td>Hispanic</td>\n",
              "      <td>19</td>\n",
              "    </tr>\n",
              "    <tr>\n",
              "      <th>23</th>\n",
              "      <td>Los Angeles</td>\n",
              "      <td>Unknown</td>\n",
              "      <td>3</td>\n",
              "    </tr>\n",
              "    <tr>\n",
              "      <th>24</th>\n",
              "      <td>Los Angeles</td>\n",
              "      <td>White</td>\n",
              "      <td>6</td>\n",
              "    </tr>\n",
              "    <tr>\n",
              "      <th>25</th>\n",
              "      <td>Miami</td>\n",
              "      <td>Black</td>\n",
              "      <td>8</td>\n",
              "    </tr>\n",
              "    <tr>\n",
              "      <th>26</th>\n",
              "      <td>Miami</td>\n",
              "      <td>Hispanic</td>\n",
              "      <td>6</td>\n",
              "    </tr>\n",
              "    <tr>\n",
              "      <th>27</th>\n",
              "      <td>Miami</td>\n",
              "      <td>Unknown</td>\n",
              "      <td>1</td>\n",
              "    </tr>\n",
              "    <tr>\n",
              "      <th>28</th>\n",
              "      <td>Miami</td>\n",
              "      <td>White</td>\n",
              "      <td>3</td>\n",
              "    </tr>\n",
              "    <tr>\n",
              "      <th>29</th>\n",
              "      <td>Phoenix</td>\n",
              "      <td>Black</td>\n",
              "      <td>2</td>\n",
              "    </tr>\n",
              "    <tr>\n",
              "      <th>30</th>\n",
              "      <td>Phoenix</td>\n",
              "      <td>Hispanic</td>\n",
              "      <td>11</td>\n",
              "    </tr>\n",
              "    <tr>\n",
              "      <th>31</th>\n",
              "      <td>Phoenix</td>\n",
              "      <td>Native American</td>\n",
              "      <td>3</td>\n",
              "    </tr>\n",
              "    <tr>\n",
              "      <th>32</th>\n",
              "      <td>Phoenix</td>\n",
              "      <td>Unknown</td>\n",
              "      <td>3</td>\n",
              "    </tr>\n",
              "    <tr>\n",
              "      <th>33</th>\n",
              "      <td>Phoenix</td>\n",
              "      <td>White</td>\n",
              "      <td>12</td>\n",
              "    </tr>\n",
              "    <tr>\n",
              "      <th>34</th>\n",
              "      <td>San Antonio</td>\n",
              "      <td>Black</td>\n",
              "      <td>3</td>\n",
              "    </tr>\n",
              "    <tr>\n",
              "      <th>35</th>\n",
              "      <td>San Antonio</td>\n",
              "      <td>Hispanic</td>\n",
              "      <td>12</td>\n",
              "    </tr>\n",
              "    <tr>\n",
              "      <th>36</th>\n",
              "      <td>San Antonio</td>\n",
              "      <td>Unknown</td>\n",
              "      <td>2</td>\n",
              "    </tr>\n",
              "    <tr>\n",
              "      <th>37</th>\n",
              "      <td>San Antonio</td>\n",
              "      <td>White</td>\n",
              "      <td>3</td>\n",
              "    </tr>\n",
              "    <tr>\n",
              "      <th>38</th>\n",
              "      <td>St. Louis</td>\n",
              "      <td>Black</td>\n",
              "      <td>11</td>\n",
              "    </tr>\n",
              "    <tr>\n",
              "      <th>39</th>\n",
              "      <td>St. Louis</td>\n",
              "      <td>Unknown</td>\n",
              "      <td>1</td>\n",
              "    </tr>\n",
              "    <tr>\n",
              "      <th>40</th>\n",
              "      <td>St. Louis</td>\n",
              "      <td>White</td>\n",
              "      <td>3</td>\n",
              "    </tr>\n",
              "  </tbody>\n",
              "</table>\n",
              "</div>"
            ],
            "text/plain": [
              "           city             race  count\n",
              "0        Austin            Black      3\n",
              "1        Austin         Hispanic      2\n",
              "2        Austin            White     13\n",
              "3       Chicago            Black     21\n",
              "4       Chicago         Hispanic      1\n",
              "5       Chicago          Unknown      1\n",
              "6       Chicago            White      2\n",
              "7      Columbus            Black     11\n",
              "8      Columbus          Unknown      2\n",
              "9      Columbus            White      6\n",
              "10      Houston            Asian      1\n",
              "11      Houston            Black     15\n",
              "12      Houston         Hispanic      6\n",
              "13      Houston  Native American      1\n",
              "14      Houston          Unknown      1\n",
              "15      Houston            White      3\n",
              "16    Las Vegas            Black      3\n",
              "17    Las Vegas         Hispanic      5\n",
              "18    Las Vegas          Unknown      4\n",
              "19    Las Vegas            White      9\n",
              "20  Los Angeles            Asian      1\n",
              "21  Los Angeles            Black     10\n",
              "22  Los Angeles         Hispanic     19\n",
              "23  Los Angeles          Unknown      3\n",
              "24  Los Angeles            White      6\n",
              "25        Miami            Black      8\n",
              "26        Miami         Hispanic      6\n",
              "27        Miami          Unknown      1\n",
              "28        Miami            White      3\n",
              "29      Phoenix            Black      2\n",
              "30      Phoenix         Hispanic     11\n",
              "31      Phoenix  Native American      3\n",
              "32      Phoenix          Unknown      3\n",
              "33      Phoenix            White     12\n",
              "34  San Antonio            Black      3\n",
              "35  San Antonio         Hispanic     12\n",
              "36  San Antonio          Unknown      2\n",
              "37  San Antonio            White      3\n",
              "38    St. Louis            Black     11\n",
              "39    St. Louis          Unknown      1\n",
              "40    St. Louis            White      3"
            ]
          },
          "execution_count": 700,
          "metadata": {},
          "output_type": "execute_result"
        }
      ],
      "source": [
        "top_10_race = df_fatalities[df_fatalities.city.isin(top_10_cities.city)].groupby(['city', 'race'], as_index=False).agg(count=('race', 'count'))\n",
        "top_10_race"
      ]
    },
    {
      "cell_type": "code",
      "execution_count": null,
      "metadata": {},
      "outputs": [],
      "source": []
    },
    {
      "cell_type": "code",
      "execution_count": 798,
      "metadata": {
        "id": "dA3Hs9b55V59"
      },
      "outputs": [
        {
          "data": {
            "application/vnd.plotly.v1+json": {
              "config": {
                "plotlyServerURL": "https://plot.ly"
              },
              "data": [
                {
                  "hovertemplate": "<br>City=%{x}<br>Deaths=%{y}<extra></extra>",
                  "name": "Asian",
                  "type": "bar",
                  "x": [
                    "Houston",
                    "Los Angeles"
                  ],
                  "xaxis": "x",
                  "y": [
                    1,
                    1
                  ],
                  "yaxis": "y"
                },
                {
                  "hovertemplate": "<br>City=%{x}<br>Deaths=%{y}<extra></extra>",
                  "name": "Black",
                  "type": "bar",
                  "x": [
                    "Austin",
                    "Chicago",
                    "Columbus",
                    "Houston",
                    "Las Vegas",
                    "Los Angeles",
                    "Miami",
                    "Phoenix",
                    "San Antonio",
                    "St. Louis"
                  ],
                  "xaxis": "x2",
                  "y": [
                    3,
                    21,
                    11,
                    15,
                    3,
                    10,
                    8,
                    2,
                    3,
                    11
                  ],
                  "yaxis": "y2"
                },
                {
                  "hovertemplate": "<br>City=%{x}<br>Deaths=%{y}<extra></extra>",
                  "name": "Hispanic",
                  "type": "bar",
                  "x": [
                    "Austin",
                    "Chicago",
                    "Houston",
                    "Las Vegas",
                    "Los Angeles",
                    "Miami",
                    "Phoenix",
                    "San Antonio"
                  ],
                  "xaxis": "x3",
                  "y": [
                    2,
                    1,
                    6,
                    5,
                    19,
                    6,
                    11,
                    12
                  ],
                  "yaxis": "y3"
                },
                {
                  "hovertemplate": "<br>City=%{x}<br>Deaths=%{y}<extra></extra>",
                  "name": "Native American",
                  "type": "bar",
                  "x": [
                    "Houston",
                    "Phoenix"
                  ],
                  "xaxis": "x4",
                  "y": [
                    1,
                    3
                  ],
                  "yaxis": "y4"
                },
                {
                  "hovertemplate": "<br>City=%{x}<br>Deaths=%{y}<extra></extra>",
                  "name": "Unknown",
                  "type": "bar",
                  "x": [
                    "Chicago",
                    "Columbus",
                    "Houston",
                    "Las Vegas",
                    "Los Angeles",
                    "Miami",
                    "Phoenix",
                    "San Antonio",
                    "St. Louis"
                  ],
                  "xaxis": "x5",
                  "y": [
                    1,
                    2,
                    1,
                    4,
                    3,
                    1,
                    3,
                    2,
                    1
                  ],
                  "yaxis": "y5"
                },
                {
                  "hovertemplate": "<br>City=%{x}<br>Deaths=%{y}<extra></extra>",
                  "name": "White",
                  "type": "bar",
                  "x": [
                    "Austin",
                    "Chicago",
                    "Columbus",
                    "Houston",
                    "Las Vegas",
                    "Los Angeles",
                    "Miami",
                    "Phoenix",
                    "San Antonio",
                    "St. Louis"
                  ],
                  "xaxis": "x6",
                  "y": [
                    13,
                    2,
                    6,
                    3,
                    9,
                    6,
                    3,
                    12,
                    3,
                    3
                  ],
                  "yaxis": "y6"
                }
              ],
              "layout": {
                "annotations": [
                  {
                    "font": {
                      "size": 16
                    },
                    "showarrow": false,
                    "text": "Number of Deaths",
                    "textangle": -90,
                    "x": 0,
                    "xanchor": "right",
                    "xref": "paper",
                    "xshift": -40,
                    "y": 0.5,
                    "yanchor": "middle",
                    "yref": "paper"
                  }
                ],
                "barmode": "stack",
                "legend": {
                  "title": {
                    "text": "Races"
                  }
                },
                "template": {
                  "data": {
                    "bar": [
                      {
                        "error_x": {
                          "color": "#2a3f5f"
                        },
                        "error_y": {
                          "color": "#2a3f5f"
                        },
                        "marker": {
                          "line": {
                            "color": "#E5ECF6",
                            "width": 0.5
                          },
                          "pattern": {
                            "fillmode": "overlay",
                            "size": 10,
                            "solidity": 0.2
                          }
                        },
                        "type": "bar"
                      }
                    ],
                    "barpolar": [
                      {
                        "marker": {
                          "line": {
                            "color": "#E5ECF6",
                            "width": 0.5
                          },
                          "pattern": {
                            "fillmode": "overlay",
                            "size": 10,
                            "solidity": 0.2
                          }
                        },
                        "type": "barpolar"
                      }
                    ],
                    "carpet": [
                      {
                        "aaxis": {
                          "endlinecolor": "#2a3f5f",
                          "gridcolor": "white",
                          "linecolor": "white",
                          "minorgridcolor": "white",
                          "startlinecolor": "#2a3f5f"
                        },
                        "baxis": {
                          "endlinecolor": "#2a3f5f",
                          "gridcolor": "white",
                          "linecolor": "white",
                          "minorgridcolor": "white",
                          "startlinecolor": "#2a3f5f"
                        },
                        "type": "carpet"
                      }
                    ],
                    "choropleth": [
                      {
                        "colorbar": {
                          "outlinewidth": 0,
                          "ticks": ""
                        },
                        "type": "choropleth"
                      }
                    ],
                    "contour": [
                      {
                        "colorbar": {
                          "outlinewidth": 0,
                          "ticks": ""
                        },
                        "colorscale": [
                          [
                            0,
                            "#0d0887"
                          ],
                          [
                            0.1111111111111111,
                            "#46039f"
                          ],
                          [
                            0.2222222222222222,
                            "#7201a8"
                          ],
                          [
                            0.3333333333333333,
                            "#9c179e"
                          ],
                          [
                            0.4444444444444444,
                            "#bd3786"
                          ],
                          [
                            0.5555555555555556,
                            "#d8576b"
                          ],
                          [
                            0.6666666666666666,
                            "#ed7953"
                          ],
                          [
                            0.7777777777777778,
                            "#fb9f3a"
                          ],
                          [
                            0.8888888888888888,
                            "#fdca26"
                          ],
                          [
                            1,
                            "#f0f921"
                          ]
                        ],
                        "type": "contour"
                      }
                    ],
                    "contourcarpet": [
                      {
                        "colorbar": {
                          "outlinewidth": 0,
                          "ticks": ""
                        },
                        "type": "contourcarpet"
                      }
                    ],
                    "heatmap": [
                      {
                        "colorbar": {
                          "outlinewidth": 0,
                          "ticks": ""
                        },
                        "colorscale": [
                          [
                            0,
                            "#0d0887"
                          ],
                          [
                            0.1111111111111111,
                            "#46039f"
                          ],
                          [
                            0.2222222222222222,
                            "#7201a8"
                          ],
                          [
                            0.3333333333333333,
                            "#9c179e"
                          ],
                          [
                            0.4444444444444444,
                            "#bd3786"
                          ],
                          [
                            0.5555555555555556,
                            "#d8576b"
                          ],
                          [
                            0.6666666666666666,
                            "#ed7953"
                          ],
                          [
                            0.7777777777777778,
                            "#fb9f3a"
                          ],
                          [
                            0.8888888888888888,
                            "#fdca26"
                          ],
                          [
                            1,
                            "#f0f921"
                          ]
                        ],
                        "type": "heatmap"
                      }
                    ],
                    "heatmapgl": [
                      {
                        "colorbar": {
                          "outlinewidth": 0,
                          "ticks": ""
                        },
                        "colorscale": [
                          [
                            0,
                            "#0d0887"
                          ],
                          [
                            0.1111111111111111,
                            "#46039f"
                          ],
                          [
                            0.2222222222222222,
                            "#7201a8"
                          ],
                          [
                            0.3333333333333333,
                            "#9c179e"
                          ],
                          [
                            0.4444444444444444,
                            "#bd3786"
                          ],
                          [
                            0.5555555555555556,
                            "#d8576b"
                          ],
                          [
                            0.6666666666666666,
                            "#ed7953"
                          ],
                          [
                            0.7777777777777778,
                            "#fb9f3a"
                          ],
                          [
                            0.8888888888888888,
                            "#fdca26"
                          ],
                          [
                            1,
                            "#f0f921"
                          ]
                        ],
                        "type": "heatmapgl"
                      }
                    ],
                    "histogram": [
                      {
                        "marker": {
                          "pattern": {
                            "fillmode": "overlay",
                            "size": 10,
                            "solidity": 0.2
                          }
                        },
                        "type": "histogram"
                      }
                    ],
                    "histogram2d": [
                      {
                        "colorbar": {
                          "outlinewidth": 0,
                          "ticks": ""
                        },
                        "colorscale": [
                          [
                            0,
                            "#0d0887"
                          ],
                          [
                            0.1111111111111111,
                            "#46039f"
                          ],
                          [
                            0.2222222222222222,
                            "#7201a8"
                          ],
                          [
                            0.3333333333333333,
                            "#9c179e"
                          ],
                          [
                            0.4444444444444444,
                            "#bd3786"
                          ],
                          [
                            0.5555555555555556,
                            "#d8576b"
                          ],
                          [
                            0.6666666666666666,
                            "#ed7953"
                          ],
                          [
                            0.7777777777777778,
                            "#fb9f3a"
                          ],
                          [
                            0.8888888888888888,
                            "#fdca26"
                          ],
                          [
                            1,
                            "#f0f921"
                          ]
                        ],
                        "type": "histogram2d"
                      }
                    ],
                    "histogram2dcontour": [
                      {
                        "colorbar": {
                          "outlinewidth": 0,
                          "ticks": ""
                        },
                        "colorscale": [
                          [
                            0,
                            "#0d0887"
                          ],
                          [
                            0.1111111111111111,
                            "#46039f"
                          ],
                          [
                            0.2222222222222222,
                            "#7201a8"
                          ],
                          [
                            0.3333333333333333,
                            "#9c179e"
                          ],
                          [
                            0.4444444444444444,
                            "#bd3786"
                          ],
                          [
                            0.5555555555555556,
                            "#d8576b"
                          ],
                          [
                            0.6666666666666666,
                            "#ed7953"
                          ],
                          [
                            0.7777777777777778,
                            "#fb9f3a"
                          ],
                          [
                            0.8888888888888888,
                            "#fdca26"
                          ],
                          [
                            1,
                            "#f0f921"
                          ]
                        ],
                        "type": "histogram2dcontour"
                      }
                    ],
                    "mesh3d": [
                      {
                        "colorbar": {
                          "outlinewidth": 0,
                          "ticks": ""
                        },
                        "type": "mesh3d"
                      }
                    ],
                    "parcoords": [
                      {
                        "line": {
                          "colorbar": {
                            "outlinewidth": 0,
                            "ticks": ""
                          }
                        },
                        "type": "parcoords"
                      }
                    ],
                    "pie": [
                      {
                        "automargin": true,
                        "type": "pie"
                      }
                    ],
                    "scatter": [
                      {
                        "fillpattern": {
                          "fillmode": "overlay",
                          "size": 10,
                          "solidity": 0.2
                        },
                        "type": "scatter"
                      }
                    ],
                    "scatter3d": [
                      {
                        "line": {
                          "colorbar": {
                            "outlinewidth": 0,
                            "ticks": ""
                          }
                        },
                        "marker": {
                          "colorbar": {
                            "outlinewidth": 0,
                            "ticks": ""
                          }
                        },
                        "type": "scatter3d"
                      }
                    ],
                    "scattercarpet": [
                      {
                        "marker": {
                          "colorbar": {
                            "outlinewidth": 0,
                            "ticks": ""
                          }
                        },
                        "type": "scattercarpet"
                      }
                    ],
                    "scattergeo": [
                      {
                        "marker": {
                          "colorbar": {
                            "outlinewidth": 0,
                            "ticks": ""
                          }
                        },
                        "type": "scattergeo"
                      }
                    ],
                    "scattergl": [
                      {
                        "marker": {
                          "colorbar": {
                            "outlinewidth": 0,
                            "ticks": ""
                          }
                        },
                        "type": "scattergl"
                      }
                    ],
                    "scattermapbox": [
                      {
                        "marker": {
                          "colorbar": {
                            "outlinewidth": 0,
                            "ticks": ""
                          }
                        },
                        "type": "scattermapbox"
                      }
                    ],
                    "scatterpolar": [
                      {
                        "marker": {
                          "colorbar": {
                            "outlinewidth": 0,
                            "ticks": ""
                          }
                        },
                        "type": "scatterpolar"
                      }
                    ],
                    "scatterpolargl": [
                      {
                        "marker": {
                          "colorbar": {
                            "outlinewidth": 0,
                            "ticks": ""
                          }
                        },
                        "type": "scatterpolargl"
                      }
                    ],
                    "scatterternary": [
                      {
                        "marker": {
                          "colorbar": {
                            "outlinewidth": 0,
                            "ticks": ""
                          }
                        },
                        "type": "scatterternary"
                      }
                    ],
                    "surface": [
                      {
                        "colorbar": {
                          "outlinewidth": 0,
                          "ticks": ""
                        },
                        "colorscale": [
                          [
                            0,
                            "#0d0887"
                          ],
                          [
                            0.1111111111111111,
                            "#46039f"
                          ],
                          [
                            0.2222222222222222,
                            "#7201a8"
                          ],
                          [
                            0.3333333333333333,
                            "#9c179e"
                          ],
                          [
                            0.4444444444444444,
                            "#bd3786"
                          ],
                          [
                            0.5555555555555556,
                            "#d8576b"
                          ],
                          [
                            0.6666666666666666,
                            "#ed7953"
                          ],
                          [
                            0.7777777777777778,
                            "#fb9f3a"
                          ],
                          [
                            0.8888888888888888,
                            "#fdca26"
                          ],
                          [
                            1,
                            "#f0f921"
                          ]
                        ],
                        "type": "surface"
                      }
                    ],
                    "table": [
                      {
                        "cells": {
                          "fill": {
                            "color": "#EBF0F8"
                          },
                          "line": {
                            "color": "white"
                          }
                        },
                        "header": {
                          "fill": {
                            "color": "#C8D4E3"
                          },
                          "line": {
                            "color": "white"
                          }
                        },
                        "type": "table"
                      }
                    ]
                  },
                  "layout": {
                    "annotationdefaults": {
                      "arrowcolor": "#2a3f5f",
                      "arrowhead": 0,
                      "arrowwidth": 1
                    },
                    "autotypenumbers": "strict",
                    "coloraxis": {
                      "colorbar": {
                        "outlinewidth": 0,
                        "ticks": ""
                      }
                    },
                    "colorscale": {
                      "diverging": [
                        [
                          0,
                          "#8e0152"
                        ],
                        [
                          0.1,
                          "#c51b7d"
                        ],
                        [
                          0.2,
                          "#de77ae"
                        ],
                        [
                          0.3,
                          "#f1b6da"
                        ],
                        [
                          0.4,
                          "#fde0ef"
                        ],
                        [
                          0.5,
                          "#f7f7f7"
                        ],
                        [
                          0.6,
                          "#e6f5d0"
                        ],
                        [
                          0.7,
                          "#b8e186"
                        ],
                        [
                          0.8,
                          "#7fbc41"
                        ],
                        [
                          0.9,
                          "#4d9221"
                        ],
                        [
                          1,
                          "#276419"
                        ]
                      ],
                      "sequential": [
                        [
                          0,
                          "#0d0887"
                        ],
                        [
                          0.1111111111111111,
                          "#46039f"
                        ],
                        [
                          0.2222222222222222,
                          "#7201a8"
                        ],
                        [
                          0.3333333333333333,
                          "#9c179e"
                        ],
                        [
                          0.4444444444444444,
                          "#bd3786"
                        ],
                        [
                          0.5555555555555556,
                          "#d8576b"
                        ],
                        [
                          0.6666666666666666,
                          "#ed7953"
                        ],
                        [
                          0.7777777777777778,
                          "#fb9f3a"
                        ],
                        [
                          0.8888888888888888,
                          "#fdca26"
                        ],
                        [
                          1,
                          "#f0f921"
                        ]
                      ],
                      "sequentialminus": [
                        [
                          0,
                          "#0d0887"
                        ],
                        [
                          0.1111111111111111,
                          "#46039f"
                        ],
                        [
                          0.2222222222222222,
                          "#7201a8"
                        ],
                        [
                          0.3333333333333333,
                          "#9c179e"
                        ],
                        [
                          0.4444444444444444,
                          "#bd3786"
                        ],
                        [
                          0.5555555555555556,
                          "#d8576b"
                        ],
                        [
                          0.6666666666666666,
                          "#ed7953"
                        ],
                        [
                          0.7777777777777778,
                          "#fb9f3a"
                        ],
                        [
                          0.8888888888888888,
                          "#fdca26"
                        ],
                        [
                          1,
                          "#f0f921"
                        ]
                      ]
                    },
                    "colorway": [
                      "#636efa",
                      "#EF553B",
                      "#00cc96",
                      "#ab63fa",
                      "#FFA15A",
                      "#19d3f3",
                      "#FF6692",
                      "#B6E880",
                      "#FF97FF",
                      "#FECB52"
                    ],
                    "font": {
                      "color": "#2a3f5f"
                    },
                    "geo": {
                      "bgcolor": "white",
                      "lakecolor": "white",
                      "landcolor": "#E5ECF6",
                      "showlakes": true,
                      "showland": true,
                      "subunitcolor": "white"
                    },
                    "hoverlabel": {
                      "align": "left"
                    },
                    "hovermode": "closest",
                    "mapbox": {
                      "style": "light"
                    },
                    "paper_bgcolor": "white",
                    "plot_bgcolor": "#E5ECF6",
                    "polar": {
                      "angularaxis": {
                        "gridcolor": "white",
                        "linecolor": "white",
                        "ticks": ""
                      },
                      "bgcolor": "#E5ECF6",
                      "radialaxis": {
                        "gridcolor": "white",
                        "linecolor": "white",
                        "ticks": ""
                      }
                    },
                    "scene": {
                      "xaxis": {
                        "backgroundcolor": "#E5ECF6",
                        "gridcolor": "white",
                        "gridwidth": 2,
                        "linecolor": "white",
                        "showbackground": true,
                        "ticks": "",
                        "zerolinecolor": "white"
                      },
                      "yaxis": {
                        "backgroundcolor": "#E5ECF6",
                        "gridcolor": "white",
                        "gridwidth": 2,
                        "linecolor": "white",
                        "showbackground": true,
                        "ticks": "",
                        "zerolinecolor": "white"
                      },
                      "zaxis": {
                        "backgroundcolor": "#E5ECF6",
                        "gridcolor": "white",
                        "gridwidth": 2,
                        "linecolor": "white",
                        "showbackground": true,
                        "ticks": "",
                        "zerolinecolor": "white"
                      }
                    },
                    "shapedefaults": {
                      "line": {
                        "color": "#2a3f5f"
                      }
                    },
                    "ternary": {
                      "aaxis": {
                        "gridcolor": "white",
                        "linecolor": "white",
                        "ticks": ""
                      },
                      "baxis": {
                        "gridcolor": "white",
                        "linecolor": "white",
                        "ticks": ""
                      },
                      "bgcolor": "#E5ECF6",
                      "caxis": {
                        "gridcolor": "white",
                        "linecolor": "white",
                        "ticks": ""
                      }
                    },
                    "title": {
                      "x": 0.05
                    },
                    "xaxis": {
                      "automargin": true,
                      "gridcolor": "white",
                      "linecolor": "white",
                      "ticks": "",
                      "title": {
                        "standoff": 15
                      },
                      "zerolinecolor": "white",
                      "zerolinewidth": 2
                    },
                    "yaxis": {
                      "automargin": true,
                      "gridcolor": "white",
                      "linecolor": "white",
                      "ticks": "",
                      "title": {
                        "standoff": 15
                      },
                      "zerolinecolor": "white",
                      "zerolinewidth": 2
                    }
                  }
                },
                "title": {
                  "text": "Police Deaths by Race (Top 10 Cities)"
                },
                "xaxis": {
                  "anchor": "y",
                  "domain": [
                    0,
                    0.125
                  ],
                  "tickangle": 45,
                  "title": {
                    "font": {
                      "size": 14
                    }
                  }
                },
                "xaxis2": {
                  "anchor": "y2",
                  "domain": [
                    0.175,
                    0.3
                  ],
                  "tickangle": 45,
                  "title": {
                    "font": {
                      "size": 14
                    }
                  }
                },
                "xaxis3": {
                  "anchor": "y3",
                  "domain": [
                    0.35,
                    0.475
                  ],
                  "tickangle": 45,
                  "title": {
                    "font": {
                      "size": 14
                    }
                  }
                },
                "xaxis4": {
                  "anchor": "y4",
                  "domain": [
                    0.525,
                    0.65
                  ],
                  "tickangle": 45,
                  "title": {
                    "font": {
                      "size": 14
                    }
                  }
                },
                "xaxis5": {
                  "anchor": "y5",
                  "domain": [
                    0.7,
                    0.825
                  ],
                  "tickangle": 45,
                  "title": {
                    "font": {
                      "size": 14
                    }
                  }
                },
                "xaxis6": {
                  "anchor": "y6",
                  "domain": [
                    0.875,
                    1
                  ],
                  "tickangle": 45,
                  "title": {
                    "font": {
                      "size": 14
                    }
                  }
                },
                "yaxis": {
                  "anchor": "x",
                  "domain": [
                    0,
                    1
                  ]
                },
                "yaxis2": {
                  "anchor": "x2",
                  "domain": [
                    0,
                    1
                  ],
                  "matches": "y",
                  "showticklabels": false
                },
                "yaxis3": {
                  "anchor": "x3",
                  "domain": [
                    0,
                    1
                  ],
                  "matches": "y",
                  "showticklabels": false
                },
                "yaxis4": {
                  "anchor": "x4",
                  "domain": [
                    0,
                    1
                  ],
                  "matches": "y",
                  "showticklabels": false
                },
                "yaxis5": {
                  "anchor": "x5",
                  "domain": [
                    0,
                    1
                  ],
                  "matches": "y",
                  "showticklabels": false
                },
                "yaxis6": {
                  "anchor": "x6",
                  "domain": [
                    0,
                    1
                  ],
                  "matches": "y",
                  "showticklabels": false
                }
              }
            }
          },
          "metadata": {},
          "output_type": "display_data"
        }
      ],
      "source": [
        "races = top_10_race.groupby('race', as_index=False).size().race\n",
        "\n",
        "race_list = []\n",
        "race_list = [top_10_race.query(f'race == \"{race}\"') for race in races]\n",
        "race_list\n",
        "\n",
        "\n",
        "fig = make_subplots(rows=1,\n",
        "                    cols=len(race_list),\n",
        "                    shared_yaxes=True,\n",
        "                    y_title='Number of Deaths',\n",
        "                    horizontal_spacing = 0.05)\n",
        "\n",
        "for pos in range(0, len(race_list)):\n",
        "    current_race = races[pos]\n",
        "    fig.add_trace(go.Bar(x=race_list[pos].city, \n",
        "                        y=race_list[pos]['count'],\n",
        "                        hovertemplate=\"<br>City=%{x}<br>Deaths=%{y}<extra></extra>\",\n",
        "                        name=current_race),\n",
        "                        row=1,\n",
        "                        col=pos+1)\n",
        "\n",
        "fig.update_layout(legend_title_text = \"Races\", title='Police Deaths by Race (Top 10 Cities)', barmode='stack')\n",
        "fig.update_xaxes(\n",
        "        tickangle = 45,\n",
        "        title_font = {\"size\": 14})\n",
        "fig.show()"
      ]
    },
    {
      "cell_type": "markdown",
      "metadata": {
        "id": "1HUJksrI5WFb"
      },
      "source": [
        "# Create a Choropleth Map of Police Killings by US State\n",
        "\n",
        "Which states are the most dangerous? Compare your map with your previous chart. Are these the same states with high degrees of poverty? "
      ]
    },
    {
      "cell_type": "code",
      "execution_count": null,
      "metadata": {
        "id": "u3UuX4Yo5dBA"
      },
      "outputs": [],
      "source": []
    },
    {
      "cell_type": "code",
      "execution_count": null,
      "metadata": {
        "id": "Y6VLPDeN5dKO"
      },
      "outputs": [],
      "source": []
    },
    {
      "cell_type": "markdown",
      "metadata": {
        "id": "37UsmVYF6hA2"
      },
      "source": [
        "# Number of Police Killings Over Time\n",
        "\n",
        "Analyse the Number of Police Killings over Time. Is there a trend in the data? "
      ]
    },
    {
      "cell_type": "code",
      "execution_count": null,
      "metadata": {
        "id": "nITf1IhP6gpI"
      },
      "outputs": [],
      "source": []
    },
    {
      "cell_type": "code",
      "execution_count": null,
      "metadata": {
        "id": "Q_vxjD_A7JRh"
      },
      "outputs": [],
      "source": []
    },
    {
      "cell_type": "code",
      "execution_count": null,
      "metadata": {
        "id": "mOqtie707JU8"
      },
      "outputs": [],
      "source": []
    },
    {
      "cell_type": "code",
      "execution_count": null,
      "metadata": {
        "id": "5fjhL8Lk7JKa"
      },
      "outputs": [],
      "source": []
    },
    {
      "cell_type": "markdown",
      "metadata": {
        "id": "9o6uLFpS61nw"
      },
      "source": [
        "# Epilogue\n",
        "\n",
        "Now that you have analysed the data yourself, read [The Washington Post's analysis here](https://www.washingtonpost.com/graphics/investigations/police-shootings-database/)."
      ]
    },
    {
      "cell_type": "code",
      "execution_count": null,
      "metadata": {
        "id": "8PjgzuNa61I1"
      },
      "outputs": [],
      "source": []
    }
  ],
  "metadata": {
    "colab": {
      "name": "Fatal Force (start).ipynb",
      "provenance": []
    },
    "kernelspec": {
      "display_name": "Python 3",
      "language": "python",
      "name": "python3"
    },
    "language_info": {
      "codemirror_mode": {
        "name": "ipython",
        "version": 3
      },
      "file_extension": ".py",
      "mimetype": "text/x-python",
      "name": "python",
      "nbconvert_exporter": "python",
      "pygments_lexer": "ipython3",
      "version": "3.10.9"
    }
  },
  "nbformat": 4,
  "nbformat_minor": 0
}
